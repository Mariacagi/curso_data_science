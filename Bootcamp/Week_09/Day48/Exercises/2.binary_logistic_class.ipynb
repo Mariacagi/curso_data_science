{
 "metadata": {
  "language_info": {
   "codemirror_mode": {
    "name": "ipython",
    "version": 3
   },
   "file_extension": ".py",
   "mimetype": "text/x-python",
   "name": "python",
   "nbconvert_exporter": "python",
   "pygments_lexer": "ipython3",
   "version": "3.9.0-final"
  },
  "orig_nbformat": 2,
  "kernelspec": {
   "name": "python3",
   "display_name": "Python 3.9.0 64-bit",
   "metadata": {
    "interpreter": {
     "hash": "af698c02722c81864863429d928a3bd8a8dcc030c4156359d3ef8b980fb01319"
    }
   }
  }
 },
 "nbformat": 4,
 "nbformat_minor": 2,
 "cells": [
  {
   "cell_type": "markdown",
   "metadata": {},
   "source": [
    "### 1. \n",
    "\n",
    "En el archivo \"logistic_regression_df_class\" hemos visto un ejemplo multiclase. Elimina del dataframe todas las filas que se correspondan con la clase valor \"1\".\n",
    "\n",
    "Ahora, realiza el ejercicio con el nuevo dataframe:\n",
    "\n",
    "- ¿Se mejora la precisión del algoritmo con dos clases? ¿por qué?\n",
    "\n",
    "LogisticRegression() es una clase que tiene varios parámetros de entrada. Investiga (modifica, prueba) los argumentos y comenta si modificando algunas de ellas se mejora el porcentaje de acierto del problema.\n",
    "\n",
    "https://scikit-learn.org/stable/modules/generated/sklearn.linear_model.LogisticRegression.html\n"
   ]
  },
  {
   "cell_type": "code",
   "execution_count": 1,
   "metadata": {},
   "outputs": [],
   "source": [
    "import pandas as pd\n",
    "import numpy as np\n",
    "from sklearn import linear_model"
   ]
  },
  {
   "cell_type": "code",
   "execution_count": 2,
   "metadata": {},
   "outputs": [
    {
     "output_type": "execute_result",
     "data": {
      "text/plain": [
       "   duracion  paginas  acciones  valor  clase\n",
       "0       7.0        2         4      8      2\n",
       "1      21.0        2         6      6      2\n",
       "2      57.0        2         4      4      2\n",
       "3     101.0        3         6     12      2\n",
       "4     109.0        2         6     12      2"
      ],
      "text/html": "<div>\n<style scoped>\n    .dataframe tbody tr th:only-of-type {\n        vertical-align: middle;\n    }\n\n    .dataframe tbody tr th {\n        vertical-align: top;\n    }\n\n    .dataframe thead th {\n        text-align: right;\n    }\n</style>\n<table border=\"1\" class=\"dataframe\">\n  <thead>\n    <tr style=\"text-align: right;\">\n      <th></th>\n      <th>duracion</th>\n      <th>paginas</th>\n      <th>acciones</th>\n      <th>valor</th>\n      <th>clase</th>\n    </tr>\n  </thead>\n  <tbody>\n    <tr>\n      <th>0</th>\n      <td>7.0</td>\n      <td>2</td>\n      <td>4</td>\n      <td>8</td>\n      <td>2</td>\n    </tr>\n    <tr>\n      <th>1</th>\n      <td>21.0</td>\n      <td>2</td>\n      <td>6</td>\n      <td>6</td>\n      <td>2</td>\n    </tr>\n    <tr>\n      <th>2</th>\n      <td>57.0</td>\n      <td>2</td>\n      <td>4</td>\n      <td>4</td>\n      <td>2</td>\n    </tr>\n    <tr>\n      <th>3</th>\n      <td>101.0</td>\n      <td>3</td>\n      <td>6</td>\n      <td>12</td>\n      <td>2</td>\n    </tr>\n    <tr>\n      <th>4</th>\n      <td>109.0</td>\n      <td>2</td>\n      <td>6</td>\n      <td>12</td>\n      <td>2</td>\n    </tr>\n  </tbody>\n</table>\n</div>"
     },
     "metadata": {},
     "execution_count": 2
    }
   ],
   "source": [
    "# Paso el csv a dataframe\n",
    "dataframe = pd.read_csv(\"../data/usuarios_win_mac_lin.csv\")\n",
    "dataframe.head()"
   ]
  },
  {
   "cell_type": "code",
   "execution_count": 3,
   "metadata": {},
   "outputs": [
    {
     "output_type": "execute_result",
     "data": {
      "text/plain": [
       "(170, 5)"
      ]
     },
     "metadata": {},
     "execution_count": 3
    }
   ],
   "source": [
    "# Busco cuantas filas tiene el DataFrame\n",
    "dataframe.shape"
   ]
  },
  {
   "cell_type": "code",
   "execution_count": 4,
   "metadata": {},
   "outputs": [],
   "source": [
    "# Paso la columna clase a string\n",
    "dataframe[\"clase\"] = dataframe[\"clase\"].astype(str)"
   ]
  },
  {
   "cell_type": "code",
   "execution_count": 5,
   "metadata": {},
   "outputs": [
    {
     "output_type": "execute_result",
     "data": {
      "text/plain": [
       "(130, 5)"
      ]
     },
     "metadata": {},
     "execution_count": 5
    }
   ],
   "source": [
    "# Elimino las filas que contienen el 1\n",
    "dataframe = dataframe[~dataframe.clase.str.contains(\"1\")]\n",
    "dataframe.shape"
   ]
  },
  {
   "cell_type": "code",
   "execution_count": 6,
   "metadata": {},
   "outputs": [],
   "source": [
    "# Dividimos las columnas en X/y y las hacemos array\n",
    "X = np.array(dataframe.drop(['clase'], axis=1))\n",
    "y = np.array(dataframe['clase'])"
   ]
  },
  {
   "cell_type": "code",
   "execution_count": 7,
   "metadata": {},
   "outputs": [
    {
     "output_type": "execute_result",
     "data": {
      "text/plain": [
       "LogisticRegression()"
      ]
     },
     "metadata": {},
     "execution_count": 7
    }
   ],
   "source": [
    "# Creo el objeto modelo y lo entreno con X e Y completas para comparar con el archivo original\n",
    "model = linear_model.LogisticRegression()\n",
    "model.fit(X,y)"
   ]
  },
  {
   "cell_type": "code",
   "execution_count": 8,
   "metadata": {},
   "outputs": [
    {
     "output_type": "stream",
     "name": "stdout",
     "text": [
      "['2' '2' '2' '2' '2' '2' '2' '2' '2' '2' '2' '2' '2' '2' '2' '2' '2' '2'\n '2' '2' '2' '2' '0' '0' '0' '0' '0' '0' '0' '0' '0' '0' '0' '0' '0' '0'\n '0' '0' '0' '0' '0' '0' '0' '0' '0' '2' '0' '0' '0' '0' '0' '0' '0' '0'\n '0' '0' '0' '0' '0' '2' '0' '0' '0' '0' '0' '0' '0' '0' '2' '2' '2' '2'\n '2' '2' '2' '2' '2' '2' '2' '2' '2' '2' '2' '2' '2' '2' '2' '2' '2' '2'\n '0' '0' '0' '0' '0' '0' '0' '0' '0' '0' '0' '0' '0' '0' '0' '2' '0' '0'\n '0' '0' '0' '2' '0' '0' '0' '2' '0' '0' '0' '0' '0' '0' '0' '0' '2' '0'\n '0' '0' '0' '0']\n"
     ]
    }
   ],
   "source": [
    "# Hago predicciones sobre X de nuevo\n",
    "predictions = model.predict(X)\n",
    "print(predictions)"
   ]
  },
  {
   "cell_type": "code",
   "execution_count": 9,
   "metadata": {},
   "outputs": [
    {
     "output_type": "execute_result",
     "data": {
      "text/plain": [
       "0.9538461538461539"
      ]
     },
     "metadata": {},
     "execution_count": 9
    }
   ],
   "source": [
    "# Comparo el score con dos clases vs con tres (Ejemplo de Gabriel, score = 0.7823529411764706)\n",
    "model.score(X,y)"
   ]
  },
  {
   "source": [
    "## ¿Se mejora la precisión del algoritmo con dos clases? ¿por qué?"
   ],
   "cell_type": "markdown",
   "metadata": {}
  },
  {
   "source": [
    "Se mejora ya que solo tiene que elegir entre dos clases, por lo tanto, el porcentaje de acierto es mayor."
   ],
   "cell_type": "markdown",
   "metadata": {}
  }
 ]
}