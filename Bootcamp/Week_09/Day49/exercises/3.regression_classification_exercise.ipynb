{
 "metadata": {
  "language_info": {
   "codemirror_mode": {
    "name": "ipython",
    "version": 3
   },
   "file_extension": ".py",
   "mimetype": "text/x-python",
   "name": "python",
   "nbconvert_exporter": "python",
   "pygments_lexer": "ipython3",
   "version": "3.9.0-final"
  },
  "orig_nbformat": 2,
  "kernelspec": {
   "name": "python3",
   "display_name": "Python 3.9.0 64-bit",
   "metadata": {
    "interpreter": {
     "hash": "af698c02722c81864863429d928a3bd8a8dcc030c4156359d3ef8b980fb01319"
    }
   }
  }
 },
 "nbformat": 4,
 "nbformat_minor": 2,
 "cells": [
  {
   "cell_type": "markdown",
   "metadata": {},
   "source": [
    "### Nivel intermedio:\n",
    "\n",
    "Hacer con objetivo de preparar entrevista técnica y tener un código reutilizable, útil y funcional."
   ]
  },
  {
   "cell_type": "markdown",
   "metadata": {},
   "source": [
    "## 1. \n",
    "\n",
    "Crea un programa que pregunte al usuario qué tipo de algoritmo desea utilizar (entre regresión lineal, regresión logística y Knn).\n",
    "\n",
    "Se presupone que el usuario proporcionará un dataframe con los datos a entrenar, el nombre de la columna target que está en el dataframe.\n",
    "\n",
    "El programa debe contener, como mínimo, estas tres funciones tal que así:"
   ]
  },
  {
   "cell_type": "code",
   "execution_count": 217,
   "metadata": {},
   "outputs": [],
   "source": [
    "from sklearn.model_selection import train_test_split\n",
    "\n",
    "from sklearn.linear_model import LinearRegression\n",
    "from sklearn.linear_model import LogisticRegression\n",
    "from sklearn.neighbors import KNeighborsClassifier\n",
    "\n",
    "import numpy as np\n",
    "import pandas as pd\n",
    "import matplotlib.pyplot as plt"
   ]
  },
  {
   "cell_type": "code",
   "execution_count": 218,
   "metadata": {},
   "outputs": [],
   "source": [
    "def choose_model(option_user, params=None):\n",
    "    \n",
    "    if option_user == \"3\" or option_user == \"2\" or option_user == \"1\":\n",
    "        model = option_user\n",
    "    else:\n",
    "        print(\"ERROR!!! Please, enter a number between 1 to 3\")\n",
    "    return model, params\n",
    "\n",
    "def train_model(df, target_name, validation_size=0.20, seed=100, column_name=None):\n",
    "    # Selección de modelo. He quitado model de arriba porque no entiendo por qué hay que pasarlo.\n",
    "    model, params = choose_model(option_user=input(\"Please, select a number between 1 to 3: 1 = LinearRegression, 2 = LogisticRegression, 3 = KNeighbors Classifier\"), params = param)\n",
    "    dataframe = pd.read_csv(df)\n",
    "\n",
    "    if model == \"1\":\n",
    "        model = LinearRegression(n_jobs=-1)\n",
    "        X = dataframe[column_name].to_numpy().reshape(-1,1)\n",
    "        y = dataframe[target_name].to_numpy().reshape(-1,1)\n",
    "    \n",
    "    elif model == \"2\":\n",
    "        model = LogisticRegression()\n",
    "        X = np.array(dataframe.drop([target_name], axis=1))\n",
    "        y = np.array(dataframe[target_name])\n",
    "\n",
    "    elif model == \"3\":\n",
    "        model = KNeighborsClassifier(n_neighbors=params)\n",
    "        X = np.array(dataframe.drop([target_name], axis=1))\n",
    "        y = np.array(dataframe[target_name])\n",
    "\n",
    "    else: \n",
    "        #Lectura de DataFrame\n",
    "        dataframe = pd.read_csv(df)\n",
    "        X = np.array(dataframe.drop([target_name], axis=1))\n",
    "        y = np.array(dataframe[target_name])\n",
    "\n",
    "    #Entrenamiento del modelo\n",
    "    X_train, X_test, y_train, y_test = train_test_split(X, y, test_size=validation_size, random_state=seed)\n",
    "    model_trained = model.fit(X_train, y_train)\n",
    "\n",
    "    #Score\n",
    "    accuracy = model.score(X_test, y_test) #¿Cuál de los tres tipos es? Es decir, X/X_train/X_test\n",
    "\n",
    "    return model_trained, accuracy\n",
    "\n",
    "def main():\n",
    "    model_trained, accuracy = train_model(df = df, target_name = target_name, column_name=column_name)\n",
    "    print(\"The accuracy of the model is:\", accuracy*100)\n",
    "    return model_trained"
   ]
  },
  {
   "source": [
    "### Predicción modelo 1 - Lineal Regression"
   ],
   "cell_type": "markdown",
   "metadata": {}
  },
  {
   "cell_type": "code",
   "execution_count": 236,
   "metadata": {},
   "outputs": [
    {
     "output_type": "stream",
     "name": "stdout",
     "text": [
      "The accuracy of the model is: 16.49929064432074\n"
     ]
    },
    {
     "output_type": "execute_result",
     "data": {
      "text/plain": [
       "LinearRegression(n_jobs=-1)"
      ]
     },
     "metadata": {},
     "execution_count": 236
    }
   ],
   "source": [
    "# Ejemplo selección 1\n",
    "df = \"../data/USA_Housing.csv\"\n",
    "target_name = \"Price\"\n",
    "column_name = \"Avg. Area House Age\"\n",
    "\n",
    "main()"
   ]
  },
  {
   "source": [
    "### Predicción modelo 2 - Logistic Regression"
   ],
   "cell_type": "markdown",
   "metadata": {}
  },
  {
   "cell_type": "code",
   "execution_count": 237,
   "metadata": {},
   "outputs": [
    {
     "output_type": "stream",
     "name": "stdout",
     "text": [
      "The accuracy of the model is: 96.66666666666667\n"
     ]
    },
    {
     "output_type": "execute_result",
     "data": {
      "text/plain": [
       "LogisticRegression()"
      ]
     },
     "metadata": {},
     "execution_count": 237
    }
   ],
   "source": [
    "# Ejemplos selección 2\n",
    "df = \"../data/iris.csv\"\n",
    "target_name = \"variety\"\n",
    "\n",
    "main()"
   ]
  },
  {
   "source": [
    "### Predicción modelo 3 - Knn"
   ],
   "cell_type": "markdown",
   "metadata": {}
  },
  {
   "cell_type": "code",
   "execution_count": 238,
   "metadata": {},
   "outputs": [
    {
     "output_type": "stream",
     "name": "stdout",
     "text": [
      "The accuracy of the model is: 100.0\n"
     ]
    },
    {
     "output_type": "execute_result",
     "data": {
      "text/plain": [
       "KNeighborsClassifier(n_neighbors=3)"
      ]
     },
     "metadata": {},
     "execution_count": 238
    }
   ],
   "source": [
    "# Ejemplos selección 3\n",
    "df = \"../data/iris.csv\"\n",
    "target_name = \"variety\"\n",
    "param = 3\n",
    "\n",
    "main()"
   ]
  },
  {
   "cell_type": "markdown",
   "metadata": {},
   "source": [
    "-----------------------------\n",
    "\"choose_model\" recibe:\n",
    "\n",
    "- 'option_user': la opción del usuario. \n",
    "- 'params': es un diccionario que puede contener ciertos parámetros necesarios para la creación de los modelos (por ejemplo, el valor k para el algoritmo Knn). Por defecto, su valor es None.\n",
    "\n",
    "Deberá crear el modelo necesario sin entrenar, retornándolo al final.\n",
    "\n",
    "----------------\n",
    "\n",
    "\"train_model\" recibe:\n",
    "\n",
    "- 'model': el modelo sin entrenar elegido por el usario\n",
    "- 'df': el dataframe tratado y limpio que contiene todos los datos del conjunto de entrenamiento y de test, incluyendo el target. \n",
    "- 'target_name': el nombre de la columna que representa el target.\n",
    "\n",
    "Retornará el modelo entrenado con los datos y la precisión del modelo.\n",
    "\n",
    "\n",
    "----------------\n",
    "\n",
    "\"main\": \n",
    "\n",
    "Es la función que ha de ser ejecutada cada vez que queremos lanzar el programa. \n",
    "\n",
    "Al final, mostrará la precisión del modelo entrenado y retornará el modelo entrenado.\n",
    "\n",
    "----------------\n"
   ]
  },
  {
   "cell_type": "markdown",
   "metadata": {},
   "source": [
    "## 2.\n"
   ]
  },
  {
   "cell_type": "markdown",
   "metadata": {},
   "source": [
    "Haz que el programa sea capaz de predecir un nuevo ejemplo del modelo elegido y entrenado con la siguiente función:"
   ]
  },
  {
   "cell_type": "code",
   "execution_count": 229,
   "metadata": {},
   "outputs": [],
   "source": [
    "def predict_new_data(model_trained, to_pred):\n",
    "    y_pred = list(model_trained.predict(to_pred))\n",
    "    return y_pred"
   ]
  },
  {
   "source": [
    "### Predicción modelo 1 - Lineal Regression"
   ],
   "cell_type": "markdown",
   "metadata": {}
  },
  {
   "cell_type": "code",
   "execution_count": 234,
   "metadata": {},
   "outputs": [
    {
     "output_type": "execute_result",
     "data": {
      "text/plain": [
       "   Avg. Area House Age\n",
       "0                  5.7\n",
       "1                  8.7"
      ],
      "text/html": "<div>\n<style scoped>\n    .dataframe tbody tr th:only-of-type {\n        vertical-align: middle;\n    }\n\n    .dataframe tbody tr th {\n        vertical-align: top;\n    }\n\n    .dataframe thead th {\n        text-align: right;\n    }\n</style>\n<table border=\"1\" class=\"dataframe\">\n  <thead>\n    <tr style=\"text-align: right;\">\n      <th></th>\n      <th>Avg. Area House Age</th>\n    </tr>\n  </thead>\n  <tbody>\n    <tr>\n      <th>0</th>\n      <td>5.7</td>\n    </tr>\n    <tr>\n      <th>1</th>\n      <td>8.7</td>\n    </tr>\n  </tbody>\n</table>\n</div>"
     },
     "metadata": {},
     "execution_count": 234
    }
   ],
   "source": [
    "to_pred1 = pd.DataFrame({'Avg. Area House Age': [5.7, 8.7]})\n",
    "to_pred1"
   ]
  },
  {
   "cell_type": "code",
   "execution_count": 235,
   "metadata": {},
   "outputs": [
    {
     "output_type": "stream",
     "name": "stdout",
     "text": [
      "The accuracy of the model is: 16.49929064432074\n"
     ]
    },
    {
     "output_type": "execute_result",
     "data": {
      "text/plain": [
       "[array([1187231.68076539]), array([1680759.83019083])]"
      ]
     },
     "metadata": {},
     "execution_count": 235
    }
   ],
   "source": [
    "predict_new_data(model_trained = main(), to_pred=to_pred1)"
   ]
  },
  {
   "source": [
    "### Predicción modelo 2 - Logistic Regression"
   ],
   "cell_type": "markdown",
   "metadata": {}
  },
  {
   "cell_type": "code",
   "execution_count": 226,
   "metadata": {},
   "outputs": [
    {
     "output_type": "execute_result",
     "data": {
      "text/plain": [
       "   sepal.length  sepal.width  petal.length  petal.width\n",
       "0          15.7          2.8           9.5          0.1\n",
       "1           1.7          3.8           4.5         11.3"
      ],
      "text/html": "<div>\n<style scoped>\n    .dataframe tbody tr th:only-of-type {\n        vertical-align: middle;\n    }\n\n    .dataframe tbody tr th {\n        vertical-align: top;\n    }\n\n    .dataframe thead th {\n        text-align: right;\n    }\n</style>\n<table border=\"1\" class=\"dataframe\">\n  <thead>\n    <tr style=\"text-align: right;\">\n      <th></th>\n      <th>sepal.length</th>\n      <th>sepal.width</th>\n      <th>petal.length</th>\n      <th>petal.width</th>\n    </tr>\n  </thead>\n  <tbody>\n    <tr>\n      <th>0</th>\n      <td>15.7</td>\n      <td>2.8</td>\n      <td>9.5</td>\n      <td>0.1</td>\n    </tr>\n    <tr>\n      <th>1</th>\n      <td>1.7</td>\n      <td>3.8</td>\n      <td>4.5</td>\n      <td>11.3</td>\n    </tr>\n  </tbody>\n</table>\n</div>"
     },
     "metadata": {},
     "execution_count": 226
    }
   ],
   "source": [
    "to_pred2 = pd.DataFrame({'sepal.length': [15.7, 1.7], 'sepal.width': [2.8, 3.8], 'petal.length': [9.5, 4.5], 'petal.width': [0.1, 11.3]})\n",
    "to_pred2"
   ]
  },
  {
   "cell_type": "code",
   "execution_count": 231,
   "metadata": {},
   "outputs": [
    {
     "output_type": "stream",
     "name": "stdout",
     "text": [
      "The accuracy of the model is: 96.66666666666667\n"
     ]
    },
    {
     "output_type": "execute_result",
     "data": {
      "text/plain": [
       "['Virginica', 'Virginica']"
      ]
     },
     "metadata": {},
     "execution_count": 231
    }
   ],
   "source": [
    "predict_new_data(model_trained = main(), to_pred=to_pred2)"
   ]
  },
  {
   "source": [
    "### Predicción modelo 3 - Knn"
   ],
   "cell_type": "markdown",
   "metadata": {}
  },
  {
   "cell_type": "code",
   "execution_count": 227,
   "metadata": {},
   "outputs": [
    {
     "output_type": "execute_result",
     "data": {
      "text/plain": [
       "   sepal.length  sepal.width  petal.length  petal.width\n",
       "0          15.7          2.8           9.5          0.1\n",
       "1           1.7          3.8           4.5         11.3"
      ],
      "text/html": "<div>\n<style scoped>\n    .dataframe tbody tr th:only-of-type {\n        vertical-align: middle;\n    }\n\n    .dataframe tbody tr th {\n        vertical-align: top;\n    }\n\n    .dataframe thead th {\n        text-align: right;\n    }\n</style>\n<table border=\"1\" class=\"dataframe\">\n  <thead>\n    <tr style=\"text-align: right;\">\n      <th></th>\n      <th>sepal.length</th>\n      <th>sepal.width</th>\n      <th>petal.length</th>\n      <th>petal.width</th>\n    </tr>\n  </thead>\n  <tbody>\n    <tr>\n      <th>0</th>\n      <td>15.7</td>\n      <td>2.8</td>\n      <td>9.5</td>\n      <td>0.1</td>\n    </tr>\n    <tr>\n      <th>1</th>\n      <td>1.7</td>\n      <td>3.8</td>\n      <td>4.5</td>\n      <td>11.3</td>\n    </tr>\n  </tbody>\n</table>\n</div>"
     },
     "metadata": {},
     "execution_count": 227
    }
   ],
   "source": [
    "to_pred2 = pd.DataFrame({'sepal.length': [15.7, 1.7], 'sepal.width': [2.8, 3.8], 'petal.length': [9.5, 4.5], 'petal.width': [0.1, 11.3]})\n",
    "to_pred2"
   ]
  },
  {
   "cell_type": "code",
   "execution_count": 230,
   "metadata": {},
   "outputs": [
    {
     "output_type": "stream",
     "name": "stdout",
     "text": [
      "The accuracy of the model is: 100.0\n"
     ]
    },
    {
     "output_type": "execute_result",
     "data": {
      "text/plain": [
       "['Virginica', 'Virginica']"
      ]
     },
     "metadata": {},
     "execution_count": 230
    }
   ],
   "source": [
    "predict_new_data(model_trained = main(), to_pred=to_pred2)"
   ]
  },
  {
   "cell_type": "markdown",
   "metadata": {},
   "source": [
    "----------------\n",
    "\n",
    "\"predict_new_data\" recibe:\n",
    "\n",
    "- 'model_trained': el modelo entrenado elegido por el usario\n",
    "- 'to_pred': los datos del nuevo ejemplo a predecir.\n",
    "\n",
    "Retornará y mostrará por pantalla la predicción.\n",
    "\n",
    "----------------\n",
    "\n",
    "Se presupone que el usuario proporcionará los datos del nuevo ejemplo."
   ]
  },
  {
   "cell_type": "code",
   "execution_count": null,
   "metadata": {},
   "outputs": [],
   "source": []
  }
 ]
}