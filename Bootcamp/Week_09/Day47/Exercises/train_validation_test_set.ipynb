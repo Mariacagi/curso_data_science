{
 "metadata": {
  "language_info": {
   "codemirror_mode": {
    "name": "ipython",
    "version": 3
   },
   "file_extension": ".py",
   "mimetype": "text/x-python",
   "name": "python",
   "nbconvert_exporter": "python",
   "pygments_lexer": "ipython3",
   "version": "3.9.0-final"
  },
  "orig_nbformat": 2,
  "kernelspec": {
   "name": "python3",
   "display_name": "Python 3.9.0 64-bit",
   "metadata": {
    "interpreter": {
     "hash": "af698c02722c81864863429d928a3bd8a8dcc030c4156359d3ef8b980fb01319"
    }
   }
  }
 },
 "nbformat": 4,
 "nbformat_minor": 2,
 "cells": [
  {
   "cell_type": "markdown",
   "metadata": {},
   "source": [
    "### 1. \n",
    "\n",
    "Crear una función que reciba cuatro parámetros: una lista 'L', un número 'T', un número 'V' y un booleano 'S'. La función debe devolver otras dos listas: \"lista_train_val\" y \"lista_test\".\n",
    "\n",
    "- \"lista_train_val\" es una lista con dos elementos. Cada elemento es una lista: \"list_train\", que representa el conjunto de entrenamiento y \"list_val\", que representa el conjunto de validación. \n",
    "- \"list_test\" es el conjunto de test. Como mínimo ha de tener 1 elemento (si 'L' > 1).\n",
    "- \"L\" es cualquier lista de elementos. Al principio, entra con un tamaño completo (100%). Esta es la lista que se partirá y se generarán los conjuntos entrenamiento, de validación y de test.\n",
    "- \"T\" es un número entre 1 y 100 que va a representar el tamaño, en porcentaje, del conjunto de test \"list_test\". \n",
    "- \"V\" es un número entre 0 y 100 que va a representar el tamaño, en porcentaje, del conjunto de validación \"list_val\". Su valor por defecto es 0.\n",
    "- \"S\", que por defecto es False, determinará si los conjuntos \"list_train\", \"list_test\" y \"list_val\" son aleatoriamente ordenados. ¿Encuentras alguna posible incoherencia si se reordenan aleatoriamente?\n",
    "\n",
    "Prueba la función con una lista de 100 elementos números aleatorios del 0 al 100. \n",
    "\n",
    "### 2. \n",
    "\n",
    "Rehacer el ejercicio anterior en otra función para que no devuelva dos listas, sino los tres conjuntos: \n",
    "\n",
    "--> return list_train, list_val, list_test "
   ]
  },
  {
   "cell_type": "code",
   "execution_count": 27,
   "metadata": {},
   "outputs": [
    {
     "output_type": "stream",
     "name": "stdout",
     "text": [
      "\nlista_train_val: [85, 11, 82, 15, 62, 42, 84, 74, 69, 35, 79, 44, 10, 1, 21, 68, 51, 81, 7, 99, 83, 57, 6, 89, 9, 72, 39, 66, 63, 4, 32, 58, 0, 55, 23, 19, 12, 77, 13, 52, 92, 95, 34, 22, 87, 88, 20, 60, 90, 97, 33, 65, 43, 27, 18, 47, 61, 91, 53, 67, 26, 41, 30, 37, 5, 24, 46, 50, 31, 64, 3, 59, 45, 49, 80, 28, 38, 86, 56, 78]\n\nlist_test: [25, 29, 98, 14, 71, 94, 96, 70, 16, 73, 17, 36, 40, 48, 75, 54, 93, 2, 76, 8]\n\nlist_val: []\n"
     ]
    }
   ],
   "source": [
    "from sklearn.model_selection import train_test_split\n",
    "from random import sample, shuffle\n",
    "\n",
    "def funcion_nueva(L, T, V=0, S=False):\n",
    "    lista_train_val, list_test = train_test_split(L, test_size=T/100)\n",
    "    \n",
    "    if V >= 1:\n",
    "        list_train, list_val = train_test_split(lista_train_val, test_size=V/100)\n",
    "        print(\"You have validation list\")\n",
    "    else:\n",
    "        list_train = lista_train_val\n",
    "        list_val =[]\n",
    "\n",
    "    lists = [list_train, list_test, list_val]\n",
    "\n",
    "    for lista in lists:\n",
    "        if S != False:\n",
    "            random.shuffle(lista)    \n",
    "\n",
    "    return lista_train_val, list_test, list_val\n",
    "\n",
    "\n",
    "lista_train_val, list_test, list_val = funcion_nueva(L = sample(range(0,100),k=100), T = 20, V = 0, S= False)\n",
    "print(\"\\nlista_train_val:\", lista_train_val)\n",
    "print(\"\\nlist_test:\", list_test)\n",
    "print(\"\\nlist_val:\", list_val)"
   ]
  },
  {
   "cell_type": "code",
   "execution_count": null,
   "metadata": {},
   "outputs": [],
   "source": []
  }
 ]
}