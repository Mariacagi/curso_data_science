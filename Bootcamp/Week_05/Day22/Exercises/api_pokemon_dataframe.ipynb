{
 "metadata": {
  "language_info": {
   "codemirror_mode": {
    "name": "ipython",
    "version": 3
   },
   "file_extension": ".py",
   "mimetype": "text/x-python",
   "name": "python",
   "nbconvert_exporter": "python",
   "pygments_lexer": "ipython3",
   "version": "3.9.0-final"
  },
  "orig_nbformat": 2,
  "kernelspec": {
   "name": "python3",
   "display_name": "Python 3.9.0 64-bit",
   "metadata": {
    "interpreter": {
     "hash": "af698c02722c81864863429d928a3bd8a8dcc030c4156359d3ef8b980fb01319"
    }
   }
  }
 },
 "nbformat": 4,
 "nbformat_minor": 2,
 "cells": [
  {
   "source": [
    "### Ejercicio 1\n",
    "\n",
    "A partir de la API de Pokemon, se pide generar un DataFrame como el de la imagen con las columnas: \n",
    "\n",
    "- **\"height\",\"id\",\"order\",\"weight\",\"types\"**\n",
    "\n",
    "### Ejercicio 2\n",
    "\n",
    "¿Has visto que dentro del DataFrame la columna \"types\" hay diccionarios? Se pide agregar, por cada pokemon, las columnas necesarias al DataFrame para albergar toda la información de \"types\".\n",
    "\n",
    "![](df_pk.PNG)"
   ],
   "cell_type": "markdown",
   "metadata": {}
  },
  {
   "cell_type": "code",
   "execution_count": 8,
   "metadata": {},
   "outputs": [
    {
     "output_type": "execute_result",
     "data": {
      "text/plain": [
       "{'count': 1118,\n",
       " 'next': 'https://pokeapi.co/api/v2/pokemon/?offset=20&limit=20',\n",
       " 'previous': None,\n",
       " 'results': [{'name': 'bulbasaur',\n",
       "   'url': 'https://pokeapi.co/api/v2/pokemon/1/'},\n",
       "  {'name': 'ivysaur', 'url': 'https://pokeapi.co/api/v2/pokemon/2/'},\n",
       "  {'name': 'venusaur', 'url': 'https://pokeapi.co/api/v2/pokemon/3/'},\n",
       "  {'name': 'charmander', 'url': 'https://pokeapi.co/api/v2/pokemon/4/'},\n",
       "  {'name': 'charmeleon', 'url': 'https://pokeapi.co/api/v2/pokemon/5/'},\n",
       "  {'name': 'charizard', 'url': 'https://pokeapi.co/api/v2/pokemon/6/'},\n",
       "  {'name': 'squirtle', 'url': 'https://pokeapi.co/api/v2/pokemon/7/'},\n",
       "  {'name': 'wartortle', 'url': 'https://pokeapi.co/api/v2/pokemon/8/'},\n",
       "  {'name': 'blastoise', 'url': 'https://pokeapi.co/api/v2/pokemon/9/'},\n",
       "  {'name': 'caterpie', 'url': 'https://pokeapi.co/api/v2/pokemon/10/'},\n",
       "  {'name': 'metapod', 'url': 'https://pokeapi.co/api/v2/pokemon/11/'},\n",
       "  {'name': 'butterfree', 'url': 'https://pokeapi.co/api/v2/pokemon/12/'},\n",
       "  {'name': 'weedle', 'url': 'https://pokeapi.co/api/v2/pokemon/13/'},\n",
       "  {'name': 'kakuna', 'url': 'https://pokeapi.co/api/v2/pokemon/14/'},\n",
       "  {'name': 'beedrill', 'url': 'https://pokeapi.co/api/v2/pokemon/15/'},\n",
       "  {'name': 'pidgey', 'url': 'https://pokeapi.co/api/v2/pokemon/16/'},\n",
       "  {'name': 'pidgeotto', 'url': 'https://pokeapi.co/api/v2/pokemon/17/'},\n",
       "  {'name': 'pidgeot', 'url': 'https://pokeapi.co/api/v2/pokemon/18/'},\n",
       "  {'name': 'rattata', 'url': 'https://pokeapi.co/api/v2/pokemon/19/'},\n",
       "  {'name': 'raticate', 'url': 'https://pokeapi.co/api/v2/pokemon/20/'}]}"
      ]
     },
     "metadata": {},
     "execution_count": 8
    }
   ],
   "source": [
    "import pandas as pd \n",
    "import numpy as np \n",
    "import requests\n",
    "import json\n",
    "\n",
    "poke = requests.get('https://pokeapi.co/api/v2/pokemon/').json()\n",
    "poke"
   ]
  },
  {
   "cell_type": "code",
   "execution_count": 10,
   "metadata": {},
   "outputs": [],
   "source": [
    "pokemon_results = poke[\"results\"]"
   ]
  },
  {
   "cell_type": "code",
   "execution_count": 12,
   "metadata": {},
   "outputs": [
    {
     "output_type": "execute_result",
     "data": {
      "text/plain": [
       "    count                                               next previous  \\\n",
       "0    1118  https://pokeapi.co/api/v2/pokemon/?offset=20&l...     None   \n",
       "1    1118  https://pokeapi.co/api/v2/pokemon/?offset=20&l...     None   \n",
       "2    1118  https://pokeapi.co/api/v2/pokemon/?offset=20&l...     None   \n",
       "3    1118  https://pokeapi.co/api/v2/pokemon/?offset=20&l...     None   \n",
       "4    1118  https://pokeapi.co/api/v2/pokemon/?offset=20&l...     None   \n",
       "5    1118  https://pokeapi.co/api/v2/pokemon/?offset=20&l...     None   \n",
       "6    1118  https://pokeapi.co/api/v2/pokemon/?offset=20&l...     None   \n",
       "7    1118  https://pokeapi.co/api/v2/pokemon/?offset=20&l...     None   \n",
       "8    1118  https://pokeapi.co/api/v2/pokemon/?offset=20&l...     None   \n",
       "9    1118  https://pokeapi.co/api/v2/pokemon/?offset=20&l...     None   \n",
       "10   1118  https://pokeapi.co/api/v2/pokemon/?offset=20&l...     None   \n",
       "11   1118  https://pokeapi.co/api/v2/pokemon/?offset=20&l...     None   \n",
       "12   1118  https://pokeapi.co/api/v2/pokemon/?offset=20&l...     None   \n",
       "13   1118  https://pokeapi.co/api/v2/pokemon/?offset=20&l...     None   \n",
       "14   1118  https://pokeapi.co/api/v2/pokemon/?offset=20&l...     None   \n",
       "15   1118  https://pokeapi.co/api/v2/pokemon/?offset=20&l...     None   \n",
       "16   1118  https://pokeapi.co/api/v2/pokemon/?offset=20&l...     None   \n",
       "17   1118  https://pokeapi.co/api/v2/pokemon/?offset=20&l...     None   \n",
       "18   1118  https://pokeapi.co/api/v2/pokemon/?offset=20&l...     None   \n",
       "19   1118  https://pokeapi.co/api/v2/pokemon/?offset=20&l...     None   \n",
       "\n",
       "                                              results  \n",
       "0   {'name': 'bulbasaur', 'url': 'https://pokeapi....  \n",
       "1   {'name': 'ivysaur', 'url': 'https://pokeapi.co...  \n",
       "2   {'name': 'venusaur', 'url': 'https://pokeapi.c...  \n",
       "3   {'name': 'charmander', 'url': 'https://pokeapi...  \n",
       "4   {'name': 'charmeleon', 'url': 'https://pokeapi...  \n",
       "5   {'name': 'charizard', 'url': 'https://pokeapi....  \n",
       "6   {'name': 'squirtle', 'url': 'https://pokeapi.c...  \n",
       "7   {'name': 'wartortle', 'url': 'https://pokeapi....  \n",
       "8   {'name': 'blastoise', 'url': 'https://pokeapi....  \n",
       "9   {'name': 'caterpie', 'url': 'https://pokeapi.c...  \n",
       "10  {'name': 'metapod', 'url': 'https://pokeapi.co...  \n",
       "11  {'name': 'butterfree', 'url': 'https://pokeapi...  \n",
       "12  {'name': 'weedle', 'url': 'https://pokeapi.co/...  \n",
       "13  {'name': 'kakuna', 'url': 'https://pokeapi.co/...  \n",
       "14  {'name': 'beedrill', 'url': 'https://pokeapi.c...  \n",
       "15  {'name': 'pidgey', 'url': 'https://pokeapi.co/...  \n",
       "16  {'name': 'pidgeotto', 'url': 'https://pokeapi....  \n",
       "17  {'name': 'pidgeot', 'url': 'https://pokeapi.co...  \n",
       "18  {'name': 'rattata', 'url': 'https://pokeapi.co...  \n",
       "19  {'name': 'raticate', 'url': 'https://pokeapi.c...  "
      ],
      "text/html": "<div>\n<style scoped>\n    .dataframe tbody tr th:only-of-type {\n        vertical-align: middle;\n    }\n\n    .dataframe tbody tr th {\n        vertical-align: top;\n    }\n\n    .dataframe thead th {\n        text-align: right;\n    }\n</style>\n<table border=\"1\" class=\"dataframe\">\n  <thead>\n    <tr style=\"text-align: right;\">\n      <th></th>\n      <th>count</th>\n      <th>next</th>\n      <th>previous</th>\n      <th>results</th>\n    </tr>\n  </thead>\n  <tbody>\n    <tr>\n      <th>0</th>\n      <td>1118</td>\n      <td>https://pokeapi.co/api/v2/pokemon/?offset=20&amp;l...</td>\n      <td>None</td>\n      <td>{'name': 'bulbasaur', 'url': 'https://pokeapi....</td>\n    </tr>\n    <tr>\n      <th>1</th>\n      <td>1118</td>\n      <td>https://pokeapi.co/api/v2/pokemon/?offset=20&amp;l...</td>\n      <td>None</td>\n      <td>{'name': 'ivysaur', 'url': 'https://pokeapi.co...</td>\n    </tr>\n    <tr>\n      <th>2</th>\n      <td>1118</td>\n      <td>https://pokeapi.co/api/v2/pokemon/?offset=20&amp;l...</td>\n      <td>None</td>\n      <td>{'name': 'venusaur', 'url': 'https://pokeapi.c...</td>\n    </tr>\n    <tr>\n      <th>3</th>\n      <td>1118</td>\n      <td>https://pokeapi.co/api/v2/pokemon/?offset=20&amp;l...</td>\n      <td>None</td>\n      <td>{'name': 'charmander', 'url': 'https://pokeapi...</td>\n    </tr>\n    <tr>\n      <th>4</th>\n      <td>1118</td>\n      <td>https://pokeapi.co/api/v2/pokemon/?offset=20&amp;l...</td>\n      <td>None</td>\n      <td>{'name': 'charmeleon', 'url': 'https://pokeapi...</td>\n    </tr>\n    <tr>\n      <th>5</th>\n      <td>1118</td>\n      <td>https://pokeapi.co/api/v2/pokemon/?offset=20&amp;l...</td>\n      <td>None</td>\n      <td>{'name': 'charizard', 'url': 'https://pokeapi....</td>\n    </tr>\n    <tr>\n      <th>6</th>\n      <td>1118</td>\n      <td>https://pokeapi.co/api/v2/pokemon/?offset=20&amp;l...</td>\n      <td>None</td>\n      <td>{'name': 'squirtle', 'url': 'https://pokeapi.c...</td>\n    </tr>\n    <tr>\n      <th>7</th>\n      <td>1118</td>\n      <td>https://pokeapi.co/api/v2/pokemon/?offset=20&amp;l...</td>\n      <td>None</td>\n      <td>{'name': 'wartortle', 'url': 'https://pokeapi....</td>\n    </tr>\n    <tr>\n      <th>8</th>\n      <td>1118</td>\n      <td>https://pokeapi.co/api/v2/pokemon/?offset=20&amp;l...</td>\n      <td>None</td>\n      <td>{'name': 'blastoise', 'url': 'https://pokeapi....</td>\n    </tr>\n    <tr>\n      <th>9</th>\n      <td>1118</td>\n      <td>https://pokeapi.co/api/v2/pokemon/?offset=20&amp;l...</td>\n      <td>None</td>\n      <td>{'name': 'caterpie', 'url': 'https://pokeapi.c...</td>\n    </tr>\n    <tr>\n      <th>10</th>\n      <td>1118</td>\n      <td>https://pokeapi.co/api/v2/pokemon/?offset=20&amp;l...</td>\n      <td>None</td>\n      <td>{'name': 'metapod', 'url': 'https://pokeapi.co...</td>\n    </tr>\n    <tr>\n      <th>11</th>\n      <td>1118</td>\n      <td>https://pokeapi.co/api/v2/pokemon/?offset=20&amp;l...</td>\n      <td>None</td>\n      <td>{'name': 'butterfree', 'url': 'https://pokeapi...</td>\n    </tr>\n    <tr>\n      <th>12</th>\n      <td>1118</td>\n      <td>https://pokeapi.co/api/v2/pokemon/?offset=20&amp;l...</td>\n      <td>None</td>\n      <td>{'name': 'weedle', 'url': 'https://pokeapi.co/...</td>\n    </tr>\n    <tr>\n      <th>13</th>\n      <td>1118</td>\n      <td>https://pokeapi.co/api/v2/pokemon/?offset=20&amp;l...</td>\n      <td>None</td>\n      <td>{'name': 'kakuna', 'url': 'https://pokeapi.co/...</td>\n    </tr>\n    <tr>\n      <th>14</th>\n      <td>1118</td>\n      <td>https://pokeapi.co/api/v2/pokemon/?offset=20&amp;l...</td>\n      <td>None</td>\n      <td>{'name': 'beedrill', 'url': 'https://pokeapi.c...</td>\n    </tr>\n    <tr>\n      <th>15</th>\n      <td>1118</td>\n      <td>https://pokeapi.co/api/v2/pokemon/?offset=20&amp;l...</td>\n      <td>None</td>\n      <td>{'name': 'pidgey', 'url': 'https://pokeapi.co/...</td>\n    </tr>\n    <tr>\n      <th>16</th>\n      <td>1118</td>\n      <td>https://pokeapi.co/api/v2/pokemon/?offset=20&amp;l...</td>\n      <td>None</td>\n      <td>{'name': 'pidgeotto', 'url': 'https://pokeapi....</td>\n    </tr>\n    <tr>\n      <th>17</th>\n      <td>1118</td>\n      <td>https://pokeapi.co/api/v2/pokemon/?offset=20&amp;l...</td>\n      <td>None</td>\n      <td>{'name': 'pidgeot', 'url': 'https://pokeapi.co...</td>\n    </tr>\n    <tr>\n      <th>18</th>\n      <td>1118</td>\n      <td>https://pokeapi.co/api/v2/pokemon/?offset=20&amp;l...</td>\n      <td>None</td>\n      <td>{'name': 'rattata', 'url': 'https://pokeapi.co...</td>\n    </tr>\n    <tr>\n      <th>19</th>\n      <td>1118</td>\n      <td>https://pokeapi.co/api/v2/pokemon/?offset=20&amp;l...</td>\n      <td>None</td>\n      <td>{'name': 'raticate', 'url': 'https://pokeapi.c...</td>\n    </tr>\n  </tbody>\n</table>\n</div>"
     },
     "metadata": {},
     "execution_count": 12
    }
   ],
   "source": [
    "pokemon = pd.DataFrame(poke)\n",
    "pokemon"
   ]
  },
  {
   "cell_type": "code",
   "execution_count": 13,
   "metadata": {},
   "outputs": [
    {
     "output_type": "execute_result",
     "data": {
      "text/plain": [
       "          name                                    url\n",
       "0    bulbasaur   https://pokeapi.co/api/v2/pokemon/1/\n",
       "1      ivysaur   https://pokeapi.co/api/v2/pokemon/2/\n",
       "2     venusaur   https://pokeapi.co/api/v2/pokemon/3/\n",
       "3   charmander   https://pokeapi.co/api/v2/pokemon/4/\n",
       "4   charmeleon   https://pokeapi.co/api/v2/pokemon/5/\n",
       "5    charizard   https://pokeapi.co/api/v2/pokemon/6/\n",
       "6     squirtle   https://pokeapi.co/api/v2/pokemon/7/\n",
       "7    wartortle   https://pokeapi.co/api/v2/pokemon/8/\n",
       "8    blastoise   https://pokeapi.co/api/v2/pokemon/9/\n",
       "9     caterpie  https://pokeapi.co/api/v2/pokemon/10/\n",
       "10     metapod  https://pokeapi.co/api/v2/pokemon/11/\n",
       "11  butterfree  https://pokeapi.co/api/v2/pokemon/12/\n",
       "12      weedle  https://pokeapi.co/api/v2/pokemon/13/\n",
       "13      kakuna  https://pokeapi.co/api/v2/pokemon/14/\n",
       "14    beedrill  https://pokeapi.co/api/v2/pokemon/15/\n",
       "15      pidgey  https://pokeapi.co/api/v2/pokemon/16/\n",
       "16   pidgeotto  https://pokeapi.co/api/v2/pokemon/17/\n",
       "17     pidgeot  https://pokeapi.co/api/v2/pokemon/18/\n",
       "18     rattata  https://pokeapi.co/api/v2/pokemon/19/\n",
       "19    raticate  https://pokeapi.co/api/v2/pokemon/20/"
      ],
      "text/html": "<div>\n<style scoped>\n    .dataframe tbody tr th:only-of-type {\n        vertical-align: middle;\n    }\n\n    .dataframe tbody tr th {\n        vertical-align: top;\n    }\n\n    .dataframe thead th {\n        text-align: right;\n    }\n</style>\n<table border=\"1\" class=\"dataframe\">\n  <thead>\n    <tr style=\"text-align: right;\">\n      <th></th>\n      <th>name</th>\n      <th>url</th>\n    </tr>\n  </thead>\n  <tbody>\n    <tr>\n      <th>0</th>\n      <td>bulbasaur</td>\n      <td>https://pokeapi.co/api/v2/pokemon/1/</td>\n    </tr>\n    <tr>\n      <th>1</th>\n      <td>ivysaur</td>\n      <td>https://pokeapi.co/api/v2/pokemon/2/</td>\n    </tr>\n    <tr>\n      <th>2</th>\n      <td>venusaur</td>\n      <td>https://pokeapi.co/api/v2/pokemon/3/</td>\n    </tr>\n    <tr>\n      <th>3</th>\n      <td>charmander</td>\n      <td>https://pokeapi.co/api/v2/pokemon/4/</td>\n    </tr>\n    <tr>\n      <th>4</th>\n      <td>charmeleon</td>\n      <td>https://pokeapi.co/api/v2/pokemon/5/</td>\n    </tr>\n    <tr>\n      <th>5</th>\n      <td>charizard</td>\n      <td>https://pokeapi.co/api/v2/pokemon/6/</td>\n    </tr>\n    <tr>\n      <th>6</th>\n      <td>squirtle</td>\n      <td>https://pokeapi.co/api/v2/pokemon/7/</td>\n    </tr>\n    <tr>\n      <th>7</th>\n      <td>wartortle</td>\n      <td>https://pokeapi.co/api/v2/pokemon/8/</td>\n    </tr>\n    <tr>\n      <th>8</th>\n      <td>blastoise</td>\n      <td>https://pokeapi.co/api/v2/pokemon/9/</td>\n    </tr>\n    <tr>\n      <th>9</th>\n      <td>caterpie</td>\n      <td>https://pokeapi.co/api/v2/pokemon/10/</td>\n    </tr>\n    <tr>\n      <th>10</th>\n      <td>metapod</td>\n      <td>https://pokeapi.co/api/v2/pokemon/11/</td>\n    </tr>\n    <tr>\n      <th>11</th>\n      <td>butterfree</td>\n      <td>https://pokeapi.co/api/v2/pokemon/12/</td>\n    </tr>\n    <tr>\n      <th>12</th>\n      <td>weedle</td>\n      <td>https://pokeapi.co/api/v2/pokemon/13/</td>\n    </tr>\n    <tr>\n      <th>13</th>\n      <td>kakuna</td>\n      <td>https://pokeapi.co/api/v2/pokemon/14/</td>\n    </tr>\n    <tr>\n      <th>14</th>\n      <td>beedrill</td>\n      <td>https://pokeapi.co/api/v2/pokemon/15/</td>\n    </tr>\n    <tr>\n      <th>15</th>\n      <td>pidgey</td>\n      <td>https://pokeapi.co/api/v2/pokemon/16/</td>\n    </tr>\n    <tr>\n      <th>16</th>\n      <td>pidgeotto</td>\n      <td>https://pokeapi.co/api/v2/pokemon/17/</td>\n    </tr>\n    <tr>\n      <th>17</th>\n      <td>pidgeot</td>\n      <td>https://pokeapi.co/api/v2/pokemon/18/</td>\n    </tr>\n    <tr>\n      <th>18</th>\n      <td>rattata</td>\n      <td>https://pokeapi.co/api/v2/pokemon/19/</td>\n    </tr>\n    <tr>\n      <th>19</th>\n      <td>raticate</td>\n      <td>https://pokeapi.co/api/v2/pokemon/20/</td>\n    </tr>\n  </tbody>\n</table>\n</div>"
     },
     "metadata": {},
     "execution_count": 13
    }
   ],
   "source": [
    "df2 = pd.DataFrame(poke[\"results\"])\n",
    "df2"
   ]
  },
  {
   "cell_type": "code",
   "execution_count": 14,
   "metadata": {},
   "outputs": [
    {
     "output_type": "execute_result",
     "data": {
      "text/plain": [
       "0      https://pokeapi.co/api/v2/pokemon/1/\n",
       "1      https://pokeapi.co/api/v2/pokemon/2/\n",
       "2      https://pokeapi.co/api/v2/pokemon/3/\n",
       "3      https://pokeapi.co/api/v2/pokemon/4/\n",
       "4      https://pokeapi.co/api/v2/pokemon/5/\n",
       "5      https://pokeapi.co/api/v2/pokemon/6/\n",
       "6      https://pokeapi.co/api/v2/pokemon/7/\n",
       "7      https://pokeapi.co/api/v2/pokemon/8/\n",
       "8      https://pokeapi.co/api/v2/pokemon/9/\n",
       "9     https://pokeapi.co/api/v2/pokemon/10/\n",
       "10    https://pokeapi.co/api/v2/pokemon/11/\n",
       "11    https://pokeapi.co/api/v2/pokemon/12/\n",
       "12    https://pokeapi.co/api/v2/pokemon/13/\n",
       "13    https://pokeapi.co/api/v2/pokemon/14/\n",
       "14    https://pokeapi.co/api/v2/pokemon/15/\n",
       "15    https://pokeapi.co/api/v2/pokemon/16/\n",
       "16    https://pokeapi.co/api/v2/pokemon/17/\n",
       "17    https://pokeapi.co/api/v2/pokemon/18/\n",
       "18    https://pokeapi.co/api/v2/pokemon/19/\n",
       "19    https://pokeapi.co/api/v2/pokemon/20/\n",
       "Name: url, dtype: object"
      ]
     },
     "metadata": {},
     "execution_count": 14
    }
   ],
   "source": [
    "df2[\"url\"]"
   ]
  },
  {
   "cell_type": "code",
   "execution_count": 17,
   "metadata": {},
   "outputs": [
    {
     "output_type": "execute_result",
     "data": {
      "text/plain": [
       "   height  id  order  weight  \\\n",
       "0      10   2      2     130   \n",
       "\n",
       "                                               types  \n",
       "0  [{'slot': 1, 'type': {'name': 'grass', 'url': ...  "
      ],
      "text/html": "<div>\n<style scoped>\n    .dataframe tbody tr th:only-of-type {\n        vertical-align: middle;\n    }\n\n    .dataframe tbody tr th {\n        vertical-align: top;\n    }\n\n    .dataframe thead th {\n        text-align: right;\n    }\n</style>\n<table border=\"1\" class=\"dataframe\">\n  <thead>\n    <tr style=\"text-align: right;\">\n      <th></th>\n      <th>height</th>\n      <th>id</th>\n      <th>order</th>\n      <th>weight</th>\n      <th>types</th>\n    </tr>\n  </thead>\n  <tbody>\n    <tr>\n      <th>0</th>\n      <td>10</td>\n      <td>2</td>\n      <td>2</td>\n      <td>130</td>\n      <td>[{'slot': 1, 'type': {'name': 'grass', 'url': ...</td>\n    </tr>\n  </tbody>\n</table>\n</div>"
     },
     "metadata": {},
     "execution_count": 17
    }
   ],
   "source": [
    "pd.DataFrame(pokemon_lista[1])[[\"height\",\"id\",\"order\",\"weight\",\"types\"]]"
   ]
  },
  {
   "cell_type": "code",
   "execution_count": 16,
   "metadata": {},
   "outputs": [
    {
     "output_type": "execute_result",
     "data": {
      "text/plain": [
       "    index  height  id  order  weight  \\\n",
       "0       0       7   1      1      69   \n",
       "1       0      10   2      2     130   \n",
       "2       0      20   3      3    1000   \n",
       "3       0       6   4      5      85   \n",
       "4       0      11   5      6     190   \n",
       "5       0      17   6      7     905   \n",
       "6       0       5   7     10      90   \n",
       "7       0      10   8     11     225   \n",
       "8       0      16   9     12     855   \n",
       "9       0       3  10     14      29   \n",
       "10      0       7  11     15      99   \n",
       "11      0      11  12     16     320   \n",
       "12      0       3  13     17      32   \n",
       "13      0       6  14     18     100   \n",
       "14      0      10  15     19     295   \n",
       "15      0       3  16     21      18   \n",
       "16      0      11  17     22     300   \n",
       "17      0      15  18     23     395   \n",
       "18      0       3  19     25      35   \n",
       "19      0       7  20     27     185   \n",
       "\n",
       "                                                types  \n",
       "0   [{'slot': 1, 'type': {'name': 'grass', 'url': ...  \n",
       "1   [{'slot': 1, 'type': {'name': 'grass', 'url': ...  \n",
       "2   [{'slot': 1, 'type': {'name': 'grass', 'url': ...  \n",
       "3   [{'slot': 1, 'type': {'name': 'fire', 'url': '...  \n",
       "4   [{'slot': 1, 'type': {'name': 'fire', 'url': '...  \n",
       "5   [{'slot': 1, 'type': {'name': 'fire', 'url': '...  \n",
       "6   [{'slot': 1, 'type': {'name': 'water', 'url': ...  \n",
       "7   [{'slot': 1, 'type': {'name': 'water', 'url': ...  \n",
       "8   [{'slot': 1, 'type': {'name': 'water', 'url': ...  \n",
       "9   [{'slot': 1, 'type': {'name': 'bug', 'url': 'h...  \n",
       "10  [{'slot': 1, 'type': {'name': 'bug', 'url': 'h...  \n",
       "11  [{'slot': 1, 'type': {'name': 'bug', 'url': 'h...  \n",
       "12  [{'slot': 1, 'type': {'name': 'bug', 'url': 'h...  \n",
       "13  [{'slot': 1, 'type': {'name': 'bug', 'url': 'h...  \n",
       "14  [{'slot': 1, 'type': {'name': 'bug', 'url': 'h...  \n",
       "15  [{'slot': 1, 'type': {'name': 'normal', 'url':...  \n",
       "16  [{'slot': 1, 'type': {'name': 'normal', 'url':...  \n",
       "17  [{'slot': 1, 'type': {'name': 'normal', 'url':...  \n",
       "18  [{'slot': 1, 'type': {'name': 'normal', 'url':...  \n",
       "19  [{'slot': 1, 'type': {'name': 'normal', 'url':...  "
      ],
      "text/html": "<div>\n<style scoped>\n    .dataframe tbody tr th:only-of-type {\n        vertical-align: middle;\n    }\n\n    .dataframe tbody tr th {\n        vertical-align: top;\n    }\n\n    .dataframe thead th {\n        text-align: right;\n    }\n</style>\n<table border=\"1\" class=\"dataframe\">\n  <thead>\n    <tr style=\"text-align: right;\">\n      <th></th>\n      <th>index</th>\n      <th>height</th>\n      <th>id</th>\n      <th>order</th>\n      <th>weight</th>\n      <th>types</th>\n    </tr>\n  </thead>\n  <tbody>\n    <tr>\n      <th>0</th>\n      <td>0</td>\n      <td>7</td>\n      <td>1</td>\n      <td>1</td>\n      <td>69</td>\n      <td>[{'slot': 1, 'type': {'name': 'grass', 'url': ...</td>\n    </tr>\n    <tr>\n      <th>1</th>\n      <td>0</td>\n      <td>10</td>\n      <td>2</td>\n      <td>2</td>\n      <td>130</td>\n      <td>[{'slot': 1, 'type': {'name': 'grass', 'url': ...</td>\n    </tr>\n    <tr>\n      <th>2</th>\n      <td>0</td>\n      <td>20</td>\n      <td>3</td>\n      <td>3</td>\n      <td>1000</td>\n      <td>[{'slot': 1, 'type': {'name': 'grass', 'url': ...</td>\n    </tr>\n    <tr>\n      <th>3</th>\n      <td>0</td>\n      <td>6</td>\n      <td>4</td>\n      <td>5</td>\n      <td>85</td>\n      <td>[{'slot': 1, 'type': {'name': 'fire', 'url': '...</td>\n    </tr>\n    <tr>\n      <th>4</th>\n      <td>0</td>\n      <td>11</td>\n      <td>5</td>\n      <td>6</td>\n      <td>190</td>\n      <td>[{'slot': 1, 'type': {'name': 'fire', 'url': '...</td>\n    </tr>\n    <tr>\n      <th>5</th>\n      <td>0</td>\n      <td>17</td>\n      <td>6</td>\n      <td>7</td>\n      <td>905</td>\n      <td>[{'slot': 1, 'type': {'name': 'fire', 'url': '...</td>\n    </tr>\n    <tr>\n      <th>6</th>\n      <td>0</td>\n      <td>5</td>\n      <td>7</td>\n      <td>10</td>\n      <td>90</td>\n      <td>[{'slot': 1, 'type': {'name': 'water', 'url': ...</td>\n    </tr>\n    <tr>\n      <th>7</th>\n      <td>0</td>\n      <td>10</td>\n      <td>8</td>\n      <td>11</td>\n      <td>225</td>\n      <td>[{'slot': 1, 'type': {'name': 'water', 'url': ...</td>\n    </tr>\n    <tr>\n      <th>8</th>\n      <td>0</td>\n      <td>16</td>\n      <td>9</td>\n      <td>12</td>\n      <td>855</td>\n      <td>[{'slot': 1, 'type': {'name': 'water', 'url': ...</td>\n    </tr>\n    <tr>\n      <th>9</th>\n      <td>0</td>\n      <td>3</td>\n      <td>10</td>\n      <td>14</td>\n      <td>29</td>\n      <td>[{'slot': 1, 'type': {'name': 'bug', 'url': 'h...</td>\n    </tr>\n    <tr>\n      <th>10</th>\n      <td>0</td>\n      <td>7</td>\n      <td>11</td>\n      <td>15</td>\n      <td>99</td>\n      <td>[{'slot': 1, 'type': {'name': 'bug', 'url': 'h...</td>\n    </tr>\n    <tr>\n      <th>11</th>\n      <td>0</td>\n      <td>11</td>\n      <td>12</td>\n      <td>16</td>\n      <td>320</td>\n      <td>[{'slot': 1, 'type': {'name': 'bug', 'url': 'h...</td>\n    </tr>\n    <tr>\n      <th>12</th>\n      <td>0</td>\n      <td>3</td>\n      <td>13</td>\n      <td>17</td>\n      <td>32</td>\n      <td>[{'slot': 1, 'type': {'name': 'bug', 'url': 'h...</td>\n    </tr>\n    <tr>\n      <th>13</th>\n      <td>0</td>\n      <td>6</td>\n      <td>14</td>\n      <td>18</td>\n      <td>100</td>\n      <td>[{'slot': 1, 'type': {'name': 'bug', 'url': 'h...</td>\n    </tr>\n    <tr>\n      <th>14</th>\n      <td>0</td>\n      <td>10</td>\n      <td>15</td>\n      <td>19</td>\n      <td>295</td>\n      <td>[{'slot': 1, 'type': {'name': 'bug', 'url': 'h...</td>\n    </tr>\n    <tr>\n      <th>15</th>\n      <td>0</td>\n      <td>3</td>\n      <td>16</td>\n      <td>21</td>\n      <td>18</td>\n      <td>[{'slot': 1, 'type': {'name': 'normal', 'url':...</td>\n    </tr>\n    <tr>\n      <th>16</th>\n      <td>0</td>\n      <td>11</td>\n      <td>17</td>\n      <td>22</td>\n      <td>300</td>\n      <td>[{'slot': 1, 'type': {'name': 'normal', 'url':...</td>\n    </tr>\n    <tr>\n      <th>17</th>\n      <td>0</td>\n      <td>15</td>\n      <td>18</td>\n      <td>23</td>\n      <td>395</td>\n      <td>[{'slot': 1, 'type': {'name': 'normal', 'url':...</td>\n    </tr>\n    <tr>\n      <th>18</th>\n      <td>0</td>\n      <td>3</td>\n      <td>19</td>\n      <td>25</td>\n      <td>35</td>\n      <td>[{'slot': 1, 'type': {'name': 'normal', 'url':...</td>\n    </tr>\n    <tr>\n      <th>19</th>\n      <td>0</td>\n      <td>7</td>\n      <td>20</td>\n      <td>27</td>\n      <td>185</td>\n      <td>[{'slot': 1, 'type': {'name': 'normal', 'url':...</td>\n    </tr>\n  </tbody>\n</table>\n</div>"
     },
     "metadata": {},
     "execution_count": 16
    }
   ],
   "source": [
    "pokemon_lista =[]\n",
    "\n",
    "for i in range(len(df2[\"url\"])):\n",
    "    pokemon_lista.append([requests.get(df2[\"url\"][i]).json()])\n",
    "\n",
    "pd.DataFrame(pokemon_lista)\n",
    "\n",
    "pokemon_lista_2=[]\n",
    "for i in range(len(pokemon_lista)):\n",
    "    pokemon_lista_2.append(pd.DataFrame(pokemon_lista[i])[[\"height\",\"id\",\"order\",\"weight\",\"types\"]])\n",
    "\n",
    "df_conc= pd.concat([pokemon_lista_2[0],pokemon_lista_2[1]])\n",
    "\n",
    "for i in range(2,len(pokemon_lista_2)):\n",
    "    df_conc= pd.concat([df_conc,pokemon_lista_2[i]])\n",
    "\n",
    "df_conc=df_conc.reset_index()\n",
    "df_conc"
   ]
  },
  {
   "cell_type": "code",
   "execution_count": 18,
   "metadata": {},
   "outputs": [
    {
     "output_type": "execute_result",
     "data": {
      "text/plain": [
       "          name                                    url  index  height  id  \\\n",
       "0    bulbasaur   https://pokeapi.co/api/v2/pokemon/1/      0       7   1   \n",
       "1      ivysaur   https://pokeapi.co/api/v2/pokemon/2/      0      10   2   \n",
       "2     venusaur   https://pokeapi.co/api/v2/pokemon/3/      0      20   3   \n",
       "3   charmander   https://pokeapi.co/api/v2/pokemon/4/      0       6   4   \n",
       "4   charmeleon   https://pokeapi.co/api/v2/pokemon/5/      0      11   5   \n",
       "5    charizard   https://pokeapi.co/api/v2/pokemon/6/      0      17   6   \n",
       "6     squirtle   https://pokeapi.co/api/v2/pokemon/7/      0       5   7   \n",
       "7    wartortle   https://pokeapi.co/api/v2/pokemon/8/      0      10   8   \n",
       "8    blastoise   https://pokeapi.co/api/v2/pokemon/9/      0      16   9   \n",
       "9     caterpie  https://pokeapi.co/api/v2/pokemon/10/      0       3  10   \n",
       "10     metapod  https://pokeapi.co/api/v2/pokemon/11/      0       7  11   \n",
       "11  butterfree  https://pokeapi.co/api/v2/pokemon/12/      0      11  12   \n",
       "12      weedle  https://pokeapi.co/api/v2/pokemon/13/      0       3  13   \n",
       "13      kakuna  https://pokeapi.co/api/v2/pokemon/14/      0       6  14   \n",
       "14    beedrill  https://pokeapi.co/api/v2/pokemon/15/      0      10  15   \n",
       "15      pidgey  https://pokeapi.co/api/v2/pokemon/16/      0       3  16   \n",
       "16   pidgeotto  https://pokeapi.co/api/v2/pokemon/17/      0      11  17   \n",
       "17     pidgeot  https://pokeapi.co/api/v2/pokemon/18/      0      15  18   \n",
       "18     rattata  https://pokeapi.co/api/v2/pokemon/19/      0       3  19   \n",
       "19    raticate  https://pokeapi.co/api/v2/pokemon/20/      0       7  20   \n",
       "\n",
       "    order  weight                                              types  \n",
       "0       1      69  [{'slot': 1, 'type': {'name': 'grass', 'url': ...  \n",
       "1       2     130  [{'slot': 1, 'type': {'name': 'grass', 'url': ...  \n",
       "2       3    1000  [{'slot': 1, 'type': {'name': 'grass', 'url': ...  \n",
       "3       5      85  [{'slot': 1, 'type': {'name': 'fire', 'url': '...  \n",
       "4       6     190  [{'slot': 1, 'type': {'name': 'fire', 'url': '...  \n",
       "5       7     905  [{'slot': 1, 'type': {'name': 'fire', 'url': '...  \n",
       "6      10      90  [{'slot': 1, 'type': {'name': 'water', 'url': ...  \n",
       "7      11     225  [{'slot': 1, 'type': {'name': 'water', 'url': ...  \n",
       "8      12     855  [{'slot': 1, 'type': {'name': 'water', 'url': ...  \n",
       "9      14      29  [{'slot': 1, 'type': {'name': 'bug', 'url': 'h...  \n",
       "10     15      99  [{'slot': 1, 'type': {'name': 'bug', 'url': 'h...  \n",
       "11     16     320  [{'slot': 1, 'type': {'name': 'bug', 'url': 'h...  \n",
       "12     17      32  [{'slot': 1, 'type': {'name': 'bug', 'url': 'h...  \n",
       "13     18     100  [{'slot': 1, 'type': {'name': 'bug', 'url': 'h...  \n",
       "14     19     295  [{'slot': 1, 'type': {'name': 'bug', 'url': 'h...  \n",
       "15     21      18  [{'slot': 1, 'type': {'name': 'normal', 'url':...  \n",
       "16     22     300  [{'slot': 1, 'type': {'name': 'normal', 'url':...  \n",
       "17     23     395  [{'slot': 1, 'type': {'name': 'normal', 'url':...  \n",
       "18     25      35  [{'slot': 1, 'type': {'name': 'normal', 'url':...  \n",
       "19     27     185  [{'slot': 1, 'type': {'name': 'normal', 'url':...  "
      ],
      "text/html": "<div>\n<style scoped>\n    .dataframe tbody tr th:only-of-type {\n        vertical-align: middle;\n    }\n\n    .dataframe tbody tr th {\n        vertical-align: top;\n    }\n\n    .dataframe thead th {\n        text-align: right;\n    }\n</style>\n<table border=\"1\" class=\"dataframe\">\n  <thead>\n    <tr style=\"text-align: right;\">\n      <th></th>\n      <th>name</th>\n      <th>url</th>\n      <th>index</th>\n      <th>height</th>\n      <th>id</th>\n      <th>order</th>\n      <th>weight</th>\n      <th>types</th>\n    </tr>\n  </thead>\n  <tbody>\n    <tr>\n      <th>0</th>\n      <td>bulbasaur</td>\n      <td>https://pokeapi.co/api/v2/pokemon/1/</td>\n      <td>0</td>\n      <td>7</td>\n      <td>1</td>\n      <td>1</td>\n      <td>69</td>\n      <td>[{'slot': 1, 'type': {'name': 'grass', 'url': ...</td>\n    </tr>\n    <tr>\n      <th>1</th>\n      <td>ivysaur</td>\n      <td>https://pokeapi.co/api/v2/pokemon/2/</td>\n      <td>0</td>\n      <td>10</td>\n      <td>2</td>\n      <td>2</td>\n      <td>130</td>\n      <td>[{'slot': 1, 'type': {'name': 'grass', 'url': ...</td>\n    </tr>\n    <tr>\n      <th>2</th>\n      <td>venusaur</td>\n      <td>https://pokeapi.co/api/v2/pokemon/3/</td>\n      <td>0</td>\n      <td>20</td>\n      <td>3</td>\n      <td>3</td>\n      <td>1000</td>\n      <td>[{'slot': 1, 'type': {'name': 'grass', 'url': ...</td>\n    </tr>\n    <tr>\n      <th>3</th>\n      <td>charmander</td>\n      <td>https://pokeapi.co/api/v2/pokemon/4/</td>\n      <td>0</td>\n      <td>6</td>\n      <td>4</td>\n      <td>5</td>\n      <td>85</td>\n      <td>[{'slot': 1, 'type': {'name': 'fire', 'url': '...</td>\n    </tr>\n    <tr>\n      <th>4</th>\n      <td>charmeleon</td>\n      <td>https://pokeapi.co/api/v2/pokemon/5/</td>\n      <td>0</td>\n      <td>11</td>\n      <td>5</td>\n      <td>6</td>\n      <td>190</td>\n      <td>[{'slot': 1, 'type': {'name': 'fire', 'url': '...</td>\n    </tr>\n    <tr>\n      <th>5</th>\n      <td>charizard</td>\n      <td>https://pokeapi.co/api/v2/pokemon/6/</td>\n      <td>0</td>\n      <td>17</td>\n      <td>6</td>\n      <td>7</td>\n      <td>905</td>\n      <td>[{'slot': 1, 'type': {'name': 'fire', 'url': '...</td>\n    </tr>\n    <tr>\n      <th>6</th>\n      <td>squirtle</td>\n      <td>https://pokeapi.co/api/v2/pokemon/7/</td>\n      <td>0</td>\n      <td>5</td>\n      <td>7</td>\n      <td>10</td>\n      <td>90</td>\n      <td>[{'slot': 1, 'type': {'name': 'water', 'url': ...</td>\n    </tr>\n    <tr>\n      <th>7</th>\n      <td>wartortle</td>\n      <td>https://pokeapi.co/api/v2/pokemon/8/</td>\n      <td>0</td>\n      <td>10</td>\n      <td>8</td>\n      <td>11</td>\n      <td>225</td>\n      <td>[{'slot': 1, 'type': {'name': 'water', 'url': ...</td>\n    </tr>\n    <tr>\n      <th>8</th>\n      <td>blastoise</td>\n      <td>https://pokeapi.co/api/v2/pokemon/9/</td>\n      <td>0</td>\n      <td>16</td>\n      <td>9</td>\n      <td>12</td>\n      <td>855</td>\n      <td>[{'slot': 1, 'type': {'name': 'water', 'url': ...</td>\n    </tr>\n    <tr>\n      <th>9</th>\n      <td>caterpie</td>\n      <td>https://pokeapi.co/api/v2/pokemon/10/</td>\n      <td>0</td>\n      <td>3</td>\n      <td>10</td>\n      <td>14</td>\n      <td>29</td>\n      <td>[{'slot': 1, 'type': {'name': 'bug', 'url': 'h...</td>\n    </tr>\n    <tr>\n      <th>10</th>\n      <td>metapod</td>\n      <td>https://pokeapi.co/api/v2/pokemon/11/</td>\n      <td>0</td>\n      <td>7</td>\n      <td>11</td>\n      <td>15</td>\n      <td>99</td>\n      <td>[{'slot': 1, 'type': {'name': 'bug', 'url': 'h...</td>\n    </tr>\n    <tr>\n      <th>11</th>\n      <td>butterfree</td>\n      <td>https://pokeapi.co/api/v2/pokemon/12/</td>\n      <td>0</td>\n      <td>11</td>\n      <td>12</td>\n      <td>16</td>\n      <td>320</td>\n      <td>[{'slot': 1, 'type': {'name': 'bug', 'url': 'h...</td>\n    </tr>\n    <tr>\n      <th>12</th>\n      <td>weedle</td>\n      <td>https://pokeapi.co/api/v2/pokemon/13/</td>\n      <td>0</td>\n      <td>3</td>\n      <td>13</td>\n      <td>17</td>\n      <td>32</td>\n      <td>[{'slot': 1, 'type': {'name': 'bug', 'url': 'h...</td>\n    </tr>\n    <tr>\n      <th>13</th>\n      <td>kakuna</td>\n      <td>https://pokeapi.co/api/v2/pokemon/14/</td>\n      <td>0</td>\n      <td>6</td>\n      <td>14</td>\n      <td>18</td>\n      <td>100</td>\n      <td>[{'slot': 1, 'type': {'name': 'bug', 'url': 'h...</td>\n    </tr>\n    <tr>\n      <th>14</th>\n      <td>beedrill</td>\n      <td>https://pokeapi.co/api/v2/pokemon/15/</td>\n      <td>0</td>\n      <td>10</td>\n      <td>15</td>\n      <td>19</td>\n      <td>295</td>\n      <td>[{'slot': 1, 'type': {'name': 'bug', 'url': 'h...</td>\n    </tr>\n    <tr>\n      <th>15</th>\n      <td>pidgey</td>\n      <td>https://pokeapi.co/api/v2/pokemon/16/</td>\n      <td>0</td>\n      <td>3</td>\n      <td>16</td>\n      <td>21</td>\n      <td>18</td>\n      <td>[{'slot': 1, 'type': {'name': 'normal', 'url':...</td>\n    </tr>\n    <tr>\n      <th>16</th>\n      <td>pidgeotto</td>\n      <td>https://pokeapi.co/api/v2/pokemon/17/</td>\n      <td>0</td>\n      <td>11</td>\n      <td>17</td>\n      <td>22</td>\n      <td>300</td>\n      <td>[{'slot': 1, 'type': {'name': 'normal', 'url':...</td>\n    </tr>\n    <tr>\n      <th>17</th>\n      <td>pidgeot</td>\n      <td>https://pokeapi.co/api/v2/pokemon/18/</td>\n      <td>0</td>\n      <td>15</td>\n      <td>18</td>\n      <td>23</td>\n      <td>395</td>\n      <td>[{'slot': 1, 'type': {'name': 'normal', 'url':...</td>\n    </tr>\n    <tr>\n      <th>18</th>\n      <td>rattata</td>\n      <td>https://pokeapi.co/api/v2/pokemon/19/</td>\n      <td>0</td>\n      <td>3</td>\n      <td>19</td>\n      <td>25</td>\n      <td>35</td>\n      <td>[{'slot': 1, 'type': {'name': 'normal', 'url':...</td>\n    </tr>\n    <tr>\n      <th>19</th>\n      <td>raticate</td>\n      <td>https://pokeapi.co/api/v2/pokemon/20/</td>\n      <td>0</td>\n      <td>7</td>\n      <td>20</td>\n      <td>27</td>\n      <td>185</td>\n      <td>[{'slot': 1, 'type': {'name': 'normal', 'url':...</td>\n    </tr>\n  </tbody>\n</table>\n</div>"
     },
     "metadata": {},
     "execution_count": 18
    }
   ],
   "source": [
    "df_final=pd.concat([df2,df_conc], axis=1)\n",
    "df_final"
   ]
  },
  {
   "cell_type": "code",
   "execution_count": null,
   "metadata": {},
   "outputs": [],
   "source": []
  }
 ]
}