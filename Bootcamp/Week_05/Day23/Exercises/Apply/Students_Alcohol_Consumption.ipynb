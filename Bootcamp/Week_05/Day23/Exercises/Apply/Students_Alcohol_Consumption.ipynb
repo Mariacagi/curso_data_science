{
 "cells": [
  {
   "cell_type": "markdown",
   "metadata": {},
   "source": [
    "# Student Alcohol Consumption"
   ]
  },
  {
   "cell_type": "markdown",
   "metadata": {},
   "source": [
    "### Introduction:\n",
    "\n",
    "This time you will download a dataset from the UCI.\n",
    "\n",
    "### Step 1. Import the necessary libraries"
   ]
  },
  {
   "cell_type": "code",
   "execution_count": 1,
   "metadata": {
    "collapsed": false
   },
   "outputs": [],
   "source": [
    "import numpy as np \n",
    "import pandas as pd \n"
   ]
  },
  {
   "cell_type": "markdown",
   "metadata": {},
   "source": [
    "### Step 2. Import the dataset from this [address](https://raw.githubusercontent.com/guipsamora/pandas_exercises/master/04_Apply/Students_Alcohol_Consumption/student-mat.csv)."
   ]
  },
  {
   "cell_type": "markdown",
   "metadata": {},
   "source": [
    "### Step 3. Assign it to a variable called df."
   ]
  },
  {
   "cell_type": "code",
   "execution_count": 2,
   "metadata": {
    "collapsed": false,
    "scrolled": false
   },
   "outputs": [
    {
     "data": {
      "text/html": [
       "<div>\n",
       "<table border=\"1\" class=\"dataframe\">\n",
       "  <thead>\n",
       "    <tr style=\"text-align: right;\">\n",
       "      <th></th>\n",
       "      <th>school</th>\n",
       "      <th>sex</th>\n",
       "      <th>age</th>\n",
       "      <th>address</th>\n",
       "      <th>famsize</th>\n",
       "      <th>Pstatus</th>\n",
       "      <th>Medu</th>\n",
       "      <th>Fedu</th>\n",
       "      <th>Mjob</th>\n",
       "      <th>Fjob</th>\n",
       "      <th>...</th>\n",
       "      <th>famrel</th>\n",
       "      <th>freetime</th>\n",
       "      <th>goout</th>\n",
       "      <th>Dalc</th>\n",
       "      <th>Walc</th>\n",
       "      <th>health</th>\n",
       "      <th>absences</th>\n",
       "      <th>G1</th>\n",
       "      <th>G2</th>\n",
       "      <th>G3</th>\n",
       "    </tr>\n",
       "  </thead>\n",
       "  <tbody>\n",
       "    <tr>\n",
       "      <th>0</th>\n",
       "      <td>GP</td>\n",
       "      <td>F</td>\n",
       "      <td>18</td>\n",
       "      <td>U</td>\n",
       "      <td>GT3</td>\n",
       "      <td>A</td>\n",
       "      <td>4</td>\n",
       "      <td>4</td>\n",
       "      <td>at_home</td>\n",
       "      <td>teacher</td>\n",
       "      <td>...</td>\n",
       "      <td>4</td>\n",
       "      <td>3</td>\n",
       "      <td>4</td>\n",
       "      <td>1</td>\n",
       "      <td>1</td>\n",
       "      <td>3</td>\n",
       "      <td>6</td>\n",
       "      <td>5</td>\n",
       "      <td>6</td>\n",
       "      <td>6</td>\n",
       "    </tr>\n",
       "    <tr>\n",
       "      <th>1</th>\n",
       "      <td>GP</td>\n",
       "      <td>F</td>\n",
       "      <td>17</td>\n",
       "      <td>U</td>\n",
       "      <td>GT3</td>\n",
       "      <td>T</td>\n",
       "      <td>1</td>\n",
       "      <td>1</td>\n",
       "      <td>at_home</td>\n",
       "      <td>other</td>\n",
       "      <td>...</td>\n",
       "      <td>5</td>\n",
       "      <td>3</td>\n",
       "      <td>3</td>\n",
       "      <td>1</td>\n",
       "      <td>1</td>\n",
       "      <td>3</td>\n",
       "      <td>4</td>\n",
       "      <td>5</td>\n",
       "      <td>5</td>\n",
       "      <td>6</td>\n",
       "    </tr>\n",
       "    <tr>\n",
       "      <th>2</th>\n",
       "      <td>GP</td>\n",
       "      <td>F</td>\n",
       "      <td>15</td>\n",
       "      <td>U</td>\n",
       "      <td>LE3</td>\n",
       "      <td>T</td>\n",
       "      <td>1</td>\n",
       "      <td>1</td>\n",
       "      <td>at_home</td>\n",
       "      <td>other</td>\n",
       "      <td>...</td>\n",
       "      <td>4</td>\n",
       "      <td>3</td>\n",
       "      <td>2</td>\n",
       "      <td>2</td>\n",
       "      <td>3</td>\n",
       "      <td>3</td>\n",
       "      <td>10</td>\n",
       "      <td>7</td>\n",
       "      <td>8</td>\n",
       "      <td>10</td>\n",
       "    </tr>\n",
       "    <tr>\n",
       "      <th>3</th>\n",
       "      <td>GP</td>\n",
       "      <td>F</td>\n",
       "      <td>15</td>\n",
       "      <td>U</td>\n",
       "      <td>GT3</td>\n",
       "      <td>T</td>\n",
       "      <td>4</td>\n",
       "      <td>2</td>\n",
       "      <td>health</td>\n",
       "      <td>services</td>\n",
       "      <td>...</td>\n",
       "      <td>3</td>\n",
       "      <td>2</td>\n",
       "      <td>2</td>\n",
       "      <td>1</td>\n",
       "      <td>1</td>\n",
       "      <td>5</td>\n",
       "      <td>2</td>\n",
       "      <td>15</td>\n",
       "      <td>14</td>\n",
       "      <td>15</td>\n",
       "    </tr>\n",
       "    <tr>\n",
       "      <th>4</th>\n",
       "      <td>GP</td>\n",
       "      <td>F</td>\n",
       "      <td>16</td>\n",
       "      <td>U</td>\n",
       "      <td>GT3</td>\n",
       "      <td>T</td>\n",
       "      <td>3</td>\n",
       "      <td>3</td>\n",
       "      <td>other</td>\n",
       "      <td>other</td>\n",
       "      <td>...</td>\n",
       "      <td>4</td>\n",
       "      <td>3</td>\n",
       "      <td>2</td>\n",
       "      <td>1</td>\n",
       "      <td>2</td>\n",
       "      <td>5</td>\n",
       "      <td>4</td>\n",
       "      <td>6</td>\n",
       "      <td>10</td>\n",
       "      <td>10</td>\n",
       "    </tr>\n",
       "  </tbody>\n",
       "</table>\n",
       "<p>5 rows × 33 columns</p>\n",
       "</div>"
      ],
      "text/plain": [
       "  school sex  age address famsize Pstatus  Medu  Fedu     Mjob      Fjob ...  \\\n",
       "0     GP   F   18       U     GT3       A     4     4  at_home   teacher ...   \n",
       "1     GP   F   17       U     GT3       T     1     1  at_home     other ...   \n",
       "2     GP   F   15       U     LE3       T     1     1  at_home     other ...   \n",
       "3     GP   F   15       U     GT3       T     4     2   health  services ...   \n",
       "4     GP   F   16       U     GT3       T     3     3    other     other ...   \n",
       "\n",
       "  famrel freetime  goout  Dalc  Walc health absences  G1  G2  G3  \n",
       "0      4        3      4     1     1      3        6   5   6   6  \n",
       "1      5        3      3     1     1      3        4   5   5   6  \n",
       "2      4        3      2     2     3      3       10   7   8  10  \n",
       "3      3        2      2     1     1      5        2  15  14  15  \n",
       "4      4        3      2     1     2      5        4   6  10  10  \n",
       "\n",
       "[5 rows x 33 columns]"
      ]
     },
     "execution_count": 2,
     "metadata": {},
     "output_type": "execute_result"
    }
   ],
   "source": []
  },
  {
   "cell_type": "code",
   "execution_count": 2,
   "metadata": {},
   "outputs": [
    {
     "output_type": "execute_result",
     "data": {
      "text/plain": [
       "    school sex  age address famsize Pstatus  Medu  Fedu      Mjob      Fjob  \\\n",
       "0       GP   F   18       U     GT3       A     4     4   at_home   teacher   \n",
       "1       GP   F   17       U     GT3       T     1     1   at_home     other   \n",
       "2       GP   F   15       U     LE3       T     1     1   at_home     other   \n",
       "3       GP   F   15       U     GT3       T     4     2    health  services   \n",
       "4       GP   F   16       U     GT3       T     3     3     other     other   \n",
       "..     ...  ..  ...     ...     ...     ...   ...   ...       ...       ...   \n",
       "390     MS   M   20       U     LE3       A     2     2  services  services   \n",
       "391     MS   M   17       U     LE3       T     3     1  services  services   \n",
       "392     MS   M   21       R     GT3       T     1     1     other     other   \n",
       "393     MS   M   18       R     LE3       T     3     2  services     other   \n",
       "394     MS   M   19       U     LE3       T     1     1     other   at_home   \n",
       "\n",
       "     ... famrel freetime  goout  Dalc  Walc health absences  G1  G2  G3  \n",
       "0    ...      4        3      4     1     1      3        6   5   6   6  \n",
       "1    ...      5        3      3     1     1      3        4   5   5   6  \n",
       "2    ...      4        3      2     2     3      3       10   7   8  10  \n",
       "3    ...      3        2      2     1     1      5        2  15  14  15  \n",
       "4    ...      4        3      2     1     2      5        4   6  10  10  \n",
       "..   ...    ...      ...    ...   ...   ...    ...      ...  ..  ..  ..  \n",
       "390  ...      5        5      4     4     5      4       11   9   9   9  \n",
       "391  ...      2        4      5     3     4      2        3  14  16  16  \n",
       "392  ...      5        5      3     3     3      3        3  10   8   7  \n",
       "393  ...      4        4      1     3     4      5        0  11  12  10  \n",
       "394  ...      3        2      3     3     3      5        5   8   9   9  \n",
       "\n",
       "[395 rows x 33 columns]"
      ],
      "text/html": "<div>\n<style scoped>\n    .dataframe tbody tr th:only-of-type {\n        vertical-align: middle;\n    }\n\n    .dataframe tbody tr th {\n        vertical-align: top;\n    }\n\n    .dataframe thead th {\n        text-align: right;\n    }\n</style>\n<table border=\"1\" class=\"dataframe\">\n  <thead>\n    <tr style=\"text-align: right;\">\n      <th></th>\n      <th>school</th>\n      <th>sex</th>\n      <th>age</th>\n      <th>address</th>\n      <th>famsize</th>\n      <th>Pstatus</th>\n      <th>Medu</th>\n      <th>Fedu</th>\n      <th>Mjob</th>\n      <th>Fjob</th>\n      <th>...</th>\n      <th>famrel</th>\n      <th>freetime</th>\n      <th>goout</th>\n      <th>Dalc</th>\n      <th>Walc</th>\n      <th>health</th>\n      <th>absences</th>\n      <th>G1</th>\n      <th>G2</th>\n      <th>G3</th>\n    </tr>\n  </thead>\n  <tbody>\n    <tr>\n      <th>0</th>\n      <td>GP</td>\n      <td>F</td>\n      <td>18</td>\n      <td>U</td>\n      <td>GT3</td>\n      <td>A</td>\n      <td>4</td>\n      <td>4</td>\n      <td>at_home</td>\n      <td>teacher</td>\n      <td>...</td>\n      <td>4</td>\n      <td>3</td>\n      <td>4</td>\n      <td>1</td>\n      <td>1</td>\n      <td>3</td>\n      <td>6</td>\n      <td>5</td>\n      <td>6</td>\n      <td>6</td>\n    </tr>\n    <tr>\n      <th>1</th>\n      <td>GP</td>\n      <td>F</td>\n      <td>17</td>\n      <td>U</td>\n      <td>GT3</td>\n      <td>T</td>\n      <td>1</td>\n      <td>1</td>\n      <td>at_home</td>\n      <td>other</td>\n      <td>...</td>\n      <td>5</td>\n      <td>3</td>\n      <td>3</td>\n      <td>1</td>\n      <td>1</td>\n      <td>3</td>\n      <td>4</td>\n      <td>5</td>\n      <td>5</td>\n      <td>6</td>\n    </tr>\n    <tr>\n      <th>2</th>\n      <td>GP</td>\n      <td>F</td>\n      <td>15</td>\n      <td>U</td>\n      <td>LE3</td>\n      <td>T</td>\n      <td>1</td>\n      <td>1</td>\n      <td>at_home</td>\n      <td>other</td>\n      <td>...</td>\n      <td>4</td>\n      <td>3</td>\n      <td>2</td>\n      <td>2</td>\n      <td>3</td>\n      <td>3</td>\n      <td>10</td>\n      <td>7</td>\n      <td>8</td>\n      <td>10</td>\n    </tr>\n    <tr>\n      <th>3</th>\n      <td>GP</td>\n      <td>F</td>\n      <td>15</td>\n      <td>U</td>\n      <td>GT3</td>\n      <td>T</td>\n      <td>4</td>\n      <td>2</td>\n      <td>health</td>\n      <td>services</td>\n      <td>...</td>\n      <td>3</td>\n      <td>2</td>\n      <td>2</td>\n      <td>1</td>\n      <td>1</td>\n      <td>5</td>\n      <td>2</td>\n      <td>15</td>\n      <td>14</td>\n      <td>15</td>\n    </tr>\n    <tr>\n      <th>4</th>\n      <td>GP</td>\n      <td>F</td>\n      <td>16</td>\n      <td>U</td>\n      <td>GT3</td>\n      <td>T</td>\n      <td>3</td>\n      <td>3</td>\n      <td>other</td>\n      <td>other</td>\n      <td>...</td>\n      <td>4</td>\n      <td>3</td>\n      <td>2</td>\n      <td>1</td>\n      <td>2</td>\n      <td>5</td>\n      <td>4</td>\n      <td>6</td>\n      <td>10</td>\n      <td>10</td>\n    </tr>\n    <tr>\n      <th>...</th>\n      <td>...</td>\n      <td>...</td>\n      <td>...</td>\n      <td>...</td>\n      <td>...</td>\n      <td>...</td>\n      <td>...</td>\n      <td>...</td>\n      <td>...</td>\n      <td>...</td>\n      <td>...</td>\n      <td>...</td>\n      <td>...</td>\n      <td>...</td>\n      <td>...</td>\n      <td>...</td>\n      <td>...</td>\n      <td>...</td>\n      <td>...</td>\n      <td>...</td>\n      <td>...</td>\n    </tr>\n    <tr>\n      <th>390</th>\n      <td>MS</td>\n      <td>M</td>\n      <td>20</td>\n      <td>U</td>\n      <td>LE3</td>\n      <td>A</td>\n      <td>2</td>\n      <td>2</td>\n      <td>services</td>\n      <td>services</td>\n      <td>...</td>\n      <td>5</td>\n      <td>5</td>\n      <td>4</td>\n      <td>4</td>\n      <td>5</td>\n      <td>4</td>\n      <td>11</td>\n      <td>9</td>\n      <td>9</td>\n      <td>9</td>\n    </tr>\n    <tr>\n      <th>391</th>\n      <td>MS</td>\n      <td>M</td>\n      <td>17</td>\n      <td>U</td>\n      <td>LE3</td>\n      <td>T</td>\n      <td>3</td>\n      <td>1</td>\n      <td>services</td>\n      <td>services</td>\n      <td>...</td>\n      <td>2</td>\n      <td>4</td>\n      <td>5</td>\n      <td>3</td>\n      <td>4</td>\n      <td>2</td>\n      <td>3</td>\n      <td>14</td>\n      <td>16</td>\n      <td>16</td>\n    </tr>\n    <tr>\n      <th>392</th>\n      <td>MS</td>\n      <td>M</td>\n      <td>21</td>\n      <td>R</td>\n      <td>GT3</td>\n      <td>T</td>\n      <td>1</td>\n      <td>1</td>\n      <td>other</td>\n      <td>other</td>\n      <td>...</td>\n      <td>5</td>\n      <td>5</td>\n      <td>3</td>\n      <td>3</td>\n      <td>3</td>\n      <td>3</td>\n      <td>3</td>\n      <td>10</td>\n      <td>8</td>\n      <td>7</td>\n    </tr>\n    <tr>\n      <th>393</th>\n      <td>MS</td>\n      <td>M</td>\n      <td>18</td>\n      <td>R</td>\n      <td>LE3</td>\n      <td>T</td>\n      <td>3</td>\n      <td>2</td>\n      <td>services</td>\n      <td>other</td>\n      <td>...</td>\n      <td>4</td>\n      <td>4</td>\n      <td>1</td>\n      <td>3</td>\n      <td>4</td>\n      <td>5</td>\n      <td>0</td>\n      <td>11</td>\n      <td>12</td>\n      <td>10</td>\n    </tr>\n    <tr>\n      <th>394</th>\n      <td>MS</td>\n      <td>M</td>\n      <td>19</td>\n      <td>U</td>\n      <td>LE3</td>\n      <td>T</td>\n      <td>1</td>\n      <td>1</td>\n      <td>other</td>\n      <td>at_home</td>\n      <td>...</td>\n      <td>3</td>\n      <td>2</td>\n      <td>3</td>\n      <td>3</td>\n      <td>3</td>\n      <td>5</td>\n      <td>5</td>\n      <td>8</td>\n      <td>9</td>\n      <td>9</td>\n    </tr>\n  </tbody>\n</table>\n<p>395 rows × 33 columns</p>\n</div>"
     },
     "metadata": {},
     "execution_count": 2
    }
   ],
   "source": [
    "df = pd.read_csv(\"https://raw.githubusercontent.com/guipsamora/pandas_exercises/master/04_Apply/Students_Alcohol_Consumption/student-mat.csv\", sep = \",\")\n",
    "df"
   ]
  },
  {
   "cell_type": "markdown",
   "metadata": {},
   "source": [
    "### Step 4. For the purpose of this exercise slice the dataframe from 'school' until the 'guardian' column"
   ]
  },
  {
   "cell_type": "code",
   "execution_count": 3,
   "metadata": {
    "collapsed": false
   },
   "outputs": [
    {
     "data": {
      "text/html": [
       "<div>\n",
       "<table border=\"1\" class=\"dataframe\">\n",
       "  <thead>\n",
       "    <tr style=\"text-align: right;\">\n",
       "      <th></th>\n",
       "      <th>school</th>\n",
       "      <th>sex</th>\n",
       "      <th>age</th>\n",
       "      <th>address</th>\n",
       "      <th>famsize</th>\n",
       "      <th>Pstatus</th>\n",
       "      <th>Medu</th>\n",
       "      <th>Fedu</th>\n",
       "      <th>Mjob</th>\n",
       "      <th>Fjob</th>\n",
       "      <th>reason</th>\n",
       "      <th>guardian</th>\n",
       "    </tr>\n",
       "  </thead>\n",
       "  <tbody>\n",
       "    <tr>\n",
       "      <th>0</th>\n",
       "      <td>GP</td>\n",
       "      <td>F</td>\n",
       "      <td>18</td>\n",
       "      <td>U</td>\n",
       "      <td>GT3</td>\n",
       "      <td>A</td>\n",
       "      <td>4</td>\n",
       "      <td>4</td>\n",
       "      <td>at_home</td>\n",
       "      <td>teacher</td>\n",
       "      <td>course</td>\n",
       "      <td>mother</td>\n",
       "    </tr>\n",
       "    <tr>\n",
       "      <th>1</th>\n",
       "      <td>GP</td>\n",
       "      <td>F</td>\n",
       "      <td>17</td>\n",
       "      <td>U</td>\n",
       "      <td>GT3</td>\n",
       "      <td>T</td>\n",
       "      <td>1</td>\n",
       "      <td>1</td>\n",
       "      <td>at_home</td>\n",
       "      <td>other</td>\n",
       "      <td>course</td>\n",
       "      <td>father</td>\n",
       "    </tr>\n",
       "    <tr>\n",
       "      <th>2</th>\n",
       "      <td>GP</td>\n",
       "      <td>F</td>\n",
       "      <td>15</td>\n",
       "      <td>U</td>\n",
       "      <td>LE3</td>\n",
       "      <td>T</td>\n",
       "      <td>1</td>\n",
       "      <td>1</td>\n",
       "      <td>at_home</td>\n",
       "      <td>other</td>\n",
       "      <td>other</td>\n",
       "      <td>mother</td>\n",
       "    </tr>\n",
       "    <tr>\n",
       "      <th>3</th>\n",
       "      <td>GP</td>\n",
       "      <td>F</td>\n",
       "      <td>15</td>\n",
       "      <td>U</td>\n",
       "      <td>GT3</td>\n",
       "      <td>T</td>\n",
       "      <td>4</td>\n",
       "      <td>2</td>\n",
       "      <td>health</td>\n",
       "      <td>services</td>\n",
       "      <td>home</td>\n",
       "      <td>mother</td>\n",
       "    </tr>\n",
       "    <tr>\n",
       "      <th>4</th>\n",
       "      <td>GP</td>\n",
       "      <td>F</td>\n",
       "      <td>16</td>\n",
       "      <td>U</td>\n",
       "      <td>GT3</td>\n",
       "      <td>T</td>\n",
       "      <td>3</td>\n",
       "      <td>3</td>\n",
       "      <td>other</td>\n",
       "      <td>other</td>\n",
       "      <td>home</td>\n",
       "      <td>father</td>\n",
       "    </tr>\n",
       "  </tbody>\n",
       "</table>\n",
       "</div>"
      ],
      "text/plain": [
       "  school sex  age address famsize Pstatus  Medu  Fedu     Mjob      Fjob  \\\n",
       "0     GP   F   18       U     GT3       A     4     4  at_home   teacher   \n",
       "1     GP   F   17       U     GT3       T     1     1  at_home     other   \n",
       "2     GP   F   15       U     LE3       T     1     1  at_home     other   \n",
       "3     GP   F   15       U     GT3       T     4     2   health  services   \n",
       "4     GP   F   16       U     GT3       T     3     3    other     other   \n",
       "\n",
       "   reason guardian  \n",
       "0  course   mother  \n",
       "1  course   father  \n",
       "2   other   mother  \n",
       "3    home   mother  \n",
       "4    home   father  "
      ]
     },
     "execution_count": 3,
     "metadata": {},
     "output_type": "execute_result"
    }
   ],
   "source": []
  },
  {
   "cell_type": "code",
   "execution_count": 3,
   "metadata": {},
   "outputs": [
    {
     "output_type": "execute_result",
     "data": {
      "text/plain": [
       "    school guardian\n",
       "0       GP   mother\n",
       "1       GP   father\n",
       "2       GP   mother\n",
       "3       GP   mother\n",
       "4       GP   father\n",
       "..     ...      ...\n",
       "390     MS    other\n",
       "391     MS   mother\n",
       "392     MS    other\n",
       "393     MS   mother\n",
       "394     MS   father\n",
       "\n",
       "[395 rows x 2 columns]"
      ],
      "text/html": "<div>\n<style scoped>\n    .dataframe tbody tr th:only-of-type {\n        vertical-align: middle;\n    }\n\n    .dataframe tbody tr th {\n        vertical-align: top;\n    }\n\n    .dataframe thead th {\n        text-align: right;\n    }\n</style>\n<table border=\"1\" class=\"dataframe\">\n  <thead>\n    <tr style=\"text-align: right;\">\n      <th></th>\n      <th>school</th>\n      <th>guardian</th>\n    </tr>\n  </thead>\n  <tbody>\n    <tr>\n      <th>0</th>\n      <td>GP</td>\n      <td>mother</td>\n    </tr>\n    <tr>\n      <th>1</th>\n      <td>GP</td>\n      <td>father</td>\n    </tr>\n    <tr>\n      <th>2</th>\n      <td>GP</td>\n      <td>mother</td>\n    </tr>\n    <tr>\n      <th>3</th>\n      <td>GP</td>\n      <td>mother</td>\n    </tr>\n    <tr>\n      <th>4</th>\n      <td>GP</td>\n      <td>father</td>\n    </tr>\n    <tr>\n      <th>...</th>\n      <td>...</td>\n      <td>...</td>\n    </tr>\n    <tr>\n      <th>390</th>\n      <td>MS</td>\n      <td>other</td>\n    </tr>\n    <tr>\n      <th>391</th>\n      <td>MS</td>\n      <td>mother</td>\n    </tr>\n    <tr>\n      <th>392</th>\n      <td>MS</td>\n      <td>other</td>\n    </tr>\n    <tr>\n      <th>393</th>\n      <td>MS</td>\n      <td>mother</td>\n    </tr>\n    <tr>\n      <th>394</th>\n      <td>MS</td>\n      <td>father</td>\n    </tr>\n  </tbody>\n</table>\n<p>395 rows × 2 columns</p>\n</div>"
     },
     "metadata": {},
     "execution_count": 3
    }
   ],
   "source": [
    "#Intento 1\n",
    "df[[\"school\",\"guardian\"]]"
   ]
  },
  {
   "cell_type": "code",
   "execution_count": 4,
   "metadata": {},
   "outputs": [
    {
     "output_type": "execute_result",
     "data": {
      "text/plain": [
       "    school sex  age address famsize Pstatus  Medu  Fedu      Mjob      Fjob  \\\n",
       "0       GP   F   18       U     GT3       A     4     4   at_home   teacher   \n",
       "1       GP   F   17       U     GT3       T     1     1   at_home     other   \n",
       "2       GP   F   15       U     LE3       T     1     1   at_home     other   \n",
       "3       GP   F   15       U     GT3       T     4     2    health  services   \n",
       "4       GP   F   16       U     GT3       T     3     3     other     other   \n",
       "..     ...  ..  ...     ...     ...     ...   ...   ...       ...       ...   \n",
       "390     MS   M   20       U     LE3       A     2     2  services  services   \n",
       "391     MS   M   17       U     LE3       T     3     1  services  services   \n",
       "392     MS   M   21       R     GT3       T     1     1     other     other   \n",
       "393     MS   M   18       R     LE3       T     3     2  services     other   \n",
       "394     MS   M   19       U     LE3       T     1     1     other   at_home   \n",
       "\n",
       "     reason guardian  \n",
       "0    course   mother  \n",
       "1    course   father  \n",
       "2     other   mother  \n",
       "3      home   mother  \n",
       "4      home   father  \n",
       "..      ...      ...  \n",
       "390  course    other  \n",
       "391  course   mother  \n",
       "392  course    other  \n",
       "393  course   mother  \n",
       "394  course   father  \n",
       "\n",
       "[395 rows x 12 columns]"
      ],
      "text/html": "<div>\n<style scoped>\n    .dataframe tbody tr th:only-of-type {\n        vertical-align: middle;\n    }\n\n    .dataframe tbody tr th {\n        vertical-align: top;\n    }\n\n    .dataframe thead th {\n        text-align: right;\n    }\n</style>\n<table border=\"1\" class=\"dataframe\">\n  <thead>\n    <tr style=\"text-align: right;\">\n      <th></th>\n      <th>school</th>\n      <th>sex</th>\n      <th>age</th>\n      <th>address</th>\n      <th>famsize</th>\n      <th>Pstatus</th>\n      <th>Medu</th>\n      <th>Fedu</th>\n      <th>Mjob</th>\n      <th>Fjob</th>\n      <th>reason</th>\n      <th>guardian</th>\n    </tr>\n  </thead>\n  <tbody>\n    <tr>\n      <th>0</th>\n      <td>GP</td>\n      <td>F</td>\n      <td>18</td>\n      <td>U</td>\n      <td>GT3</td>\n      <td>A</td>\n      <td>4</td>\n      <td>4</td>\n      <td>at_home</td>\n      <td>teacher</td>\n      <td>course</td>\n      <td>mother</td>\n    </tr>\n    <tr>\n      <th>1</th>\n      <td>GP</td>\n      <td>F</td>\n      <td>17</td>\n      <td>U</td>\n      <td>GT3</td>\n      <td>T</td>\n      <td>1</td>\n      <td>1</td>\n      <td>at_home</td>\n      <td>other</td>\n      <td>course</td>\n      <td>father</td>\n    </tr>\n    <tr>\n      <th>2</th>\n      <td>GP</td>\n      <td>F</td>\n      <td>15</td>\n      <td>U</td>\n      <td>LE3</td>\n      <td>T</td>\n      <td>1</td>\n      <td>1</td>\n      <td>at_home</td>\n      <td>other</td>\n      <td>other</td>\n      <td>mother</td>\n    </tr>\n    <tr>\n      <th>3</th>\n      <td>GP</td>\n      <td>F</td>\n      <td>15</td>\n      <td>U</td>\n      <td>GT3</td>\n      <td>T</td>\n      <td>4</td>\n      <td>2</td>\n      <td>health</td>\n      <td>services</td>\n      <td>home</td>\n      <td>mother</td>\n    </tr>\n    <tr>\n      <th>4</th>\n      <td>GP</td>\n      <td>F</td>\n      <td>16</td>\n      <td>U</td>\n      <td>GT3</td>\n      <td>T</td>\n      <td>3</td>\n      <td>3</td>\n      <td>other</td>\n      <td>other</td>\n      <td>home</td>\n      <td>father</td>\n    </tr>\n    <tr>\n      <th>...</th>\n      <td>...</td>\n      <td>...</td>\n      <td>...</td>\n      <td>...</td>\n      <td>...</td>\n      <td>...</td>\n      <td>...</td>\n      <td>...</td>\n      <td>...</td>\n      <td>...</td>\n      <td>...</td>\n      <td>...</td>\n    </tr>\n    <tr>\n      <th>390</th>\n      <td>MS</td>\n      <td>M</td>\n      <td>20</td>\n      <td>U</td>\n      <td>LE3</td>\n      <td>A</td>\n      <td>2</td>\n      <td>2</td>\n      <td>services</td>\n      <td>services</td>\n      <td>course</td>\n      <td>other</td>\n    </tr>\n    <tr>\n      <th>391</th>\n      <td>MS</td>\n      <td>M</td>\n      <td>17</td>\n      <td>U</td>\n      <td>LE3</td>\n      <td>T</td>\n      <td>3</td>\n      <td>1</td>\n      <td>services</td>\n      <td>services</td>\n      <td>course</td>\n      <td>mother</td>\n    </tr>\n    <tr>\n      <th>392</th>\n      <td>MS</td>\n      <td>M</td>\n      <td>21</td>\n      <td>R</td>\n      <td>GT3</td>\n      <td>T</td>\n      <td>1</td>\n      <td>1</td>\n      <td>other</td>\n      <td>other</td>\n      <td>course</td>\n      <td>other</td>\n    </tr>\n    <tr>\n      <th>393</th>\n      <td>MS</td>\n      <td>M</td>\n      <td>18</td>\n      <td>R</td>\n      <td>LE3</td>\n      <td>T</td>\n      <td>3</td>\n      <td>2</td>\n      <td>services</td>\n      <td>other</td>\n      <td>course</td>\n      <td>mother</td>\n    </tr>\n    <tr>\n      <th>394</th>\n      <td>MS</td>\n      <td>M</td>\n      <td>19</td>\n      <td>U</td>\n      <td>LE3</td>\n      <td>T</td>\n      <td>1</td>\n      <td>1</td>\n      <td>other</td>\n      <td>at_home</td>\n      <td>course</td>\n      <td>father</td>\n    </tr>\n  </tbody>\n</table>\n<p>395 rows × 12 columns</p>\n</div>"
     },
     "metadata": {},
     "execution_count": 4
    }
   ],
   "source": [
    "#Intento 2\n",
    "df.iloc[:,0:12]"
   ]
  },
  {
   "cell_type": "markdown",
   "metadata": {},
   "source": [
    "### Step 5. Create a lambda function that will capitalize strings."
   ]
  },
  {
   "cell_type": "code",
   "execution_count": 5,
   "metadata": {
    "collapsed": false
   },
   "outputs": [
    {
     "output_type": "execute_result",
     "data": {
      "text/plain": [
       "'MARIA'"
      ]
     },
     "metadata": {},
     "execution_count": 5
    }
   ],
   "source": [
    "#Intento 1\n",
    "capitalizer = lambda x: x.upper()\n",
    "capitalizer(\"maria\")"
   ]
  },
  {
   "cell_type": "code",
   "execution_count": 6,
   "metadata": {},
   "outputs": [
    {
     "output_type": "execute_result",
     "data": {
      "text/plain": [
       "'Maria'"
      ]
     },
     "metadata": {},
     "execution_count": 6
    }
   ],
   "source": [
    "#Intento 2\n",
    "convert = lambda string: str(string[0].upper()) + str(string[1:])\n",
    "\n",
    "convert(\"maria\")"
   ]
  },
  {
   "cell_type": "markdown",
   "metadata": {},
   "source": [
    "### Step 6. Capitalize both Mjob and Fjob"
   ]
  },
  {
   "cell_type": "code",
   "execution_count": 11,
   "metadata": {
    "collapsed": false
   },
   "outputs": [
    {
     "data": {
      "text/plain": [
       "0       Teacher\n",
       "1         Other\n",
       "2         Other\n",
       "3      Services\n",
       "4         Other\n",
       "5         Other\n",
       "6         Other\n",
       "7       Teacher\n",
       "8         Other\n",
       "9         Other\n",
       "10       Health\n",
       "11        Other\n",
       "12     Services\n",
       "13        Other\n",
       "14        Other\n",
       "15        Other\n",
       "16     Services\n",
       "17        Other\n",
       "18     Services\n",
       "19        Other\n",
       "20        Other\n",
       "21       Health\n",
       "22        Other\n",
       "23        Other\n",
       "24       Health\n",
       "25     Services\n",
       "26        Other\n",
       "27     Services\n",
       "28        Other\n",
       "29      Teacher\n",
       "         ...   \n",
       "365       Other\n",
       "366    Services\n",
       "367    Services\n",
       "368    Services\n",
       "369     Teacher\n",
       "370    Services\n",
       "371    Services\n",
       "372     At_home\n",
       "373       Other\n",
       "374       Other\n",
       "375       Other\n",
       "376       Other\n",
       "377    Services\n",
       "378       Other\n",
       "379       Other\n",
       "380     Teacher\n",
       "381       Other\n",
       "382    Services\n",
       "383    Services\n",
       "384       Other\n",
       "385       Other\n",
       "386     At_home\n",
       "387       Other\n",
       "388    Services\n",
       "389       Other\n",
       "390    Services\n",
       "391    Services\n",
       "392       Other\n",
       "393       Other\n",
       "394     At_home\n",
       "Name: Fjob, dtype: object"
      ]
     },
     "execution_count": 11,
     "metadata": {},
     "output_type": "execute_result"
    }
   ],
   "source": []
  },
  {
   "cell_type": "code",
   "execution_count": 7,
   "metadata": {},
   "outputs": [
    {
     "output_type": "execute_result",
     "data": {
      "text/plain": [
       "'TEACHER1         other\\n2         other\\n3      services\\n4         other\\n5         other\\n         ...   \\n390    services\\n391    services\\n392       other\\n393       other\\n394     at_home\\nName: Fjob, Length: 394, dtype: object'"
      ]
     },
     "metadata": {},
     "execution_count": 7
    }
   ],
   "source": [
    "#Intento 1\n",
    "convert(df[\"Fjob\"])"
   ]
  },
  {
   "cell_type": "code",
   "execution_count": 8,
   "metadata": {},
   "outputs": [
    {
     "output_type": "execute_result",
     "data": {
      "text/plain": [
       "pandas.core.series.Series"
      ]
     },
     "metadata": {},
     "execution_count": 8
    }
   ],
   "source": [
    "type(df[\"Fjob\"])"
   ]
  },
  {
   "cell_type": "code",
   "execution_count": 9,
   "metadata": {},
   "outputs": [
    {
     "output_type": "error",
     "ename": "TypeError",
     "evalue": "<lambda>() missing 1 required positional argument: 'string'",
     "traceback": [
      "\u001b[1;31m---------------------------------------------------------------------------\u001b[0m",
      "\u001b[1;31mTypeError\u001b[0m                                 Traceback (most recent call last)",
      "\u001b[1;32m<ipython-input-9-c5853cf8eddb>\u001b[0m in \u001b[0;36m<module>\u001b[1;34m\u001b[0m\n\u001b[0;32m      1\u001b[0m \u001b[1;31m#Intento 2\u001b[0m\u001b[1;33m\u001b[0m\u001b[1;33m\u001b[0m\u001b[1;33m\u001b[0m\u001b[0m\n\u001b[1;32m----> 2\u001b[1;33m \u001b[0mdf\u001b[0m\u001b[1;33m[\u001b[0m\u001b[1;34m'Fjob'\u001b[0m\u001b[1;33m]\u001b[0m\u001b[1;33m.\u001b[0m\u001b[0mapply\u001b[0m\u001b[1;33m(\u001b[0m\u001b[0mconvert\u001b[0m\u001b[1;33m(\u001b[0m\u001b[1;33m)\u001b[0m\u001b[1;33m)\u001b[0m\u001b[1;33m\u001b[0m\u001b[1;33m\u001b[0m\u001b[0m\n\u001b[0m",
      "\u001b[1;31mTypeError\u001b[0m: <lambda>() missing 1 required positional argument: 'string'"
     ]
    }
   ],
   "source": [
    "#Intento 2\n",
    "df['Fjob'].apply(convert())"
   ]
  },
  {
   "cell_type": "code",
   "execution_count": 10,
   "metadata": {},
   "outputs": [
    {
     "output_type": "execute_result",
     "data": {
      "text/plain": [
       "0       Teacher\n",
       "1         Other\n",
       "2         Other\n",
       "3      Services\n",
       "4         Other\n",
       "         ...   \n",
       "390    Services\n",
       "391    Services\n",
       "392       Other\n",
       "393       Other\n",
       "394     At_home\n",
       "Name: Fjob, Length: 395, dtype: object"
      ]
     },
     "metadata": {},
     "execution_count": 10
    }
   ],
   "source": [
    "#Intento 3\n",
    "df['Fjob'].apply(lambda string: string[0].upper() + string[1:])"
   ]
  },
  {
   "cell_type": "code",
   "execution_count": 11,
   "metadata": {},
   "outputs": [
    {
     "output_type": "execute_result",
     "data": {
      "text/plain": [
       "0       At_home\n",
       "1       At_home\n",
       "2       At_home\n",
       "3        Health\n",
       "4         Other\n",
       "         ...   \n",
       "390    Services\n",
       "391    Services\n",
       "392       Other\n",
       "393    Services\n",
       "394       Other\n",
       "Name: Mjob, Length: 395, dtype: object"
      ]
     },
     "metadata": {},
     "execution_count": 11
    }
   ],
   "source": [
    "df['Mjob'].apply(lambda string: string[0].upper() + string[1:])"
   ]
  },
  {
   "cell_type": "markdown",
   "metadata": {},
   "source": [
    "### Step 7. Print the last elements of the data set."
   ]
  },
  {
   "cell_type": "code",
   "execution_count": 12,
   "metadata": {
    "collapsed": false
   },
   "outputs": [
    {
     "data": {
      "text/html": [
       "<div>\n",
       "<table border=\"1\" class=\"dataframe\">\n",
       "  <thead>\n",
       "    <tr style=\"text-align: right;\">\n",
       "      <th></th>\n",
       "      <th>school</th>\n",
       "      <th>sex</th>\n",
       "      <th>age</th>\n",
       "      <th>address</th>\n",
       "      <th>famsize</th>\n",
       "      <th>Pstatus</th>\n",
       "      <th>Medu</th>\n",
       "      <th>Fedu</th>\n",
       "      <th>Mjob</th>\n",
       "      <th>Fjob</th>\n",
       "      <th>reason</th>\n",
       "      <th>guardian</th>\n",
       "    </tr>\n",
       "  </thead>\n",
       "  <tbody>\n",
       "    <tr>\n",
       "      <th>390</th>\n",
       "      <td>MS</td>\n",
       "      <td>M</td>\n",
       "      <td>20</td>\n",
       "      <td>U</td>\n",
       "      <td>LE3</td>\n",
       "      <td>A</td>\n",
       "      <td>2</td>\n",
       "      <td>2</td>\n",
       "      <td>services</td>\n",
       "      <td>services</td>\n",
       "      <td>course</td>\n",
       "      <td>other</td>\n",
       "    </tr>\n",
       "    <tr>\n",
       "      <th>391</th>\n",
       "      <td>MS</td>\n",
       "      <td>M</td>\n",
       "      <td>17</td>\n",
       "      <td>U</td>\n",
       "      <td>LE3</td>\n",
       "      <td>T</td>\n",
       "      <td>3</td>\n",
       "      <td>1</td>\n",
       "      <td>services</td>\n",
       "      <td>services</td>\n",
       "      <td>course</td>\n",
       "      <td>mother</td>\n",
       "    </tr>\n",
       "    <tr>\n",
       "      <th>392</th>\n",
       "      <td>MS</td>\n",
       "      <td>M</td>\n",
       "      <td>21</td>\n",
       "      <td>R</td>\n",
       "      <td>GT3</td>\n",
       "      <td>T</td>\n",
       "      <td>1</td>\n",
       "      <td>1</td>\n",
       "      <td>other</td>\n",
       "      <td>other</td>\n",
       "      <td>course</td>\n",
       "      <td>other</td>\n",
       "    </tr>\n",
       "    <tr>\n",
       "      <th>393</th>\n",
       "      <td>MS</td>\n",
       "      <td>M</td>\n",
       "      <td>18</td>\n",
       "      <td>R</td>\n",
       "      <td>LE3</td>\n",
       "      <td>T</td>\n",
       "      <td>3</td>\n",
       "      <td>2</td>\n",
       "      <td>services</td>\n",
       "      <td>other</td>\n",
       "      <td>course</td>\n",
       "      <td>mother</td>\n",
       "    </tr>\n",
       "    <tr>\n",
       "      <th>394</th>\n",
       "      <td>MS</td>\n",
       "      <td>M</td>\n",
       "      <td>19</td>\n",
       "      <td>U</td>\n",
       "      <td>LE3</td>\n",
       "      <td>T</td>\n",
       "      <td>1</td>\n",
       "      <td>1</td>\n",
       "      <td>other</td>\n",
       "      <td>at_home</td>\n",
       "      <td>course</td>\n",
       "      <td>father</td>\n",
       "    </tr>\n",
       "  </tbody>\n",
       "</table>\n",
       "</div>"
      ],
      "text/plain": [
       "    school sex  age address famsize Pstatus  Medu  Fedu      Mjob      Fjob  \\\n",
       "390     MS   M   20       U     LE3       A     2     2  services  services   \n",
       "391     MS   M   17       U     LE3       T     3     1  services  services   \n",
       "392     MS   M   21       R     GT3       T     1     1     other     other   \n",
       "393     MS   M   18       R     LE3       T     3     2  services     other   \n",
       "394     MS   M   19       U     LE3       T     1     1     other   at_home   \n",
       "\n",
       "     reason guardian  \n",
       "390  course    other  \n",
       "391  course   mother  \n",
       "392  course    other  \n",
       "393  course   mother  \n",
       "394  course   father  "
      ]
     },
     "execution_count": 12,
     "metadata": {},
     "output_type": "execute_result"
    }
   ],
   "source": []
  },
  {
   "cell_type": "code",
   "execution_count": 12,
   "metadata": {},
   "outputs": [
    {
     "output_type": "execute_result",
     "data": {
      "text/plain": [
       "    school sex  age address famsize Pstatus  Medu  Fedu      Mjob      Fjob  \\\n",
       "390     MS   M   20       U     LE3       A     2     2  services  services   \n",
       "391     MS   M   17       U     LE3       T     3     1  services  services   \n",
       "392     MS   M   21       R     GT3       T     1     1     other     other   \n",
       "393     MS   M   18       R     LE3       T     3     2  services     other   \n",
       "394     MS   M   19       U     LE3       T     1     1     other   at_home   \n",
       "\n",
       "     ... famrel freetime  goout  Dalc  Walc health absences  G1  G2  G3  \n",
       "390  ...      5        5      4     4     5      4       11   9   9   9  \n",
       "391  ...      2        4      5     3     4      2        3  14  16  16  \n",
       "392  ...      5        5      3     3     3      3        3  10   8   7  \n",
       "393  ...      4        4      1     3     4      5        0  11  12  10  \n",
       "394  ...      3        2      3     3     3      5        5   8   9   9  \n",
       "\n",
       "[5 rows x 33 columns]"
      ],
      "text/html": "<div>\n<style scoped>\n    .dataframe tbody tr th:only-of-type {\n        vertical-align: middle;\n    }\n\n    .dataframe tbody tr th {\n        vertical-align: top;\n    }\n\n    .dataframe thead th {\n        text-align: right;\n    }\n</style>\n<table border=\"1\" class=\"dataframe\">\n  <thead>\n    <tr style=\"text-align: right;\">\n      <th></th>\n      <th>school</th>\n      <th>sex</th>\n      <th>age</th>\n      <th>address</th>\n      <th>famsize</th>\n      <th>Pstatus</th>\n      <th>Medu</th>\n      <th>Fedu</th>\n      <th>Mjob</th>\n      <th>Fjob</th>\n      <th>...</th>\n      <th>famrel</th>\n      <th>freetime</th>\n      <th>goout</th>\n      <th>Dalc</th>\n      <th>Walc</th>\n      <th>health</th>\n      <th>absences</th>\n      <th>G1</th>\n      <th>G2</th>\n      <th>G3</th>\n    </tr>\n  </thead>\n  <tbody>\n    <tr>\n      <th>390</th>\n      <td>MS</td>\n      <td>M</td>\n      <td>20</td>\n      <td>U</td>\n      <td>LE3</td>\n      <td>A</td>\n      <td>2</td>\n      <td>2</td>\n      <td>services</td>\n      <td>services</td>\n      <td>...</td>\n      <td>5</td>\n      <td>5</td>\n      <td>4</td>\n      <td>4</td>\n      <td>5</td>\n      <td>4</td>\n      <td>11</td>\n      <td>9</td>\n      <td>9</td>\n      <td>9</td>\n    </tr>\n    <tr>\n      <th>391</th>\n      <td>MS</td>\n      <td>M</td>\n      <td>17</td>\n      <td>U</td>\n      <td>LE3</td>\n      <td>T</td>\n      <td>3</td>\n      <td>1</td>\n      <td>services</td>\n      <td>services</td>\n      <td>...</td>\n      <td>2</td>\n      <td>4</td>\n      <td>5</td>\n      <td>3</td>\n      <td>4</td>\n      <td>2</td>\n      <td>3</td>\n      <td>14</td>\n      <td>16</td>\n      <td>16</td>\n    </tr>\n    <tr>\n      <th>392</th>\n      <td>MS</td>\n      <td>M</td>\n      <td>21</td>\n      <td>R</td>\n      <td>GT3</td>\n      <td>T</td>\n      <td>1</td>\n      <td>1</td>\n      <td>other</td>\n      <td>other</td>\n      <td>...</td>\n      <td>5</td>\n      <td>5</td>\n      <td>3</td>\n      <td>3</td>\n      <td>3</td>\n      <td>3</td>\n      <td>3</td>\n      <td>10</td>\n      <td>8</td>\n      <td>7</td>\n    </tr>\n    <tr>\n      <th>393</th>\n      <td>MS</td>\n      <td>M</td>\n      <td>18</td>\n      <td>R</td>\n      <td>LE3</td>\n      <td>T</td>\n      <td>3</td>\n      <td>2</td>\n      <td>services</td>\n      <td>other</td>\n      <td>...</td>\n      <td>4</td>\n      <td>4</td>\n      <td>1</td>\n      <td>3</td>\n      <td>4</td>\n      <td>5</td>\n      <td>0</td>\n      <td>11</td>\n      <td>12</td>\n      <td>10</td>\n    </tr>\n    <tr>\n      <th>394</th>\n      <td>MS</td>\n      <td>M</td>\n      <td>19</td>\n      <td>U</td>\n      <td>LE3</td>\n      <td>T</td>\n      <td>1</td>\n      <td>1</td>\n      <td>other</td>\n      <td>at_home</td>\n      <td>...</td>\n      <td>3</td>\n      <td>2</td>\n      <td>3</td>\n      <td>3</td>\n      <td>3</td>\n      <td>5</td>\n      <td>5</td>\n      <td>8</td>\n      <td>9</td>\n      <td>9</td>\n    </tr>\n  </tbody>\n</table>\n<p>5 rows × 33 columns</p>\n</div>"
     },
     "metadata": {},
     "execution_count": 12
    }
   ],
   "source": [
    "df.tail()"
   ]
  },
  {
   "cell_type": "markdown",
   "metadata": {},
   "source": [
    "### Step 8. Did you notice the original dataframe is still lowercase? Why is that? Fix it and capitalize Mjob and Fjob."
   ]
  },
  {
   "cell_type": "code",
   "execution_count": 13,
   "metadata": {
    "collapsed": false
   },
   "outputs": [
    {
     "data": {
      "text/html": [
       "<div>\n",
       "<table border=\"1\" class=\"dataframe\">\n",
       "  <thead>\n",
       "    <tr style=\"text-align: right;\">\n",
       "      <th></th>\n",
       "      <th>school</th>\n",
       "      <th>sex</th>\n",
       "      <th>age</th>\n",
       "      <th>address</th>\n",
       "      <th>famsize</th>\n",
       "      <th>Pstatus</th>\n",
       "      <th>Medu</th>\n",
       "      <th>Fedu</th>\n",
       "      <th>Mjob</th>\n",
       "      <th>Fjob</th>\n",
       "      <th>reason</th>\n",
       "      <th>guardian</th>\n",
       "    </tr>\n",
       "  </thead>\n",
       "  <tbody>\n",
       "    <tr>\n",
       "      <th>390</th>\n",
       "      <td>MS</td>\n",
       "      <td>M</td>\n",
       "      <td>20</td>\n",
       "      <td>U</td>\n",
       "      <td>LE3</td>\n",
       "      <td>A</td>\n",
       "      <td>2</td>\n",
       "      <td>2</td>\n",
       "      <td>Services</td>\n",
       "      <td>Services</td>\n",
       "      <td>course</td>\n",
       "      <td>other</td>\n",
       "    </tr>\n",
       "    <tr>\n",
       "      <th>391</th>\n",
       "      <td>MS</td>\n",
       "      <td>M</td>\n",
       "      <td>17</td>\n",
       "      <td>U</td>\n",
       "      <td>LE3</td>\n",
       "      <td>T</td>\n",
       "      <td>3</td>\n",
       "      <td>1</td>\n",
       "      <td>Services</td>\n",
       "      <td>Services</td>\n",
       "      <td>course</td>\n",
       "      <td>mother</td>\n",
       "    </tr>\n",
       "    <tr>\n",
       "      <th>392</th>\n",
       "      <td>MS</td>\n",
       "      <td>M</td>\n",
       "      <td>21</td>\n",
       "      <td>R</td>\n",
       "      <td>GT3</td>\n",
       "      <td>T</td>\n",
       "      <td>1</td>\n",
       "      <td>1</td>\n",
       "      <td>Other</td>\n",
       "      <td>Other</td>\n",
       "      <td>course</td>\n",
       "      <td>other</td>\n",
       "    </tr>\n",
       "    <tr>\n",
       "      <th>393</th>\n",
       "      <td>MS</td>\n",
       "      <td>M</td>\n",
       "      <td>18</td>\n",
       "      <td>R</td>\n",
       "      <td>LE3</td>\n",
       "      <td>T</td>\n",
       "      <td>3</td>\n",
       "      <td>2</td>\n",
       "      <td>Services</td>\n",
       "      <td>Other</td>\n",
       "      <td>course</td>\n",
       "      <td>mother</td>\n",
       "    </tr>\n",
       "    <tr>\n",
       "      <th>394</th>\n",
       "      <td>MS</td>\n",
       "      <td>M</td>\n",
       "      <td>19</td>\n",
       "      <td>U</td>\n",
       "      <td>LE3</td>\n",
       "      <td>T</td>\n",
       "      <td>1</td>\n",
       "      <td>1</td>\n",
       "      <td>Other</td>\n",
       "      <td>At_home</td>\n",
       "      <td>course</td>\n",
       "      <td>father</td>\n",
       "    </tr>\n",
       "  </tbody>\n",
       "</table>\n",
       "</div>"
      ],
      "text/plain": [
       "    school sex  age address famsize Pstatus  Medu  Fedu      Mjob      Fjob  \\\n",
       "390     MS   M   20       U     LE3       A     2     2  Services  Services   \n",
       "391     MS   M   17       U     LE3       T     3     1  Services  Services   \n",
       "392     MS   M   21       R     GT3       T     1     1     Other     Other   \n",
       "393     MS   M   18       R     LE3       T     3     2  Services     Other   \n",
       "394     MS   M   19       U     LE3       T     1     1     Other   At_home   \n",
       "\n",
       "     reason guardian  \n",
       "390  course    other  \n",
       "391  course   mother  \n",
       "392  course    other  \n",
       "393  course   mother  \n",
       "394  course   father  "
      ]
     },
     "execution_count": 13,
     "metadata": {},
     "output_type": "execute_result"
    }
   ],
   "source": []
  },
  {
   "cell_type": "code",
   "execution_count": 13,
   "metadata": {},
   "outputs": [
    {
     "output_type": "execute_result",
     "data": {
      "text/plain": [
       "    school sex  age address famsize Pstatus  Medu  Fedu      Mjob      Fjob  \\\n",
       "390     MS   M   20       U     LE3       A     2     2  Services  Services   \n",
       "391     MS   M   17       U     LE3       T     3     1  Services  Services   \n",
       "392     MS   M   21       R     GT3       T     1     1     Other     Other   \n",
       "393     MS   M   18       R     LE3       T     3     2  Services     Other   \n",
       "394     MS   M   19       U     LE3       T     1     1     Other   At_home   \n",
       "\n",
       "     reason guardian  \n",
       "390  course    other  \n",
       "391  course   mother  \n",
       "392  course    other  \n",
       "393  course   mother  \n",
       "394  course   father  "
      ],
      "text/html": "<div>\n<style scoped>\n    .dataframe tbody tr th:only-of-type {\n        vertical-align: middle;\n    }\n\n    .dataframe tbody tr th {\n        vertical-align: top;\n    }\n\n    .dataframe thead th {\n        text-align: right;\n    }\n</style>\n<table border=\"1\" class=\"dataframe\">\n  <thead>\n    <tr style=\"text-align: right;\">\n      <th></th>\n      <th>school</th>\n      <th>sex</th>\n      <th>age</th>\n      <th>address</th>\n      <th>famsize</th>\n      <th>Pstatus</th>\n      <th>Medu</th>\n      <th>Fedu</th>\n      <th>Mjob</th>\n      <th>Fjob</th>\n      <th>reason</th>\n      <th>guardian</th>\n    </tr>\n  </thead>\n  <tbody>\n    <tr>\n      <th>390</th>\n      <td>MS</td>\n      <td>M</td>\n      <td>20</td>\n      <td>U</td>\n      <td>LE3</td>\n      <td>A</td>\n      <td>2</td>\n      <td>2</td>\n      <td>Services</td>\n      <td>Services</td>\n      <td>course</td>\n      <td>other</td>\n    </tr>\n    <tr>\n      <th>391</th>\n      <td>MS</td>\n      <td>M</td>\n      <td>17</td>\n      <td>U</td>\n      <td>LE3</td>\n      <td>T</td>\n      <td>3</td>\n      <td>1</td>\n      <td>Services</td>\n      <td>Services</td>\n      <td>course</td>\n      <td>mother</td>\n    </tr>\n    <tr>\n      <th>392</th>\n      <td>MS</td>\n      <td>M</td>\n      <td>21</td>\n      <td>R</td>\n      <td>GT3</td>\n      <td>T</td>\n      <td>1</td>\n      <td>1</td>\n      <td>Other</td>\n      <td>Other</td>\n      <td>course</td>\n      <td>other</td>\n    </tr>\n    <tr>\n      <th>393</th>\n      <td>MS</td>\n      <td>M</td>\n      <td>18</td>\n      <td>R</td>\n      <td>LE3</td>\n      <td>T</td>\n      <td>3</td>\n      <td>2</td>\n      <td>Services</td>\n      <td>Other</td>\n      <td>course</td>\n      <td>mother</td>\n    </tr>\n    <tr>\n      <th>394</th>\n      <td>MS</td>\n      <td>M</td>\n      <td>19</td>\n      <td>U</td>\n      <td>LE3</td>\n      <td>T</td>\n      <td>1</td>\n      <td>1</td>\n      <td>Other</td>\n      <td>At_home</td>\n      <td>course</td>\n      <td>father</td>\n    </tr>\n  </tbody>\n</table>\n</div>"
     },
     "metadata": {},
     "execution_count": 13
    }
   ],
   "source": [
    "df['Fjob'] = df['Fjob'].apply(lambda string: string[0].upper() + string[1:])\n",
    "df['Mjob'] = df['Mjob'].apply(lambda string: string[0].upper() + string[1:])\n",
    "df.iloc[:,0:12].tail()"
   ]
  },
  {
   "cell_type": "markdown",
   "metadata": {},
   "source": [
    "### Step 9. Create a function called majority that returns a boolean value to a new column called legal_drinker (Consider majority as older than 17 years old)"
   ]
  },
  {
   "cell_type": "code",
   "execution_count": 14,
   "metadata": {
    "collapsed": false
   },
   "outputs": [],
   "source": []
  },
  {
   "cell_type": "code",
   "execution_count": 15,
   "metadata": {
    "collapsed": false
   },
   "outputs": [
    {
     "data": {
      "text/html": [
       "<div>\n",
       "<table border=\"1\" class=\"dataframe\">\n",
       "  <thead>\n",
       "    <tr style=\"text-align: right;\">\n",
       "      <th></th>\n",
       "      <th>school</th>\n",
       "      <th>sex</th>\n",
       "      <th>age</th>\n",
       "      <th>address</th>\n",
       "      <th>famsize</th>\n",
       "      <th>Pstatus</th>\n",
       "      <th>Medu</th>\n",
       "      <th>Fedu</th>\n",
       "      <th>Mjob</th>\n",
       "      <th>Fjob</th>\n",
       "      <th>reason</th>\n",
       "      <th>guardian</th>\n",
       "      <th>legal_drinker</th>\n",
       "    </tr>\n",
       "  </thead>\n",
       "  <tbody>\n",
       "    <tr>\n",
       "      <th>0</th>\n",
       "      <td>GP</td>\n",
       "      <td>F</td>\n",
       "      <td>18</td>\n",
       "      <td>U</td>\n",
       "      <td>GT3</td>\n",
       "      <td>A</td>\n",
       "      <td>4</td>\n",
       "      <td>4</td>\n",
       "      <td>At_home</td>\n",
       "      <td>Teacher</td>\n",
       "      <td>course</td>\n",
       "      <td>mother</td>\n",
       "      <td>True</td>\n",
       "    </tr>\n",
       "    <tr>\n",
       "      <th>1</th>\n",
       "      <td>GP</td>\n",
       "      <td>F</td>\n",
       "      <td>17</td>\n",
       "      <td>U</td>\n",
       "      <td>GT3</td>\n",
       "      <td>T</td>\n",
       "      <td>1</td>\n",
       "      <td>1</td>\n",
       "      <td>At_home</td>\n",
       "      <td>Other</td>\n",
       "      <td>course</td>\n",
       "      <td>father</td>\n",
       "      <td>False</td>\n",
       "    </tr>\n",
       "    <tr>\n",
       "      <th>2</th>\n",
       "      <td>GP</td>\n",
       "      <td>F</td>\n",
       "      <td>15</td>\n",
       "      <td>U</td>\n",
       "      <td>LE3</td>\n",
       "      <td>T</td>\n",
       "      <td>1</td>\n",
       "      <td>1</td>\n",
       "      <td>At_home</td>\n",
       "      <td>Other</td>\n",
       "      <td>other</td>\n",
       "      <td>mother</td>\n",
       "      <td>False</td>\n",
       "    </tr>\n",
       "    <tr>\n",
       "      <th>3</th>\n",
       "      <td>GP</td>\n",
       "      <td>F</td>\n",
       "      <td>15</td>\n",
       "      <td>U</td>\n",
       "      <td>GT3</td>\n",
       "      <td>T</td>\n",
       "      <td>4</td>\n",
       "      <td>2</td>\n",
       "      <td>Health</td>\n",
       "      <td>Services</td>\n",
       "      <td>home</td>\n",
       "      <td>mother</td>\n",
       "      <td>False</td>\n",
       "    </tr>\n",
       "    <tr>\n",
       "      <th>4</th>\n",
       "      <td>GP</td>\n",
       "      <td>F</td>\n",
       "      <td>16</td>\n",
       "      <td>U</td>\n",
       "      <td>GT3</td>\n",
       "      <td>T</td>\n",
       "      <td>3</td>\n",
       "      <td>3</td>\n",
       "      <td>Other</td>\n",
       "      <td>Other</td>\n",
       "      <td>home</td>\n",
       "      <td>father</td>\n",
       "      <td>False</td>\n",
       "    </tr>\n",
       "  </tbody>\n",
       "</table>\n",
       "</div>"
      ],
      "text/plain": [
       "  school sex  age address famsize Pstatus  Medu  Fedu     Mjob      Fjob  \\\n",
       "0     GP   F   18       U     GT3       A     4     4  At_home   Teacher   \n",
       "1     GP   F   17       U     GT3       T     1     1  At_home     Other   \n",
       "2     GP   F   15       U     LE3       T     1     1  At_home     Other   \n",
       "3     GP   F   15       U     GT3       T     4     2   Health  Services   \n",
       "4     GP   F   16       U     GT3       T     3     3    Other     Other   \n",
       "\n",
       "   reason guardian legal_drinker  \n",
       "0  course   mother          True  \n",
       "1  course   father         False  \n",
       "2   other   mother         False  \n",
       "3    home   mother         False  \n",
       "4    home   father         False  "
      ]
     },
     "execution_count": 15,
     "metadata": {},
     "output_type": "execute_result"
    }
   ],
   "source": []
  },
  {
   "cell_type": "code",
   "execution_count": 14,
   "metadata": {},
   "outputs": [
    {
     "output_type": "execute_result",
     "data": {
      "text/plain": [
       "  school sex  age address famsize Pstatus  Medu  Fedu     Mjob      Fjob  \\\n",
       "0     GP   F   18       U     GT3       A     4     4  At_home   Teacher   \n",
       "1     GP   F   17       U     GT3       T     1     1  At_home     Other   \n",
       "2     GP   F   15       U     LE3       T     1     1  At_home     Other   \n",
       "3     GP   F   15       U     GT3       T     4     2   Health  Services   \n",
       "4     GP   F   16       U     GT3       T     3     3    Other     Other   \n",
       "\n",
       "   reason guardian  legal_drinker  \n",
       "0  course   mother           True  \n",
       "1  course   father          False  \n",
       "2   other   mother          False  \n",
       "3    home   mother          False  \n",
       "4    home   father          False  "
      ],
      "text/html": "<div>\n<style scoped>\n    .dataframe tbody tr th:only-of-type {\n        vertical-align: middle;\n    }\n\n    .dataframe tbody tr th {\n        vertical-align: top;\n    }\n\n    .dataframe thead th {\n        text-align: right;\n    }\n</style>\n<table border=\"1\" class=\"dataframe\">\n  <thead>\n    <tr style=\"text-align: right;\">\n      <th></th>\n      <th>school</th>\n      <th>sex</th>\n      <th>age</th>\n      <th>address</th>\n      <th>famsize</th>\n      <th>Pstatus</th>\n      <th>Medu</th>\n      <th>Fedu</th>\n      <th>Mjob</th>\n      <th>Fjob</th>\n      <th>reason</th>\n      <th>guardian</th>\n      <th>legal_drinker</th>\n    </tr>\n  </thead>\n  <tbody>\n    <tr>\n      <th>0</th>\n      <td>GP</td>\n      <td>F</td>\n      <td>18</td>\n      <td>U</td>\n      <td>GT3</td>\n      <td>A</td>\n      <td>4</td>\n      <td>4</td>\n      <td>At_home</td>\n      <td>Teacher</td>\n      <td>course</td>\n      <td>mother</td>\n      <td>True</td>\n    </tr>\n    <tr>\n      <th>1</th>\n      <td>GP</td>\n      <td>F</td>\n      <td>17</td>\n      <td>U</td>\n      <td>GT3</td>\n      <td>T</td>\n      <td>1</td>\n      <td>1</td>\n      <td>At_home</td>\n      <td>Other</td>\n      <td>course</td>\n      <td>father</td>\n      <td>False</td>\n    </tr>\n    <tr>\n      <th>2</th>\n      <td>GP</td>\n      <td>F</td>\n      <td>15</td>\n      <td>U</td>\n      <td>LE3</td>\n      <td>T</td>\n      <td>1</td>\n      <td>1</td>\n      <td>At_home</td>\n      <td>Other</td>\n      <td>other</td>\n      <td>mother</td>\n      <td>False</td>\n    </tr>\n    <tr>\n      <th>3</th>\n      <td>GP</td>\n      <td>F</td>\n      <td>15</td>\n      <td>U</td>\n      <td>GT3</td>\n      <td>T</td>\n      <td>4</td>\n      <td>2</td>\n      <td>Health</td>\n      <td>Services</td>\n      <td>home</td>\n      <td>mother</td>\n      <td>False</td>\n    </tr>\n    <tr>\n      <th>4</th>\n      <td>GP</td>\n      <td>F</td>\n      <td>16</td>\n      <td>U</td>\n      <td>GT3</td>\n      <td>T</td>\n      <td>3</td>\n      <td>3</td>\n      <td>Other</td>\n      <td>Other</td>\n      <td>home</td>\n      <td>father</td>\n      <td>False</td>\n    </tr>\n  </tbody>\n</table>\n</div>"
     },
     "metadata": {},
     "execution_count": 14
    }
   ],
   "source": [
    "def majority(x):\n",
    "    if x > 17:\n",
    "        return True\n",
    "    else:\n",
    "        return False\n",
    "\n",
    "df2 = df.iloc[:,0:12]\n",
    "df2[\"legal_drinker\"] = df2[\"age\"].apply(majority)\n",
    "df2.head()"
   ]
  },
  {
   "cell_type": "markdown",
   "metadata": {},
   "source": [
    "### Step 10. Multiply every number of the dataset by 10. \n",
    "##### I know this makes no sense, don't forget it is just an exercise"
   ]
  },
  {
   "cell_type": "code",
   "execution_count": 16,
   "metadata": {
    "collapsed": false
   },
   "outputs": [],
   "source": []
  },
  {
   "cell_type": "code",
   "execution_count": 17,
   "metadata": {
    "collapsed": false
   },
   "outputs": [
    {
     "data": {
      "text/html": [
       "<div>\n",
       "<table border=\"1\" class=\"dataframe\">\n",
       "  <thead>\n",
       "    <tr style=\"text-align: right;\">\n",
       "      <th></th>\n",
       "      <th>school</th>\n",
       "      <th>sex</th>\n",
       "      <th>age</th>\n",
       "      <th>address</th>\n",
       "      <th>famsize</th>\n",
       "      <th>Pstatus</th>\n",
       "      <th>Medu</th>\n",
       "      <th>Fedu</th>\n",
       "      <th>Mjob</th>\n",
       "      <th>Fjob</th>\n",
       "      <th>reason</th>\n",
       "      <th>guardian</th>\n",
       "      <th>legal_drinker</th>\n",
       "    </tr>\n",
       "  </thead>\n",
       "  <tbody>\n",
       "    <tr>\n",
       "      <th>0</th>\n",
       "      <td>GP</td>\n",
       "      <td>F</td>\n",
       "      <td>180</td>\n",
       "      <td>U</td>\n",
       "      <td>GT3</td>\n",
       "      <td>A</td>\n",
       "      <td>40</td>\n",
       "      <td>40</td>\n",
       "      <td>At_home</td>\n",
       "      <td>Teacher</td>\n",
       "      <td>course</td>\n",
       "      <td>mother</td>\n",
       "      <td>True</td>\n",
       "    </tr>\n",
       "    <tr>\n",
       "      <th>1</th>\n",
       "      <td>GP</td>\n",
       "      <td>F</td>\n",
       "      <td>170</td>\n",
       "      <td>U</td>\n",
       "      <td>GT3</td>\n",
       "      <td>T</td>\n",
       "      <td>10</td>\n",
       "      <td>10</td>\n",
       "      <td>At_home</td>\n",
       "      <td>Other</td>\n",
       "      <td>course</td>\n",
       "      <td>father</td>\n",
       "      <td>False</td>\n",
       "    </tr>\n",
       "    <tr>\n",
       "      <th>2</th>\n",
       "      <td>GP</td>\n",
       "      <td>F</td>\n",
       "      <td>150</td>\n",
       "      <td>U</td>\n",
       "      <td>LE3</td>\n",
       "      <td>T</td>\n",
       "      <td>10</td>\n",
       "      <td>10</td>\n",
       "      <td>At_home</td>\n",
       "      <td>Other</td>\n",
       "      <td>other</td>\n",
       "      <td>mother</td>\n",
       "      <td>False</td>\n",
       "    </tr>\n",
       "    <tr>\n",
       "      <th>3</th>\n",
       "      <td>GP</td>\n",
       "      <td>F</td>\n",
       "      <td>150</td>\n",
       "      <td>U</td>\n",
       "      <td>GT3</td>\n",
       "      <td>T</td>\n",
       "      <td>40</td>\n",
       "      <td>20</td>\n",
       "      <td>Health</td>\n",
       "      <td>Services</td>\n",
       "      <td>home</td>\n",
       "      <td>mother</td>\n",
       "      <td>False</td>\n",
       "    </tr>\n",
       "    <tr>\n",
       "      <th>4</th>\n",
       "      <td>GP</td>\n",
       "      <td>F</td>\n",
       "      <td>160</td>\n",
       "      <td>U</td>\n",
       "      <td>GT3</td>\n",
       "      <td>T</td>\n",
       "      <td>30</td>\n",
       "      <td>30</td>\n",
       "      <td>Other</td>\n",
       "      <td>Other</td>\n",
       "      <td>home</td>\n",
       "      <td>father</td>\n",
       "      <td>False</td>\n",
       "    </tr>\n",
       "    <tr>\n",
       "      <th>5</th>\n",
       "      <td>GP</td>\n",
       "      <td>M</td>\n",
       "      <td>160</td>\n",
       "      <td>U</td>\n",
       "      <td>LE3</td>\n",
       "      <td>T</td>\n",
       "      <td>40</td>\n",
       "      <td>30</td>\n",
       "      <td>Services</td>\n",
       "      <td>Other</td>\n",
       "      <td>reputation</td>\n",
       "      <td>mother</td>\n",
       "      <td>False</td>\n",
       "    </tr>\n",
       "    <tr>\n",
       "      <th>6</th>\n",
       "      <td>GP</td>\n",
       "      <td>M</td>\n",
       "      <td>160</td>\n",
       "      <td>U</td>\n",
       "      <td>LE3</td>\n",
       "      <td>T</td>\n",
       "      <td>20</td>\n",
       "      <td>20</td>\n",
       "      <td>Other</td>\n",
       "      <td>Other</td>\n",
       "      <td>home</td>\n",
       "      <td>mother</td>\n",
       "      <td>False</td>\n",
       "    </tr>\n",
       "    <tr>\n",
       "      <th>7</th>\n",
       "      <td>GP</td>\n",
       "      <td>F</td>\n",
       "      <td>170</td>\n",
       "      <td>U</td>\n",
       "      <td>GT3</td>\n",
       "      <td>A</td>\n",
       "      <td>40</td>\n",
       "      <td>40</td>\n",
       "      <td>Other</td>\n",
       "      <td>Teacher</td>\n",
       "      <td>home</td>\n",
       "      <td>mother</td>\n",
       "      <td>False</td>\n",
       "    </tr>\n",
       "    <tr>\n",
       "      <th>8</th>\n",
       "      <td>GP</td>\n",
       "      <td>M</td>\n",
       "      <td>150</td>\n",
       "      <td>U</td>\n",
       "      <td>LE3</td>\n",
       "      <td>A</td>\n",
       "      <td>30</td>\n",
       "      <td>20</td>\n",
       "      <td>Services</td>\n",
       "      <td>Other</td>\n",
       "      <td>home</td>\n",
       "      <td>mother</td>\n",
       "      <td>False</td>\n",
       "    </tr>\n",
       "    <tr>\n",
       "      <th>9</th>\n",
       "      <td>GP</td>\n",
       "      <td>M</td>\n",
       "      <td>150</td>\n",
       "      <td>U</td>\n",
       "      <td>GT3</td>\n",
       "      <td>T</td>\n",
       "      <td>30</td>\n",
       "      <td>40</td>\n",
       "      <td>Other</td>\n",
       "      <td>Other</td>\n",
       "      <td>home</td>\n",
       "      <td>mother</td>\n",
       "      <td>False</td>\n",
       "    </tr>\n",
       "  </tbody>\n",
       "</table>\n",
       "</div>"
      ],
      "text/plain": [
       "  school sex  age address famsize Pstatus  Medu  Fedu      Mjob      Fjob  \\\n",
       "0     GP   F  180       U     GT3       A    40    40   At_home   Teacher   \n",
       "1     GP   F  170       U     GT3       T    10    10   At_home     Other   \n",
       "2     GP   F  150       U     LE3       T    10    10   At_home     Other   \n",
       "3     GP   F  150       U     GT3       T    40    20    Health  Services   \n",
       "4     GP   F  160       U     GT3       T    30    30     Other     Other   \n",
       "5     GP   M  160       U     LE3       T    40    30  Services     Other   \n",
       "6     GP   M  160       U     LE3       T    20    20     Other     Other   \n",
       "7     GP   F  170       U     GT3       A    40    40     Other   Teacher   \n",
       "8     GP   M  150       U     LE3       A    30    20  Services     Other   \n",
       "9     GP   M  150       U     GT3       T    30    40     Other     Other   \n",
       "\n",
       "       reason guardian legal_drinker  \n",
       "0      course   mother          True  \n",
       "1      course   father         False  \n",
       "2       other   mother         False  \n",
       "3        home   mother         False  \n",
       "4        home   father         False  \n",
       "5  reputation   mother         False  \n",
       "6        home   mother         False  \n",
       "7        home   mother         False  \n",
       "8        home   mother         False  \n",
       "9        home   mother         False  "
      ]
     },
     "execution_count": 17,
     "metadata": {},
     "output_type": "execute_result"
    }
   ],
   "source": []
  },
  {
   "cell_type": "code",
   "execution_count": 61,
   "metadata": {},
   "outputs": [
    {
     "output_type": "execute_result",
     "data": {
      "text/plain": [
       "                   school         sex  age     address  \\\n",
       "0    GPGPGPGPGPGPGPGPGPGP  FFFFFFFFFF  180  UUUUUUUUUU   \n",
       "1    GPGPGPGPGPGPGPGPGPGP  FFFFFFFFFF  170  UUUUUUUUUU   \n",
       "2    GPGPGPGPGPGPGPGPGPGP  FFFFFFFFFF  150  UUUUUUUUUU   \n",
       "3    GPGPGPGPGPGPGPGPGPGP  FFFFFFFFFF  150  UUUUUUUUUU   \n",
       "4    GPGPGPGPGPGPGPGPGPGP  FFFFFFFFFF  160  UUUUUUUUUU   \n",
       "..                    ...         ...  ...         ...   \n",
       "390  MSMSMSMSMSMSMSMSMSMS  MMMMMMMMMM  200  UUUUUUUUUU   \n",
       "391  MSMSMSMSMSMSMSMSMSMS  MMMMMMMMMM  170  UUUUUUUUUU   \n",
       "392  MSMSMSMSMSMSMSMSMSMS  MMMMMMMMMM  210  RRRRRRRRRR   \n",
       "393  MSMSMSMSMSMSMSMSMSMS  MMMMMMMMMM  180  RRRRRRRRRR   \n",
       "394  MSMSMSMSMSMSMSMSMSMS  MMMMMMMMMM  190  UUUUUUUUUU   \n",
       "\n",
       "                            famsize     Pstatus  Medu  Fedu  \\\n",
       "0    GT3GT3GT3GT3GT3GT3GT3GT3GT3GT3  AAAAAAAAAA    40    40   \n",
       "1    GT3GT3GT3GT3GT3GT3GT3GT3GT3GT3  TTTTTTTTTT    10    10   \n",
       "2    LE3LE3LE3LE3LE3LE3LE3LE3LE3LE3  TTTTTTTTTT    10    10   \n",
       "3    GT3GT3GT3GT3GT3GT3GT3GT3GT3GT3  TTTTTTTTTT    40    20   \n",
       "4    GT3GT3GT3GT3GT3GT3GT3GT3GT3GT3  TTTTTTTTTT    30    30   \n",
       "..                              ...         ...   ...   ...   \n",
       "390  LE3LE3LE3LE3LE3LE3LE3LE3LE3LE3  AAAAAAAAAA    20    20   \n",
       "391  LE3LE3LE3LE3LE3LE3LE3LE3LE3LE3  TTTTTTTTTT    30    10   \n",
       "392  GT3GT3GT3GT3GT3GT3GT3GT3GT3GT3  TTTTTTTTTT    10    10   \n",
       "393  LE3LE3LE3LE3LE3LE3LE3LE3LE3LE3  TTTTTTTTTT    30    20   \n",
       "394  LE3LE3LE3LE3LE3LE3LE3LE3LE3LE3  TTTTTTTTTT    10    10   \n",
       "\n",
       "                                                  Mjob  \\\n",
       "0    at_homeat_homeat_homeat_homeat_homeat_homeat_h...   \n",
       "1    at_homeat_homeat_homeat_homeat_homeat_homeat_h...   \n",
       "2    at_homeat_homeat_homeat_homeat_homeat_homeat_h...   \n",
       "3    healthhealthhealthhealthhealthhealthhealthheal...   \n",
       "4    otherotherotherotherotherotherotherotherothero...   \n",
       "..                                                 ...   \n",
       "390  servicesservicesservicesservicesservicesservic...   \n",
       "391  servicesservicesservicesservicesservicesservic...   \n",
       "392  otherotherotherotherotherotherotherotherothero...   \n",
       "393  servicesservicesservicesservicesservicesservic...   \n",
       "394  otherotherotherotherotherotherotherotherothero...   \n",
       "\n",
       "                                                  Fjob  \\\n",
       "0    teacherteacherteacherteacherteacherteacherteac...   \n",
       "1    otherotherotherotherotherotherotherotherothero...   \n",
       "2    otherotherotherotherotherotherotherotherothero...   \n",
       "3    servicesservicesservicesservicesservicesservic...   \n",
       "4    otherotherotherotherotherotherotherotherothero...   \n",
       "..                                                 ...   \n",
       "390  servicesservicesservicesservicesservicesservic...   \n",
       "391  servicesservicesservicesservicesservicesservic...   \n",
       "392  otherotherotherotherotherotherotherotherothero...   \n",
       "393  otherotherotherotherotherotherotherotherothero...   \n",
       "394  at_homeat_homeat_homeat_homeat_homeat_homeat_h...   \n",
       "\n",
       "                                                reason  \\\n",
       "0    coursecoursecoursecoursecoursecoursecoursecour...   \n",
       "1    coursecoursecoursecoursecoursecoursecoursecour...   \n",
       "2    otherotherotherotherotherotherotherotherothero...   \n",
       "3             homehomehomehomehomehomehomehomehomehome   \n",
       "4             homehomehomehomehomehomehomehomehomehome   \n",
       "..                                                 ...   \n",
       "390  coursecoursecoursecoursecoursecoursecoursecour...   \n",
       "391  coursecoursecoursecoursecoursecoursecoursecour...   \n",
       "392  coursecoursecoursecoursecoursecoursecoursecour...   \n",
       "393  coursecoursecoursecoursecoursecoursecoursecour...   \n",
       "394  coursecoursecoursecoursecoursecoursecoursecour...   \n",
       "\n",
       "                                              guardian  legal_drinker  \n",
       "0    mothermothermothermothermothermothermothermoth...             10  \n",
       "1    fatherfatherfatherfatherfatherfatherfatherfath...              0  \n",
       "2    mothermothermothermothermothermothermothermoth...              0  \n",
       "3    mothermothermothermothermothermothermothermoth...              0  \n",
       "4    fatherfatherfatherfatherfatherfatherfatherfath...              0  \n",
       "..                                                 ...            ...  \n",
       "390  otherotherotherotherotherotherotherotherothero...             10  \n",
       "391  mothermothermothermothermothermothermothermoth...              0  \n",
       "392  otherotherotherotherotherotherotherotherothero...             10  \n",
       "393  mothermothermothermothermothermothermothermoth...             10  \n",
       "394  fatherfatherfatherfatherfatherfatherfatherfath...             10  \n",
       "\n",
       "[395 rows x 13 columns]"
      ],
      "text/html": "<div>\n<style scoped>\n    .dataframe tbody tr th:only-of-type {\n        vertical-align: middle;\n    }\n\n    .dataframe tbody tr th {\n        vertical-align: top;\n    }\n\n    .dataframe thead th {\n        text-align: right;\n    }\n</style>\n<table border=\"1\" class=\"dataframe\">\n  <thead>\n    <tr style=\"text-align: right;\">\n      <th></th>\n      <th>school</th>\n      <th>sex</th>\n      <th>age</th>\n      <th>address</th>\n      <th>famsize</th>\n      <th>Pstatus</th>\n      <th>Medu</th>\n      <th>Fedu</th>\n      <th>Mjob</th>\n      <th>Fjob</th>\n      <th>reason</th>\n      <th>guardian</th>\n      <th>legal_drinker</th>\n    </tr>\n  </thead>\n  <tbody>\n    <tr>\n      <th>0</th>\n      <td>GPGPGPGPGPGPGPGPGPGP</td>\n      <td>FFFFFFFFFF</td>\n      <td>180</td>\n      <td>UUUUUUUUUU</td>\n      <td>GT3GT3GT3GT3GT3GT3GT3GT3GT3GT3</td>\n      <td>AAAAAAAAAA</td>\n      <td>40</td>\n      <td>40</td>\n      <td>at_homeat_homeat_homeat_homeat_homeat_homeat_h...</td>\n      <td>teacherteacherteacherteacherteacherteacherteac...</td>\n      <td>coursecoursecoursecoursecoursecoursecoursecour...</td>\n      <td>mothermothermothermothermothermothermothermoth...</td>\n      <td>10</td>\n    </tr>\n    <tr>\n      <th>1</th>\n      <td>GPGPGPGPGPGPGPGPGPGP</td>\n      <td>FFFFFFFFFF</td>\n      <td>170</td>\n      <td>UUUUUUUUUU</td>\n      <td>GT3GT3GT3GT3GT3GT3GT3GT3GT3GT3</td>\n      <td>TTTTTTTTTT</td>\n      <td>10</td>\n      <td>10</td>\n      <td>at_homeat_homeat_homeat_homeat_homeat_homeat_h...</td>\n      <td>otherotherotherotherotherotherotherotherothero...</td>\n      <td>coursecoursecoursecoursecoursecoursecoursecour...</td>\n      <td>fatherfatherfatherfatherfatherfatherfatherfath...</td>\n      <td>0</td>\n    </tr>\n    <tr>\n      <th>2</th>\n      <td>GPGPGPGPGPGPGPGPGPGP</td>\n      <td>FFFFFFFFFF</td>\n      <td>150</td>\n      <td>UUUUUUUUUU</td>\n      <td>LE3LE3LE3LE3LE3LE3LE3LE3LE3LE3</td>\n      <td>TTTTTTTTTT</td>\n      <td>10</td>\n      <td>10</td>\n      <td>at_homeat_homeat_homeat_homeat_homeat_homeat_h...</td>\n      <td>otherotherotherotherotherotherotherotherothero...</td>\n      <td>otherotherotherotherotherotherotherotherothero...</td>\n      <td>mothermothermothermothermothermothermothermoth...</td>\n      <td>0</td>\n    </tr>\n    <tr>\n      <th>3</th>\n      <td>GPGPGPGPGPGPGPGPGPGP</td>\n      <td>FFFFFFFFFF</td>\n      <td>150</td>\n      <td>UUUUUUUUUU</td>\n      <td>GT3GT3GT3GT3GT3GT3GT3GT3GT3GT3</td>\n      <td>TTTTTTTTTT</td>\n      <td>40</td>\n      <td>20</td>\n      <td>healthhealthhealthhealthhealthhealthhealthheal...</td>\n      <td>servicesservicesservicesservicesservicesservic...</td>\n      <td>homehomehomehomehomehomehomehomehomehome</td>\n      <td>mothermothermothermothermothermothermothermoth...</td>\n      <td>0</td>\n    </tr>\n    <tr>\n      <th>4</th>\n      <td>GPGPGPGPGPGPGPGPGPGP</td>\n      <td>FFFFFFFFFF</td>\n      <td>160</td>\n      <td>UUUUUUUUUU</td>\n      <td>GT3GT3GT3GT3GT3GT3GT3GT3GT3GT3</td>\n      <td>TTTTTTTTTT</td>\n      <td>30</td>\n      <td>30</td>\n      <td>otherotherotherotherotherotherotherotherothero...</td>\n      <td>otherotherotherotherotherotherotherotherothero...</td>\n      <td>homehomehomehomehomehomehomehomehomehome</td>\n      <td>fatherfatherfatherfatherfatherfatherfatherfath...</td>\n      <td>0</td>\n    </tr>\n    <tr>\n      <th>...</th>\n      <td>...</td>\n      <td>...</td>\n      <td>...</td>\n      <td>...</td>\n      <td>...</td>\n      <td>...</td>\n      <td>...</td>\n      <td>...</td>\n      <td>...</td>\n      <td>...</td>\n      <td>...</td>\n      <td>...</td>\n      <td>...</td>\n    </tr>\n    <tr>\n      <th>390</th>\n      <td>MSMSMSMSMSMSMSMSMSMS</td>\n      <td>MMMMMMMMMM</td>\n      <td>200</td>\n      <td>UUUUUUUUUU</td>\n      <td>LE3LE3LE3LE3LE3LE3LE3LE3LE3LE3</td>\n      <td>AAAAAAAAAA</td>\n      <td>20</td>\n      <td>20</td>\n      <td>servicesservicesservicesservicesservicesservic...</td>\n      <td>servicesservicesservicesservicesservicesservic...</td>\n      <td>coursecoursecoursecoursecoursecoursecoursecour...</td>\n      <td>otherotherotherotherotherotherotherotherothero...</td>\n      <td>10</td>\n    </tr>\n    <tr>\n      <th>391</th>\n      <td>MSMSMSMSMSMSMSMSMSMS</td>\n      <td>MMMMMMMMMM</td>\n      <td>170</td>\n      <td>UUUUUUUUUU</td>\n      <td>LE3LE3LE3LE3LE3LE3LE3LE3LE3LE3</td>\n      <td>TTTTTTTTTT</td>\n      <td>30</td>\n      <td>10</td>\n      <td>servicesservicesservicesservicesservicesservic...</td>\n      <td>servicesservicesservicesservicesservicesservic...</td>\n      <td>coursecoursecoursecoursecoursecoursecoursecour...</td>\n      <td>mothermothermothermothermothermothermothermoth...</td>\n      <td>0</td>\n    </tr>\n    <tr>\n      <th>392</th>\n      <td>MSMSMSMSMSMSMSMSMSMS</td>\n      <td>MMMMMMMMMM</td>\n      <td>210</td>\n      <td>RRRRRRRRRR</td>\n      <td>GT3GT3GT3GT3GT3GT3GT3GT3GT3GT3</td>\n      <td>TTTTTTTTTT</td>\n      <td>10</td>\n      <td>10</td>\n      <td>otherotherotherotherotherotherotherotherothero...</td>\n      <td>otherotherotherotherotherotherotherotherothero...</td>\n      <td>coursecoursecoursecoursecoursecoursecoursecour...</td>\n      <td>otherotherotherotherotherotherotherotherothero...</td>\n      <td>10</td>\n    </tr>\n    <tr>\n      <th>393</th>\n      <td>MSMSMSMSMSMSMSMSMSMS</td>\n      <td>MMMMMMMMMM</td>\n      <td>180</td>\n      <td>RRRRRRRRRR</td>\n      <td>LE3LE3LE3LE3LE3LE3LE3LE3LE3LE3</td>\n      <td>TTTTTTTTTT</td>\n      <td>30</td>\n      <td>20</td>\n      <td>servicesservicesservicesservicesservicesservic...</td>\n      <td>otherotherotherotherotherotherotherotherothero...</td>\n      <td>coursecoursecoursecoursecoursecoursecoursecour...</td>\n      <td>mothermothermothermothermothermothermothermoth...</td>\n      <td>10</td>\n    </tr>\n    <tr>\n      <th>394</th>\n      <td>MSMSMSMSMSMSMSMSMSMS</td>\n      <td>MMMMMMMMMM</td>\n      <td>190</td>\n      <td>UUUUUUUUUU</td>\n      <td>LE3LE3LE3LE3LE3LE3LE3LE3LE3LE3</td>\n      <td>TTTTTTTTTT</td>\n      <td>10</td>\n      <td>10</td>\n      <td>otherotherotherotherotherotherotherotherothero...</td>\n      <td>at_homeat_homeat_homeat_homeat_homeat_homeat_h...</td>\n      <td>coursecoursecoursecoursecoursecoursecoursecour...</td>\n      <td>fatherfatherfatherfatherfatherfatherfatherfath...</td>\n      <td>10</td>\n    </tr>\n  </tbody>\n</table>\n<p>395 rows × 13 columns</p>\n</div>"
     },
     "metadata": {},
     "execution_count": 61
    }
   ],
   "source": [
    "#Intento 1\n",
    "#df2*10"
   ]
  },
  {
   "cell_type": "code",
   "execution_count": 15,
   "metadata": {},
   "outputs": [
    {
     "output_type": "execute_result",
     "data": {
      "text/plain": [
       "  school sex  age address famsize Pstatus  Medu  Fedu      Mjob      Fjob  \\\n",
       "0     GP   F  180       U     GT3       A    40    40   At_home   Teacher   \n",
       "1     GP   F  170       U     GT3       T    10    10   At_home     Other   \n",
       "2     GP   F  150       U     LE3       T    10    10   At_home     Other   \n",
       "3     GP   F  150       U     GT3       T    40    20    Health  Services   \n",
       "4     GP   F  160       U     GT3       T    30    30     Other     Other   \n",
       "5     GP   M  160       U     LE3       T    40    30  Services     Other   \n",
       "6     GP   M  160       U     LE3       T    20    20     Other     Other   \n",
       "7     GP   F  170       U     GT3       A    40    40     Other   Teacher   \n",
       "8     GP   M  150       U     LE3       A    30    20  Services     Other   \n",
       "9     GP   M  150       U     GT3       T    30    40     Other     Other   \n",
       "\n",
       "       reason guardian  legal_drinker  \n",
       "0      course   mother           True  \n",
       "1      course   father          False  \n",
       "2       other   mother          False  \n",
       "3        home   mother          False  \n",
       "4        home   father          False  \n",
       "5  reputation   mother          False  \n",
       "6        home   mother          False  \n",
       "7        home   mother          False  \n",
       "8        home   mother          False  \n",
       "9        home   mother          False  "
      ],
      "text/html": "<div>\n<style scoped>\n    .dataframe tbody tr th:only-of-type {\n        vertical-align: middle;\n    }\n\n    .dataframe tbody tr th {\n        vertical-align: top;\n    }\n\n    .dataframe thead th {\n        text-align: right;\n    }\n</style>\n<table border=\"1\" class=\"dataframe\">\n  <thead>\n    <tr style=\"text-align: right;\">\n      <th></th>\n      <th>school</th>\n      <th>sex</th>\n      <th>age</th>\n      <th>address</th>\n      <th>famsize</th>\n      <th>Pstatus</th>\n      <th>Medu</th>\n      <th>Fedu</th>\n      <th>Mjob</th>\n      <th>Fjob</th>\n      <th>reason</th>\n      <th>guardian</th>\n      <th>legal_drinker</th>\n    </tr>\n  </thead>\n  <tbody>\n    <tr>\n      <th>0</th>\n      <td>GP</td>\n      <td>F</td>\n      <td>180</td>\n      <td>U</td>\n      <td>GT3</td>\n      <td>A</td>\n      <td>40</td>\n      <td>40</td>\n      <td>At_home</td>\n      <td>Teacher</td>\n      <td>course</td>\n      <td>mother</td>\n      <td>True</td>\n    </tr>\n    <tr>\n      <th>1</th>\n      <td>GP</td>\n      <td>F</td>\n      <td>170</td>\n      <td>U</td>\n      <td>GT3</td>\n      <td>T</td>\n      <td>10</td>\n      <td>10</td>\n      <td>At_home</td>\n      <td>Other</td>\n      <td>course</td>\n      <td>father</td>\n      <td>False</td>\n    </tr>\n    <tr>\n      <th>2</th>\n      <td>GP</td>\n      <td>F</td>\n      <td>150</td>\n      <td>U</td>\n      <td>LE3</td>\n      <td>T</td>\n      <td>10</td>\n      <td>10</td>\n      <td>At_home</td>\n      <td>Other</td>\n      <td>other</td>\n      <td>mother</td>\n      <td>False</td>\n    </tr>\n    <tr>\n      <th>3</th>\n      <td>GP</td>\n      <td>F</td>\n      <td>150</td>\n      <td>U</td>\n      <td>GT3</td>\n      <td>T</td>\n      <td>40</td>\n      <td>20</td>\n      <td>Health</td>\n      <td>Services</td>\n      <td>home</td>\n      <td>mother</td>\n      <td>False</td>\n    </tr>\n    <tr>\n      <th>4</th>\n      <td>GP</td>\n      <td>F</td>\n      <td>160</td>\n      <td>U</td>\n      <td>GT3</td>\n      <td>T</td>\n      <td>30</td>\n      <td>30</td>\n      <td>Other</td>\n      <td>Other</td>\n      <td>home</td>\n      <td>father</td>\n      <td>False</td>\n    </tr>\n    <tr>\n      <th>5</th>\n      <td>GP</td>\n      <td>M</td>\n      <td>160</td>\n      <td>U</td>\n      <td>LE3</td>\n      <td>T</td>\n      <td>40</td>\n      <td>30</td>\n      <td>Services</td>\n      <td>Other</td>\n      <td>reputation</td>\n      <td>mother</td>\n      <td>False</td>\n    </tr>\n    <tr>\n      <th>6</th>\n      <td>GP</td>\n      <td>M</td>\n      <td>160</td>\n      <td>U</td>\n      <td>LE3</td>\n      <td>T</td>\n      <td>20</td>\n      <td>20</td>\n      <td>Other</td>\n      <td>Other</td>\n      <td>home</td>\n      <td>mother</td>\n      <td>False</td>\n    </tr>\n    <tr>\n      <th>7</th>\n      <td>GP</td>\n      <td>F</td>\n      <td>170</td>\n      <td>U</td>\n      <td>GT3</td>\n      <td>A</td>\n      <td>40</td>\n      <td>40</td>\n      <td>Other</td>\n      <td>Teacher</td>\n      <td>home</td>\n      <td>mother</td>\n      <td>False</td>\n    </tr>\n    <tr>\n      <th>8</th>\n      <td>GP</td>\n      <td>M</td>\n      <td>150</td>\n      <td>U</td>\n      <td>LE3</td>\n      <td>A</td>\n      <td>30</td>\n      <td>20</td>\n      <td>Services</td>\n      <td>Other</td>\n      <td>home</td>\n      <td>mother</td>\n      <td>False</td>\n    </tr>\n    <tr>\n      <th>9</th>\n      <td>GP</td>\n      <td>M</td>\n      <td>150</td>\n      <td>U</td>\n      <td>GT3</td>\n      <td>T</td>\n      <td>30</td>\n      <td>40</td>\n      <td>Other</td>\n      <td>Other</td>\n      <td>home</td>\n      <td>mother</td>\n      <td>False</td>\n    </tr>\n  </tbody>\n</table>\n</div>"
     },
     "metadata": {},
     "execution_count": 15
    }
   ],
   "source": [
    "#Intento 2\n",
    "df2[\"age\"] = df2[\"age\"]*10\n",
    "df2[\"Medu\"] = df2[\"Medu\"]*10\n",
    "df2[\"Fedu\"] = df2[\"Fedu\"]*10\n",
    "\n",
    "df2.head(10)"
   ]
  },
  {
   "cell_type": "code",
   "execution_count": 17,
   "metadata": {},
   "outputs": [
    {
     "output_type": "execute_result",
     "data": {
      "text/plain": [
       "school           object\n",
       "sex              object\n",
       "age               int64\n",
       "address          object\n",
       "famsize          object\n",
       "Pstatus          object\n",
       "Medu              int64\n",
       "Fedu              int64\n",
       "Mjob             object\n",
       "Fjob             object\n",
       "reason           object\n",
       "guardian         object\n",
       "legal_drinker      bool\n",
       "dtype: object"
      ]
     },
     "metadata": {},
     "execution_count": 17
    }
   ],
   "source": [
    "#Intento 3\n",
    "df2.dtypes"
   ]
  },
  {
   "cell_type": "code",
   "execution_count": 18,
   "metadata": {},
   "outputs": [
    {
     "output_type": "execute_result",
     "data": {
      "text/plain": [
       "      age  Medu  Fedu\n",
       "0    1800   400   400\n",
       "1    1700   100   100\n",
       "2    1500   100   100\n",
       "3    1500   400   200\n",
       "4    1600   300   300\n",
       "..    ...   ...   ...\n",
       "390  2000   200   200\n",
       "391  1700   300   100\n",
       "392  2100   100   100\n",
       "393  1800   300   200\n",
       "394  1900   100   100\n",
       "\n",
       "[395 rows x 3 columns]"
      ],
      "text/html": "<div>\n<style scoped>\n    .dataframe tbody tr th:only-of-type {\n        vertical-align: middle;\n    }\n\n    .dataframe tbody tr th {\n        vertical-align: top;\n    }\n\n    .dataframe thead th {\n        text-align: right;\n    }\n</style>\n<table border=\"1\" class=\"dataframe\">\n  <thead>\n    <tr style=\"text-align: right;\">\n      <th></th>\n      <th>age</th>\n      <th>Medu</th>\n      <th>Fedu</th>\n    </tr>\n  </thead>\n  <tbody>\n    <tr>\n      <th>0</th>\n      <td>1800</td>\n      <td>400</td>\n      <td>400</td>\n    </tr>\n    <tr>\n      <th>1</th>\n      <td>1700</td>\n      <td>100</td>\n      <td>100</td>\n    </tr>\n    <tr>\n      <th>2</th>\n      <td>1500</td>\n      <td>100</td>\n      <td>100</td>\n    </tr>\n    <tr>\n      <th>3</th>\n      <td>1500</td>\n      <td>400</td>\n      <td>200</td>\n    </tr>\n    <tr>\n      <th>4</th>\n      <td>1600</td>\n      <td>300</td>\n      <td>300</td>\n    </tr>\n    <tr>\n      <th>...</th>\n      <td>...</td>\n      <td>...</td>\n      <td>...</td>\n    </tr>\n    <tr>\n      <th>390</th>\n      <td>2000</td>\n      <td>200</td>\n      <td>200</td>\n    </tr>\n    <tr>\n      <th>391</th>\n      <td>1700</td>\n      <td>300</td>\n      <td>100</td>\n    </tr>\n    <tr>\n      <th>392</th>\n      <td>2100</td>\n      <td>100</td>\n      <td>100</td>\n    </tr>\n    <tr>\n      <th>393</th>\n      <td>1800</td>\n      <td>300</td>\n      <td>200</td>\n    </tr>\n    <tr>\n      <th>394</th>\n      <td>1900</td>\n      <td>100</td>\n      <td>100</td>\n    </tr>\n  </tbody>\n</table>\n<p>395 rows × 3 columns</p>\n</div>"
     },
     "metadata": {},
     "execution_count": 18
    }
   ],
   "source": [
    "df2.select_dtypes(exclude=['object', 'bool']) * 10"
   ]
  },
  {
   "cell_type": "code",
   "execution_count": null,
   "metadata": {},
   "outputs": [],
   "source": []
  }
 ],
 "metadata": {
  "anaconda-cloud": {},
  "kernelspec": {
   "name": "python3",
   "display_name": "Python 3.9.0 64-bit",
   "metadata": {
    "interpreter": {
     "hash": "af698c02722c81864863429d928a3bd8a8dcc030c4156359d3ef8b980fb01319"
    }
   }
  },
  "language_info": {
   "codemirror_mode": {
    "name": "ipython",
    "version": 2
   },
   "file_extension": ".py",
   "mimetype": "text/x-python",
   "name": "python",
   "nbconvert_exporter": "python",
   "pygments_lexer": "ipython2",
   "version": "3.9.0-final"
  }
 },
 "nbformat": 4,
 "nbformat_minor": 0
}