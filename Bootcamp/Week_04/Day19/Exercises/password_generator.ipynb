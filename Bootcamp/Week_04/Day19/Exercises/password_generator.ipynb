{
 "metadata": {
  "language_info": {
   "codemirror_mode": {
    "name": "ipython",
    "version": 3
   },
   "file_extension": ".py",
   "mimetype": "text/x-python",
   "name": "python",
   "nbconvert_exporter": "python",
   "pygments_lexer": "ipython3",
   "version": "3.9.0-final"
  },
  "orig_nbformat": 2,
  "kernelspec": {
   "name": "python3",
   "display_name": "Python 3.9.0 64-bit",
   "metadata": {
    "interpreter": {
     "hash": "af698c02722c81864863429d928a3bd8a8dcc030c4156359d3ef8b980fb01319"
    }
   }
  }
 },
 "nbformat": 4,
 "nbformat_minor": 2,
 "cells": [
  {
   "source": [
    "Crea una función llamada \"generador\" con dos argumentos de entrada 'longitud' (entero) y 'dificultad' (entero). La función retornará una contraseña (string) de tamaño 'longitud' y con las siguientes características dependiendo del valor de 'dificultad':\n",
    "\n",
    "1. Si 'dificultad' tiene valor 1, entonces la contraseña solo contendrá números. \n",
    "2. Si 'dificultad' tiene valor 2, entonces la contraseña contendrá números y letras\n",
    "3. Si 'dificultad' tiene valor 3, entonces la contraseña contendrá números, letras y signos de puntuación (!,?¡:-.\"')\n",
    "4. Si 'dificultad' tiene valor 4, entonces la contraseña será como la del punto 3. pero con el doble de longitud y solo números pares. \n",
    "5. Para cualquier otro caso, la contraseña será \"numpy_y_pandas_son_lo_mejor\""
   ],
   "cell_type": "markdown",
   "metadata": {}
  },
  {
   "cell_type": "code",
   "execution_count": 17,
   "metadata": {},
   "outputs": [
    {
     "output_type": "execute_result",
     "data": {
      "text/plain": [
       "'La password es:zjfabi:26-zzqoq44awg'"
      ]
     },
     "metadata": {},
     "execution_count": 17
    }
   ],
   "source": [
    "from random import choice\n",
    "\n",
    "def generador(longitud, dificultad):\n",
    "    if int(dificultad) == 1: #Si 'dificultad' tiene valor 1, entonces la contraseña solo contendrá números.\n",
    "        numeros = \"0123456789\"\n",
    "        password = ''.join([choice(numeros) for x in range(int(longitud))])\n",
    "\n",
    "    elif int(dificultad) == 2: #Si 'dificultad' tiene valor 2, entonces la contraseña contendrá números y letras\n",
    "        numeros_letras = \"0123456789abcdefghijklmnñopqrstuvwxyz\"\n",
    "        password = ''.join([choice(numeros_letras) for x in range(int(longitud))])\n",
    "\n",
    "    elif int(dificultad) == 3: #Si 'dificultad' tiene valor 3, entonces la contraseña contendrá números, letras y signos de puntuación (!,?¡:-.\"')\n",
    "        numeros_letras_puntuacion = \"0123456789abcdefghijklmnñopqrstuvwxyz()!,?¡:-.\\\"\\'\"\n",
    "        password = ''.join([choice(numeros_letras_puntuacion) for x in range(int(longitud))])\n",
    "\n",
    "    elif int(dificultad) == 4: #Si 'dificultad' tiene valor 4, entonces la contraseña será como la del punto 3. pero con el doble de longitud y solo números pares\n",
    "        numeros_letras_puntuacion = \"02468abcdefghijklmnñopqrstuvwxyz()!,?¡:-..\\\"\\'\"\n",
    "        password = ''.join([choice(numeros_letras_puntuacion) for x in range(int(longitud)*2)])\n",
    "    \n",
    "    else:\n",
    "        password = \"numpy_y_pandas_son_lo_mejor\"\n",
    "    \n",
    "    return \"La password es:\" + password\n",
    "\n",
    "\n",
    "generador(longitud=input(\"Enter a number for the length of the password\"), dificultad=input(\"Enter a number of difficulty\"))"
   ]
  },
  {
   "cell_type": "code",
   "execution_count": null,
   "metadata": {},
   "outputs": [],
   "source": []
  }
 ]
}