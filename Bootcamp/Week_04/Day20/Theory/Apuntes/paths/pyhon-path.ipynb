{
 "metadata": {
  "language_info": {
   "codemirror_mode": {
    "name": "ipython",
    "version": 3
   },
   "file_extension": ".py",
   "mimetype": "text/x-python",
   "name": "python",
   "nbconvert_exporter": "python",
   "pygments_lexer": "ipython3",
   "version": "3.9.0-final"
  },
  "orig_nbformat": 2,
  "kernelspec": {
   "name": "python3",
   "display_name": "Python 3.9.0 64-bit",
   "metadata": {
    "interpreter": {
     "hash": "af698c02722c81864863429d928a3bd8a8dcc030c4156359d3ef8b980fb01319"
    }
   }
  }
 },
 "nbformat": 4,
 "nbformat_minor": 2,
 "cells": [
  {
   "cell_type": "code",
   "execution_count": 1,
   "metadata": {},
   "outputs": [
    {
     "output_type": "stream",
     "name": "stdout",
     "text": [
      "Soy f1() de 'a.py'\n"
     ]
    }
   ],
   "source": [
    "#Como improtar a.py\n",
    "\n",
    "import a\n",
    "\n",
    "a.f1()"
   ]
  },
  {
   "cell_type": "code",
   "execution_count": 2,
   "metadata": {},
   "outputs": [
    {
     "output_type": "stream",
     "name": "stdout",
     "text": [
      "Soy f2() de 'a.py'\n"
     ]
    }
   ],
   "source": [
    "a.f2()"
   ]
  },
  {
   "cell_type": "code",
   "execution_count": null,
   "metadata": {},
   "outputs": [],
   "source": [
    "#Mala práctica\n",
    "from a import * #El asterisco importa todo lo que contenga a"
   ]
  },
  {
   "cell_type": "code",
   "execution_count": 2,
   "metadata": {},
   "outputs": [
    {
     "output_type": "stream",
     "name": "stdout",
     "text": [
      "Soy f2() de 'a.py'\n"
     ]
    }
   ],
   "source": [
    "#Buena práctica\n",
    "from a import x, f2\n",
    "\n",
    "f2()"
   ]
  },
  {
   "cell_type": "code",
   "execution_count": 3,
   "metadata": {},
   "outputs": [
    {
     "output_type": "stream",
     "name": "stdout",
     "text": [
      "7\n"
     ]
    }
   ],
   "source": [
    "print(x)\n"
   ]
  },
  {
   "cell_type": "code",
   "execution_count": 5,
   "metadata": {},
   "outputs": [
    {
     "output_type": "stream",
     "name": "stdout",
     "text": [
      "0\n"
     ]
    }
   ],
   "source": [
    "from b.c import f3, variable_de_c\n",
    "\n",
    "print(variable_de_c)"
   ]
  },
  {
   "cell_type": "code",
   "execution_count": 3,
   "metadata": {},
   "outputs": [
    {
     "output_type": "stream",
     "name": "stdout",
     "text": [
      "0\n"
     ]
    },
    {
     "output_type": "execute_result",
     "data": {
      "text/plain": [
       "102"
      ]
     },
     "metadata": {},
     "execution_count": 3
    }
   ],
   "source": [
    "from b.c import f4\n",
    "\n",
    "f4(k=2, l=1, r=99)"
   ]
  },
  {
   "cell_type": "code",
   "execution_count": 9,
   "metadata": {},
   "outputs": [
    {
     "output_type": "error",
     "ename": "ModuleNotFoundError",
     "evalue": "No module named 'd'",
     "traceback": [
      "\u001b[1;31m---------------------------------------------------------------------------\u001b[0m",
      "\u001b[1;31mModuleNotFoundError\u001b[0m                       Traceback (most recent call last)",
      "\u001b[1;32m<ipython-input-9-2ba89eff0f43>\u001b[0m in \u001b[0;36m<module>\u001b[1;34m\u001b[0m\n\u001b[1;32m----> 1\u001b[1;33m \u001b[1;32mfrom\u001b[0m \u001b[0md\u001b[0m\u001b[1;33m.\u001b[0m\u001b[0mz\u001b[0m \u001b[1;32mimport\u001b[0m \u001b[0mz\u001b[0m \u001b[1;31m#Esto busca d en el directorio de path cuando realmente está fuera por lo tanto da error\u001b[0m\u001b[1;33m\u001b[0m\u001b[1;33m\u001b[0m\u001b[0m\n\u001b[0m",
      "\u001b[1;31mModuleNotFoundError\u001b[0m: No module named 'd'"
     ]
    }
   ],
   "source": [
    "from d.z import z #Esto busca d en el directorio de path cuando realmente está fuera por lo tanto da error. A todo lo que tienes por debajo, es decir, subcarpetas dentro de esta carpeta puedes acceder pero si está fuera de la carpeta en la que estamos trabajando no podemos acceder a ella"
   ]
  },
  {
   "cell_type": "code",
   "execution_count": 6,
   "metadata": {},
   "outputs": [
    {
     "output_type": "stream",
     "name": "stdout",
     "text": [
      "<module 'ntpath' from 'C:\\\\Users\\\\maria\\\\AppData\\\\Local\\\\Programs\\\\Python\\\\Python39\\\\lib\\\\ntpath.py'>\n"
     ]
    }
   ],
   "source": [
    "#Para coger d hay que sacar la librería path y os\n",
    "import os #Hace referencia al sistema operativo que estamos utilizando con Python, es decir, microsoft\n",
    "\n",
    "print(os.path) #Es una serie que tiene una ubicacion de modulo"
   ]
  },
  {
   "cell_type": "code",
   "execution_count": null,
   "metadata": {},
   "outputs": [],
   "source": [
    "import os.path #Estamos importando path que está dentro de os path como funcion bultin"
   ]
  },
  {
   "cell_type": "code",
   "execution_count": null,
   "metadata": {},
   "outputs": [],
   "source": [
    "import b.c.j #Desde C puedes importar J porque antes has importado J a C"
   ]
  },
  {
   "cell_type": "code",
   "execution_count": 10,
   "metadata": {},
   "outputs": [
    {
     "output_type": "execute_result",
     "data": {
      "text/plain": [
       "['c:\\\\Users\\\\maria\\\\OneDrive\\\\Escritorio\\\\The_Bridge\\\\Visual_Studio_Code\\\\Python\\\\Data_Scrience_BootCamp_Maria\\\\Data_science_proyectos\\\\Bootcamp\\\\Week_04\\\\Day20\\\\Apuntes\\\\paths',\n",
       " 'c:\\\\Users\\\\maria\\\\.vscode\\\\extensions\\\\ms-toolsai.jupyter-2020.12.414227025\\\\pythonFiles\\\\.does-not-exist',\n",
       " 'c:\\\\Users\\\\maria\\\\.vscode\\\\extensions\\\\ms-toolsai.jupyter-2020.12.414227025\\\\pythonFiles',\n",
       " 'c:\\\\Users\\\\maria\\\\.vscode\\\\extensions\\\\ms-toolsai.jupyter-2020.12.414227025\\\\pythonFiles\\\\lib\\\\python',\n",
       " 'C:\\\\Users\\\\maria\\\\AppData\\\\Local\\\\Programs\\\\Python\\\\Python39\\\\python39.zip',\n",
       " 'C:\\\\Users\\\\maria\\\\AppData\\\\Local\\\\Programs\\\\Python\\\\Python39\\\\DLLs',\n",
       " 'C:\\\\Users\\\\maria\\\\AppData\\\\Local\\\\Programs\\\\Python\\\\Python39\\\\lib',\n",
       " 'C:\\\\Users\\\\maria\\\\AppData\\\\Local\\\\Programs\\\\Python\\\\Python39',\n",
       " '',\n",
       " 'C:\\\\Users\\\\maria\\\\AppData\\\\Roaming\\\\Python\\\\Python39\\\\site-packages',\n",
       " 'C:\\\\Users\\\\maria\\\\AppData\\\\Roaming\\\\Python\\\\Python39\\\\site-packages\\\\win32',\n",
       " 'C:\\\\Users\\\\maria\\\\AppData\\\\Roaming\\\\Python\\\\Python39\\\\site-packages\\\\win32\\\\lib',\n",
       " 'C:\\\\Users\\\\maria\\\\AppData\\\\Roaming\\\\Python\\\\Python39\\\\site-packages\\\\Pythonwin',\n",
       " 'C:\\\\Users\\\\maria\\\\AppData\\\\Local\\\\Programs\\\\Python\\\\Python39\\\\lib\\\\site-packages',\n",
       " 'C:\\\\Users\\\\maria\\\\AppData\\\\Roaming\\\\Python\\\\Python39\\\\site-packages\\\\IPython\\\\extensions',\n",
       " 'C:\\\\Users\\\\maria\\\\.ipython']"
      ]
     },
     "metadata": {},
     "execution_count": 10
    }
   ],
   "source": [
    "import sys\n",
    "\n",
    "sys.path #Es una lista que cada elemento es un string y que representa un directorio. Ese directorio es el que va a reconocer python cuando nosotros ponemos import algo. Es el directorio el que yo estoy trabajando (Este notebook) pero te muestra el repositorio desde el que coges los archivos."
   ]
  },
  {
   "cell_type": "code",
   "execution_count": 1,
   "metadata": {},
   "outputs": [
    {
     "output_type": "execute_result",
     "data": {
      "text/plain": [
       "['c:\\\\Users\\\\maria\\\\OneDrive\\\\Escritorio\\\\The_Bridge\\\\Visual_Studio_Code\\\\Python\\\\Data_Scrience_BootCamp_Maria\\\\Data_science_proyectos\\\\Bootcamp\\\\Week_04\\\\Day20\\\\Apuntes\\\\paths',\n",
       " 'c:\\\\Users\\\\maria\\\\.vscode\\\\extensions\\\\ms-toolsai.jupyter-2020.12.414227025\\\\pythonFiles\\\\.does-not-exist',\n",
       " 'c:\\\\Users\\\\maria\\\\.vscode\\\\extensions\\\\ms-toolsai.jupyter-2020.12.414227025\\\\pythonFiles',\n",
       " 'c:\\\\Users\\\\maria\\\\.vscode\\\\extensions\\\\ms-toolsai.jupyter-2020.12.414227025\\\\pythonFiles\\\\lib\\\\python',\n",
       " 'C:\\\\Users\\\\maria\\\\AppData\\\\Local\\\\Programs\\\\Python\\\\Python39\\\\python39.zip',\n",
       " 'C:\\\\Users\\\\maria\\\\AppData\\\\Local\\\\Programs\\\\Python\\\\Python39\\\\DLLs',\n",
       " 'C:\\\\Users\\\\maria\\\\AppData\\\\Local\\\\Programs\\\\Python\\\\Python39\\\\lib',\n",
       " 'C:\\\\Users\\\\maria\\\\AppData\\\\Local\\\\Programs\\\\Python\\\\Python39',\n",
       " '',\n",
       " 'C:\\\\Users\\\\maria\\\\AppData\\\\Roaming\\\\Python\\\\Python39\\\\site-packages',\n",
       " 'C:\\\\Users\\\\maria\\\\AppData\\\\Roaming\\\\Python\\\\Python39\\\\site-packages\\\\win32',\n",
       " 'C:\\\\Users\\\\maria\\\\AppData\\\\Roaming\\\\Python\\\\Python39\\\\site-packages\\\\win32\\\\lib',\n",
       " 'C:\\\\Users\\\\maria\\\\AppData\\\\Roaming\\\\Python\\\\Python39\\\\site-packages\\\\Pythonwin',\n",
       " 'C:\\\\Users\\\\maria\\\\AppData\\\\Local\\\\Programs\\\\Python\\\\Python39\\\\lib\\\\site-packages',\n",
       " 'C:\\\\Users\\\\maria\\\\AppData\\\\Roaming\\\\Python\\\\Python39\\\\site-packages\\\\IPython\\\\extensions',\n",
       " 'C:\\\\Users\\\\maria\\\\.ipython',\n",
       " 'c:\\\\Users\\\\maria\\\\OneDrive\\\\Escritorio\\\\The_Bridge\\\\Visual_Studio_Code\\\\Python\\\\Data_Scrience_BootCamp_Maria\\\\Data_science_proyectos\\\\Bootcamp\\\\Week_04\\\\Day20\\\\Apuntes']"
      ]
     },
     "metadata": {},
     "execution_count": 1
    }
   ],
   "source": [
    "#Ruta absoluta: Ruta completa que es la que contiene path\n",
    "\"\"\"\n",
    "'c:\\\\Users\\\\maria\\\\OneDrive\\\\Escritorio\\\\The_Bridge\\\\Visual_Studio_Code\\\\Python\\\\Data_Scrience_BootCamp_Maria\\\\Data_science_proyectos\\\\Bootcamp\\\\Week_04\\\\Day20\\\\Apuntes\\\\paths\n",
    "\"\"\"\n",
    "#Ruta Relativa: comienza desde algún sitio\n",
    "\"\"\"\n",
    "Data_science_proyectos\\\\Bootcamp\\\\Week_04\\\\Day20\\\\Apuntes\n",
    "\"\"\"\n",
    "#Para añadir d que está fuera de paths tendré que añadir la ruta hasta theory es decir:\n",
    "\n",
    "\"\"\"\n",
    "c:\\\\Users\\\\maria\\\\OneDrive\\\\Escritorio\\\\The_Bridge\\\\Visual_Studio_Code\\\\Python\\\\Data_Scrience_BootCamp_Maria\\\\Data_science_proyectos\\\\Bootcamp\\\\Week_04\\\\Day20\\\\Apuntes\n",
    "\"\"\"\n",
    "\n",
    "ruta_hasta_theory = \"c:\\\\Users\\\\maria\\\\OneDrive\\\\Escritorio\\\\The_Bridge\\\\Visual_Studio_Code\\\\Python\\\\Data_Scrience_BootCamp_Maria\\\\Data_science_proyectos\\\\Bootcamp\\\\Week_04\\\\Day20\\\\Apuntes\" #Si hubiera algún \\t python lo interpretaría como tabulador, para no hacerlo poner delante de toda la ruta una r\n",
    "\n",
    "\n",
    "sys.path.append(ruta_hasta_theory)\n",
    "sys.path"
   ]
  },
  {
   "cell_type": "code",
   "execution_count": 2,
   "metadata": {},
   "outputs": [
    {
     "output_type": "stream",
     "name": "stdout",
     "text": [
      "Hola que ase\n"
     ]
    }
   ],
   "source": [
    "import d.z as z\n",
    "\n",
    "z.zen()"
   ]
  },
  {
   "cell_type": "code",
   "execution_count": null,
   "metadata": {},
   "outputs": [],
   "source": [
    "def funcion_para_añadir_una_barra(string):\n",
    "    string.replace(\"\\\\\", r\"\\\\\") #La barra primera es solo una barra pero hay que poner dos porque sino no cierra el parentesis ya que lo interpreta como \\\", es decir, lo interpreta como incluir comillas dobles"
   ]
  },
  {
   "cell_type": "code",
   "execution_count": 3,
   "metadata": {},
   "outputs": [
    {
     "output_type": "stream",
     "name": "stdout",
     "text": [
      "c:\\Users\\maria\\OneDrive\\Escritorio\\The_Bridge\\Visual_Studio_Code\\Python\\Data_Scrience_BootCamp_Maria\\Data_science_proyectos\\Bootcamp\\Week_04\\Day20\\Apuntes\n"
     ]
    }
   ],
   "source": [
    "#PARA HACER UNA RUTA GENÉRICA\n",
    "\n",
    "import os\n",
    "\n",
    "print(os.path.dirname(os.getcwd())) #dirname Sube una carpeta\n",
    "#Para llegar a data_Science_proyectos repetir el proceso 4 veces"
   ]
  },
  {
   "cell_type": "code",
   "execution_count": null,
   "metadata": {},
   "outputs": [],
   "source": [
    "def get_root_path:\n",
    "    path = os.getcwd() #Esto es donde estoy trabajando\n",
    "    for i in range(n):\n",
    "        \n"
   ]
  }
 ]
}