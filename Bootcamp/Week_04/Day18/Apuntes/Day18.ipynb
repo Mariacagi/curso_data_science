{
 "metadata": {
  "language_info": {
   "codemirror_mode": {
    "name": "ipython",
    "version": 3
   },
   "file_extension": ".py",
   "mimetype": "text/x-python",
   "name": "python",
   "nbconvert_exporter": "python",
   "pygments_lexer": "ipython3",
   "version": "3.9.0-final"
  },
  "orig_nbformat": 2,
  "kernelspec": {
   "name": "python3",
   "display_name": "Python 3.9.0 64-bit",
   "metadata": {
    "interpreter": {
     "hash": "af698c02722c81864863429d928a3bd8a8dcc030c4156359d3ef8b980fb01319"
    }
   }
  }
 },
 "nbformat": 4,
 "nbformat_minor": 2,
 "cells": [
  {
   "cell_type": "code",
   "execution_count": 2,
   "metadata": {},
   "outputs": [
    {
     "output_type": "stream",
     "name": "stdout",
     "text": [
      "(2, 3, 'x', 's', ['a', 1, 7, 1248195])\n<class 'tuple'>\ntres: 3\n"
     ]
    }
   ],
   "source": [
    "#args es una tupla de los argumentos que doy a la función al invocarla. No se puede pasar clave=valor, solo valor. Ejemplo: (\"x\", \"s\", c=4) no se puede tendría que ser (\"x\", \"s\", 4)\n",
    "\n",
    "def mi_funcion(*args):\n",
    "    print(args)\n",
    "    print(type(args))\n",
    "    tres = args[1]\n",
    "    print(\"tres:\", tres)\n",
    "\n",
    "mi_funcion(2, 3, \"x\", \"s\", [\"a\", 1, 7, 1248195])"
   ]
  },
  {
   "cell_type": "code",
   "execution_count": 4,
   "metadata": {},
   "outputs": [
    {
     "output_type": "stream",
     "name": "stdout",
     "text": [
      "(3, 'x', 's', ['a', 1, 7, 1248195])\n<class 'tuple'>\ntres: x\narg1: 2\n"
     ]
    }
   ],
   "source": [
    "def mi_funcion(arg1, *args):\n",
    "    print(args)\n",
    "    print(type(args))\n",
    "    tres = args[1]\n",
    "    print(\"tres:\", tres)\n",
    "    print(\"arg1:\", arg1)\n",
    "\n",
    "mi_funcion(2, 3, \"x\", \"s\", [\"a\", 1, 7, 1248195])"
   ]
  },
  {
   "cell_type": "code",
   "execution_count": 5,
   "metadata": {},
   "outputs": [
    {
     "output_type": "stream",
     "name": "stdout",
     "text": [
      "33\n"
     ]
    }
   ],
   "source": [
    "def suma_v2(*args):\n",
    "    suma_total = 0\n",
    "    for elem in args:\n",
    "        suma_total = suma_total + elem\n",
    "    return suma_total\n",
    "\n",
    "x = suma_v2(2, 7, 9, 5, 10)\n",
    "print(x)"
   ]
  },
  {
   "cell_type": "code",
   "execution_count": 6,
   "metadata": {},
   "outputs": [
    {
     "output_type": "stream",
     "name": "stdout",
     "text": [
      "args: (7, 8, 9)\ntype(args): <class 'tuple'>\none: 7\n"
     ]
    }
   ],
   "source": [
    "def args_example(*args):\n",
    "    print(\"args:\", args)\n",
    "    print(\"type(args):\", type(args))\n",
    "    one = args[0]\n",
    "    return one\n",
    "\n",
    "one = args_example(7,8,9)\n",
    "print(\"one:\", one)"
   ]
  },
  {
   "cell_type": "code",
   "execution_count": 7,
   "metadata": {},
   "outputs": [
    {
     "output_type": "stream",
     "name": "stdout",
     "text": [
      "{'a': 1, 's': 'g', 'k': 7, 'h': [8, 2, 1, 0]}\n"
     ]
    }
   ],
   "source": [
    "#Kwargs es un diccionario. Imprescindible pasarle clave=valor.\n",
    "\n",
    "def mi_funcion_kwargs_1 (**kwargs):\n",
    "    print(kwargs)\n",
    "\n",
    "mi_funcion_kwargs_1(a=1, s=\"g\", k=7, h=[8, 2, 1, 0])"
   ]
  },
  {
   "cell_type": "code",
   "execution_count": 9,
   "metadata": {},
   "outputs": [
    {
     "output_type": "stream",
     "name": "stdout",
     "text": [
      "[8, 2, 1, 0]\n{'tupla': (2, 1, 5), 'lista': [8, 2, 1, 0]}\n"
     ]
    }
   ],
   "source": [
    "def mi_funcion_kwargs_1 (**kwargs):\n",
    "    l = kwargs[\"lista\"]\n",
    "    print(l)\n",
    "    print(kwargs)\n",
    "\n",
    "mi_funcion_kwargs_1(tupla=(2, 1, 5), lista=[8, 2, 1, 0])"
   ]
  },
  {
   "cell_type": "code",
   "execution_count": 10,
   "metadata": {},
   "outputs": [
    {
     "output_type": "stream",
     "name": "stdout",
     "text": [
      "{'x': 2, 'a': 6, 'b': 8}\n<class 'dict'>\nx: 2\n"
     ]
    }
   ],
   "source": [
    "def mi_function_kwargs(**kwargs):\n",
    "    print(kwargs)\n",
    "    print(type(kwargs))\n",
    "    x = kwargs[\"x\"]\n",
    "    print(\"x:\", x)\n",
    "\n",
    "mi_function_kwargs(x=2, a=6, b=8)"
   ]
  },
  {
   "cell_type": "code",
   "execution_count": 11,
   "metadata": {},
   "outputs": [
    {
     "output_type": "stream",
     "name": "stdout",
     "text": [
      "{'a': 6, 'b': 8}\n<class 'dict'>\nh: 8\n"
     ]
    }
   ],
   "source": [
    "def mi_function_kwargs(x, **kwargs):\n",
    "    print(kwargs)\n",
    "    print(type(kwargs))\n",
    "    h = kwargs[\"b\"]\n",
    "    print(\"h:\", h)\n",
    "\n",
    "mi_function_kwargs(x=2, a=6, b=8)"
   ]
  },
  {
   "cell_type": "code",
   "execution_count": 12,
   "metadata": {},
   "outputs": [
    {
     "output_type": "stream",
     "name": "stdout",
     "text": [
      "x: 2\nt: 4\ns: 6\nargs: ('g', 'p')\nkwargs: {'a': 6, 'b': 8}\n<class 'dict'>\nh: 8\n---------------\nx: 3\nt: 4\ns: 5\nargs: ()\nkwargs: {'b': 6}\n<class 'dict'>\nh: 6\n"
     ]
    }
   ],
   "source": [
    "def mi_function_kwargs(x, t, s=5, *args, **kwargs):\n",
    "    print(\"x:\", x)\n",
    "    print(\"t:\", t)\n",
    "    print(\"s:\", s)\n",
    "    print(\"args:\", args)\n",
    "    print(\"kwargs:\", kwargs)\n",
    "    print(type(kwargs))\n",
    "    h = kwargs[\"b\"]\n",
    "    print(\"h:\", h)\n",
    "\n",
    "mi_function_kwargs(2, 4, 6, \"g\", \"p\", a=6, b=8)\n",
    "print(\"---------------\")\n",
    "mi_function_kwargs(3, 4, b=6)"
   ]
  },
  {
   "cell_type": "code",
   "execution_count": 13,
   "metadata": {},
   "outputs": [
    {
     "output_type": "stream",
     "name": "stdout",
     "text": [
      "kwargs: {'x': 1, 'y': 4, 'z': 7}\ntype(kwargs): <class 'dict'>\none: 7\n"
     ]
    }
   ],
   "source": [
    "def kwargs_example(**kwargs):\n",
    "    print(\"kwargs:\", kwargs)\n",
    "    print(\"type(kwargs):\", type(kwargs))\n",
    "    one = kwargs[\"z\"]\n",
    "    return one\n",
    "\n",
    "one = kwargs_example(x=1, y=4, z=7)\n",
    "print(\"one:\", one)"
   ]
  },
  {
   "cell_type": "code",
   "execution_count": 15,
   "metadata": {},
   "outputs": [
    {
     "output_type": "stream",
     "name": "stdout",
     "text": [
      "range(0, 10)\n[0, 1, 2, 3, 4, 5, 6, 7, 8, 9]\n"
     ]
    }
   ],
   "source": [
    "gen = range(10)\n",
    "print(gen)\n",
    "\n",
    "print(list(gen))"
   ]
  },
  {
   "cell_type": "code",
   "execution_count": 17,
   "metadata": {},
   "outputs": [
    {
     "output_type": "execute_result",
     "data": {
      "text/plain": [
       "['foo', 'peekaboo', 'baz', 'dwarf']"
      ]
     },
     "metadata": {},
     "execution_count": 17
    }
   ],
   "source": [
    "b_list = [\n",
    "'foo'\n",
    ",\n",
    "'peekaboo'\n",
    ",\n",
    "'baz'\n",
    ",\n",
    "'dwarf'\n",
    "]\n",
    "\n",
    "b_list"
   ]
  },
  {
   "cell_type": "code",
   "execution_count": 21,
   "metadata": {},
   "outputs": [
    {
     "output_type": "error",
     "ename": "NameError",
     "evalue": "name 'collections' is not defined",
     "traceback": [
      "\u001b[1;31m---------------------------------------------------------------------------\u001b[0m",
      "\u001b[1;31mNameError\u001b[0m                                 Traceback (most recent call last)",
      "\u001b[1;32m<ipython-input-21-edb0dcfc8423>\u001b[0m in \u001b[0;36m<module>\u001b[1;34m\u001b[0m\n\u001b[0;32m      1\u001b[0m \u001b[1;32mfrom\u001b[0m \u001b[0mcollections\u001b[0m \u001b[1;32mimport\u001b[0m \u001b[0mdeque\u001b[0m\u001b[1;33m\u001b[0m\u001b[1;33m\u001b[0m\u001b[0m\n\u001b[0;32m      2\u001b[0m \u001b[1;33m\u001b[0m\u001b[0m\n\u001b[1;32m----> 3\u001b[1;33m \u001b[0mcollections\u001b[0m\u001b[1;33m.\u001b[0m\u001b[0mdeque\u001b[0m\u001b[1;33m(\u001b[0m\u001b[0mb_list\u001b[0m\u001b[1;33m)\u001b[0m\u001b[1;33m\u001b[0m\u001b[1;33m\u001b[0m\u001b[0m\n\u001b[0m",
      "\u001b[1;31mNameError\u001b[0m: name 'collections' is not defined"
     ]
    }
   ],
   "source": [
    "from collections import deque\n",
    "\n",
    "collections.deque(b_list)"
   ]
  },
  {
   "cell_type": "code",
   "execution_count": 24,
   "metadata": {},
   "outputs": [
    {
     "output_type": "stream",
     "name": "stdout",
     "text": [
      "4\n[1, 2, 2, 2, 3, 4, 7]\n6\n[1, 2, 2, 2, 3, 4, 7]\nNone\n[1, 2, 2, 2, 3, 4, 6, 7]\n"
     ]
    }
   ],
   "source": [
    "import bisect\n",
    "\n",
    "c = [1, 2, 2, 2, 3, 4, 7]\n",
    "\n",
    "print(bisect.bisect (c, 2)) #Te dice en qué lugar iría el elemento\n",
    "print(c)\n",
    "print(bisect.bisect (c, 5))\n",
    "print(c)\n",
    "print(bisect.insort (c, 6))#Inserta el elemento en la lista de forma ordenada\n",
    "print(c)"
   ]
  },
  {
   "cell_type": "code",
   "execution_count": 5,
   "metadata": {},
   "outputs": [],
   "source": [
    "import numpy as np\n"
   ]
  },
  {
   "cell_type": "code",
   "execution_count": null,
   "metadata": {},
   "outputs": [],
   "source": []
  }
 ]
}