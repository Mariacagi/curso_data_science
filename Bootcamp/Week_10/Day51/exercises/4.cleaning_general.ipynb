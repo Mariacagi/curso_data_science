{
 "metadata": {
  "language_info": {
   "codemirror_mode": {
    "name": "ipython",
    "version": 3
   },
   "file_extension": ".py",
   "mimetype": "text/x-python",
   "name": "python",
   "nbconvert_exporter": "python",
   "pygments_lexer": "ipython3",
   "version": 3
  },
  "orig_nbformat": 2
 },
 "nbformat": 4,
 "nbformat_minor": 2,
 "cells": [
  {
   "cell_type": "markdown",
   "metadata": {},
   "source": [
    "Crea un programa que, llamando a una función clean_df(path), lea un archivo leíble por pandas, lo transforme a dataframe y lo limpie si es posible. \n",
    "\n",
    "La función clean_df() retornará el dataframe limpiado."
   ]
  },
  {
   "cell_type": "code",
   "execution_count": null,
   "metadata": {},
   "outputs": [],
   "source": [
    "def clean_df(path):\n",
    "    # your code\n",
    "    return df_cleaned"
   ]
  },
  {
   "cell_type": "markdown",
   "metadata": {},
   "source": [
    "En la función clean_df:\n",
    "\n",
    "- path: representa la ubicación o url de donde pandas lee el archivo a cargar."
   ]
  },
  {
   "cell_type": "code",
   "execution_count": null,
   "metadata": {},
   "outputs": [],
   "source": [
    "import pandas as pd\n",
    "import json\n",
    "\n",
    "def clean_df(path):\n",
    "    for x in path:\n",
    "        if path[-3:] == 'csv':\n",
    "            df= pd.read_csv(path)\n",
    "        elif path[-4:] == 'xlsx':\n",
    "            df = pd.read_excel(path)\n",
    "        elif path[-4:] == 'json':\n",
    "            with open(path, \"r\") as json_file_readed:\n",
    "                df = pd.DataFrame(json.load(json_file_readed))\n",
    "        else: \n",
    "            print('Please use csv / json / xlsx files only')\n",
    "    return (df)"
   ]
  }
 ]
}