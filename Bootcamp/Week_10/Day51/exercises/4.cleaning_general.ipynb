{
 "metadata": {
  "language_info": {
   "codemirror_mode": {
    "name": "ipython",
    "version": 3
   },
   "file_extension": ".py",
   "mimetype": "text/x-python",
   "name": "python",
   "nbconvert_exporter": "python",
   "pygments_lexer": "ipython3",
   "version": 3
  },
  "orig_nbformat": 2
 },
 "nbformat": 4,
 "nbformat_minor": 2,
 "cells": [
  {
   "cell_type": "markdown",
   "metadata": {},
   "source": [
    "Crea un programa que, llamando a una función clean_df(path), lea un archivo leíble por pandas, lo transforme a dataframe y lo limpie si es posible. \n",
    "\n",
    "La función clean_df() retornará el dataframe limpiado."
   ]
  },
  {
   "cell_type": "code",
   "execution_count": null,
   "metadata": {},
   "outputs": [],
   "source": [
    "def clean_df(path):\n",
    "    # your code\n",
    "    return df_cleaned"
   ]
  },
  {
   "cell_type": "markdown",
   "metadata": {},
   "source": [
    "En la función clean_df:\n",
    "\n",
    "- path: representa la ubicación o url de donde pandas lee el archivo a cargar."
   ]
  },
  {
   "cell_type": "code",
   "execution_count": null,
   "metadata": {},
   "outputs": [],
   "source": [
    "import pandas as pd\n",
    "import json\n",
    "\n",
    "def clean_df(path, lista_col_nans, col1, col2, lista_col_final, norm=False, drop_nans=True, my_decision=0):\n",
    "    for x in path:\n",
    "        if path[-3:] == 'csv':\n",
    "            df= pd.read_csv(path)\n",
    "        elif path[-4:] == 'xlsx':\n",
    "            df = pd.read_excel(path)\n",
    "        elif path[-4:] == 'json':\n",
    "            with open(path, \"r\") as json_file_readed:\n",
    "                df = pd.DataFrame(json.load(json_file_readed))\n",
    "        else: \n",
    "            print('Please use csv / json / xlsx files only')\n",
    "\n",
    "    df_modified = df.copy()\n",
    "    if drop_nans:\n",
    "        # 1. Elimino columna 9 y 11 por tener nan\n",
    "        df_modified.drop([lista_col_nans], 1, inplace=True)\n",
    "    else:\n",
    "        # Convierto NaNs a la mean de esas columnas\n",
    "        df_modified[col1] = df_modified[col1].fillna(df_modified[col1].mean())\n",
    "        df_modified[col2] = df_modified[col2].fillna(df_modified[col2].mean())\n",
    "\n",
    "    # 2, 3 y 4. Realizo el encoder de las categóricas además de normalizar\n",
    "    # 2.Paso las columnas \"Object\" a numéricas\n",
    "    X_categorical_no_numbers = df_modified[df_modified.select_dtypes('object').columns].apply(le.fit_transform)\n",
    "    # 3. Cojo solo columnas numéricas\n",
    "    X_others = df_modified.select_dtypes(exclude=['object'])\n",
    "    if norm:\n",
    "        # 4. Normalizo las columnas numéricas\n",
    "        X_others = normalize_dataframe(df=X_others)\n",
    "    # 5. Concateno el resultado final\n",
    "    df_modified = pd.concat([X_others, X_categorical_no_numbers], axis=1)\n",
    "\n",
    "    if my_decision == 1:\n",
    "        # me quedo solo con las columnas si no eliminadas: \n",
    "        # [admission_deposit, city_code_patient, age, hospital_code, available extra rooms in hospital, hospital_type_code_feat_hospital_code, visitors_with_patient, bed grade, severity of illness]\n",
    "        if drop_nans:\n",
    "            df_modified = df_modified[[lista_col_final]]\n",
    "        else:\n",
    "            df_modified = df_modified[[lista_col_final]]\n",
    "\n",
    "    return df_modified"
   ]
  }
 ]
}