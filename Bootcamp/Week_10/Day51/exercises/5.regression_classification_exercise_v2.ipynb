{
 "metadata": {
  "language_info": {
   "codemirror_mode": {
    "name": "ipython",
    "version": 3
   },
   "file_extension": ".py",
   "mimetype": "text/x-python",
   "name": "python",
   "nbconvert_exporter": "python",
   "pygments_lexer": "ipython3",
   "version": "3.9.0-final"
  },
  "orig_nbformat": 2,
  "kernelspec": {
   "name": "python3",
   "display_name": "Python 3.9.0 64-bit",
   "metadata": {
    "interpreter": {
     "hash": "af698c02722c81864863429d928a3bd8a8dcc030c4156359d3ef8b980fb01319"
    }
   }
  }
 },
 "nbformat": 4,
 "nbformat_minor": 2,
 "cells": [
  {
   "cell_type": "markdown",
   "metadata": {},
   "source": [
    "Añade los dos algoritmos que hemos aprendido hoy (Polynomial, SVM) al programa del archivo \"3.regression_classification_exercise\" del CW8D4/exercises.\n",
    "\n",
    "Haz que se puedan ejecutar de forma genérica para varias features de los algoritmos. Por ejemplo, que se ejecute con \"param\" para diferentes grados del polinomio y para usar diferentes kernels en SVM. "
   ]
  },
  {
   "cell_type": "code",
   "execution_count": 1,
   "metadata": {},
   "outputs": [],
   "source": [
    "from sklearn.model_selection import train_test_split\n",
    "\n",
    "from sklearn.linear_model import LinearRegression\n",
    "from sklearn.linear_model import LogisticRegression\n",
    "from sklearn.neighbors import KNeighborsClassifier\n",
    "from sklearn.preprocessing import PolynomialFeatures\n",
    "from sklearn import svm\n",
    "\n",
    "from sklearn.metrics import r2_score\n",
    "\n",
    "import numpy as np\n",
    "import pandas as pd"
   ]
  },
  {
   "cell_type": "code",
   "execution_count": 6,
   "metadata": {},
   "outputs": [],
   "source": [
    "def choose_model(option_user, params=None):\n",
    "    \n",
    "    if option_user == \"3\" or option_user == \"2\" or option_user == \"1\" or option_user == \"4\" or option_user == \"5\":\n",
    "        model = option_user\n",
    "    else:\n",
    "        print(\"ERROR!!! Please, enter a number between 1 to 5\")\n",
    "    return model, params\n",
    "\n",
    "def train_model(df, target_name, validation_size=0.20, seed=100, column_name=None):\n",
    "    # Selección de modelo. He quitado model de arriba porque no entiendo por qué hay que pasarlo.\n",
    "    model, params = choose_model(option_user=input(\"Please, select a number between 1 to 5: 1 = LinearRegression, 2 = LogisticRegression, 3 = KNeighbors Classifier\"), params = param)\n",
    "    dataframe = pd.read_csv(df)\n",
    "\n",
    "    #División X e y\n",
    "    if model == \"1\" or model == \"4\":\n",
    "        X = dataframe[column_name].to_numpy().reshape(-1,1)\n",
    "        y = dataframe[target_name].to_numpy().reshape(-1,1)\n",
    "\n",
    "    elif model == \"5\":\n",
    "        X = mat_data[column_name]\n",
    "        y = mat_data[target_name].ravel()\n",
    "\n",
    "    else:\n",
    "        X = np.array(dataframe.drop([target_name], axis=1))\n",
    "        y = np.array(dataframe[target_name])\n",
    "\n",
    "    #División train y test\n",
    "    X_train, X_test, y_train, y_test = train_test_split(X, y, test_size=validation_size, random_state=seed)\n",
    "\n",
    "    #Selección del modelo\n",
    "    if model == \"1\":\n",
    "        model = LinearRegression(n_jobs=-1)\n",
    "    \n",
    "    elif model == \"2\":\n",
    "        model = LogisticRegression()\n",
    "\n",
    "    elif model == \"3\":\n",
    "        model = KNeighborsClassifier(n_neighbors=params)\n",
    "\n",
    "    elif model == \"4\":\n",
    "        model = PolynomialFeatures(degree) \n",
    "        X_poly = model.fit_transform(X_train.reshape(-1, 1), y_train)\n",
    "        model_lin = LinearRegression()\n",
    "\n",
    "    elif model == \"5\":\n",
    "        model = svm.LinearSVC(C=params)\n",
    "\n",
    "\n",
    "    #Entrenamiento del modelo\n",
    "    if model == \"4\":\n",
    "        model_trained = model_lin.fit(X_poly, y_train)\n",
    "\n",
    "    elif model == \"5\":\n",
    "        model_trained = model.fit(X, y)\n",
    "\n",
    "    else: \n",
    "        model_trained = model.fit(X_train, y_train)\n",
    "\n",
    "    #Score\n",
    "    if model == \"4\":\n",
    "        y_pred = model_lin.predict(X_poly)\n",
    "        accuracy = r2_score(y_train, y_pred)\n",
    "\n",
    "    elif model == \"5\":\n",
    "        accuracy = model.score(X, y)\n",
    "\n",
    "    else:\n",
    "        accuracy = model.score(X_test, y_test) #¿Cuál de los tres tipos es? Es decir, X/X_train/X_test\n",
    "\n",
    "    return model_trained, accuracy\n",
    "\n",
    "def main():\n",
    "    model_trained, accuracy = train_model(df = df, target_name = target_name, column_name=column_name)\n",
    "    print(\"The accuracy of the model is:\", accuracy*100)\n",
    "    return model_trained"
   ]
  },
  {
   "cell_type": "code",
   "execution_count": 7,
   "metadata": {},
   "outputs": [],
   "source": [
    "def predict_new_data(model_trained, to_pred):\n",
    "    \"\"\"\n",
    "    Dado el modelo entrenado y los datos sobre los que predecir,\n",
    "    esta función devuelve la predicción\n",
    "    \"\"\"\n",
    "    y_pred = model_trained.predict(to_pred)\n",
    "    return y_pred"
   ]
  },
  {
   "cell_type": "code",
   "execution_count": null,
   "metadata": {},
   "outputs": [],
   "source": []
  }
 ]
}