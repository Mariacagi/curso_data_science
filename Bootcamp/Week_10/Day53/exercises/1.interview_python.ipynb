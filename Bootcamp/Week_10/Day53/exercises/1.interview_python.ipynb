{
 "metadata": {
  "language_info": {
   "codemirror_mode": {
    "name": "ipython",
    "version": 3
   },
   "file_extension": ".py",
   "mimetype": "text/x-python",
   "name": "python",
   "nbconvert_exporter": "python",
   "pygments_lexer": "ipython3",
   "version": "3.9.0-final"
  },
  "orig_nbformat": 2,
  "kernelspec": {
   "name": "python3",
   "display_name": "Python 3.9.0 64-bit",
   "metadata": {
    "interpreter": {
     "hash": "af698c02722c81864863429d928a3bd8a8dcc030c4156359d3ef8b980fb01319"
    }
   }
  }
 },
 "nbformat": 4,
 "nbformat_minor": 2,
 "cells": [
  {
   "cell_type": "markdown",
   "metadata": {},
   "source": [
    "Here's your coding interview problem for today.\n",
    "\n",
    "This problem was asked by Google.\n",
    "\n",
    "You are given an M by N matrix consisting of booleans that represents a board. Each True boolean represents a wall. Each False boolean represents a tile you can walk on.\n",
    "\n",
    "Given this matrix, a start coordinate, and an end coordinate, return the minimum number of steps required to reach the end coordinate from the start. If there is no possible path, then return null. You can move up, left, down, and right. You cannot move through walls. You cannot wrap around the edges of the board.\n",
    "\n",
    "For example, given the following board:\n",
    "\n",
    ">f, f, f, f,\n",
    "\n",
    ">t, t, f, t,\n",
    "\n",
    ">f, f, f, f,\n",
    "\n",
    ">f, f, f, f\n",
    "\n",
    "and start = (3, 0) (bottom left) and end = (0, 0) (top left), the minimum number of steps required to reach the end is 7, since we would need to go through (1, 2) because there is a wall everywhere else on the second row."
   ]
  },
  {
   "cell_type": "code",
   "execution_count": 17,
   "metadata": {},
   "outputs": [
    {
     "output_type": "execute_result",
     "data": {
      "text/plain": [
       "[['f', 'f', 'f', 'f'],\n",
       " ['t', 't', 'f', 't'],\n",
       " ['f', 'f', 'f', 'f'],\n",
       " ['f', 'f', 'f', 'f']]"
      ]
     },
     "metadata": {},
     "execution_count": 17
    }
   ],
   "source": [
    "matrix = [[\"f\", \"f\", \"f\", \"f\"],\n",
    "\n",
    "[\"t\", \"t\", \"f\", \"t\"],\n",
    "\n",
    "[\"f\", \"f\", \"f\", \"f\"],\n",
    "\n",
    "[\"f\", \"f\", \"f\", \"f\"]]\n",
    "\n",
    "matrix"
   ]
  },
  {
   "cell_type": "code",
   "execution_count": 33,
   "metadata": {},
   "outputs": [
    {
     "output_type": "stream",
     "name": "stdout",
     "text": [
      "hey\n"
     ]
    },
    {
     "output_type": "error",
     "ename": "IndexError",
     "evalue": "list index out of range",
     "traceback": [
      "\u001b[1;31m---------------------------------------------------------------------------\u001b[0m",
      "\u001b[1;31mIndexError\u001b[0m                                Traceback (most recent call last)",
      "\u001b[1;32m<ipython-input-33-c49af14a5738>\u001b[0m in \u001b[0;36m<module>\u001b[1;34m\u001b[0m\n\u001b[0;32m     17\u001b[0m     \u001b[0mprint\u001b[0m\u001b[1;33m(\u001b[0m\u001b[1;34m\"hey\"\u001b[0m\u001b[1;33m)\u001b[0m\u001b[1;33m\u001b[0m\u001b[1;33m\u001b[0m\u001b[0m\n\u001b[0;32m     18\u001b[0m \u001b[1;33m\u001b[0m\u001b[0m\n\u001b[1;32m---> 19\u001b[1;33m     \u001b[1;32mif\u001b[0m \u001b[0mmatrix\u001b[0m\u001b[1;33m[\u001b[0m\u001b[0mxPos\u001b[0m \u001b[1;33m+\u001b[0m \u001b[1;36m1\u001b[0m\u001b[1;33m]\u001b[0m\u001b[1;33m[\u001b[0m\u001b[0myPos\u001b[0m\u001b[1;33m]\u001b[0m \u001b[1;33m==\u001b[0m \u001b[1;34m\"f\"\u001b[0m  \u001b[1;32mand\u001b[0m \u001b[0mmatrix\u001b[0m\u001b[1;33m[\u001b[0m\u001b[0mxPos\u001b[0m\u001b[1;33m]\u001b[0m \u001b[1;33m!=\u001b[0m \u001b[0mmatrix\u001b[0m\u001b[1;33m[\u001b[0m\u001b[0mxPos\u001b[0m\u001b[1;33m]\u001b[0m\u001b[1;33m[\u001b[0m\u001b[1;33m-\u001b[0m\u001b[1;36m1\u001b[0m\u001b[1;33m]\u001b[0m\u001b[1;33m:\u001b[0m  \u001b[1;31m#  Check up\u001b[0m\u001b[1;33m\u001b[0m\u001b[1;33m\u001b[0m\u001b[0m\n\u001b[0m\u001b[0;32m     20\u001b[0m         \u001b[0mxPos\u001b[0m \u001b[1;33m+=\u001b[0m \u001b[1;36m1\u001b[0m\u001b[1;33m\u001b[0m\u001b[1;33m\u001b[0m\u001b[0m\n\u001b[0;32m     21\u001b[0m         \u001b[0msteps\u001b[0m \u001b[1;33m=\u001b[0m \u001b[0msteps\u001b[0m \u001b[1;33m+\u001b[0m \u001b[1;36m1\u001b[0m\u001b[1;33m\u001b[0m\u001b[1;33m\u001b[0m\u001b[0m\n",
      "\u001b[1;31mIndexError\u001b[0m: list index out of range"
     ]
    }
   ],
   "source": [
    "xPos = 3\n",
    "yPos = 0\n",
    "\n",
    "xPosFinal = 2\n",
    "yPosFinal = 0\n",
    "\n",
    "steps = 0\n",
    "\n",
    "# right = matrix[xPos][yPos + 1]\n",
    "# # down = \n",
    "# left = matrix[xPos][yPos - 1]\n",
    "# up = matrix[xPos - 1][yPos]\n",
    "\n",
    "#   Look up then look right then look down then look down then look left\n",
    "\n",
    "while xPos != xPosFinal or yPos != yPosFinal:\n",
    "    print(\"hey\")\n",
    "    \n",
    "    if matrix[xPos + 1][yPos] == \"f\"  and matrix[xPos] != matrix[xPos][-1]:  #  Check up\n",
    "        xPos += 1\n",
    "        steps = steps + 1\n",
    "\n",
    "    elif matrix[xPos - 1][yPos] == \"f\" and xPos != 0: # Check down\n",
    "        xPos -= 1\n",
    "        steps = steps + 1\n",
    "\n",
    "    if matrix[xPos][yPos + 1] == \"f\" and yPos != 0:  #  Check right\n",
    "        yPos += 1\n",
    "        steps = steps + 1\n",
    "\n",
    "    elif matrix[xPos][yPos - 1] == \"f\" and matrix[yPos] != matrix[yPos][-1]:  # Check left\n",
    "        yPos -= 1\n",
    "        steps = steps + 1\n",
    "    \n",
    "\n",
    "print(\"Getting through this maze requires \" + str(steps) + \" steps to complete.\")"
   ]
  },
  {
   "cell_type": "code",
   "execution_count": 15,
   "metadata": {},
   "outputs": [],
   "source": [
    "def steps(start:tuple, end:tuple):\n",
    "    x= start[0]\n",
    "    y= start[1]\n",
    "    xf=end[0]\n",
    "    yf=end[1]\n",
    "    steps=0\n",
    "\n",
    "    while x!=xf or y!=yf:\n",
    "        if x<xf and matrix[x+1][y]==\"f\": #check up\n",
    "            x+=1\n",
    "            steps+=1\n",
    "        elif x>xf and matrix[x-1][y]==\"f\": #check down\n",
    "            x+=-1\n",
    "            steps+=1\n",
    "        if y<yf and matrix[x][y+1]==\"f\": #check right\n",
    "            y+=1\n",
    "            steps+=1\n",
    "        elif y>yf and matrix[x][y-1]==\"f\": #check left\n",
    "            y+=-1\n",
    "            steps+=1\n",
    "        else:\n",
    "            if y==yf and x!=xf:\n",
    "                if y<2:\n",
    "                    y+=2\n",
    "                    steps+=2\n",
    "                else:\n",
    "                    y+=-1\n",
    "                    steps+=1\n",
    "    print(\"Final Steps:\", steps)\n",
    "\n",
    "    return steps"
   ]
  },
  {
   "cell_type": "code",
   "execution_count": 18,
   "metadata": {},
   "outputs": [
    {
     "output_type": "stream",
     "name": "stdout",
     "text": [
      "Final Steps: 7\n"
     ]
    },
    {
     "output_type": "execute_result",
     "data": {
      "text/plain": [
       "7"
      ]
     },
     "metadata": {},
     "execution_count": 18
    }
   ],
   "source": [
    "steps(start=(3, 0), end=(0, 0))"
   ]
  },
  {
   "cell_type": "code",
   "execution_count": null,
   "metadata": {},
   "outputs": [],
   "source": []
  }
 ]
}