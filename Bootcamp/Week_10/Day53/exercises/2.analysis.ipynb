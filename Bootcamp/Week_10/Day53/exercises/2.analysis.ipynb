{
 "metadata": {
  "language_info": {
   "codemirror_mode": {
    "name": "ipython",
    "version": 3
   },
   "file_extension": ".py",
   "mimetype": "text/x-python",
   "name": "python",
   "nbconvert_exporter": "python",
   "pygments_lexer": "ipython3",
   "version": "3.9.0-final"
  },
  "orig_nbformat": 2,
  "kernelspec": {
   "name": "python3",
   "display_name": "Python 3.9.0 64-bit",
   "metadata": {
    "interpreter": {
     "hash": "af698c02722c81864863429d928a3bd8a8dcc030c4156359d3ef8b980fb01319"
    }
   }
  }
 },
 "nbformat": 4,
 "nbformat_minor": 2,
 "cells": [
  {
   "cell_type": "markdown",
   "metadata": {},
   "source": [
    "A partir del archivo food_100, se pide:\n",
    "\n",
    "1. Limpiar el archivo borrando las columnas Unnamed.\n",
    "2. ¿Qué porcentaje de valores NaN hay en cada columna?\n",
    "3. ¿Tendría algún sentido clasificar el nombre de los alimentos a partir del top5 de columnas numéricas con menos valores NaN?"
   ]
  },
  {
   "cell_type": "code",
   "execution_count": 18,
   "metadata": {},
   "outputs": [
    {
     "output_type": "execute_result",
     "data": {
      "text/plain": [
       "    Unnamed: 0   code                                                url  \\\n",
       "0            0   3087  http://world-en.openfoodfacts.org/product/0000...   \n",
       "1            1   4530  http://world-en.openfoodfacts.org/product/0000...   \n",
       "2            2   4559  http://world-en.openfoodfacts.org/product/0000...   \n",
       "3            3  16087  http://world-en.openfoodfacts.org/product/0000...   \n",
       "4            4  16094  http://world-en.openfoodfacts.org/product/0000...   \n",
       "..         ...    ...                                                ...   \n",
       "95          95  34715  http://world-en.openfoodfacts.org/product/0000...   \n",
       "96          96  34784  http://world-en.openfoodfacts.org/product/0000...   \n",
       "97          97  34791  http://world-en.openfoodfacts.org/product/0000...   \n",
       "98          98  35071  http://world-en.openfoodfacts.org/product/0000...   \n",
       "99          99  35170  http://world-en.openfoodfacts.org/product/0000...   \n",
       "\n",
       "                       creator   created_t      created_datetime  \\\n",
       "0   openfoodfacts-contributors  1474103866  2016-09-17T09:17:46Z   \n",
       "1              usda-ndb-import  1489069957  2017-03-09T14:32:37Z   \n",
       "2              usda-ndb-import  1489069957  2017-03-09T14:32:37Z   \n",
       "3              usda-ndb-import  1489055731  2017-03-09T10:35:31Z   \n",
       "4              usda-ndb-import  1489055653  2017-03-09T10:34:13Z   \n",
       "..                         ...         ...                   ...   \n",
       "95             usda-ndb-import  1489055715  2017-03-09T10:35:15Z   \n",
       "96             usda-ndb-import  1489138485  2017-03-10T09:34:45Z   \n",
       "97             usda-ndb-import  1489055720  2017-03-09T10:35:20Z   \n",
       "98             usda-ndb-import  1489138484  2017-03-10T09:34:44Z   \n",
       "99             usda-ndb-import  1489138488  2017-03-10T09:34:48Z   \n",
       "\n",
       "    last_modified_t last_modified_datetime                    product_name  \\\n",
       "0        1474103893   2016-09-17T09:18:13Z              Farine de blé noir   \n",
       "1        1489069957   2017-03-09T14:32:37Z  Banana Chips Sweetened (Whole)   \n",
       "2        1489069957   2017-03-09T14:32:37Z                         Peanuts   \n",
       "3        1489055731   2017-03-09T10:35:31Z          Organic Salted Nut Mix   \n",
       "4        1489055653   2017-03-09T10:34:13Z                 Organic Polenta   \n",
       "..              ...                    ...                             ...   \n",
       "95       1489055715   2017-03-09T10:35:15Z            Organic Pecan Halves   \n",
       "96       1489138485   2017-03-10T09:34:45Z    Unsalted Dry Roasted Almonds   \n",
       "97       1489055720   2017-03-09T10:35:20Z       Organic Raw Pumpkin Seeds   \n",
       "98       1489138484   2017-03-10T09:34:44Z  Organic Extra Virgin Olive Oil   \n",
       "99       1489138488   2017-03-10T09:34:48Z                   Liquid Aminos   \n",
       "\n",
       "    generic_name  ... fruits-vegetables-nuts_100g  \\\n",
       "0            NaN  ...                         NaN   \n",
       "1            NaN  ...                         NaN   \n",
       "2            NaN  ...                         NaN   \n",
       "3            NaN  ...                         NaN   \n",
       "4            NaN  ...                         NaN   \n",
       "..           ...  ...                         ...   \n",
       "95           NaN  ...                         NaN   \n",
       "96           NaN  ...                         NaN   \n",
       "97           NaN  ...                         NaN   \n",
       "98           NaN  ...                         NaN   \n",
       "99           NaN  ...                         NaN   \n",
       "\n",
       "   fruits-vegetables-nuts-estimate_100g collagen-meat-protein-ratio_100g  \\\n",
       "0                                   NaN                              NaN   \n",
       "1                                   NaN                              NaN   \n",
       "2                                   NaN                              NaN   \n",
       "3                                   NaN                              NaN   \n",
       "4                                   NaN                              NaN   \n",
       "..                                  ...                              ...   \n",
       "95                                  NaN                              NaN   \n",
       "96                                  NaN                              NaN   \n",
       "97                                  NaN                              NaN   \n",
       "98                                  NaN                              NaN   \n",
       "99                                  NaN                              NaN   \n",
       "\n",
       "   cocoa_100g chlorophyl_100g carbon-footprint_100g nutrition-score-fr_100g  \\\n",
       "0         NaN             NaN                   NaN                     NaN   \n",
       "1         NaN             NaN                   NaN                    14.0   \n",
       "2         NaN             NaN                   NaN                     0.0   \n",
       "3         NaN             NaN                   NaN                    12.0   \n",
       "4         NaN             NaN                   NaN                     NaN   \n",
       "..        ...             ...                   ...                     ...   \n",
       "95        NaN             NaN                   NaN                     NaN   \n",
       "96        NaN             NaN                   NaN                     NaN   \n",
       "97        NaN             NaN                   NaN                    12.0   \n",
       "98        NaN             NaN                   NaN                     NaN   \n",
       "99        NaN             NaN                   NaN                     NaN   \n",
       "\n",
       "   nutrition-score-uk_100g  glycemic-index_100g  water-hardness_100g  \n",
       "0                      NaN                  NaN                  NaN  \n",
       "1                     14.0                  NaN                  NaN  \n",
       "2                      0.0                  NaN                  NaN  \n",
       "3                     12.0                  NaN                  NaN  \n",
       "4                      NaN                  NaN                  NaN  \n",
       "..                     ...                  ...                  ...  \n",
       "95                     NaN                  NaN                  NaN  \n",
       "96                     NaN                  NaN                  NaN  \n",
       "97                    12.0                  NaN                  NaN  \n",
       "98                     NaN                  NaN                  NaN  \n",
       "99                     NaN                  NaN                  NaN  \n",
       "\n",
       "[100 rows x 164 columns]"
      ],
      "text/html": "<div>\n<style scoped>\n    .dataframe tbody tr th:only-of-type {\n        vertical-align: middle;\n    }\n\n    .dataframe tbody tr th {\n        vertical-align: top;\n    }\n\n    .dataframe thead th {\n        text-align: right;\n    }\n</style>\n<table border=\"1\" class=\"dataframe\">\n  <thead>\n    <tr style=\"text-align: right;\">\n      <th></th>\n      <th>Unnamed: 0</th>\n      <th>code</th>\n      <th>url</th>\n      <th>creator</th>\n      <th>created_t</th>\n      <th>created_datetime</th>\n      <th>last_modified_t</th>\n      <th>last_modified_datetime</th>\n      <th>product_name</th>\n      <th>generic_name</th>\n      <th>...</th>\n      <th>fruits-vegetables-nuts_100g</th>\n      <th>fruits-vegetables-nuts-estimate_100g</th>\n      <th>collagen-meat-protein-ratio_100g</th>\n      <th>cocoa_100g</th>\n      <th>chlorophyl_100g</th>\n      <th>carbon-footprint_100g</th>\n      <th>nutrition-score-fr_100g</th>\n      <th>nutrition-score-uk_100g</th>\n      <th>glycemic-index_100g</th>\n      <th>water-hardness_100g</th>\n    </tr>\n  </thead>\n  <tbody>\n    <tr>\n      <th>0</th>\n      <td>0</td>\n      <td>3087</td>\n      <td>http://world-en.openfoodfacts.org/product/0000...</td>\n      <td>openfoodfacts-contributors</td>\n      <td>1474103866</td>\n      <td>2016-09-17T09:17:46Z</td>\n      <td>1474103893</td>\n      <td>2016-09-17T09:18:13Z</td>\n      <td>Farine de blé noir</td>\n      <td>NaN</td>\n      <td>...</td>\n      <td>NaN</td>\n      <td>NaN</td>\n      <td>NaN</td>\n      <td>NaN</td>\n      <td>NaN</td>\n      <td>NaN</td>\n      <td>NaN</td>\n      <td>NaN</td>\n      <td>NaN</td>\n      <td>NaN</td>\n    </tr>\n    <tr>\n      <th>1</th>\n      <td>1</td>\n      <td>4530</td>\n      <td>http://world-en.openfoodfacts.org/product/0000...</td>\n      <td>usda-ndb-import</td>\n      <td>1489069957</td>\n      <td>2017-03-09T14:32:37Z</td>\n      <td>1489069957</td>\n      <td>2017-03-09T14:32:37Z</td>\n      <td>Banana Chips Sweetened (Whole)</td>\n      <td>NaN</td>\n      <td>...</td>\n      <td>NaN</td>\n      <td>NaN</td>\n      <td>NaN</td>\n      <td>NaN</td>\n      <td>NaN</td>\n      <td>NaN</td>\n      <td>14.0</td>\n      <td>14.0</td>\n      <td>NaN</td>\n      <td>NaN</td>\n    </tr>\n    <tr>\n      <th>2</th>\n      <td>2</td>\n      <td>4559</td>\n      <td>http://world-en.openfoodfacts.org/product/0000...</td>\n      <td>usda-ndb-import</td>\n      <td>1489069957</td>\n      <td>2017-03-09T14:32:37Z</td>\n      <td>1489069957</td>\n      <td>2017-03-09T14:32:37Z</td>\n      <td>Peanuts</td>\n      <td>NaN</td>\n      <td>...</td>\n      <td>NaN</td>\n      <td>NaN</td>\n      <td>NaN</td>\n      <td>NaN</td>\n      <td>NaN</td>\n      <td>NaN</td>\n      <td>0.0</td>\n      <td>0.0</td>\n      <td>NaN</td>\n      <td>NaN</td>\n    </tr>\n    <tr>\n      <th>3</th>\n      <td>3</td>\n      <td>16087</td>\n      <td>http://world-en.openfoodfacts.org/product/0000...</td>\n      <td>usda-ndb-import</td>\n      <td>1489055731</td>\n      <td>2017-03-09T10:35:31Z</td>\n      <td>1489055731</td>\n      <td>2017-03-09T10:35:31Z</td>\n      <td>Organic Salted Nut Mix</td>\n      <td>NaN</td>\n      <td>...</td>\n      <td>NaN</td>\n      <td>NaN</td>\n      <td>NaN</td>\n      <td>NaN</td>\n      <td>NaN</td>\n      <td>NaN</td>\n      <td>12.0</td>\n      <td>12.0</td>\n      <td>NaN</td>\n      <td>NaN</td>\n    </tr>\n    <tr>\n      <th>4</th>\n      <td>4</td>\n      <td>16094</td>\n      <td>http://world-en.openfoodfacts.org/product/0000...</td>\n      <td>usda-ndb-import</td>\n      <td>1489055653</td>\n      <td>2017-03-09T10:34:13Z</td>\n      <td>1489055653</td>\n      <td>2017-03-09T10:34:13Z</td>\n      <td>Organic Polenta</td>\n      <td>NaN</td>\n      <td>...</td>\n      <td>NaN</td>\n      <td>NaN</td>\n      <td>NaN</td>\n      <td>NaN</td>\n      <td>NaN</td>\n      <td>NaN</td>\n      <td>NaN</td>\n      <td>NaN</td>\n      <td>NaN</td>\n      <td>NaN</td>\n    </tr>\n    <tr>\n      <th>...</th>\n      <td>...</td>\n      <td>...</td>\n      <td>...</td>\n      <td>...</td>\n      <td>...</td>\n      <td>...</td>\n      <td>...</td>\n      <td>...</td>\n      <td>...</td>\n      <td>...</td>\n      <td>...</td>\n      <td>...</td>\n      <td>...</td>\n      <td>...</td>\n      <td>...</td>\n      <td>...</td>\n      <td>...</td>\n      <td>...</td>\n      <td>...</td>\n      <td>...</td>\n      <td>...</td>\n    </tr>\n    <tr>\n      <th>95</th>\n      <td>95</td>\n      <td>34715</td>\n      <td>http://world-en.openfoodfacts.org/product/0000...</td>\n      <td>usda-ndb-import</td>\n      <td>1489055715</td>\n      <td>2017-03-09T10:35:15Z</td>\n      <td>1489055715</td>\n      <td>2017-03-09T10:35:15Z</td>\n      <td>Organic Pecan Halves</td>\n      <td>NaN</td>\n      <td>...</td>\n      <td>NaN</td>\n      <td>NaN</td>\n      <td>NaN</td>\n      <td>NaN</td>\n      <td>NaN</td>\n      <td>NaN</td>\n      <td>NaN</td>\n      <td>NaN</td>\n      <td>NaN</td>\n      <td>NaN</td>\n    </tr>\n    <tr>\n      <th>96</th>\n      <td>96</td>\n      <td>34784</td>\n      <td>http://world-en.openfoodfacts.org/product/0000...</td>\n      <td>usda-ndb-import</td>\n      <td>1489138485</td>\n      <td>2017-03-10T09:34:45Z</td>\n      <td>1489138485</td>\n      <td>2017-03-10T09:34:45Z</td>\n      <td>Unsalted Dry Roasted Almonds</td>\n      <td>NaN</td>\n      <td>...</td>\n      <td>NaN</td>\n      <td>NaN</td>\n      <td>NaN</td>\n      <td>NaN</td>\n      <td>NaN</td>\n      <td>NaN</td>\n      <td>NaN</td>\n      <td>NaN</td>\n      <td>NaN</td>\n      <td>NaN</td>\n    </tr>\n    <tr>\n      <th>97</th>\n      <td>97</td>\n      <td>34791</td>\n      <td>http://world-en.openfoodfacts.org/product/0000...</td>\n      <td>usda-ndb-import</td>\n      <td>1489055720</td>\n      <td>2017-03-09T10:35:20Z</td>\n      <td>1489055720</td>\n      <td>2017-03-09T10:35:20Z</td>\n      <td>Organic Raw Pumpkin Seeds</td>\n      <td>NaN</td>\n      <td>...</td>\n      <td>NaN</td>\n      <td>NaN</td>\n      <td>NaN</td>\n      <td>NaN</td>\n      <td>NaN</td>\n      <td>NaN</td>\n      <td>12.0</td>\n      <td>12.0</td>\n      <td>NaN</td>\n      <td>NaN</td>\n    </tr>\n    <tr>\n      <th>98</th>\n      <td>98</td>\n      <td>35071</td>\n      <td>http://world-en.openfoodfacts.org/product/0000...</td>\n      <td>usda-ndb-import</td>\n      <td>1489138484</td>\n      <td>2017-03-10T09:34:44Z</td>\n      <td>1489138484</td>\n      <td>2017-03-10T09:34:44Z</td>\n      <td>Organic Extra Virgin Olive Oil</td>\n      <td>NaN</td>\n      <td>...</td>\n      <td>NaN</td>\n      <td>NaN</td>\n      <td>NaN</td>\n      <td>NaN</td>\n      <td>NaN</td>\n      <td>NaN</td>\n      <td>NaN</td>\n      <td>NaN</td>\n      <td>NaN</td>\n      <td>NaN</td>\n    </tr>\n    <tr>\n      <th>99</th>\n      <td>99</td>\n      <td>35170</td>\n      <td>http://world-en.openfoodfacts.org/product/0000...</td>\n      <td>usda-ndb-import</td>\n      <td>1489138488</td>\n      <td>2017-03-10T09:34:48Z</td>\n      <td>1489138488</td>\n      <td>2017-03-10T09:34:48Z</td>\n      <td>Liquid Aminos</td>\n      <td>NaN</td>\n      <td>...</td>\n      <td>NaN</td>\n      <td>NaN</td>\n      <td>NaN</td>\n      <td>NaN</td>\n      <td>NaN</td>\n      <td>NaN</td>\n      <td>NaN</td>\n      <td>NaN</td>\n      <td>NaN</td>\n      <td>NaN</td>\n    </tr>\n  </tbody>\n</table>\n<p>100 rows × 164 columns</p>\n</div>"
     },
     "metadata": {},
     "execution_count": 18
    }
   ],
   "source": [
    "import pandas as pd\n",
    "df = pd.read_csv(\"../data/food_100.csv\")\n",
    "\n",
    "df"
   ]
  },
  {
   "cell_type": "code",
   "execution_count": 24,
   "metadata": {},
   "outputs": [
    {
     "output_type": "execute_result",
     "data": {
      "text/plain": [
       "(100, 163)"
      ]
     },
     "metadata": {},
     "execution_count": 24
    }
   ],
   "source": [
    "#Elimino las columnas que tengan el nombre Unnamed\n",
    "df = df.loc[:,~df.columns.str.match(\"Unnamed\")]\n",
    "df.shape"
   ]
  },
  {
   "cell_type": "code",
   "execution_count": 20,
   "metadata": {},
   "outputs": [
    {
     "output_type": "execute_result",
     "data": {
      "text/plain": [
       "code                         0.0\n",
       "url                          0.0\n",
       "creator                      0.0\n",
       "created_t                    0.0\n",
       "created_datetime             0.0\n",
       "                           ...  \n",
       "carbon-footprint_100g      100.0\n",
       "nutrition-score-fr_100g     63.0\n",
       "nutrition-score-uk_100g     63.0\n",
       "glycemic-index_100g        100.0\n",
       "water-hardness_100g        100.0\n",
       "Length: 163, dtype: float64"
      ]
     },
     "metadata": {},
     "execution_count": 20
    }
   ],
   "source": [
    "# Saco el porcentaje de nulls en cada columna\n",
    "percent_missing = df.isnull().sum() * 100 / len(df)\n",
    "percent_missing"
   ]
  },
  {
   "cell_type": "code",
   "execution_count": 21,
   "metadata": {},
   "outputs": [
    {
     "output_type": "execute_result",
     "data": {
      "text/plain": [
       "                                     column_name  percent_missing\n",
       "code                                        code              0.0\n",
       "url                                          url              0.0\n",
       "creator                                  creator              0.0\n",
       "created_t                              created_t              0.0\n",
       "created_datetime                created_datetime              0.0\n",
       "...                                          ...              ...\n",
       "carbon-footprint_100g      carbon-footprint_100g            100.0\n",
       "nutrition-score-fr_100g  nutrition-score-fr_100g             63.0\n",
       "nutrition-score-uk_100g  nutrition-score-uk_100g             63.0\n",
       "glycemic-index_100g          glycemic-index_100g            100.0\n",
       "water-hardness_100g          water-hardness_100g            100.0\n",
       "\n",
       "[163 rows x 2 columns]"
      ],
      "text/html": "<div>\n<style scoped>\n    .dataframe tbody tr th:only-of-type {\n        vertical-align: middle;\n    }\n\n    .dataframe tbody tr th {\n        vertical-align: top;\n    }\n\n    .dataframe thead th {\n        text-align: right;\n    }\n</style>\n<table border=\"1\" class=\"dataframe\">\n  <thead>\n    <tr style=\"text-align: right;\">\n      <th></th>\n      <th>column_name</th>\n      <th>percent_missing</th>\n    </tr>\n  </thead>\n  <tbody>\n    <tr>\n      <th>code</th>\n      <td>code</td>\n      <td>0.0</td>\n    </tr>\n    <tr>\n      <th>url</th>\n      <td>url</td>\n      <td>0.0</td>\n    </tr>\n    <tr>\n      <th>creator</th>\n      <td>creator</td>\n      <td>0.0</td>\n    </tr>\n    <tr>\n      <th>created_t</th>\n      <td>created_t</td>\n      <td>0.0</td>\n    </tr>\n    <tr>\n      <th>created_datetime</th>\n      <td>created_datetime</td>\n      <td>0.0</td>\n    </tr>\n    <tr>\n      <th>...</th>\n      <td>...</td>\n      <td>...</td>\n    </tr>\n    <tr>\n      <th>carbon-footprint_100g</th>\n      <td>carbon-footprint_100g</td>\n      <td>100.0</td>\n    </tr>\n    <tr>\n      <th>nutrition-score-fr_100g</th>\n      <td>nutrition-score-fr_100g</td>\n      <td>63.0</td>\n    </tr>\n    <tr>\n      <th>nutrition-score-uk_100g</th>\n      <td>nutrition-score-uk_100g</td>\n      <td>63.0</td>\n    </tr>\n    <tr>\n      <th>glycemic-index_100g</th>\n      <td>glycemic-index_100g</td>\n      <td>100.0</td>\n    </tr>\n    <tr>\n      <th>water-hardness_100g</th>\n      <td>water-hardness_100g</td>\n      <td>100.0</td>\n    </tr>\n  </tbody>\n</table>\n<p>163 rows × 2 columns</p>\n</div>"
     },
     "metadata": {},
     "execution_count": 21
    }
   ],
   "source": [
    "# Creo un dataframe con el porcentage de columnas\n",
    "missing_value_df = pd.DataFrame({'column_name': df.columns,\n",
    "                                 'percent_missing': percent_missing})\n",
    "missing_value_df"
   ]
  },
  {
   "cell_type": "code",
   "execution_count": 22,
   "metadata": {},
   "outputs": [
    {
     "output_type": "execute_result",
     "data": {
      "text/plain": [
       "                                             column_name  percent_missing\n",
       "code                                                code              0.0\n",
       "countries_tags                            countries_tags              0.0\n",
       "countries_en                                countries_en              0.0\n",
       "states_tags                                  states_tags              0.0\n",
       "states                                            states              0.0\n",
       "...                                                  ...              ...\n",
       "-arachidic-acid_100g                -arachidic-acid_100g            100.0\n",
       "-stearic-acid_100g                    -stearic-acid_100g            100.0\n",
       "-palmitic-acid_100g                  -palmitic-acid_100g            100.0\n",
       "-eicosapentaenoic-acid_100g  -eicosapentaenoic-acid_100g            100.0\n",
       "water-hardness_100g                  water-hardness_100g            100.0\n",
       "\n",
       "[163 rows x 2 columns]"
      ],
      "text/html": "<div>\n<style scoped>\n    .dataframe tbody tr th:only-of-type {\n        vertical-align: middle;\n    }\n\n    .dataframe tbody tr th {\n        vertical-align: top;\n    }\n\n    .dataframe thead th {\n        text-align: right;\n    }\n</style>\n<table border=\"1\" class=\"dataframe\">\n  <thead>\n    <tr style=\"text-align: right;\">\n      <th></th>\n      <th>column_name</th>\n      <th>percent_missing</th>\n    </tr>\n  </thead>\n  <tbody>\n    <tr>\n      <th>code</th>\n      <td>code</td>\n      <td>0.0</td>\n    </tr>\n    <tr>\n      <th>countries_tags</th>\n      <td>countries_tags</td>\n      <td>0.0</td>\n    </tr>\n    <tr>\n      <th>countries_en</th>\n      <td>countries_en</td>\n      <td>0.0</td>\n    </tr>\n    <tr>\n      <th>states_tags</th>\n      <td>states_tags</td>\n      <td>0.0</td>\n    </tr>\n    <tr>\n      <th>states</th>\n      <td>states</td>\n      <td>0.0</td>\n    </tr>\n    <tr>\n      <th>...</th>\n      <td>...</td>\n      <td>...</td>\n    </tr>\n    <tr>\n      <th>-arachidic-acid_100g</th>\n      <td>-arachidic-acid_100g</td>\n      <td>100.0</td>\n    </tr>\n    <tr>\n      <th>-stearic-acid_100g</th>\n      <td>-stearic-acid_100g</td>\n      <td>100.0</td>\n    </tr>\n    <tr>\n      <th>-palmitic-acid_100g</th>\n      <td>-palmitic-acid_100g</td>\n      <td>100.0</td>\n    </tr>\n    <tr>\n      <th>-eicosapentaenoic-acid_100g</th>\n      <td>-eicosapentaenoic-acid_100g</td>\n      <td>100.0</td>\n    </tr>\n    <tr>\n      <th>water-hardness_100g</th>\n      <td>water-hardness_100g</td>\n      <td>100.0</td>\n    </tr>\n  </tbody>\n</table>\n<p>163 rows × 2 columns</p>\n</div>"
     },
     "metadata": {},
     "execution_count": 22
    }
   ],
   "source": [
    "# Ordeno el dataframe por porcentaje\n",
    "missing_value_df.sort_values('percent_missing', inplace=True)\n",
    "missing_value_df"
   ]
  },
  {
   "source": [
    "### ¿Tendría algún sentido clasificar el nombre de los alimentos a partir del top5 de columnas numéricas con menos valores NaN?\n",
    "\n",
    "No tendría sentido ya que las 5 primeras columnas no dan datos sobre los alimentos, solo información sobre el alimento como el código que tienen o la url al producto."
   ],
   "cell_type": "markdown",
   "metadata": {}
  }
 ]
}