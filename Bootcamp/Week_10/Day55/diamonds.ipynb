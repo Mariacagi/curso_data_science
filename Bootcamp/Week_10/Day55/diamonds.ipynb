{
 "cells": [
  {
   "cell_type": "markdown",
   "metadata": {},
   "source": [
    "![image](images/how.png)"
   ]
  },
  {
   "source": [
    "#### Aquí encontrarás todo lo que necesitas saber: https://www.kaggle.com/t/997162b5cae941f08ac3d3e6ebab504e"
   ],
   "cell_type": "markdown",
   "metadata": {}
  },
  {
   "cell_type": "code",
   "execution_count": 1,
   "metadata": {},
   "outputs": [
    {
     "output_type": "stream",
     "name": "stdout",
     "text": [
      "Collecting pandas_profiling\n",
      "  Downloading pandas_profiling-2.10.1-py2.py3-none-any.whl (240 kB)\n",
      "Collecting tqdm>=4.48.2\n",
      "  Downloading tqdm-4.56.0-py2.py3-none-any.whl (72 kB)\n",
      "Collecting ipywidgets>=7.5.1\n",
      "  Downloading ipywidgets-7.6.3-py2.py3-none-any.whl (121 kB)\n",
      "Requirement already satisfied: requests>=2.24.0 in c:\\users\\maria\\appdata\\local\\programs\\python\\python39\\lib\\site-packages (from pandas_profiling) (2.25.0)\n",
      "Collecting visions[type_image_path]==0.6.0\n",
      "  Downloading visions-0.6.0-py3-none-any.whl (75 kB)\n",
      "Requirement already satisfied: matplotlib>=3.2.0 in c:\\users\\maria\\appdata\\local\\programs\\python\\python39\\lib\\site-packages (from pandas_profiling) (3.3.3)\n",
      "Requirement already satisfied: attrs>=19.3.0 in c:\\users\\maria\\appdata\\local\\programs\\python\\python39\\lib\\site-packages (from pandas_profiling) (20.3.0)\n",
      "Requirement already satisfied: pandas!=1.0.0,!=1.0.1,!=1.0.2,!=1.1.0,>=0.25.3 in c:\\users\\maria\\appdata\\local\\programs\\python\\python39\\lib\\site-packages (from pandas_profiling) (1.1.5)\n",
      "Collecting confuse>=1.0.0\n",
      "  Downloading confuse-1.4.0-py2.py3-none-any.whl (21 kB)\n",
      "Requirement already satisfied: joblib in c:\\users\\maria\\appdata\\local\\programs\\python\\python39\\lib\\site-packages (from pandas_profiling) (1.0.0)\n",
      "Collecting tangled-up-in-unicode>=0.0.6\n",
      "  Downloading tangled_up_in_unicode-0.0.6-py3-none-any.whl (3.1 MB)\n",
      "Requirement already satisfied: numpy>=1.16.0 in c:\\users\\maria\\appdata\\local\\programs\\python\\python39\\lib\\site-packages (from pandas_profiling) (1.19.3)\n",
      "Collecting phik>=0.10.0\n",
      "  Downloading phik-0.11.0.tar.gz (594 kB)\n",
      "Requirement already satisfied: jinja2>=2.11.1 in c:\\users\\maria\\appdata\\local\\programs\\python\\python39\\lib\\site-packages (from pandas_profiling) (2.11.2)\n",
      "Collecting htmlmin>=0.1.12\n",
      "  Downloading htmlmin-0.1.12.tar.gz (19 kB)\n",
      "Collecting missingno>=0.4.2\n",
      "  Downloading missingno-0.4.2-py3-none-any.whl (9.7 kB)\n",
      "Requirement already satisfied: seaborn>=0.10.1 in c:\\users\\maria\\appdata\\local\\programs\\python\\python39\\lib\\site-packages (from pandas_profiling) (0.11.0)\n",
      "Requirement already satisfied: scipy>=1.4.1 in c:\\users\\maria\\appdata\\local\\programs\\python\\python39\\lib\\site-packages (from pandas_profiling) (1.5.4)\n",
      "Requirement already satisfied: nbformat>=4.2.0 in c:\\users\\maria\\appdata\\local\\programs\\python\\python39\\lib\\site-packages (from ipywidgets>=7.5.1->pandas_profiling) (5.0.8)\n",
      "Collecting widgetsnbextension~=3.5.0\n",
      "  Downloading widgetsnbextension-3.5.1-py2.py3-none-any.whl (2.2 MB)\n",
      "Requirement already satisfied: ipython>=4.0.0; python_version >= \"3.3\" in c:\\users\\maria\\appdata\\roaming\\python\\python39\\site-packages (from ipywidgets>=7.5.1->pandas_profiling) (7.19.0)\n",
      "Requirement already satisfied: ipykernel>=4.5.1 in c:\\users\\maria\\appdata\\roaming\\python\\python39\\site-packages (from ipywidgets>=7.5.1->pandas_profiling) (5.3.4)\n",
      "Requirement already satisfied: traitlets>=4.3.1 in c:\\users\\maria\\appdata\\roaming\\python\\python39\\site-packages (from ipywidgets>=7.5.1->pandas_profiling) (5.0.5)\n",
      "Collecting jupyterlab-widgets>=1.0.0; python_version >= \"3.6\"\n",
      "  Downloading jupyterlab_widgets-1.0.0-py3-none-any.whl (243 kB)\n",
      "Requirement already satisfied: idna<3,>=2.5 in c:\\users\\maria\\appdata\\local\\programs\\python\\python39\\lib\\site-packages (from requests>=2.24.0->pandas_profiling) (2.10)\n",
      "Requirement already satisfied: certifi>=2017.4.17 in c:\\users\\maria\\appdata\\local\\programs\\python\\python39\\lib\\site-packages (from requests>=2.24.0->pandas_profiling) (2020.12.5)\n",
      "Requirement already satisfied: urllib3<1.27,>=1.21.1 in c:\\users\\maria\\appdata\\local\\programs\\python\\python39\\lib\\site-packages (from requests>=2.24.0->pandas_profiling) (1.26.2)\n",
      "Requirement already satisfied: chardet<4,>=3.0.2 in c:\\users\\maria\\appdata\\local\\programs\\python\\python39\\lib\\site-packages (from requests>=2.24.0->pandas_profiling) (3.0.4)\n",
      "Collecting networkx>=2.4\n",
      "  Downloading networkx-2.5-py3-none-any.whl (1.6 MB)\n",
      "Requirement already satisfied: Pillow; extra == \"type_image_path\" in c:\\users\\maria\\appdata\\local\\programs\\python\\python39\\lib\\site-packages (from visions[type_image_path]==0.6.0->pandas_profiling) (8.0.1)\n",
      "Collecting imagehash; extra == \"type_image_path\"\n",
      "  Downloading ImageHash-4.2.0-py2.py3-none-any.whl (295 kB)\n",
      "Requirement already satisfied: kiwisolver>=1.0.1 in c:\\users\\maria\\appdata\\local\\programs\\python\\python39\\lib\\site-packages (from matplotlib>=3.2.0->pandas_profiling) (1.3.1)\n",
      "Requirement already satisfied: python-dateutil>=2.1 in c:\\users\\maria\\appdata\\roaming\\python\\python39\\site-packages (from matplotlib>=3.2.0->pandas_profiling) (2.8.1)\n",
      "Requirement already satisfied: cycler>=0.10 in c:\\users\\maria\\appdata\\local\\programs\\python\\python39\\lib\\site-packages (from matplotlib>=3.2.0->pandas_profiling) (0.10.0)\n",
      "Requirement already satisfied: pyparsing!=2.0.4,!=2.1.2,!=2.1.6,>=2.0.3 in c:\\users\\maria\\appdata\\local\\programs\\python\\python39\\lib\\site-packages (from matplotlib>=3.2.0->pandas_profiling) (2.4.7)\n",
      "Requirement already satisfied: pytz>=2017.2 in c:\\users\\maria\\appdata\\local\\programs\\python\\python39\\lib\\site-packages (from pandas!=1.0.0,!=1.0.1,!=1.0.2,!=1.1.0,>=0.25.3->pandas_profiling) (2020.4)\n",
      "Collecting pyyaml\n",
      "  Downloading PyYAML-5.4.1-cp39-cp39-win_amd64.whl (213 kB)\n",
      "Collecting numba>=0.38.1\n",
      "  Downloading numba-0.51.2.tar.gz (2.1 MB)\n",
      "Requirement already satisfied: MarkupSafe>=0.23 in c:\\users\\maria\\appdata\\local\\programs\\python\\python39\\lib\\site-packages (from jinja2>=2.11.1->pandas_profiling) (1.1.1)\n",
      "Requirement already satisfied: jsonschema!=2.5.0,>=2.4 in c:\\users\\maria\\appdata\\local\\programs\\python\\python39\\lib\\site-packages (from nbformat>=4.2.0->ipywidgets>=7.5.1->pandas_profiling) (3.2.0)\n",
      "Requirement already satisfied: ipython-genutils in c:\\users\\maria\\appdata\\roaming\\python\\python39\\site-packages (from nbformat>=4.2.0->ipywidgets>=7.5.1->pandas_profiling) (0.2.0)\n",
      "Requirement already satisfied: jupyter-core in c:\\users\\maria\\appdata\\roaming\\python\\python39\\site-packages (from nbformat>=4.2.0->ipywidgets>=7.5.1->pandas_profiling) (4.6.3)\n",
      "Collecting notebook>=4.4.1\n",
      "  Downloading notebook-6.2.0-py3-none-any.whl (9.5 MB)\n",
      "Requirement already satisfied: prompt-toolkit!=3.0.0,!=3.0.1,<3.1.0,>=2.0.0 in c:\\users\\maria\\appdata\\roaming\\python\\python39\\site-packages (from ipython>=4.0.0; python_version >= \"3.3\"->ipywidgets>=7.5.1->pandas_profiling) (3.0.8)\n",
      "Requirement already satisfied: jedi>=0.10 in c:\\users\\maria\\appdata\\roaming\\python\\python39\\site-packages (from ipython>=4.0.0; python_version >= \"3.3\"->ipywidgets>=7.5.1->pandas_profiling) (0.17.2)\n",
      "Requirement already satisfied: colorama; sys_platform == \"win32\" in c:\\users\\maria\\appdata\\roaming\\python\\python39\\site-packages (from ipython>=4.0.0; python_version >= \"3.3\"->ipywidgets>=7.5.1->pandas_profiling) (0.4.4)\n",
      "Requirement already satisfied: pygments in c:\\users\\maria\\appdata\\roaming\\python\\python39\\site-packages (from ipython>=4.0.0; python_version >= \"3.3\"->ipywidgets>=7.5.1->pandas_profiling) (2.7.2)\n",
      "Requirement already satisfied: decorator in c:\\users\\maria\\appdata\\roaming\\python\\python39\\site-packages (from ipython>=4.0.0; python_version >= \"3.3\"->ipywidgets>=7.5.1->pandas_profiling) (4.4.2)\n",
      "Requirement already satisfied: backcall in c:\\users\\maria\\appdata\\roaming\\python\\python39\\site-packages (from ipython>=4.0.0; python_version >= \"3.3\"->ipywidgets>=7.5.1->pandas_profiling) (0.2.0)\n",
      "Requirement already satisfied: pickleshare in c:\\users\\maria\\appdata\\roaming\\python\\python39\\site-packages (from ipython>=4.0.0; python_version >= \"3.3\"->ipywidgets>=7.5.1->pandas_profiling) (0.7.5)\n",
      "Requirement already satisfied: setuptools>=18.5 in c:\\users\\maria\\appdata\\local\\programs\\python\\python39\\lib\\site-packages (from ipython>=4.0.0; python_version >= \"3.3\"->ipywidgets>=7.5.1->pandas_profiling) (49.2.1)\n",
      "Requirement already satisfied: jupyter-client in c:\\users\\maria\\appdata\\roaming\\python\\python39\\site-packages (from ipykernel>=4.5.1->ipywidgets>=7.5.1->pandas_profiling) (6.1.7)\n",
      "Requirement already satisfied: tornado>=4.2 in c:\\users\\maria\\appdata\\roaming\\python\\python39\\site-packages (from ipykernel>=4.5.1->ipywidgets>=7.5.1->pandas_profiling) (6.1)\n",
      "Requirement already satisfied: six in c:\\users\\maria\\appdata\\roaming\\python\\python39\\site-packages (from imagehash; extra == \"type_image_path\"->visions[type_image_path]==0.6.0->pandas_profiling) (1.15.0)\n",
      "Collecting PyWavelets\n",
      "  Downloading PyWavelets-1.1.1-cp39-cp39-win_amd64.whl (4.2 MB)\n",
      "Collecting llvmlite<0.35,>=0.34.0.dev0\n",
      "  Downloading llvmlite-0.34.0.tar.gz (107 kB)\n",
      "Requirement already satisfied: pyrsistent>=0.14.0 in c:\\users\\maria\\appdata\\local\\programs\\python\\python39\\lib\\site-packages (from jsonschema!=2.5.0,>=2.4->nbformat>=4.2.0->ipywidgets>=7.5.1->pandas_profiling) (0.17.3)\n",
      "Requirement already satisfied: pywin32>=1.0; sys_platform == \"win32\" in c:\\users\\maria\\appdata\\roaming\\python\\python39\\site-packages (from jupyter-core->nbformat>=4.2.0->ipywidgets>=7.5.1->pandas_profiling) (300)\n",
      "Collecting argon2-cffi\n",
      "  Downloading argon2_cffi-20.1.0-cp39-cp39-win_amd64.whl (42 kB)\n",
      "Collecting prometheus-client    ERROR: Command errored out with exit status 1:\n",
      "     command: 'c:\\users\\maria\\appdata\\local\\programs\\python\\python39\\python.exe' -u -c 'import sys, setuptools, tokenize; sys.argv[0] = '\"'\"'C:\\\\Users\\\\maria\\\\AppData\\\\Local\\\\Temp\\\\pip-install-kcaj_nq1\\\\llvmlite\\\\setup.py'\"'\"'; __file__='\"'\"'C:\\\\Users\\\\maria\\\\AppData\\\\Local\\\\Temp\\\\pip-install-kcaj_nq1\\\\llvmlite\\\\setup.py'\"'\"';f=getattr(tokenize, '\"'\"'open'\"'\"', open)(__file__);code=f.read().replace('\"'\"'\\r\\n'\"'\"', '\"'\"'\\n'\"'\"');f.close();exec(compile(code, __file__, '\"'\"'exec'\"'\"'))' install --record 'C:\\Users\\maria\\AppData\\Local\\Temp\\pip-record-h3rh2our\\install-record.txt' --single-version-externally-managed --compile --install-headers 'c:\\users\\maria\\appdata\\local\\programs\\python\\python39\\Include\\llvmlite'\n",
      "         cwd: C:\\Users\\maria\\AppData\\Local\\Temp\\pip-install-kcaj_nq1\\llvmlite\\\n",
      "    Complete output (27 lines):\n",
      "    running install\n",
      "    running build\n",
      "    got version from file C:\\Users\\maria\\AppData\\Local\\Temp\\pip-install-kcaj_nq1\\llvmlite\\llvmlite/_version.py {'version': '0.34.0', 'full': 'c5889c9e98c6b19d5d85ebdd982d64a03931f8e2'}\n",
      "    running build_ext\n",
      "    c:\\users\\maria\\appdata\\local\\programs\\python\\python39\\python.exe C:\\Users\\maria\\AppData\\Local\\Temp\\pip-install-kcaj_nq1\\llvmlite\\ffi\\build.py\n",
      "    Trying generator 'Visual Studio 15 2017 Win64'\n",
      "    Traceback (most recent call last):\n",
      "      File \"C:\\Users\\maria\\AppData\\Local\\Temp\\pip-install-kcaj_nq1\\llvmlite\\ffi\\build.py\", line 191, in <module>\n",
      "        main()\n",
      "      File \"C:\\Users\\maria\\AppData\\Local\\Temp\\pip-install-kcaj_nq1\\llvmlite\\ffi\\build.py\", line 179, in main\n",
      "        main_win32()\n",
      "      File \"C:\\Users\\maria\\AppData\\Local\\Temp\\pip-install-kcaj_nq1\\llvmlite\\ffi\\build.py\", line 88, in main_win32\n",
      "        generator = find_win32_generator()\n",
      "      File \"C:\\Users\\maria\\AppData\\Local\\Temp\\pip-install-kcaj_nq1\\llvmlite\\ffi\\build.py\", line 76, in find_win32_generator\n",
      "        try_cmake(cmake_dir, build_dir, generator)\n",
      "      File \"C:\\Users\\maria\\AppData\\Local\\Temp\\pip-install-kcaj_nq1\\llvmlite\\ffi\\build.py\", line 28, in try_cmake\n",
      "        subprocess.check_call(['cmake', '-G', generator, cmake_dir])\n",
      "      File \"c:\\users\\maria\\appdata\\local\\programs\\python\\python39\\lib\\subprocess.py\", line 368, in check_call\n",
      "        retcode = call(*popenargs, **kwargs)\n",
      "      File \"c:\\users\\maria\\appdata\\local\\programs\\python\\python39\\lib\\subprocess.py\", line 349, in call\n",
      "  Downloading prometheus_client-0.9.0-py2.py3-none-any.whl (53 kB)\n",
      "Collecting nbconvert\n",
      "  Downloading nbconvert-6.0.7-py3-none-any.whl (552 kB)\n",
      "Requirement already satisfied: pyzmq>=17 in c:\\users\\maria\\appdata\\roaming\\python\\python39\\site-packages (from notebook>=4.4.1->widgetsnbextension~=3.5.0->ipywidgets>=7.5.1->pandas_profiling) (20.0.0)\n",
      "Collecting terminado>=0.8.3\n",
      "  Downloading terminado-0.9.2-py3-none-any.whl (14 kB)\n",
      "Collecting Send2Trash>=1.5.0\n",
      "  Downloading Send2Trash-1.5.0-py3-none-any.whl (12 kB)\n",
      "Requirement already satisfied: wcwidth in c:\\users\\maria\\appdata\\roaming\\python\\python39\\site-packages (from prompt-toolkit!=3.0.0,!=3.0.1,<3.1.0,>=2.0.0->ipython>=4.0.0; python_version >= \"3.3\"->ipywidgets>=7.5.1->pandas_profiling) (0.2.5)\n",
      "Requirement already satisfied: parso<0.8.0,>=0.7.0 in c:\\users\\maria\\appdata\\roaming\\python\\python39\\site-packages (from jedi>=0.10->ipython>=4.0.0; python_version >= \"3.3\"->ipywidgets>=7.5.1->pandas_profiling) (0.7.1)\n",
      "Collecting cffi>=1.0.0\n",
      "  Downloading cffi-1.14.4-cp39-cp39-win_amd64.whl (179 kB)\n",
      "Collecting jupyterlab-pygments\n",
      "  Downloading jupyterlab_pygments-0.1.2-py2.py3-none-any.whl (4.6 kB)\n",
      "Collecting testpath\n",
      "  Downloading testpath-0.4.4-py2.py3-none-any.whl (163 kB)\n",
      "Collecting mistune<2,>=0.8.1\n",
      "  Downloading mistune-0.8.4-py2.py3-none-any.whl (16 kB)\n",
      "Collecting entrypoints>=0.2.2\n",
      "  Downloading entrypoints-0.3-py2.py3-none-any.whl (11 kB)\n",
      "Collecting bleach\n",
      "  Downloading bleach-3.3.0-py2.py3-none-any.whl (283 kB)\n",
      "Collecting defusedxml\n",
      "  Downloading defusedxml-0.6.0-py2.py3-none-any.whl (23 kB)\n",
      "Collecting nbclient<0.6.0,>=0.5.0\n",
      "  Downloading nbclient-0.5.1-py3-none-any.whl (65 kB)\n",
      "Collecting pandocfilters>=1.4.1\n",
      "  Downloading pandocfilters-1.4.3.tar.gz (16 kB)\n",
      "Collecting pywinpty>=0.5; os_name == \"nt\"\n",
      "  Downloading pywinpty-0.5.7.tar.gz (49 kB)\n",
      "Collecting pycparser\n",
      "  Downloading pycparser-2.20-py2.py3-none-any.whl (112 kB)\n",
      "Collecting packaging\n",
      "  Downloading packaging-20.9-py2.py3-none-any.whl (40 kB)\n",
      "Collecting webencodings\n",
      "  Downloading webencodings-0.5.1-py2.py3-none-any.whl (11 kB)\n",
      "Collecting nest-asyncio\n",
      "  Downloading nest_asyncio-1.5.1-py3-none-any.whl (5.0 kB)\n",
      "Collecting async-generator\n",
      "  Downloading async_generator-1.10-py3-none-any.whl (18 kB)\n",
      "Using legacy 'setup.py install' for phik, since package 'wheel' is not installed.\n",
      "Using legacy 'setup.py install' for htmlmin, since package 'wheel' is not installed.\n",
      "Using legacy 'setup.py install' for numba, since package 'wheel' is not installed.\n",
      "Using legacy 'setup.py install' for llvmlite, since package 'wheel' is not installed.\n",
      "Using legacy 'setup.py install' for pandocfilters, since package 'wheel' is not installed.\n",
      "Using legacy 'setup.py install' for pywinpty, since package 'wheel' is not installed.\n",
      "Installing collected packages: tqdm, pycparser, cffi, argon2-cffi, prometheus-client, jupyterlab-pygments, testpath, mistune, entrypoints, packaging, webencodings, bleach, defusedxml, nest-asyncio, async-generator, nbclient, pandocfilters, nbconvert, pywinpty, terminado, Send2Trash, notebook, widgetsnbextension, jupyterlab-widgets, ipywidgets, tangled-up-in-unicode, networkx, PyWavelets, imagehash, visions, pyyaml, confuse, llvmlite, numba, phik, htmlmin, missingno, pandas-profiling\n",
      "    Running setup.py install for pandocfilters: started\n",
      "    Running setup.py install for pandocfilters: finished with status 'done'\n",
      "    Running setup.py install for pywinpty: started\n",
      "    Running setup.py install for pywinpty: finished with status 'done'\n",
      "    Running setup.py install for llvmlite: started\n",
      "    Running setup.py install for llvmlite: finished with status 'error'\n",
      "\n",
      "        with Popen(*popenargs, **kwargs) as p:\n",
      "      File \"c:\\users\\maria\\appdata\\local\\programs\\python\\python39\\lib\\subprocess.py\", line 947, in __init__\n",
      "        self._execute_child(args, executable, preexec_fn, close_fds,\n",
      "      File \"c:\\users\\maria\\appdata\\local\\programs\\python\\python39\\lib\\subprocess.py\", line 1416, in _execute_child\n",
      "        hp, ht, pid, tid = _winapi.CreateProcess(executable, args,\n",
      "    FileNotFoundError: [WinError 2] El sistema no puede encontrar el archivo especificado\n",
      "    error: command 'c:\\\\users\\\\maria\\\\appdata\\\\local\\\\programs\\\\python\\\\python39\\\\python.exe' failed with exit code 1\n",
      "    ----------------------------------------\n",
      "ERROR: Command errored out with exit status 1: 'c:\\users\\maria\\appdata\\local\\programs\\python\\python39\\python.exe' -u -c 'import sys, setuptools, tokenize; sys.argv[0] = '\"'\"'C:\\\\Users\\\\maria\\\\AppData\\\\Local\\\\Temp\\\\pip-install-kcaj_nq1\\\\llvmlite\\\\setup.py'\"'\"'; __file__='\"'\"'C:\\\\Users\\\\maria\\\\AppData\\\\Local\\\\Temp\\\\pip-install-kcaj_nq1\\\\llvmlite\\\\setup.py'\"'\"';f=getattr(tokenize, '\"'\"'open'\"'\"', open)(__file__);code=f.read().replace('\"'\"'\\r\\n'\"'\"', '\"'\"'\\n'\"'\"');f.close();exec(compile(code, __file__, '\"'\"'exec'\"'\"'))' install --record 'C:\\Users\\maria\\AppData\\Local\\Temp\\pip-record-h3rh2our\\install-record.txt' --single-version-externally-managed --compile --install-headers 'c:\\users\\maria\\appdata\\local\\programs\\python\\python39\\Include\\llvmlite' Check the logs for full command output.\n",
      "WARNING: You are using pip version 20.2.3; however, version 21.0.1 is available.\n",
      "You should consider upgrading via the 'c:\\users\\maria\\appdata\\local\\programs\\python\\python39\\python.exe -m pip install --upgrade pip' command.\n"
     ]
    }
   ],
   "source": [
    "!pip3 install pandas_profiling"
   ]
  },
  {
   "cell_type": "code",
   "execution_count": 4,
   "metadata": {},
   "outputs": [
    {
     "output_type": "error",
     "ename": "ModuleNotFoundError",
     "evalue": "No module named 'pandas_profiling'",
     "traceback": [
      "\u001b[1;31m---------------------------------------------------------------------------\u001b[0m",
      "\u001b[1;31mModuleNotFoundError\u001b[0m                       Traceback (most recent call last)",
      "\u001b[1;32m<ipython-input-4-8bb7ff4c77ba>\u001b[0m in \u001b[0;36m<module>\u001b[1;34m\u001b[0m\n\u001b[0;32m     19\u001b[0m \u001b[1;33m\u001b[0m\u001b[0m\n\u001b[0;32m     20\u001b[0m \u001b[1;32mfrom\u001b[0m \u001b[0msklearn\u001b[0m\u001b[1;33m.\u001b[0m\u001b[0mmodel_selection\u001b[0m \u001b[1;32mimport\u001b[0m \u001b[0mGridSearchCV\u001b[0m\u001b[1;33m\u001b[0m\u001b[1;33m\u001b[0m\u001b[0m\n\u001b[1;32m---> 21\u001b[1;33m \u001b[1;32mfrom\u001b[0m \u001b[0mpandas_profiling\u001b[0m \u001b[1;32mimport\u001b[0m \u001b[0mProfileReport\u001b[0m\u001b[1;33m\u001b[0m\u001b[1;33m\u001b[0m\u001b[0m\n\u001b[0m",
      "\u001b[1;31mModuleNotFoundError\u001b[0m: No module named 'pandas_profiling'"
     ]
    }
   ],
   "source": [
    "import pandas as pd\n",
    "import numpy as np\n",
    "\n",
    "# la otra forma, pero con mismo resultado: from sklearn.linear_model import LogisticRegression\n",
    "from sklearn.model_selection import train_test_split\n",
    "from sklearn import preprocessing\n",
    "import pickle\n",
    "\n",
    "import warnings\n",
    "warnings.filterwarnings('ignore')\n",
    "\n",
    "from sklearn.pipeline import Pipeline\n",
    "\n",
    "from sklearn import linear_model\n",
    "from sklearn.ensemble import RandomForestRegressor\n",
    "from sklearn.svm import SVR\n",
    "\n",
    "from sklearn.model_selection import RepeatedKFold\n",
    "\n",
    "from sklearn.model_selection import GridSearchCV\n",
    "from pandas_profiling import ProfileReport"
   ]
  },
  {
   "cell_type": "code",
   "execution_count": 2,
   "metadata": {},
   "outputs": [
    {
     "output_type": "execute_result",
     "data": {
      "text/plain": [
       "       Unnamed: 0  carat        cut color clarity  depth  table     x     y  \\\n",
       "0               0   1.21      Ideal     H     VS2   63.0   57.0  6.73  6.70   \n",
       "1               1   0.28  Very Good     D    VVS2   64.0   56.0  4.14  4.17   \n",
       "2               2   0.42    Premium     F     VS1   61.2   58.0  4.86  4.82   \n",
       "3               3   0.26      Ideal     H      IF   61.1   57.0  4.16  4.12   \n",
       "4               4   1.10       Good     G     SI1   63.4   57.0  6.52  6.55   \n",
       "...           ...    ...        ...   ...     ...    ...    ...   ...   ...   \n",
       "40340       40340   1.55    Premium     H     VS2   61.3   61.0  7.46  7.39   \n",
       "40341       40341   0.36      Ideal     D     SI1   60.6   56.0  4.58  4.63   \n",
       "40342       40342   0.57  Very Good     I     VS2   62.2   55.0  5.33  5.34   \n",
       "40343       40343   1.01  Very Good     F      IF   59.6   62.0  6.47  6.56   \n",
       "40344       40344   0.54      Ideal     E     SI2   60.4   57.0  5.33  5.27   \n",
       "\n",
       "          z  price  \n",
       "0      4.23   6134  \n",
       "1      2.66    532  \n",
       "2      2.96   1103  \n",
       "3      2.53    600  \n",
       "4      4.14   4997  \n",
       "...     ...    ...  \n",
       "40340  4.55  11708  \n",
       "40341  2.79    619  \n",
       "40342  3.32   1267  \n",
       "40343  3.88   9965  \n",
       "40344  3.20   1340  \n",
       "\n",
       "[40345 rows x 11 columns]"
      ],
      "text/html": "<div>\n<style scoped>\n    .dataframe tbody tr th:only-of-type {\n        vertical-align: middle;\n    }\n\n    .dataframe tbody tr th {\n        vertical-align: top;\n    }\n\n    .dataframe thead th {\n        text-align: right;\n    }\n</style>\n<table border=\"1\" class=\"dataframe\">\n  <thead>\n    <tr style=\"text-align: right;\">\n      <th></th>\n      <th>Unnamed: 0</th>\n      <th>carat</th>\n      <th>cut</th>\n      <th>color</th>\n      <th>clarity</th>\n      <th>depth</th>\n      <th>table</th>\n      <th>x</th>\n      <th>y</th>\n      <th>z</th>\n      <th>price</th>\n    </tr>\n  </thead>\n  <tbody>\n    <tr>\n      <th>0</th>\n      <td>0</td>\n      <td>1.21</td>\n      <td>Ideal</td>\n      <td>H</td>\n      <td>VS2</td>\n      <td>63.0</td>\n      <td>57.0</td>\n      <td>6.73</td>\n      <td>6.70</td>\n      <td>4.23</td>\n      <td>6134</td>\n    </tr>\n    <tr>\n      <th>1</th>\n      <td>1</td>\n      <td>0.28</td>\n      <td>Very Good</td>\n      <td>D</td>\n      <td>VVS2</td>\n      <td>64.0</td>\n      <td>56.0</td>\n      <td>4.14</td>\n      <td>4.17</td>\n      <td>2.66</td>\n      <td>532</td>\n    </tr>\n    <tr>\n      <th>2</th>\n      <td>2</td>\n      <td>0.42</td>\n      <td>Premium</td>\n      <td>F</td>\n      <td>VS1</td>\n      <td>61.2</td>\n      <td>58.0</td>\n      <td>4.86</td>\n      <td>4.82</td>\n      <td>2.96</td>\n      <td>1103</td>\n    </tr>\n    <tr>\n      <th>3</th>\n      <td>3</td>\n      <td>0.26</td>\n      <td>Ideal</td>\n      <td>H</td>\n      <td>IF</td>\n      <td>61.1</td>\n      <td>57.0</td>\n      <td>4.16</td>\n      <td>4.12</td>\n      <td>2.53</td>\n      <td>600</td>\n    </tr>\n    <tr>\n      <th>4</th>\n      <td>4</td>\n      <td>1.10</td>\n      <td>Good</td>\n      <td>G</td>\n      <td>SI1</td>\n      <td>63.4</td>\n      <td>57.0</td>\n      <td>6.52</td>\n      <td>6.55</td>\n      <td>4.14</td>\n      <td>4997</td>\n    </tr>\n    <tr>\n      <th>...</th>\n      <td>...</td>\n      <td>...</td>\n      <td>...</td>\n      <td>...</td>\n      <td>...</td>\n      <td>...</td>\n      <td>...</td>\n      <td>...</td>\n      <td>...</td>\n      <td>...</td>\n      <td>...</td>\n    </tr>\n    <tr>\n      <th>40340</th>\n      <td>40340</td>\n      <td>1.55</td>\n      <td>Premium</td>\n      <td>H</td>\n      <td>VS2</td>\n      <td>61.3</td>\n      <td>61.0</td>\n      <td>7.46</td>\n      <td>7.39</td>\n      <td>4.55</td>\n      <td>11708</td>\n    </tr>\n    <tr>\n      <th>40341</th>\n      <td>40341</td>\n      <td>0.36</td>\n      <td>Ideal</td>\n      <td>D</td>\n      <td>SI1</td>\n      <td>60.6</td>\n      <td>56.0</td>\n      <td>4.58</td>\n      <td>4.63</td>\n      <td>2.79</td>\n      <td>619</td>\n    </tr>\n    <tr>\n      <th>40342</th>\n      <td>40342</td>\n      <td>0.57</td>\n      <td>Very Good</td>\n      <td>I</td>\n      <td>VS2</td>\n      <td>62.2</td>\n      <td>55.0</td>\n      <td>5.33</td>\n      <td>5.34</td>\n      <td>3.32</td>\n      <td>1267</td>\n    </tr>\n    <tr>\n      <th>40343</th>\n      <td>40343</td>\n      <td>1.01</td>\n      <td>Very Good</td>\n      <td>F</td>\n      <td>IF</td>\n      <td>59.6</td>\n      <td>62.0</td>\n      <td>6.47</td>\n      <td>6.56</td>\n      <td>3.88</td>\n      <td>9965</td>\n    </tr>\n    <tr>\n      <th>40344</th>\n      <td>40344</td>\n      <td>0.54</td>\n      <td>Ideal</td>\n      <td>E</td>\n      <td>SI2</td>\n      <td>60.4</td>\n      <td>57.0</td>\n      <td>5.33</td>\n      <td>5.27</td>\n      <td>3.20</td>\n      <td>1340</td>\n    </tr>\n  </tbody>\n</table>\n<p>40345 rows × 11 columns</p>\n</div>"
     },
     "metadata": {},
     "execution_count": 2
    }
   ],
   "source": [
    "### para que funcione necesitas bajarte los archivos de datos de Kaggle :) \n",
    "df = pd.read_csv(\"data/diamonds_train.csv\")\n",
    "df"
   ]
  },
  {
   "cell_type": "code",
   "execution_count": 3,
   "metadata": {},
   "outputs": [
    {
     "output_type": "stream",
     "name": "stdout",
     "text": [
      "<class 'pandas.core.frame.DataFrame'>\nRangeIndex: 40345 entries, 0 to 40344\nData columns (total 11 columns):\n #   Column      Non-Null Count  Dtype  \n---  ------      --------------  -----  \n 0   Unnamed: 0  40345 non-null  int64  \n 1   carat       40345 non-null  float64\n 2   cut         40345 non-null  object \n 3   color       40345 non-null  object \n 4   clarity     40345 non-null  object \n 5   depth       40345 non-null  float64\n 6   table       40345 non-null  float64\n 7   x           40345 non-null  float64\n 8   y           40345 non-null  float64\n 9   z           40345 non-null  float64\n 10  price       40345 non-null  int64  \ndtypes: float64(6), int64(2), object(3)\nmemory usage: 3.4+ MB\n"
     ]
    }
   ],
   "source": [
    "df.info()"
   ]
  },
  {
   "cell_type": "code",
   "execution_count": 4,
   "metadata": {},
   "outputs": [],
   "source": [
    "le = preprocessing.LabelEncoder()"
   ]
  },
  {
   "cell_type": "code",
   "execution_count": 5,
   "metadata": {},
   "outputs": [],
   "source": [
    "cat_col = [\"color\", \"cut\", \"clarity\" ]\n",
    "for i in cat_col:\n",
    "    df[i] = le.fit_transform(df[i])\n"
   ]
  },
  {
   "source": [],
   "cell_type": "markdown",
   "metadata": {}
  },
  {
   "cell_type": "code",
   "execution_count": null,
   "metadata": {},
   "outputs": [],
   "source": [
    "profile = ProfileReport(df, title=\"Pandas Profiling Report\")\n",
    "profile"
   ]
  },
  {
   "cell_type": "markdown",
   "metadata": {},
   "source": [
    "#### 1. Definir X e y"
   ]
  },
  {
   "cell_type": "code",
   "execution_count": 6,
   "metadata": {},
   "outputs": [
    {
     "output_type": "execute_result",
     "data": {
      "text/plain": [
       "(40345, 4)"
      ]
     },
     "metadata": {},
     "execution_count": 6
    }
   ],
   "source": [
    "# Guardo los datos en las variables\n",
    "X = np.array(df[[\"carat\", \"color\", \"cut\", \"clarity\"]])\n",
    "y = np.array(df['price'])\n",
    "X.shape"
   ]
  },
  {
   "cell_type": "code",
   "execution_count": 7,
   "metadata": {},
   "outputs": [
    {
     "output_type": "execute_result",
     "data": {
      "text/plain": [
       "(40345,)"
      ]
     },
     "metadata": {},
     "execution_count": 7
    }
   ],
   "source": [
    "y.shape"
   ]
  },
  {
   "cell_type": "code",
   "execution_count": 8,
   "metadata": {},
   "outputs": [
    {
     "output_type": "execute_result",
     "data": {
      "text/plain": [
       "array([6134,  532, 1103, ..., 1267, 9965, 1340], dtype=int64)"
      ]
     },
     "metadata": {},
     "execution_count": 8
    }
   ],
   "source": [
    "y"
   ]
  },
  {
   "cell_type": "code",
   "execution_count": null,
   "metadata": {},
   "outputs": [],
   "source": []
  },
  {
   "cell_type": "markdown",
   "metadata": {},
   "source": [
    "#### 2. Dividir X_train, X_test, y_train, y_test"
   ]
  },
  {
   "cell_type": "code",
   "execution_count": 9,
   "metadata": {},
   "outputs": [],
   "source": [
    "#Divido en train y test\n",
    "X_train, X_test, y_train, y_test = train_test_split(X, y, test_size=0.2, random_state=2)"
   ]
  },
  {
   "cell_type": "code",
   "execution_count": 10,
   "metadata": {},
   "outputs": [],
   "source": [
    "# Create a pipeline\n",
    "\n",
    "pipe = Pipeline(steps=[('classifier', RandomForestRegressor())])\n",
    "\n",
    "to_test = np.arange(1, 10)\n",
    "linear_params = {\n",
    "    'classifier': [linear_model.LinearRegression()],\n",
    "    'classifier__fit_intercept': ['False', 'True'],\n",
    "    'classifier__normalize': ['False', 'True']\n",
    "    }\n",
    "\n",
    "random_n_estimators = range(0,100)\n",
    "random_min_samples_split = range(0,100)\n",
    "random_forest_params = {\n",
    "    'classifier': [RandomForestRegressor()],\n",
    "    'classifier__n_estimators': random_n_estimators,\n",
    "    'classifier__max_features': [1, 2, 3],\n",
    "    'classifier__min_samples_split' : random_min_samples_split\n",
    "    }\n",
    "\n",
    "\n",
    "# Create space of candidate learning algorithms and their hyperparameters\n",
    "search_space = [\n",
    "    linear_params,\n",
    "    random_forest_params,\n",
    "    ]"
   ]
  },
  {
   "cell_type": "code",
   "execution_count": 11,
   "metadata": {},
   "outputs": [],
   "source": [
    "cv = RepeatedKFold(n_splits=10, n_repeats=1, random_state=1)\n",
    "\n",
    "# Create grid search \n",
    "clf = GridSearchCV(estimator=pipe, param_grid=search_space, cv=cv, verbose=0, n_jobs=-1)\n",
    "\n",
    "# Fit grid search\n",
    "best_model = clf.fit(X_train, y_train)"
   ]
  },
  {
   "cell_type": "code",
   "execution_count": 12,
   "metadata": {},
   "outputs": [
    {
     "output_type": "stream",
     "name": "stdout",
     "text": [
      "\n############################\n\nbest estimator: RandomForestRegressor(max_features=3, min_samples_split=12, n_estimators=53)\n\n############################\n\nclf.best_params_ {'classifier': RandomForestRegressor(max_features=3, min_samples_split=12, n_estimators=53), 'classifier__max_features': 3, 'classifier__min_samples_split': 12, 'classifier__n_estimators': 53}\n\n############################\n\n"
     ]
    }
   ],
   "source": [
    "# View best model\n",
    "separator = \"\\n############################\\n\"\n",
    "print(separator)\n",
    "print(\"best estimator:\", best_model.best_estimator_.get_params()['classifier'])\n",
    "print(separator)\n",
    "print(\"clf.best_params_\", clf.best_params_)\n",
    "print(separator)"
   ]
  },
  {
   "cell_type": "code",
   "execution_count": 13,
   "metadata": {},
   "outputs": [
    {
     "output_type": "stream",
     "name": "stdout",
     "text": [
      "clf.best_score 0.9798344489991763\n"
     ]
    }
   ],
   "source": [
    "print(\"clf.best_score\", clf.best_score_)"
   ]
  },
  {
   "cell_type": "code",
   "execution_count": 14,
   "metadata": {},
   "outputs": [
    {
     "output_type": "execute_result",
     "data": {
      "text/plain": [
       "97.88871008337595"
      ]
     },
     "metadata": {},
     "execution_count": 14
    }
   ],
   "source": [
    "best_model.score(X_test, y_test) *100"
   ]
  },
  {
   "cell_type": "code",
   "execution_count": 15,
   "metadata": {},
   "outputs": [
    {
     "output_type": "execute_result",
     "data": {
      "text/plain": [
       "RandomForestRegressor(max_features=3, min_samples_split=12, n_estimators=53)"
      ]
     },
     "metadata": {},
     "execution_count": 15
    }
   ],
   "source": [
    "model = RandomForestRegressor(max_features=3, min_samples_split=12, n_estimators=53)\n",
    "model.fit(X, y)"
   ]
  },
  {
   "cell_type": "markdown",
   "metadata": {},
   "source": [
    "## Una vez listo el modelo, toca predecir con el dataset de predicción "
   ]
  },
  {
   "cell_type": "code",
   "execution_count": 16,
   "metadata": {},
   "outputs": [],
   "source": [
    "to_pred = pd.read_csv(\"data/diamonds_test.csv\")"
   ]
  },
  {
   "cell_type": "code",
   "execution_count": 17,
   "metadata": {},
   "outputs": [
    {
     "output_type": "execute_result",
     "data": {
      "text/plain": [
       "       Unnamed: 0  carat        cut color clarity  depth  table     x     y  \\\n",
       "0               0   0.30      Ideal     H     SI2   60.0   56.0  4.41  4.43   \n",
       "1               1   0.34      Ideal     D      IF   62.1   57.0  4.52  4.46   \n",
       "2               2   1.57  Very Good     I     VS2   60.3   58.0  7.58  7.55   \n",
       "3               3   0.31      Ideal     H     VS2   61.8   57.0  4.32  4.36   \n",
       "4               4   1.51       Good     I    VVS1   64.0   60.0  7.26  7.21   \n",
       "...           ...    ...        ...   ...     ...    ...    ...   ...   ...   \n",
       "13444       13444   1.05      Ideal     F     SI2   60.3   55.0  6.55  6.68   \n",
       "13445       13445   0.27  Very Good     G     VS1   61.9   56.0  4.13  4.16   \n",
       "13446       13446   1.50    Premium     D     VS2   61.8   60.0  7.30  7.37   \n",
       "13447       13447   1.70    Premium     F     SI2   60.2   61.0  7.79  7.68   \n",
       "13448       13448   0.30      Ideal     D     VS2   61.2   57.0  4.29  4.34   \n",
       "\n",
       "          z  \n",
       "0      2.65  \n",
       "1      2.79  \n",
       "2      4.56  \n",
       "3      2.68  \n",
       "4      4.63  \n",
       "...     ...  \n",
       "13444  3.99  \n",
       "13445  2.56  \n",
       "13446  4.53  \n",
       "13447  4.66  \n",
       "13448  2.64  \n",
       "\n",
       "[13449 rows x 10 columns]"
      ],
      "text/html": "<div>\n<style scoped>\n    .dataframe tbody tr th:only-of-type {\n        vertical-align: middle;\n    }\n\n    .dataframe tbody tr th {\n        vertical-align: top;\n    }\n\n    .dataframe thead th {\n        text-align: right;\n    }\n</style>\n<table border=\"1\" class=\"dataframe\">\n  <thead>\n    <tr style=\"text-align: right;\">\n      <th></th>\n      <th>Unnamed: 0</th>\n      <th>carat</th>\n      <th>cut</th>\n      <th>color</th>\n      <th>clarity</th>\n      <th>depth</th>\n      <th>table</th>\n      <th>x</th>\n      <th>y</th>\n      <th>z</th>\n    </tr>\n  </thead>\n  <tbody>\n    <tr>\n      <th>0</th>\n      <td>0</td>\n      <td>0.30</td>\n      <td>Ideal</td>\n      <td>H</td>\n      <td>SI2</td>\n      <td>60.0</td>\n      <td>56.0</td>\n      <td>4.41</td>\n      <td>4.43</td>\n      <td>2.65</td>\n    </tr>\n    <tr>\n      <th>1</th>\n      <td>1</td>\n      <td>0.34</td>\n      <td>Ideal</td>\n      <td>D</td>\n      <td>IF</td>\n      <td>62.1</td>\n      <td>57.0</td>\n      <td>4.52</td>\n      <td>4.46</td>\n      <td>2.79</td>\n    </tr>\n    <tr>\n      <th>2</th>\n      <td>2</td>\n      <td>1.57</td>\n      <td>Very Good</td>\n      <td>I</td>\n      <td>VS2</td>\n      <td>60.3</td>\n      <td>58.0</td>\n      <td>7.58</td>\n      <td>7.55</td>\n      <td>4.56</td>\n    </tr>\n    <tr>\n      <th>3</th>\n      <td>3</td>\n      <td>0.31</td>\n      <td>Ideal</td>\n      <td>H</td>\n      <td>VS2</td>\n      <td>61.8</td>\n      <td>57.0</td>\n      <td>4.32</td>\n      <td>4.36</td>\n      <td>2.68</td>\n    </tr>\n    <tr>\n      <th>4</th>\n      <td>4</td>\n      <td>1.51</td>\n      <td>Good</td>\n      <td>I</td>\n      <td>VVS1</td>\n      <td>64.0</td>\n      <td>60.0</td>\n      <td>7.26</td>\n      <td>7.21</td>\n      <td>4.63</td>\n    </tr>\n    <tr>\n      <th>...</th>\n      <td>...</td>\n      <td>...</td>\n      <td>...</td>\n      <td>...</td>\n      <td>...</td>\n      <td>...</td>\n      <td>...</td>\n      <td>...</td>\n      <td>...</td>\n      <td>...</td>\n    </tr>\n    <tr>\n      <th>13444</th>\n      <td>13444</td>\n      <td>1.05</td>\n      <td>Ideal</td>\n      <td>F</td>\n      <td>SI2</td>\n      <td>60.3</td>\n      <td>55.0</td>\n      <td>6.55</td>\n      <td>6.68</td>\n      <td>3.99</td>\n    </tr>\n    <tr>\n      <th>13445</th>\n      <td>13445</td>\n      <td>0.27</td>\n      <td>Very Good</td>\n      <td>G</td>\n      <td>VS1</td>\n      <td>61.9</td>\n      <td>56.0</td>\n      <td>4.13</td>\n      <td>4.16</td>\n      <td>2.56</td>\n    </tr>\n    <tr>\n      <th>13446</th>\n      <td>13446</td>\n      <td>1.50</td>\n      <td>Premium</td>\n      <td>D</td>\n      <td>VS2</td>\n      <td>61.8</td>\n      <td>60.0</td>\n      <td>7.30</td>\n      <td>7.37</td>\n      <td>4.53</td>\n    </tr>\n    <tr>\n      <th>13447</th>\n      <td>13447</td>\n      <td>1.70</td>\n      <td>Premium</td>\n      <td>F</td>\n      <td>SI2</td>\n      <td>60.2</td>\n      <td>61.0</td>\n      <td>7.79</td>\n      <td>7.68</td>\n      <td>4.66</td>\n    </tr>\n    <tr>\n      <th>13448</th>\n      <td>13448</td>\n      <td>0.30</td>\n      <td>Ideal</td>\n      <td>D</td>\n      <td>VS2</td>\n      <td>61.2</td>\n      <td>57.0</td>\n      <td>4.29</td>\n      <td>4.34</td>\n      <td>2.64</td>\n    </tr>\n  </tbody>\n</table>\n<p>13449 rows × 10 columns</p>\n</div>"
     },
     "metadata": {},
     "execution_count": 17
    }
   ],
   "source": [
    "# la primera columna es id_case, deberéis quitarla para hacer la predicción si la habéis quitado para entrenar\n",
    "# pero guardarla para incluirla en la submission\n",
    "\n",
    "# IMPORTANTE: APLICAR LO MISMO A ESTOS DATOS QUE HAYÁIS APLICADO A LOS DATOS DE ENTRENAMIENTO\n",
    "# SI EL ARRAY CON EL QUE HICISTEIS .fit() ERA DE 4 COLUMNAS, PARA .predict() DEBEN SER LAS MISMAS\n",
    "# SI AL ARRAY CON EL QUE HICISTEIS .fit() LO NORMALIZASTEIS, PARA .predict() DEBÉIS NORMALIZARLO\n",
    "# TODO IGUAL SALVO BORRAR FILAS, EL NÚMERO DE ROWS SE DEBE MANTENER EN ESTE SET, PUES LA PREDICCIÓN DEBE TENER 133744 FILAS\n",
    "# SI O SI\n",
    "\n",
    "to_pred"
   ]
  },
  {
   "cell_type": "code",
   "execution_count": 18,
   "metadata": {},
   "outputs": [
    {
     "output_type": "stream",
     "name": "stdout",
     "text": [
      "<class 'pandas.core.frame.DataFrame'>\nRangeIndex: 13449 entries, 0 to 13448\nData columns (total 10 columns):\n #   Column      Non-Null Count  Dtype  \n---  ------      --------------  -----  \n 0   Unnamed: 0  13449 non-null  int64  \n 1   carat       13449 non-null  float64\n 2   cut         13449 non-null  object \n 3   color       13449 non-null  object \n 4   clarity     13449 non-null  object \n 5   depth       13449 non-null  float64\n 6   table       13449 non-null  float64\n 7   x           13449 non-null  float64\n 8   y           13449 non-null  float64\n 9   z           13449 non-null  float64\ndtypes: float64(6), int64(1), object(3)\nmemory usage: 1.0+ MB\n"
     ]
    }
   ],
   "source": [
    "to_pred.info()"
   ]
  },
  {
   "cell_type": "code",
   "execution_count": 19,
   "metadata": {},
   "outputs": [],
   "source": [
    "cat_col = [\"color\", \"cut\", \"clarity\" ]\n",
    "for i in cat_col:\n",
    "    to_pred[i] = le.fit_transform(to_pred[i])\n"
   ]
  },
  {
   "cell_type": "code",
   "execution_count": 20,
   "metadata": {},
   "outputs": [
    {
     "output_type": "execute_result",
     "data": {
      "text/plain": [
       "array([  417.98429572,  1740.58427227,  9464.27891935, ...,\n",
       "       15079.59734686, 10185.37498999,   794.86029364])"
      ]
     },
     "metadata": {},
     "execution_count": 20
    }
   ],
   "source": [
    "predictions_submit = model.predict(to_pred[[\"carat\", \"color\", \"cut\", \"clarity\"]])\n",
    "predictions_submit"
   ]
  },
  {
   "cell_type": "code",
   "execution_count": null,
   "metadata": {},
   "outputs": [],
   "source": []
  },
  {
   "cell_type": "code",
   "execution_count": 23,
   "metadata": {},
   "outputs": [],
   "source": [
    "# predictions_submit = le2.inverse_transform(predictions_submit)"
   ]
  },
  {
   "cell_type": "code",
   "execution_count": 24,
   "metadata": {},
   "outputs": [],
   "source": [
    "# le.inverse_transform(predictions_submit)"
   ]
  },
  {
   "cell_type": "code",
   "execution_count": 22,
   "metadata": {},
   "outputs": [
    {
     "output_type": "execute_result",
     "data": {
      "text/plain": [
       "          id         price\n",
       "0          0    417.984296\n",
       "1          1   1740.584272\n",
       "2          2   9464.278919\n",
       "3          3    549.236888\n",
       "4          4   9045.669326\n",
       "...      ...           ...\n",
       "13444  13444   4712.445879\n",
       "13445  13445    429.005872\n",
       "13446  13446  15079.597347\n",
       "13447  13447  10185.374990\n",
       "13448  13448    794.860294\n",
       "\n",
       "[13449 rows x 2 columns]"
      ],
      "text/html": "<div>\n<style scoped>\n    .dataframe tbody tr th:only-of-type {\n        vertical-align: middle;\n    }\n\n    .dataframe tbody tr th {\n        vertical-align: top;\n    }\n\n    .dataframe thead th {\n        text-align: right;\n    }\n</style>\n<table border=\"1\" class=\"dataframe\">\n  <thead>\n    <tr style=\"text-align: right;\">\n      <th></th>\n      <th>id</th>\n      <th>price</th>\n    </tr>\n  </thead>\n  <tbody>\n    <tr>\n      <th>0</th>\n      <td>0</td>\n      <td>417.984296</td>\n    </tr>\n    <tr>\n      <th>1</th>\n      <td>1</td>\n      <td>1740.584272</td>\n    </tr>\n    <tr>\n      <th>2</th>\n      <td>2</td>\n      <td>9464.278919</td>\n    </tr>\n    <tr>\n      <th>3</th>\n      <td>3</td>\n      <td>549.236888</td>\n    </tr>\n    <tr>\n      <th>4</th>\n      <td>4</td>\n      <td>9045.669326</td>\n    </tr>\n    <tr>\n      <th>...</th>\n      <td>...</td>\n      <td>...</td>\n    </tr>\n    <tr>\n      <th>13444</th>\n      <td>13444</td>\n      <td>4712.445879</td>\n    </tr>\n    <tr>\n      <th>13445</th>\n      <td>13445</td>\n      <td>429.005872</td>\n    </tr>\n    <tr>\n      <th>13446</th>\n      <td>13446</td>\n      <td>15079.597347</td>\n    </tr>\n    <tr>\n      <th>13447</th>\n      <td>13447</td>\n      <td>10185.374990</td>\n    </tr>\n    <tr>\n      <th>13448</th>\n      <td>13448</td>\n      <td>794.860294</td>\n    </tr>\n  </tbody>\n</table>\n<p>13449 rows × 2 columns</p>\n</div>"
     },
     "metadata": {},
     "execution_count": 22
    }
   ],
   "source": [
    "submission = pd.DataFrame({\"id\": to_pred[\"Unnamed: 0\"], \"price\": predictions_submit})\n",
    "submission"
   ]
  },
  {
   "cell_type": "code",
   "execution_count": 23,
   "metadata": {},
   "outputs": [
    {
     "output_type": "stream",
     "name": "stdout",
     "text": [
      "<class 'pandas.core.frame.DataFrame'>\nRangeIndex: 13449 entries, 0 to 13448\nData columns (total 2 columns):\n #   Column  Non-Null Count  Dtype  \n---  ------  --------------  -----  \n 0   id      13449 non-null  int64  \n 1   price   13449 non-null  float64\ndtypes: float64(1), int64(1)\nmemory usage: 210.3 KB\n"
     ]
    }
   ],
   "source": [
    "submission.info()"
   ]
  },
  {
   "cell_type": "code",
   "execution_count": 27,
   "metadata": {},
   "outputs": [],
   "source": [
    "# le.inverse_transform(submission[\"days\"])"
   ]
  },
  {
   "cell_type": "code",
   "execution_count": 24,
   "metadata": {},
   "outputs": [],
   "source": [
    "sample = pd.read_csv(\"data/sample_submission.csv\")"
   ]
  },
  {
   "cell_type": "code",
   "execution_count": 25,
   "metadata": {},
   "outputs": [
    {
     "output_type": "execute_result",
     "data": {
      "text/plain": [
       "(13449, 2)"
      ]
     },
     "metadata": {},
     "execution_count": 25
    }
   ],
   "source": [
    "sample.shape"
   ]
  },
  {
   "cell_type": "code",
   "execution_count": 26,
   "metadata": {},
   "outputs": [
    {
     "output_type": "stream",
     "name": "stdout",
     "text": [
      "you're ready to submit!\n"
     ]
    }
   ],
   "source": [
    "if submission.shape == sample.shape:\n",
    "    if submission.columns.all() == sample.columns.all():\n",
    "        if submission.id.all() == sample.id.all():\n",
    "            print(\"you're ready to submit!\")\n",
    "            submission.to_csv(\"output/to_submit.csv\", index = False)\n",
    "            # ¡¡¡¡¡¡¡ADD INDEX = FALSE!!!!!!!!!\n",
    "        else:\n",
    "           print(\"error id\")\n",
    "    else:\n",
    "        print(\"error columns all\")\n",
    "else:\n",
    "    print(\"error shape\")"
   ]
  },
  {
   "cell_type": "code",
   "execution_count": null,
   "metadata": {},
   "outputs": [],
   "source": []
  }
 ],
 "metadata": {
  "kernelspec": {
   "name": "python3",
   "display_name": "Python 3.9.0 64-bit",
   "metadata": {
    "interpreter": {
     "hash": "af698c02722c81864863429d928a3bd8a8dcc030c4156359d3ef8b980fb01319"
    }
   }
  },
  "language_info": {
   "codemirror_mode": {
    "name": "ipython",
    "version": 3
   },
   "file_extension": ".py",
   "mimetype": "text/x-python",
   "name": "python",
   "nbconvert_exporter": "python",
   "pygments_lexer": "ipython3",
   "version": "3.9.0-final"
  }
 },
 "nbformat": 4,
 "nbformat_minor": 4
}