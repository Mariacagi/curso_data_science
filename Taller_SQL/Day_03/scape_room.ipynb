{
  "nbformat": 4,
  "nbformat_minor": 0,
  "metadata": {
    "colab": {
      "name": "Untitled0.ipynb",
      "provenance": []
    },
    "kernelspec": {
      "name": "python3",
      "display_name": "Python 3.9.0 64-bit",
      "metadata": {
        "interpreter": {
          "hash": "af698c02722c81864863429d928a3bd8a8dcc030c4156359d3ef8b980fb01319"
        }
      }
    }
  },
  "cells": [
    {
      "cell_type": "code",
      "metadata": {
        "id": "GhYhbZEZFSEa"
      },
      "source": [
        "import sqlite3\r\n",
        "import pandas as pd"
      ],
      "execution_count": 2,
      "outputs": []
    },
    {
      "cell_type": "code",
      "execution_count": 3,
      "metadata": {},
      "outputs": [],
      "source": [
        "dir_db = \"sql-murder-mystery.db\"\n",
        "\n",
        "conn = sqlite3.connect(dir_db)"
      ]
    },
    {
      "cell_type": "code",
      "execution_count": 4,
      "metadata": {},
      "outputs": [],
      "source": [
        "# Creamos el cursor\n",
        "cursor = conn.cursor()"
      ]
    },
    {
      "cell_type": "code",
      "execution_count": 5,
      "metadata": {},
      "outputs": [
        {
          "output_type": "execute_result",
          "data": {
            "text/plain": [
              "[('Security footage shows that there were 2 witnesses. The first witness lives at the last house on \"Northwestern Dr\". The second witness, named Annabel, lives somewhere on \"Franklin Ave\".',)]"
            ]
          },
          "metadata": {},
          "execution_count": 5
        }
      ],
      "source": [
        "query = \"\"\"\n",
        "SELECT description\n",
        "FROM crime_scene_report\n",
        "WHERE date = \"20180115\" and type = \"murder\" and city = \"SQL City\"\n",
        "\"\"\"\n",
        "\n",
        "mi_query = cursor.execute(query)\n",
        "mi_query.fetchall()"
      ]
    },
    {
      "cell_type": "code",
      "execution_count": 11,
      "metadata": {},
      "outputs": [
        {
          "output_type": "execute_result",
          "data": {
            "text/plain": [
              "             name  address_number address_street_name        ssn\n",
              "0  Morty Schapiro            4919     Northwestern Dr  111564949"
            ],
            "text/html": "<div>\n<style scoped>\n    .dataframe tbody tr th:only-of-type {\n        vertical-align: middle;\n    }\n\n    .dataframe tbody tr th {\n        vertical-align: top;\n    }\n\n    .dataframe thead th {\n        text-align: right;\n    }\n</style>\n<table border=\"1\" class=\"dataframe\">\n  <thead>\n    <tr style=\"text-align: right;\">\n      <th></th>\n      <th>name</th>\n      <th>address_number</th>\n      <th>address_street_name</th>\n      <th>ssn</th>\n    </tr>\n  </thead>\n  <tbody>\n    <tr>\n      <th>0</th>\n      <td>Morty Schapiro</td>\n      <td>4919</td>\n      <td>Northwestern Dr</td>\n      <td>111564949</td>\n    </tr>\n  </tbody>\n</table>\n</div>"
          },
          "metadata": {},
          "execution_count": 11
        }
      ],
      "source": [
        "query = \"\"\"\n",
        "SELECT p.name, p.address_number, p.address_street_name, p.ssn\n",
        "FROM person p\n",
        "WHERE p.address_street_name = 'Northwestern Dr'\n",
        "ORDER BY address_number DESC\n",
        "LIMIT 1\n",
        "\"\"\"\n",
        "\n",
        "mi_def = pd.read_sql_query(query, conn)\n",
        "mi_def"
      ]
    },
    {
      "cell_type": "code",
      "execution_count": 7,
      "metadata": {},
      "outputs": [
        {
          "output_type": "execute_result",
          "data": {
            "text/plain": [
              "             name  address_number address_street_name        ssn\n",
              "0    Amado Mattan              99        Franklin Ave  125205748\n",
              "1  Annabel Miller             103        Franklin Ave  318771143"
            ],
            "text/html": "<div>\n<style scoped>\n    .dataframe tbody tr th:only-of-type {\n        vertical-align: middle;\n    }\n\n    .dataframe tbody tr th {\n        vertical-align: top;\n    }\n\n    .dataframe thead th {\n        text-align: right;\n    }\n</style>\n<table border=\"1\" class=\"dataframe\">\n  <thead>\n    <tr style=\"text-align: right;\">\n      <th></th>\n      <th>name</th>\n      <th>address_number</th>\n      <th>address_street_name</th>\n      <th>ssn</th>\n    </tr>\n  </thead>\n  <tbody>\n    <tr>\n      <th>0</th>\n      <td>Amado Mattan</td>\n      <td>99</td>\n      <td>Franklin Ave</td>\n      <td>125205748</td>\n    </tr>\n    <tr>\n      <th>1</th>\n      <td>Annabel Miller</td>\n      <td>103</td>\n      <td>Franklin Ave</td>\n      <td>318771143</td>\n    </tr>\n  </tbody>\n</table>\n</div>"
          },
          "metadata": {},
          "execution_count": 7
        }
      ],
      "source": [
        "query = \"\"\"\n",
        "SELECT p.name, p.address_number, p.address_street_name, p.ssn\n",
        "FROM person p\n",
        "WHERE p.address_street_name = 'Franklin Ave'\n",
        "ORDER BY name\n",
        "LIMIT 2\n",
        "\"\"\"\n",
        "\n",
        "mi_def = pd.read_sql_query(query, conn)\n",
        "mi_def"
      ]
    },
    {
      "cell_type": "code",
      "execution_count": 12,
      "metadata": {},
      "outputs": [
        {
          "output_type": "execute_result",
          "data": {
            "text/plain": [
              "Empty DataFrame\n",
              "Columns: [ssn, annual_income]\n",
              "Index: []"
            ],
            "text/html": "<div>\n<style scoped>\n    .dataframe tbody tr th:only-of-type {\n        vertical-align: middle;\n    }\n\n    .dataframe tbody tr th {\n        vertical-align: top;\n    }\n\n    .dataframe thead th {\n        text-align: right;\n    }\n</style>\n<table border=\"1\" class=\"dataframe\">\n  <thead>\n    <tr style=\"text-align: right;\">\n      <th></th>\n      <th>ssn</th>\n      <th>annual_income</th>\n    </tr>\n  </thead>\n  <tbody>\n  </tbody>\n</table>\n</div>"
          },
          "metadata": {},
          "execution_count": 12
        }
      ],
      "source": [
        "query = \"\"\"\n",
        "SELECT *\n",
        "FROM income i\n",
        "WHERE i.ssn = 111564949\n",
        "\"\"\"\n",
        "\n",
        "mi_def = pd.read_sql_query(query, conn)\n",
        "mi_def"
      ]
    },
    {
      "cell_type": "code",
      "execution_count": 20,
      "metadata": {},
      "outputs": [
        {
          "output_type": "execute_result",
          "data": {
            "text/plain": [
              "[('I saw the murder happen, and I recognized the killer from my gym when I was working out last week on January the 9th.',\n",
              "  'Annabel Miller')]"
            ]
          },
          "metadata": {},
          "execution_count": 20
        }
      ],
      "source": [
        "query = \"\"\"\n",
        "SELECT i.transcript, p.name\n",
        "FROM interview i\n",
        "JOIN person p ON p.id = i.person_id\n",
        "WHERE p.name = \"Annabel Miller\"\n",
        "\"\"\"\n",
        "\n",
        "mi_query = cursor.execute(query)\n",
        "mi_query.fetchall()"
      ]
    },
    {
      "cell_type": "code",
      "execution_count": 21,
      "metadata": {},
      "outputs": [
        {
          "output_type": "execute_result",
          "data": {
            "text/plain": [
              "[('I heard a gunshot and then saw a man run out. He had a \"Get Fit Now Gym\" bag. The membership number on the bag started with \"48Z\". Only gold members have those bags. The man got into a car with a plate that included \"H42W\".',\n",
              "  'Morty Schapiro')]"
            ]
          },
          "metadata": {},
          "execution_count": 21
        }
      ],
      "source": [
        "query = \"\"\"\n",
        "SELECT i.transcript, p.name\n",
        "FROM interview i\n",
        "JOIN person p ON p.id = i.person_id\n",
        "WHERE p.name = \"Morty Schapiro\"\n",
        "\"\"\"\n",
        "\n",
        "mi_query = cursor.execute(query)\n",
        "mi_query.fetchall()"
      ]
    },
    {
      "cell_type": "code",
      "execution_count": 24,
      "metadata": {},
      "outputs": [
        {
          "output_type": "execute_result",
          "data": {
            "text/plain": [
              "      id  person_id           name  membership_start_date membership_status\n",
              "0  48Z7A      28819   Joe Germuska               20160305              gold\n",
              "1  48Z55      67318  Jeremy Bowers               20160101              gold"
            ],
            "text/html": "<div>\n<style scoped>\n    .dataframe tbody tr th:only-of-type {\n        vertical-align: middle;\n    }\n\n    .dataframe tbody tr th {\n        vertical-align: top;\n    }\n\n    .dataframe thead th {\n        text-align: right;\n    }\n</style>\n<table border=\"1\" class=\"dataframe\">\n  <thead>\n    <tr style=\"text-align: right;\">\n      <th></th>\n      <th>id</th>\n      <th>person_id</th>\n      <th>name</th>\n      <th>membership_start_date</th>\n      <th>membership_status</th>\n    </tr>\n  </thead>\n  <tbody>\n    <tr>\n      <th>0</th>\n      <td>48Z7A</td>\n      <td>28819</td>\n      <td>Joe Germuska</td>\n      <td>20160305</td>\n      <td>gold</td>\n    </tr>\n    <tr>\n      <th>1</th>\n      <td>48Z55</td>\n      <td>67318</td>\n      <td>Jeremy Bowers</td>\n      <td>20160101</td>\n      <td>gold</td>\n    </tr>\n  </tbody>\n</table>\n</div>"
          },
          "metadata": {},
          "execution_count": 24
        }
      ],
      "source": [
        "query = \"\"\"\n",
        "SELECT *\n",
        "FROM get_fit_now_member gf\n",
        "WHERE gf.membership_status = \"gold\" and gf.id LIKE \"48Z%\" \n",
        "\"\"\"\n",
        "\n",
        "mi_def = pd.read_sql_query(query, conn)\n",
        "mi_def"
      ]
    },
    {
      "cell_type": "code",
      "execution_count": 28,
      "metadata": {},
      "outputs": [
        {
          "output_type": "execute_result",
          "data": {
            "text/plain": [
              "      id           name  license_id  address_number    address_street_name  \\\n",
              "0  67318  Jeremy Bowers      423327             530  Washington Pl, Apt 3A   \n",
              "\n",
              "         ssn      id  age  height eye_color hair_color gender plate_number  \\\n",
              "0  871539279  423327   30      70     brown      brown   male       0H42W2   \n",
              "\n",
              "    car_make car_model  \n",
              "0  Chevrolet  Spark LS  "
            ],
            "text/html": "<div>\n<style scoped>\n    .dataframe tbody tr th:only-of-type {\n        vertical-align: middle;\n    }\n\n    .dataframe tbody tr th {\n        vertical-align: top;\n    }\n\n    .dataframe thead th {\n        text-align: right;\n    }\n</style>\n<table border=\"1\" class=\"dataframe\">\n  <thead>\n    <tr style=\"text-align: right;\">\n      <th></th>\n      <th>id</th>\n      <th>name</th>\n      <th>license_id</th>\n      <th>address_number</th>\n      <th>address_street_name</th>\n      <th>ssn</th>\n      <th>id</th>\n      <th>age</th>\n      <th>height</th>\n      <th>eye_color</th>\n      <th>hair_color</th>\n      <th>gender</th>\n      <th>plate_number</th>\n      <th>car_make</th>\n      <th>car_model</th>\n    </tr>\n  </thead>\n  <tbody>\n    <tr>\n      <th>0</th>\n      <td>67318</td>\n      <td>Jeremy Bowers</td>\n      <td>423327</td>\n      <td>530</td>\n      <td>Washington Pl, Apt 3A</td>\n      <td>871539279</td>\n      <td>423327</td>\n      <td>30</td>\n      <td>70</td>\n      <td>brown</td>\n      <td>brown</td>\n      <td>male</td>\n      <td>0H42W2</td>\n      <td>Chevrolet</td>\n      <td>Spark LS</td>\n    </tr>\n  </tbody>\n</table>\n</div>"
          },
          "metadata": {},
          "execution_count": 28
        }
      ],
      "source": [
        "query = \"\"\"\n",
        "SELECT *\n",
        "FROM person p\n",
        "JOIN drivers_license dl ON p.license_id = dl.id\n",
        "WHERE p.name = \"Jeremy Bowers\"\n",
        "\"\"\"\n",
        "\n",
        "mi_def = pd.read_sql_query(query, conn)\n",
        "mi_def"
      ]
    },
    {
      "cell_type": "code",
      "execution_count": 33,
      "metadata": {},
      "outputs": [
        {
          "output_type": "execute_result",
          "data": {
            "text/plain": [
              "  membership_id  check_in_date  check_in_time  check_out_time\n",
              "0         48Z7A       20180109           1600            1730\n",
              "1         48Z55       20180109           1530            1700"
            ],
            "text/html": "<div>\n<style scoped>\n    .dataframe tbody tr th:only-of-type {\n        vertical-align: middle;\n    }\n\n    .dataframe tbody tr th {\n        vertical-align: top;\n    }\n\n    .dataframe thead th {\n        text-align: right;\n    }\n</style>\n<table border=\"1\" class=\"dataframe\">\n  <thead>\n    <tr style=\"text-align: right;\">\n      <th></th>\n      <th>membership_id</th>\n      <th>check_in_date</th>\n      <th>check_in_time</th>\n      <th>check_out_time</th>\n    </tr>\n  </thead>\n  <tbody>\n    <tr>\n      <th>0</th>\n      <td>48Z7A</td>\n      <td>20180109</td>\n      <td>1600</td>\n      <td>1730</td>\n    </tr>\n    <tr>\n      <th>1</th>\n      <td>48Z55</td>\n      <td>20180109</td>\n      <td>1530</td>\n      <td>1700</td>\n    </tr>\n  </tbody>\n</table>\n</div>"
          },
          "metadata": {},
          "execution_count": 33
        }
      ],
      "source": [
        "query = \"\"\"\n",
        "SELECT *\n",
        "FROM get_fit_now_check_in gfc\n",
        "WHERE gfC.membership_id LIKE \"48Z%\" and gfc.check_in_date LIKE \"20180109\"\n",
        "\"\"\"\n",
        "\n",
        "mi_def = pd.read_sql_query(query, conn)\n",
        "mi_def"
      ]
    },
    {
      "cell_type": "code",
      "execution_count": null,
      "metadata": {},
      "outputs": [],
      "source": []
    }
  ]
}