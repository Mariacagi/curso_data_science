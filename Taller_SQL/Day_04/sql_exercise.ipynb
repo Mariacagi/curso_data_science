{
 "metadata": {
  "language_info": {
   "codemirror_mode": {
    "name": "ipython",
    "version": 3
   },
   "file_extension": ".py",
   "mimetype": "text/x-python",
   "name": "python",
   "nbconvert_exporter": "python",
   "pygments_lexer": "ipython3",
   "version": "3.9.0-final"
  },
  "orig_nbformat": 2,
  "kernelspec": {
   "name": "python3",
   "display_name": "Python 3.9.0 64-bit",
   "metadata": {
    "interpreter": {
     "hash": "af698c02722c81864863429d928a3bd8a8dcc030c4156359d3ef8b980fb01319"
    }
   }
  }
 },
 "nbformat": 4,
 "nbformat_minor": 2,
 "cells": [
  {
   "cell_type": "code",
   "execution_count": 12,
   "metadata": {},
   "outputs": [],
   "source": [
    "import sqlite3\n",
    "import pandas as pd"
   ]
  },
  {
   "cell_type": "code",
   "execution_count": 13,
   "metadata": {},
   "outputs": [],
   "source": [
    "conn = sqlite3.connect(\"sql_exercise.db\")"
   ]
  },
  {
   "cell_type": "code",
   "execution_count": 14,
   "metadata": {},
   "outputs": [],
   "source": [
    "df_excel = pd.read_excel(\"dataset_pruebaTecnica___.xlsx\", sheet_name=None, engine='openpyxl')"
   ]
  },
  {
   "cell_type": "code",
   "execution_count": 18,
   "metadata": {},
   "outputs": [
    {
     "output_type": "execute_result",
     "data": {
      "text/plain": [
       "     client_id                              cl_web_id    cl_name  \\\n",
       "0           16   7b26c53b-b2b8-4a54-a760-faea3fe64f27    client1   \n",
       "1           17   4794ce00-5a71-486a-b59a-89b628bd7597    client2   \n",
       "2           18   0e22b5d7-99fa-40f1-bc0a-2dde670c5f7a    client3   \n",
       "3           19                                           client4   \n",
       "4           20                                           client5   \n",
       "..         ...                                    ...        ...   \n",
       "987       1142   f4de1d9b-9a07-42cb-b8be-193586f62397  client988   \n",
       "988       1143   c9cde543-a744-4b22-ac13-a8268fdcf58c  client989   \n",
       "989       1144   6152427e-eb6d-4dca-8f69-4164fda3a4da  client990   \n",
       "990       1145   22d4cbc5-e8c8-4235-8daa-f1aede68dec7  client991   \n",
       "991       1146   cc230971-97c8-4407-8633-518df1ed58f1  client992   \n",
       "\n",
       "                  email  \n",
       "0     email36@gmail.com  \n",
       "1    email440@gmail.com  \n",
       "2    email688@gmail.com  \n",
       "3    email745@gmail.com  \n",
       "4    email223@gmail.com  \n",
       "..                  ...  \n",
       "987   email82@gmail.com  \n",
       "988   email84@gmail.com  \n",
       "989  email366@gmail.com  \n",
       "990  email995@gmail.com  \n",
       "991   email18@gmail.com  \n",
       "\n",
       "[992 rows x 4 columns]"
      ],
      "text/html": "<div>\n<style scoped>\n    .dataframe tbody tr th:only-of-type {\n        vertical-align: middle;\n    }\n\n    .dataframe tbody tr th {\n        vertical-align: top;\n    }\n\n    .dataframe thead th {\n        text-align: right;\n    }\n</style>\n<table border=\"1\" class=\"dataframe\">\n  <thead>\n    <tr style=\"text-align: right;\">\n      <th></th>\n      <th>client_id</th>\n      <th>cl_web_id</th>\n      <th>cl_name</th>\n      <th>email</th>\n    </tr>\n  </thead>\n  <tbody>\n    <tr>\n      <th>0</th>\n      <td>16</td>\n      <td>7b26c53b-b2b8-4a54-a760-faea3fe64f27</td>\n      <td>client1</td>\n      <td>email36@gmail.com</td>\n    </tr>\n    <tr>\n      <th>1</th>\n      <td>17</td>\n      <td>4794ce00-5a71-486a-b59a-89b628bd7597</td>\n      <td>client2</td>\n      <td>email440@gmail.com</td>\n    </tr>\n    <tr>\n      <th>2</th>\n      <td>18</td>\n      <td>0e22b5d7-99fa-40f1-bc0a-2dde670c5f7a</td>\n      <td>client3</td>\n      <td>email688@gmail.com</td>\n    </tr>\n    <tr>\n      <th>3</th>\n      <td>19</td>\n      <td></td>\n      <td>client4</td>\n      <td>email745@gmail.com</td>\n    </tr>\n    <tr>\n      <th>4</th>\n      <td>20</td>\n      <td></td>\n      <td>client5</td>\n      <td>email223@gmail.com</td>\n    </tr>\n    <tr>\n      <th>...</th>\n      <td>...</td>\n      <td>...</td>\n      <td>...</td>\n      <td>...</td>\n    </tr>\n    <tr>\n      <th>987</th>\n      <td>1142</td>\n      <td>f4de1d9b-9a07-42cb-b8be-193586f62397</td>\n      <td>client988</td>\n      <td>email82@gmail.com</td>\n    </tr>\n    <tr>\n      <th>988</th>\n      <td>1143</td>\n      <td>c9cde543-a744-4b22-ac13-a8268fdcf58c</td>\n      <td>client989</td>\n      <td>email84@gmail.com</td>\n    </tr>\n    <tr>\n      <th>989</th>\n      <td>1144</td>\n      <td>6152427e-eb6d-4dca-8f69-4164fda3a4da</td>\n      <td>client990</td>\n      <td>email366@gmail.com</td>\n    </tr>\n    <tr>\n      <th>990</th>\n      <td>1145</td>\n      <td>22d4cbc5-e8c8-4235-8daa-f1aede68dec7</td>\n      <td>client991</td>\n      <td>email995@gmail.com</td>\n    </tr>\n    <tr>\n      <th>991</th>\n      <td>1146</td>\n      <td>cc230971-97c8-4407-8633-518df1ed58f1</td>\n      <td>client992</td>\n      <td>email18@gmail.com</td>\n    </tr>\n  </tbody>\n</table>\n<p>992 rows × 4 columns</p>\n</div>"
     },
     "metadata": {},
     "execution_count": 18
    }
   ],
   "source": [
    "df_excel[\"client_dim\"]"
   ]
  },
  {
   "cell_type": "code",
   "execution_count": 5,
   "metadata": {},
   "outputs": [],
   "source": [
    "cursor = conn.cursor()"
   ]
  },
  {
   "cell_type": "code",
   "execution_count": 22,
   "metadata": {},
   "outputs": [],
   "source": [
    "query1 = \"\"\"\n",
    "SELECT DISTINCT cl.client_id, COUNT(*)\n",
    "FROM client_dim cl\n",
    "JOIN contracts_dims co ON cl.client_id = co.client_id\n",
    "\"\"\""
   ]
  },
  {
   "cell_type": "code",
   "execution_count": null,
   "metadata": {},
   "outputs": [],
   "source": [
    "# query1 = \"\"\"\n",
    "# SELECT DISTINCT cl.client_id, COUNT(*)\n",
    "# FROM client_dim cl\n",
    "# JOIN contracts_dims co ON cl.client_id = co.client_id\n",
    "# \"\"\""
   ]
  },
  {
   "cell_type": "code",
   "execution_count": 23,
   "metadata": {},
   "outputs": [
    {
     "output_type": "error",
     "ename": "DatabaseError",
     "evalue": "Execution failed on sql '\nSELECT df_excel[\"client_dim\"].client_id, COUNT(*)\nFROM df_excel[\"client_dim\"]\nJOIN df_excel[\"contracts_dim\"] co ON df_excel[\"client_dim\"].client_id = df_excel[\"contracts_dim\"].client_id\n': near \".\": syntax error",
     "traceback": [
      "\u001b[1;31m---------------------------------------------------------------------------\u001b[0m",
      "\u001b[1;31mOperationalError\u001b[0m                          Traceback (most recent call last)",
      "\u001b[1;32m~\\AppData\\Local\\Programs\\Python\\Python39\\lib\\site-packages\\pandas\\io\\sql.py\u001b[0m in \u001b[0;36mexecute\u001b[1;34m(self, *args, **kwargs)\u001b[0m\n\u001b[0;32m   1680\u001b[0m         \u001b[1;32mtry\u001b[0m\u001b[1;33m:\u001b[0m\u001b[1;33m\u001b[0m\u001b[1;33m\u001b[0m\u001b[0m\n\u001b[1;32m-> 1681\u001b[1;33m             \u001b[0mcur\u001b[0m\u001b[1;33m.\u001b[0m\u001b[0mexecute\u001b[0m\u001b[1;33m(\u001b[0m\u001b[1;33m*\u001b[0m\u001b[0margs\u001b[0m\u001b[1;33m,\u001b[0m \u001b[1;33m**\u001b[0m\u001b[0mkwargs\u001b[0m\u001b[1;33m)\u001b[0m\u001b[1;33m\u001b[0m\u001b[1;33m\u001b[0m\u001b[0m\n\u001b[0m\u001b[0;32m   1682\u001b[0m             \u001b[1;32mreturn\u001b[0m \u001b[0mcur\u001b[0m\u001b[1;33m\u001b[0m\u001b[1;33m\u001b[0m\u001b[0m\n",
      "\u001b[1;31mOperationalError\u001b[0m: near \".\": syntax error",
      "\nThe above exception was the direct cause of the following exception:\n",
      "\u001b[1;31mDatabaseError\u001b[0m                             Traceback (most recent call last)",
      "\u001b[1;32m<ipython-input-23-46bcf77f1005>\u001b[0m in \u001b[0;36m<module>\u001b[1;34m\u001b[0m\n\u001b[1;32m----> 1\u001b[1;33m \u001b[0mpd\u001b[0m\u001b[1;33m.\u001b[0m\u001b[0mread_sql_query\u001b[0m\u001b[1;33m(\u001b[0m\u001b[0mquery1\u001b[0m\u001b[1;33m,\u001b[0m \u001b[0mconn\u001b[0m\u001b[1;33m)\u001b[0m\u001b[1;33m\u001b[0m\u001b[1;33m\u001b[0m\u001b[0m\n\u001b[0m",
      "\u001b[1;32m~\\AppData\\Local\\Programs\\Python\\Python39\\lib\\site-packages\\pandas\\io\\sql.py\u001b[0m in \u001b[0;36mread_sql_query\u001b[1;34m(sql, con, index_col, coerce_float, params, parse_dates, chunksize)\u001b[0m\n\u001b[0;32m    375\u001b[0m     \"\"\"\n\u001b[0;32m    376\u001b[0m     \u001b[0mpandas_sql\u001b[0m \u001b[1;33m=\u001b[0m \u001b[0mpandasSQL_builder\u001b[0m\u001b[1;33m(\u001b[0m\u001b[0mcon\u001b[0m\u001b[1;33m)\u001b[0m\u001b[1;33m\u001b[0m\u001b[1;33m\u001b[0m\u001b[0m\n\u001b[1;32m--> 377\u001b[1;33m     return pandas_sql.read_query(\n\u001b[0m\u001b[0;32m    378\u001b[0m         \u001b[0msql\u001b[0m\u001b[1;33m,\u001b[0m\u001b[1;33m\u001b[0m\u001b[1;33m\u001b[0m\u001b[0m\n\u001b[0;32m    379\u001b[0m         \u001b[0mindex_col\u001b[0m\u001b[1;33m=\u001b[0m\u001b[0mindex_col\u001b[0m\u001b[1;33m,\u001b[0m\u001b[1;33m\u001b[0m\u001b[1;33m\u001b[0m\u001b[0m\n",
      "\u001b[1;32m~\\AppData\\Local\\Programs\\Python\\Python39\\lib\\site-packages\\pandas\\io\\sql.py\u001b[0m in \u001b[0;36mread_query\u001b[1;34m(self, sql, index_col, coerce_float, params, parse_dates, chunksize)\u001b[0m\n\u001b[0;32m   1725\u001b[0m \u001b[1;33m\u001b[0m\u001b[0m\n\u001b[0;32m   1726\u001b[0m         \u001b[0margs\u001b[0m \u001b[1;33m=\u001b[0m \u001b[0m_convert_params\u001b[0m\u001b[1;33m(\u001b[0m\u001b[0msql\u001b[0m\u001b[1;33m,\u001b[0m \u001b[0mparams\u001b[0m\u001b[1;33m)\u001b[0m\u001b[1;33m\u001b[0m\u001b[1;33m\u001b[0m\u001b[0m\n\u001b[1;32m-> 1727\u001b[1;33m         \u001b[0mcursor\u001b[0m \u001b[1;33m=\u001b[0m \u001b[0mself\u001b[0m\u001b[1;33m.\u001b[0m\u001b[0mexecute\u001b[0m\u001b[1;33m(\u001b[0m\u001b[1;33m*\u001b[0m\u001b[0margs\u001b[0m\u001b[1;33m)\u001b[0m\u001b[1;33m\u001b[0m\u001b[1;33m\u001b[0m\u001b[0m\n\u001b[0m\u001b[0;32m   1728\u001b[0m         \u001b[0mcolumns\u001b[0m \u001b[1;33m=\u001b[0m \u001b[1;33m[\u001b[0m\u001b[0mcol_desc\u001b[0m\u001b[1;33m[\u001b[0m\u001b[1;36m0\u001b[0m\u001b[1;33m]\u001b[0m \u001b[1;32mfor\u001b[0m \u001b[0mcol_desc\u001b[0m \u001b[1;32min\u001b[0m \u001b[0mcursor\u001b[0m\u001b[1;33m.\u001b[0m\u001b[0mdescription\u001b[0m\u001b[1;33m]\u001b[0m\u001b[1;33m\u001b[0m\u001b[1;33m\u001b[0m\u001b[0m\n\u001b[0;32m   1729\u001b[0m \u001b[1;33m\u001b[0m\u001b[0m\n",
      "\u001b[1;32m~\\AppData\\Local\\Programs\\Python\\Python39\\lib\\site-packages\\pandas\\io\\sql.py\u001b[0m in \u001b[0;36mexecute\u001b[1;34m(self, *args, **kwargs)\u001b[0m\n\u001b[0;32m   1691\u001b[0m \u001b[1;33m\u001b[0m\u001b[0m\n\u001b[0;32m   1692\u001b[0m             \u001b[0mex\u001b[0m \u001b[1;33m=\u001b[0m \u001b[0mDatabaseError\u001b[0m\u001b[1;33m(\u001b[0m\u001b[1;34mf\"Execution failed on sql '{args[0]}': {exc}\"\u001b[0m\u001b[1;33m)\u001b[0m\u001b[1;33m\u001b[0m\u001b[1;33m\u001b[0m\u001b[0m\n\u001b[1;32m-> 1693\u001b[1;33m             \u001b[1;32mraise\u001b[0m \u001b[0mex\u001b[0m \u001b[1;32mfrom\u001b[0m \u001b[0mexc\u001b[0m\u001b[1;33m\u001b[0m\u001b[1;33m\u001b[0m\u001b[0m\n\u001b[0m\u001b[0;32m   1694\u001b[0m \u001b[1;33m\u001b[0m\u001b[0m\n\u001b[0;32m   1695\u001b[0m     \u001b[1;33m@\u001b[0m\u001b[0mstaticmethod\u001b[0m\u001b[1;33m\u001b[0m\u001b[1;33m\u001b[0m\u001b[0m\n",
      "\u001b[1;31mDatabaseError\u001b[0m: Execution failed on sql '\nSELECT df_excel[\"client_dim\"].client_id, COUNT(*)\nFROM df_excel[\"client_dim\"]\nJOIN df_excel[\"contracts_dim\"] co ON df_excel[\"client_dim\"].client_id = df_excel[\"contracts_dim\"].client_id\n': near \".\": syntax error"
     ]
    }
   ],
   "source": [
    "pd.read_sql_query(query1, conn)"
   ]
  },
  {
   "cell_type": "code",
   "execution_count": null,
   "metadata": {},
   "outputs": [],
   "source": []
  }
 ]
}