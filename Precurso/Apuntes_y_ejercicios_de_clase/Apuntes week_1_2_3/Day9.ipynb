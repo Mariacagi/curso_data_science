{
 "metadata": {
  "language_info": {
   "codemirror_mode": {
    "name": "ipython",
    "version": 3
   },
   "file_extension": ".py",
   "mimetype": "text/x-python",
   "name": "python",
   "nbconvert_exporter": "python",
   "pygments_lexer": "ipython3",
   "version": "3.9.0-final"
  },
  "orig_nbformat": 2,
  "kernelspec": {
   "name": "python3",
   "display_name": "Python 3.9.0 64-bit",
   "metadata": {
    "interpreter": {
     "hash": "af698c02722c81864863429d928a3bd8a8dcc030c4156359d3ef8b980fb01319"
    }
   }
  }
 },
 "nbformat": 4,
 "nbformat_minor": 2,
 "cells": [
  {
   "cell_type": "code",
   "execution_count": null,
   "metadata": {},
   "outputs": [],
   "source": [
    "#Gestión de los errores try - except\n",
    "\n",
    "def suma(a, b=\"3\")\n",
    "    resultado = a + b\n",
    "    return resultado\n",
    "\n",
    "s = suma(a=2)\n",
    "s"
   ]
  },
  {
   "cell_type": "code",
   "execution_count": 3,
   "metadata": {},
   "outputs": [
    {
     "output_type": "stream",
     "name": "stdout",
     "text": [
      "name 'a' is not defined\nhola\n"
     ]
    }
   ],
   "source": [
    "try:\n",
    "    resultado = a + b\n",
    "    \n",
    "except Exception as error: #Esto muestra el error pero sigue ejecutando las siguientes lineas\n",
    "    print(error)\n",
    "\n",
    "print(\"hola\")\n",
    "        "
   ]
  },
  {
   "cell_type": "code",
   "execution_count": 8,
   "metadata": {},
   "outputs": [
    {
     "output_type": "stream",
     "name": "stdout",
     "text": [
      "Ha ocurrido un error al sumar\n"
     ]
    }
   ],
   "source": [
    "def suma(a, b=\"3\"):\n",
    "    \n",
    "    try:\n",
    "        resultado = a + b\n",
    "    \n",
    "    except:\n",
    "        print (\"Ha ocurrido un error al sumar\")\n",
    "        a = int(a)\n",
    "        b = int(b)\n",
    "        resultado = a + b\n",
    "\n",
    "    return resultado\n",
    "\n",
    "s = suma(a=2)"
   ]
  },
  {
   "cell_type": "code",
   "execution_count": 13,
   "metadata": {},
   "outputs": [
    {
     "output_type": "stream",
     "name": "stdout",
     "text": [
      "Ha ocurrido un error, solo se admiten números\n"
     ]
    }
   ],
   "source": [
    "def minicalculadora(a, b, operador, DEBUG=0):\n",
    "\n",
    "    try:\n",
    "        a = int(a)\n",
    "        b = int(b)\n",
    "        if operador == \"+\":\n",
    "            return a + b\n",
    "        elif operador == \"/\":\n",
    "            return a / b\n",
    "\n",
    "    except Exception as error:\n",
    "        if DEBUG != 0:\n",
    "            print(error)\n",
    "        print(\"Ha ocurrido un error, solo se admiten números\")\n",
    "\n",
    "\n",
    "\n",
    "s = input(\"Escribe un operador\")\n",
    "a = input(\"Escribe un numero\")\n",
    "b = input(\"Escribe otro numero\")\n",
    "\n",
    "minicalculadora(a=a, b=b, operador=s)"
   ]
  },
  {
   "cell_type": "code",
   "execution_count": null,
   "metadata": {},
   "outputs": [],
   "source": [
    "#Assert\n",
    "\n",
    "def mostrar_dinero_banco(password):\n",
    "    assert (1==2), \"mensaje\" #Se utilza para que algo tan crítico como una contraseña no se introduce correctamente, ocja y pare todo los posterior.\n",
    "    return 82748274278\n",
    "\n",
    "\n"
   ]
  },
  {
   "cell_type": "code",
   "execution_count": null,
   "metadata": {},
   "outputs": [],
   "source": [
    "#Diferencia estre assert y try, el except. "
   ]
  },
  {
   "cell_type": "code",
   "execution_count": 14,
   "metadata": {},
   "outputs": [
    {
     "output_type": "stream",
     "name": "stdout",
     "text": [
      "error\nHa ocurrido un error\n"
     ]
    }
   ],
   "source": [
    "try:\n",
    "    assert (1==2), \"Error 2 no es 1\"\n",
    "\n",
    "except Exception as error:\n",
    "    print(\"error\")\n",
    "    print (\"Ha ocurrido un error\")\n"
   ]
  },
  {
   "cell_type": "code",
   "execution_count": null,
   "metadata": {},
   "outputs": [],
   "source": [
    "#Archivos .py"
   ]
  }
 ]
}