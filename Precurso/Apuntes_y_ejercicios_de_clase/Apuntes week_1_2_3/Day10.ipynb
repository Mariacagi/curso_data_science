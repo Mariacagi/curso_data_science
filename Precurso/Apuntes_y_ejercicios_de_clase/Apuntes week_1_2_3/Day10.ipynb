{
 "metadata": {
  "language_info": {
   "codemirror_mode": {
    "name": "ipython",
    "version": 3
   },
   "file_extension": ".py",
   "mimetype": "text/x-python",
   "name": "python",
   "nbconvert_exporter": "python",
   "pygments_lexer": "ipython3",
   "version": "3.9.0-final"
  },
  "orig_nbformat": 2,
  "kernelspec": {
   "name": "python3",
   "display_name": "Python 3.9.0 64-bit",
   "metadata": {
    "interpreter": {
     "hash": "af698c02722c81864863429d928a3bd8a8dcc030c4156359d3ef8b980fb01319"
    }
   }
  }
 },
 "nbformat": 4,
 "nbformat_minor": 2,
 "cells": [
  {
   "cell_type": "code",
   "execution_count": 2,
   "metadata": {},
   "outputs": [
    {
     "output_type": "stream",
     "name": "stdout",
     "text": [
      "a\n2\n------\nb\n4\n------\nc\n6\n------\n"
     ]
    }
   ],
   "source": [
    "l3 = [\"a\", \"b\", \"c\"]\n",
    "l4 = [2, 4, 6]\n",
    "\n",
    "for i in range(len(l3)):\n",
    "    print(l3[i])\n",
    "    print(l4[i])\n",
    "    print(\"------\")"
   ]
  },
  {
   "cell_type": "code",
   "execution_count": 5,
   "metadata": {},
   "outputs": [
    {
     "output_type": "execute_result",
     "data": {
      "text/plain": [
       "[('a', 2), ('b', 4), ('c', 6)]"
      ]
     },
     "metadata": {},
     "execution_count": 5
    }
   ],
   "source": [
    "l5 = list(zip(l3,l4))\n",
    "l5"
   ]
  },
  {
   "cell_type": "code",
   "execution_count": 6,
   "metadata": {},
   "outputs": [
    {
     "output_type": "stream",
     "name": "stdout",
     "text": [
      "('a', 2)\n('b', 4)\n('c', 6)\n"
     ]
    }
   ],
   "source": [
    "for elem in l5:\n",
    "    print (elem)\n"
   ]
  },
  {
   "cell_type": "code",
   "execution_count": 8,
   "metadata": {},
   "outputs": [
    {
     "output_type": "stream",
     "name": "stdout",
     "text": [
      "a\n2\n------\nb\n4\n------\nc\n6\n------\n"
     ]
    }
   ],
   "source": [
    "for e1, e2 in l5:\n",
    "    print(e1)\n",
    "    print(e2)\n",
    "    print(\"------\")"
   ]
  },
  {
   "cell_type": "code",
   "execution_count": 2,
   "metadata": {},
   "outputs": [
    {
     "output_type": "execute_result",
     "data": {
      "text/plain": [
       "[(['a'], (5, 7)), ([3, 2], ['x']), ([7, 'm'], ['y'])]"
      ]
     },
     "metadata": {},
     "execution_count": 2
    }
   ],
   "source": [
    "l1 = [[\"a\"], [3,2], [7, \"m\"]]\n",
    "l2 = [(5,7), [\"x\"], [\"y\"]]\n",
    "\n",
    "l3 = list(zip(l1, l2))\n",
    "l3"
   ]
  },
  {
   "cell_type": "code",
   "execution_count": 11,
   "metadata": {},
   "outputs": [
    {
     "output_type": "stream",
     "name": "stdout",
     "text": [
      "['a']\n[3, 2]\n[7, 'm']\n"
     ]
    }
   ],
   "source": [
    "for e1, e2 in l3:\n",
    "    print(e1)"
   ]
  },
  {
   "cell_type": "code",
   "execution_count": 15,
   "metadata": {},
   "outputs": [
    {
     "output_type": "stream",
     "name": "stdout",
     "text": [
      "['a']\n.......\n"
     ]
    },
    {
     "output_type": "error",
     "ename": "ValueError",
     "evalue": "not enough values to unpack (expected 2, got 1)",
     "traceback": [
      "\u001b[1;31m---------------------------------------------------------------------------\u001b[0m",
      "\u001b[1;31mValueError\u001b[0m                                Traceback (most recent call last)",
      "\u001b[1;32m<ipython-input-15-2b127e70e328>\u001b[0m in \u001b[0;36m<module>\u001b[1;34m\u001b[0m\n\u001b[0;32m      2\u001b[0m     \u001b[0mprint\u001b[0m\u001b[1;33m(\u001b[0m\u001b[0ma1\u001b[0m\u001b[1;33m)\u001b[0m\u001b[1;33m\u001b[0m\u001b[1;33m\u001b[0m\u001b[0m\n\u001b[0;32m      3\u001b[0m     \u001b[0mprint\u001b[0m\u001b[1;33m(\u001b[0m\u001b[1;34m\".......\"\u001b[0m\u001b[1;33m)\u001b[0m\u001b[1;33m\u001b[0m\u001b[1;33m\u001b[0m\u001b[0m\n\u001b[1;32m----> 4\u001b[1;33m     \u001b[1;32mfor\u001b[0m \u001b[0mt1\u001b[0m\u001b[1;33m,\u001b[0m \u001b[0mt2\u001b[0m \u001b[1;32min\u001b[0m \u001b[0me1\u001b[0m\u001b[1;33m:\u001b[0m\u001b[1;33m\u001b[0m\u001b[1;33m\u001b[0m\u001b[0m\n\u001b[0m\u001b[0;32m      5\u001b[0m         \u001b[0mprint\u001b[0m\u001b[1;33m(\u001b[0m\u001b[0mt2\u001b[0m\u001b[1;33m)\u001b[0m\u001b[1;33m\u001b[0m\u001b[1;33m\u001b[0m\u001b[0m\n",
      "\u001b[1;31mValueError\u001b[0m: not enough values to unpack (expected 2, got 1)"
     ]
    }
   ],
   "source": [
    "for a1, a2 in l3:\n",
    "    print(a1)\n",
    "    print(\".......\")\n",
    "    for t1, t2 in e1:\n",
    "        print(t2)"
   ]
  },
  {
   "cell_type": "code",
   "execution_count": 3,
   "metadata": {},
   "outputs": [
    {
     "output_type": "stream",
     "name": "stdout",
     "text": [
      "[['a'], [3, 2], [7, 'm']]\n[(5, 7), ['x'], ['y']]\n"
     ]
    },
    {
     "output_type": "error",
     "ename": "TypeError",
     "evalue": "unhashable type: 'list'",
     "traceback": [
      "\u001b[1;31m---------------------------------------------------------------------------\u001b[0m",
      "\u001b[1;31mTypeError\u001b[0m                                 Traceback (most recent call last)",
      "\u001b[1;32m<ipython-input-3-96f0f1e72ba7>\u001b[0m in \u001b[0;36m<module>\u001b[1;34m\u001b[0m\n\u001b[0;32m      4\u001b[0m \u001b[0mprint\u001b[0m\u001b[1;33m(\u001b[0m\u001b[0ml2\u001b[0m\u001b[1;33m)\u001b[0m\u001b[1;33m\u001b[0m\u001b[1;33m\u001b[0m\u001b[0m\n\u001b[0;32m      5\u001b[0m \u001b[1;33m\u001b[0m\u001b[0m\n\u001b[1;32m----> 6\u001b[1;33m \u001b[0md3\u001b[0m \u001b[1;33m=\u001b[0m \u001b[0mdict\u001b[0m\u001b[1;33m(\u001b[0m\u001b[0mzip\u001b[0m\u001b[1;33m(\u001b[0m\u001b[0ml1\u001b[0m\u001b[1;33m,\u001b[0m \u001b[0ml2\u001b[0m\u001b[1;33m)\u001b[0m\u001b[1;33m)\u001b[0m\u001b[1;33m\u001b[0m\u001b[1;33m\u001b[0m\u001b[0m\n\u001b[0m\u001b[0;32m      7\u001b[0m \u001b[0md3\u001b[0m\u001b[1;33m\u001b[0m\u001b[1;33m\u001b[0m\u001b[0m\n",
      "\u001b[1;31mTypeError\u001b[0m: unhashable type: 'list'"
     ]
    }
   ],
   "source": [
    "#ZIP PARA GENERAR DICCIONARIOS\n",
    "\n",
    "print(l1)\n",
    "print(l2)\n",
    "\n",
    "d3 = dict(zip(l1, l2))\n",
    "d3"
   ]
  },
  {
   "cell_type": "code",
   "execution_count": 6,
   "metadata": {},
   "outputs": [
    {
     "output_type": "stream",
     "name": "stdout",
     "text": [
      "{'key': 4}\n"
     ]
    }
   ],
   "source": [
    "d = {}\n",
    "d[\"key\"] = 4\n",
    "print(d)"
   ]
  },
  {
   "cell_type": "code",
   "execution_count": 1,
   "metadata": {},
   "outputs": [
    {
     "output_type": "execute_result",
     "data": {
      "text/plain": [
       "[('a', 0, True), ('b', 1, False)]"
      ]
     },
     "metadata": {},
     "execution_count": 1
    }
   ],
   "source": [
    "l1 = [\"x\", \"y\"]\n",
    "l2 = [0, 1]\n",
    "l3 = (True, False)\n",
    "\n",
    "l4 = list(zip(l1, l2, l3)) #Mientras tengan el mismo número de elementos te deja hacerlo\n",
    "l4"
   ]
  },
  {
   "cell_type": "code",
   "execution_count": 2,
   "metadata": {},
   "outputs": [
    {
     "output_type": "execute_result",
     "data": {
      "text/plain": [
       "[('x', 0, True, 5000, 'a'), ('y', 1, False, 6, 'b')]"
      ]
     },
     "metadata": {},
     "execution_count": 2
    }
   ],
   "source": [
    "l1 = [\"x\", \"y\"]\n",
    "l2 = [0, 1]\n",
    "l3 = (True, False)\n",
    "l4 = {6, 5000, 9999} #Por el tipo de ordenación interna que tiene el conjunto diccionario coge primero el 5000 y luego el 6. Si fuese una lista aparecería primero el 6 y luego el 5000, según su orden natural de posición\n",
    "s = \"abdf\"\n",
    "\n",
    "l5 = list(zip(l1, l2, l3, l4, s)) #Hasta donde tienen posiciones iguales lo hace\n",
    "l5"
   ]
  },
  {
   "cell_type": "code",
   "execution_count": 4,
   "metadata": {},
   "outputs": [
    {
     "output_type": "stream",
     "name": "stdout",
     "text": [
      "0\nTrue\n------\n1\nFalse\n------\n"
     ]
    }
   ],
   "source": [
    "for pos, (e1, e2, e3, e4, e5) in enumerate(l5):\n",
    "        print(pos)\n",
    "        print(e3)\n",
    "        print(\"------\")"
   ]
  },
  {
   "cell_type": "code",
   "execution_count": 12,
   "metadata": {},
   "outputs": [
    {
     "output_type": "execute_result",
     "data": {
      "text/plain": [
       "[3, 4, 6]"
      ]
     },
     "metadata": {},
     "execution_count": 12
    }
   ],
   "source": [
    "l = [3]\n",
    "l1 = [4, 6]\n",
    "l.extend(l1)\n",
    "l"
   ]
  },
  {
   "cell_type": "code",
   "execution_count": 16,
   "metadata": {},
   "outputs": [
    {
     "output_type": "stream",
     "name": "stdout",
     "text": [
      "[3, 0]\n[3, 0, 1]\n[3, 0, 1, 2]\n[3, 0, 1, 2, 3]\n[3, 0, 1, 2, 3, 4]\n[3, 0, 1, 2, 3, 4, 5]\n[3, 0, 1, 2, 3, 4, 5, 6]\n[3, 0, 1, 2, 3, 4, 5, 6, 7]\n[3, 0, 1, 2, 3, 4, 5, 6, 7, 8]\n[3, 0, 1, 2, 3, 4, 5, 6, 7, 8, 9]\n[3, 0, 1, 2, 3, 4, 5, 6, 7, 8, 9, 10]\n[3, 0, 1, 2, 3, 4, 5, 6, 7, 8, 9, 10, 11]\n[3, 0, 1, 2, 3, 4, 5, 6, 7, 8, 9, 10, 11, 12]\n[3, 0, 1, 2, 3, 4, 5, 6, 7, 8, 9, 10, 11, 12, 13]\n[3, 0, 1, 2, 3, 4, 5, 6, 7, 8, 9, 10, 11, 12, 13, 14]\n[3, 0, 1, 2, 3, 4, 5, 6, 7, 8, 9, 10, 11, 12, 13, 14, 15]\n[3, 0, 1, 2, 3, 4, 5, 6, 7, 8, 9, 10, 11, 12, 13, 14, 15, 16]\n[3, 0, 1, 2, 3, 4, 5, 6, 7, 8, 9, 10, 11, 12, 13, 14, 15, 16, 17]\n[3, 0, 1, 2, 3, 4, 5, 6, 7, 8, 9, 10, 11, 12, 13, 14, 15, 16, 17, 18]\n[3, 0, 1, 2, 3, 4, 5, 6, 7, 8, 9, 10, 11, 12, 13, 14, 15, 16, 17, 18, 19]\n[3, 0, 1, 2, 3, 4, 5, 6, 7, 8, 9, 10, 11, 12, 13, 14, 15, 16, 17, 18, 19, 20]\n"
     ]
    }
   ],
   "source": [
    "l = [3]\n",
    "for i in range(21):\n",
    "    l.append(i)\n",
    "    print(l)"
   ]
  },
  {
   "cell_type": "code",
   "execution_count": 21,
   "metadata": {},
   "outputs": [
    {
     "output_type": "stream",
     "name": "stdout",
     "text": [
      "[3, 0, 1, 2, 3, 4, 5, 6, 7, 8, 9, 10, 11, 12, 13, 14, 15, 16, 17, 18, 19, 20]\n"
     ]
    }
   ],
   "source": [
    "l = [3]\n",
    "for i in range(21):\n",
    "    l.append(i)\n",
    "print(l)"
   ]
  },
  {
   "cell_type": "code",
   "execution_count": 18,
   "metadata": {},
   "outputs": [
    {
     "output_type": "execute_result",
     "data": {
      "text/plain": [
       "[0, 1, 2, 3, 4, 5, 6, 7, 8, 9, 10, 11, 12, 13, 14, 15, 16, 17, 18, 19, 20]"
      ]
     },
     "metadata": {},
     "execution_count": 18
    }
   ],
   "source": [
    "l = [i for i in range(21)] #lo que añado a la lista lo tengo que poner a la izq del for\n",
    "l"
   ]
  },
  {
   "cell_type": "code",
   "execution_count": 22,
   "metadata": {},
   "outputs": [
    {
     "output_type": "execute_result",
     "data": {
      "text/plain": [
       "[0, 0, 0]"
      ]
     },
     "metadata": {},
     "execution_count": 22
    }
   ],
   "source": [
    "p = 0\n",
    "l = [p for elem in [2, 5, 9]]#Por cada elemento agrega un cero, porque al recorrer la lista en la primera iteración agrega p, en la segunda iteración agrega p y en la tercera iteración agrega p\n",
    "l"
   ]
  },
  {
   "cell_type": "code",
   "execution_count": 23,
   "metadata": {},
   "outputs": [
    {
     "output_type": "execute_result",
     "data": {
      "text/plain": [
       "[0, 0]"
      ]
     },
     "metadata": {},
     "execution_count": 23
    }
   ],
   "source": [
    "p = 0\n",
    "l = [p for elem in [2, 5, 9] if elem > 4] #el elem 2 no es mayor que 4 por tanto no se incluye ese cero y pasa a la siguiente iteración\n",
    "l"
   ]
  },
  {
   "cell_type": "code",
   "execution_count": 26,
   "metadata": {},
   "outputs": [
    {
     "output_type": "execute_result",
     "data": {
      "text/plain": [
       "[0, 0, 0]"
      ]
     },
     "metadata": {},
     "execution_count": 26
    }
   ],
   "source": [
    "p = 0\n",
    "l = [p for elem in [2, 5, 9] if elem > 4 or isinstance(elem, int)] #Es true si es de tipo int\n",
    "l"
   ]
  },
  {
   "cell_type": "code",
   "execution_count": 27,
   "metadata": {},
   "outputs": [
    {
     "output_type": "execute_result",
     "data": {
      "text/plain": [
       "[1.0, 4.5, 8.5]"
      ]
     },
     "metadata": {},
     "execution_count": 27
    }
   ],
   "source": [
    "p = 0\n",
    "l = [elem/2 for elem in [2, 5., 9, 17] if isinstance(elem, int)] #Recorremos la coleccion por cada elemento de la coleccion (en el primer caso 2) dividiré elem entre dos SI es un número int. \n",
    "l"
   ]
  },
  {
   "cell_type": "code",
   "execution_count": 28,
   "metadata": {},
   "outputs": [
    {
     "output_type": "execute_result",
     "data": {
      "text/plain": [
       "[1.0, 4.5, 8.5]"
      ]
     },
     "metadata": {},
     "execution_count": 28
    }
   ],
   "source": [
    "o = [2, 5., 9, 17, \"x\"]\n",
    "l = [(elem/2) + p for elem in o if isinstance(elem, int)]\n",
    "k = []\n",
    "\n",
    "for elem in o:\n",
    "    if isinstance (elem, int):\n",
    "        k.append((elem/2) + p)\n",
    "\n",
    "k"
   ]
  },
  {
   "cell_type": "code",
   "execution_count": 32,
   "metadata": {},
   "outputs": [
    {
     "output_type": "stream",
     "name": "stdout",
     "text": [
      "Clave: a\nValor: 1\nClave: b\nValor: 2\nClave: c\nValor: 3\nClave: d\nValor: 4\nClave: e\nValor: 5\n"
     ]
    },
    {
     "output_type": "execute_result",
     "data": {
      "text/plain": [
       "{'cc': 6, 'dd': 8, 'ee': 10}"
      ]
     },
     "metadata": {},
     "execution_count": 32
    }
   ],
   "source": [
    "dict1 = {\"a\":1, \"b\": 2, \"c\": 3, \"d\": 4, \"e\": 5}\n",
    "for (k, v) in dict1.items():\n",
    "    print(\"Clave:\", k)\n",
    "    print(\"Valor:\", v)\n",
    "\n",
    "double_dict1 = {(k*2):(v*2) for (k,v) in dict1.items() if v>2}\n",
    "double_dict1"
   ]
  },
  {
   "cell_type": "code",
   "execution_count": 33,
   "metadata": {},
   "outputs": [
    {
     "output_type": "execute_result",
     "data": {
      "text/plain": [
       "3"
      ]
     },
     "metadata": {},
     "execution_count": 33
    }
   ],
   "source": [
    "def f1(cont):\n",
    "    return cont + 1\n",
    "\n",
    "r = f1(cont=2)\n",
    "r"
   ]
  },
  {
   "cell_type": "code",
   "execution_count": 38,
   "metadata": {},
   "outputs": [
    {
     "output_type": "stream",
     "name": "stdout",
     "text": [
      "Valor de cont: 2\nValor de cont: 1\nCASO BASE\nValor de cont la última vez: 0\n"
     ]
    },
    {
     "output_type": "execute_result",
     "data": {
      "text/plain": [
       "0"
      ]
     },
     "metadata": {},
     "execution_count": 38
    }
   ],
   "source": [
    "def f1(cont):\n",
    "    if cont == 0:\n",
    "        print(\"CASO BASE\")\n",
    "        print(\"Valor de cont la última vez:\",cont)\n",
    "        return cont\n",
    "    else:\n",
    "        print(\"Valor de cont:\", cont)\n",
    "        return f1(cont = cont-1)#Recursividad llamarse una función así misma, lo que la convierte en infinita o hasta que algo la haga parar. \n",
    "\n",
    "r = f1(cont=2)\n",
    "r"
   ]
  },
  {
   "cell_type": "code",
   "execution_count": 41,
   "metadata": {},
   "outputs": [
    {
     "output_type": "stream",
     "name": "stdout",
     "text": [
      "0\n"
     ]
    }
   ],
   "source": [
    "def f1(cont):\n",
    "    if cont == 0:\n",
    "        return cont\n",
    "    else:\n",
    "        return f1(cont = cont-1)\n",
    "\n",
    "r = f1(cont=2)\n",
    "print(r)"
   ]
  },
  {
   "source": [
    "###\n",
    "Iteración 1\n",
    "\n",
    "cont = 2\n",
    "\n",
    "el if no lo cumple\n",
    "\n",
    "else: volvemos a llamar a f1\n",
    "\n",
    "\n",
    "\n",
    "    Iteración 2\n",
    "\n",
    "    cont = 1\n",
    "\n",
    "    el if no lo cumple\n",
    "\n",
    "    else: volvemos a llamar a f1\n",
    "\n",
    "Iteración 3\n",
    "\n",
    "\n",
    "cont = 0\n",
    "\n",
    "\n",
    "if lo cumple\n",
    "\n",
    "\n",
    "return cero por lo tanto va a r y r = 0\n",
    "\n",
    " -"
   ],
   "cell_type": "markdown",
   "metadata": {}
  },
  {
   "cell_type": "code",
   "execution_count": 44,
   "metadata": {},
   "outputs": [
    {
     "output_type": "execute_result",
     "data": {
      "text/plain": [
       "[]"
      ]
     },
     "metadata": {},
     "execution_count": 44
    }
   ],
   "source": [
    "#¿Por qué pass?\n",
    "def get_data():\n",
    "    data = []\n",
    "    return data\n",
    "\n",
    "def clean_data():\n",
    "    pass #Para pasar esta función porque ya la rellenaremos esta función mas adelante, por ejemplo. \n",
    "\n",
    "def draw_data():\n",
    "    pass\n",
    "\n",
    "get_data()"
   ]
  },
  {
   "cell_type": "code",
   "execution_count": null,
   "metadata": {},
   "outputs": [],
   "source": []
  }
 ]
}