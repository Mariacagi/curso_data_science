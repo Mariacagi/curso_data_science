{
 "metadata": {
  "language_info": {
   "codemirror_mode": {
    "name": "ipython",
    "version": 3
   },
   "file_extension": ".py",
   "mimetype": "text/x-python",
   "name": "python",
   "nbconvert_exporter": "python",
   "pygments_lexer": "ipython3",
   "version": "3.9.0-final"
  },
  "orig_nbformat": 2,
  "kernelspec": {
   "name": "python3",
   "display_name": "Python 3.9.0 64-bit",
   "metadata": {
    "interpreter": {
     "hash": "af698c02722c81864863429d928a3bd8a8dcc030c4156359d3ef8b980fb01319"
    }
   }
  }
 },
 "nbformat": 4,
 "nbformat_minor": 2,
 "cells": [
  {
   "cell_type": "code",
   "execution_count": 2,
   "metadata": {},
   "outputs": [
    {
     "output_type": "execute_result",
     "data": {
      "text/plain": [
       "1955711051312"
      ]
     },
     "metadata": {},
     "execution_count": 2
    }
   ],
   "source": [
    "l1 = 229\n",
    "id (l1) #identificador"
   ]
  },
  {
   "cell_type": "code",
   "execution_count": 3,
   "metadata": {},
   "outputs": [
    {
     "output_type": "execute_result",
     "data": {
      "text/plain": [
       "1955710855760"
      ]
     },
     "metadata": {},
     "execution_count": 3
    }
   ],
   "source": [
    "l2 = 10\n",
    "id (l2)"
   ]
  },
  {
   "cell_type": "code",
   "execution_count": 4,
   "metadata": {},
   "outputs": [
    {
     "output_type": "execute_result",
     "data": {
      "text/plain": [
       "False"
      ]
     },
     "metadata": {},
     "execution_count": 4
    }
   ],
   "source": [
    "l1 is l2 #No es lo mismo en valores"
   ]
  },
  {
   "cell_type": "code",
   "execution_count": 6,
   "metadata": {},
   "outputs": [
    {
     "output_type": "execute_result",
     "data": {
      "text/plain": [
       "True"
      ]
     },
     "metadata": {},
     "execution_count": 6
    }
   ],
   "source": [
    "a = 5\n",
    "\n",
    "a is a"
   ]
  },
  {
   "cell_type": "code",
   "execution_count": 7,
   "metadata": {},
   "outputs": [
    {
     "output_type": "execute_result",
     "data": {
      "text/plain": [
       "1955710855600"
      ]
     },
     "metadata": {},
     "execution_count": 7
    }
   ],
   "source": [
    "id (a)"
   ]
  },
  {
   "cell_type": "code",
   "execution_count": 18,
   "metadata": {},
   "outputs": [
    {
     "output_type": "stream",
     "name": "stdout",
     "text": [
      "True\nTrue\n1955710855600\n1955710855600\n"
     ]
    }
   ],
   "source": [
    "#Cuando hablamos de valor puede coincidir el valor\n",
    "#Cuando hablamos de variables no coinciden\n",
    "\n",
    "g = 5 #De cero a 256 tienen el mismo identificador, a partir del 257 tienen distinto identificador\n",
    "h = 5\n",
    "\n",
    "print (h == g)\n",
    "print (h is g)\n",
    "print (id(g))\n",
    "print (id(g))"
   ]
  },
  {
   "cell_type": "code",
   "execution_count": 19,
   "metadata": {},
   "outputs": [
    {
     "output_type": "stream",
     "name": "stdout",
     "text": [
      "True\nFalse\n1955814372080\n1955814372368\n"
     ]
    }
   ],
   "source": [
    "d = 875757\n",
    "\n",
    "s = 875757\n",
    "\n",
    "print (d == s)\n",
    "print (d is s)\n",
    "print(id (d))\n",
    "print(id (s))"
   ]
  },
  {
   "cell_type": "code",
   "execution_count": 21,
   "metadata": {},
   "outputs": [
    {
     "output_type": "stream",
     "name": "stdout",
     "text": [
      "1\ndos\n3\nPepito\n"
     ]
    }
   ],
   "source": [
    "lista = [1, \"dos\", 3, \"Pepito\"]\n",
    "\n",
    "print(lista[0])\n",
    "print(lista[1])\n",
    "print(lista[2])\n",
    "print(lista[3])"
   ]
  },
  {
   "cell_type": "code",
   "execution_count": 23,
   "metadata": {},
   "outputs": [
    {
     "output_type": "stream",
     "name": "stdout",
     "text": [
      "1\n----\ndos\n----\n3\n----\nPepito\n----\n"
     ]
    }
   ],
   "source": [
    "for p in lista: #for + el nombre de una variable + in + colección (significado: por cada elemento en lista)\n",
    "    print(p) #El primer valor de p es el primer elemento de la lista. Va a continuar con los valores hasta que se terminen los elementos\n",
    "    print(\"----\") #Pasa por todo el bucle hasta encontrar un nuevo elemento\n"
   ]
  },
  {
   "cell_type": "code",
   "execution_count": 25,
   "metadata": {},
   "outputs": [],
   "source": [
    "for g in [2 , 4, 6, 8]:\n",
    "    break #No muestra nada ya que ha roto el bucle directamente"
   ]
  },
  {
   "cell_type": "code",
   "execution_count": 26,
   "metadata": {},
   "outputs": [
    {
     "output_type": "stream",
     "name": "stdout",
     "text": [
      "2\n"
     ]
    }
   ],
   "source": [
    "for g in [2 , 4, 6, 8]:\n",
    "    print(g)\n",
    "    break"
   ]
  },
  {
   "cell_type": "code",
   "execution_count": 27,
   "metadata": {},
   "outputs": [
    {
     "output_type": "stream",
     "name": "stdout",
     "text": [
      "2\n4\n"
     ]
    }
   ],
   "source": [
    "for g in [2 , 4, 6, 8]: #No muestra 6\n",
    "    if g == 6:\n",
    "        break\n",
    "    print(g)"
   ]
  },
  {
   "cell_type": "code",
   "execution_count": 31,
   "metadata": {},
   "outputs": [
    {
     "output_type": "stream",
     "name": "stdout",
     "text": [
      "6\n"
     ]
    }
   ],
   "source": [
    "for g in [2 , 4, 6, 8]: #Muestra el 6 v1\n",
    "    if g == 8:\n",
    "        break\n",
    "    print(g)"
   ]
  },
  {
   "cell_type": "code",
   "execution_count": 32,
   "metadata": {},
   "outputs": [
    {
     "output_type": "stream",
     "name": "stdout",
     "text": [
      "2\n4\n6\n"
     ]
    }
   ],
   "source": [
    "for g in [2 , 4, 6, 8]: #Muestra el 6 v2\n",
    "    print(g)\n",
    "    if g == 6:\n",
    "        break"
   ]
  },
  {
   "cell_type": "code",
   "execution_count": 33,
   "metadata": {},
   "outputs": [
    {
     "output_type": "stream",
     "name": "stdout",
     "text": [
      "2\n4\n6\n"
     ]
    }
   ],
   "source": [
    "for g in [2 , 4, 6, 8]: #Muestra el 6 v3\n",
    "    if g > 6:\n",
    "        break\n",
    "    print(g)"
   ]
  },
  {
   "cell_type": "code",
   "execution_count": null,
   "metadata": {},
   "outputs": [],
   "source": [
    "for g in [2 , 4, 6, 8]: #Muestra el 6 solo porque el 2 al no ser igual, continua al siguiente, el 4 tampoco lo es, continua al siguiente, el 6 es igual por tanto imprime por tanto lo rompe\n",
    "    if g == 6:\n",
    "        print(g)\n",
    "        break"
   ]
  },
  {
   "cell_type": "code",
   "execution_count": 35,
   "metadata": {},
   "outputs": [
    {
     "output_type": "stream",
     "name": "stdout",
     "text": [
      "Angeles\n"
     ]
    }
   ],
   "source": [
    "file1 = \"Primera Fila\", [\"Maria\", \"Angeles\", \"Juan\"]\n",
    "file2 = \"Segunda Fila\", [\"Marta\", \"Daniel\", \"Leo\", \"Miguel1\", \"Estela\"]\n",
    "file3 = \"Tercera Fila\", [\"Kapil\", \"Roberto\", \"Alfonso\", \"Miguel2\"]\n",
    "fileR = \"Remoto\", [\"Mar\", \"Alex\", \"Anais\", \"Antonio\", \"Ariadna\", \"Javi\", \"JaviOlcoz\"]\n",
    "\n",
    "print(file1[1][1]) #Para coger a Angeles"
   ]
  },
  {
   "cell_type": "code",
   "execution_count": 39,
   "metadata": {},
   "outputs": [
    {
     "output_type": "stream",
     "name": "stdout",
     "text": [
      "1.63\n1.68\n"
     ]
    },
    {
     "output_type": "error",
     "ename": "IndexError",
     "evalue": "list index out of range",
     "traceback": [
      "\u001b[1;31m---------------------------------------------------------------------------\u001b[0m",
      "\u001b[1;31mIndexError\u001b[0m                                Traceback (most recent call last)",
      "\u001b[1;32m<ipython-input-39-bcf63354e294>\u001b[0m in \u001b[0;36m<module>\u001b[1;34m\u001b[0m\n\u001b[0;32m     10\u001b[0m \u001b[0mx\u001b[0m \u001b[1;33m=\u001b[0m \u001b[1;33m[\u001b[0m\u001b[1;36m1.78\u001b[0m\u001b[1;33m,\u001b[0m \u001b[1;36m1.63\u001b[0m\u001b[1;33m,\u001b[0m \u001b[1;36m1.75\u001b[0m\u001b[1;33m,\u001b[0m \u001b[1;36m1.68\u001b[0m\u001b[1;33m]\u001b[0m\u001b[1;33m\u001b[0m\u001b[1;33m\u001b[0m\u001b[0m\n\u001b[0;32m     11\u001b[0m \u001b[1;32mfor\u001b[0m \u001b[0mx\u001b[0m \u001b[1;32min\u001b[0m \u001b[0mlista_alturas\u001b[0m\u001b[1;33m:\u001b[0m\u001b[1;33m\u001b[0m\u001b[1;33m\u001b[0m\u001b[0m\n\u001b[1;32m---> 12\u001b[1;33m     \u001b[0mprint\u001b[0m\u001b[1;33m(\u001b[0m\u001b[0mx\u001b[0m\u001b[1;33m[\u001b[0m\u001b[1;36m3\u001b[0m\u001b[1;33m]\u001b[0m\u001b[1;33m)\u001b[0m\u001b[1;33m\u001b[0m\u001b[1;33m\u001b[0m\u001b[0m\n\u001b[0m",
      "\u001b[1;31mIndexError\u001b[0m: list index out of range"
     ]
    }
   ],
   "source": [
    "altura1 = [1.78, 1.63, 1.75, 1.68]\n",
    "altura2 = [2.00, 1.82]\n",
    "altura3 = [1.65, 1.73, 1.75]\n",
    "altura4 = [1.72, 1.71, 1.71, 1.62]\n",
    "\n",
    "lista_alturas = [altura1, altura2, altura3, altura4]\n",
    "\n",
    "print(lista_alturas[0][1])\n",
    "\n",
    "x = [1.78, 1.63, 1.75, 1.68]\n",
    "for x in lista_alturas:\n",
    "    print(x[3])"
   ]
  },
  {
   "cell_type": "code",
   "execution_count": 41,
   "metadata": {},
   "outputs": [
    {
     "output_type": "stream",
     "name": "stdout",
     "text": [
      "1.63\n1.68\n1.62\n"
     ]
    }
   ],
   "source": [
    "altura1 = [1.78, 1.63, 1.75, 1.68] #Queremos que se muestre el 1.68 y el 1.62\n",
    "altura2 = [2.00, 1.82]\n",
    "altura3 = [1.65, 1.73, 1.75]\n",
    "altura4 = [1.72, 1.71, 1.71, 1.62]\n",
    "\n",
    "lista_alturas = [altura1, altura2, altura3, altura4]\n",
    "\n",
    "print(lista_alturas[0][1])\n",
    "#x = [1.78, 1.63, 1.75, 1.68]\n",
    "for x in lista_alturas:\n",
    "    if len(x) > 3: #La lista ha de tener 4 elementos o más\n",
    "       print(x[3])"
   ]
  },
  {
   "cell_type": "code",
   "execution_count": 43,
   "metadata": {},
   "outputs": [
    {
     "output_type": "stream",
     "name": "stdout",
     "text": [
      "range(0, 6)\n"
     ]
    },
    {
     "output_type": "execute_result",
     "data": {
      "text/plain": [
       "range"
      ]
     },
     "metadata": {},
     "execution_count": 43
    }
   ],
   "source": [
    "print(range(6)) #For trabaja con valores, range trabaja con posiciones\n",
    "type(range(6))"
   ]
  },
  {
   "cell_type": "code",
   "execution_count": 44,
   "metadata": {},
   "outputs": [
    {
     "output_type": "stream",
     "name": "stdout",
     "text": [
      "[0, 1, 2, 3, 4, 5]\n"
     ]
    }
   ],
   "source": [
    "print(list(range(6)))"
   ]
  },
  {
   "cell_type": "code",
   "execution_count": 45,
   "metadata": {},
   "outputs": [
    {
     "output_type": "stream",
     "name": "stdout",
     "text": [
      "[0, 1, 2, 3, 4, 5]\n[0, 1, 2, 3, 4, 5]\n[0, 1, 2, 3, 4, 5]\n[0, 1, 2, 3, 4, 5]\n[0, 1, 2, 3, 4, 5]\n[0, 1, 2, 3, 4, 5]\n"
     ]
    }
   ],
   "source": [
    "#Es lo mismo si:\n",
    "r = list(range(6))\n",
    "for i in r:\n",
    "    print(r) #"
   ]
  },
  {
   "cell_type": "code",
   "execution_count": 42,
   "metadata": {},
   "outputs": [
    {
     "output_type": "stream",
     "name": "stdout",
     "text": [
      "0\n1\n2\n3\n4\n5\n"
     ]
    }
   ],
   "source": [
    "for i in range(6): #Ejecuta 6 iteraciones como 6 recorridos\n",
    "    print(i)"
   ]
  },
  {
   "cell_type": "code",
   "execution_count": 2,
   "metadata": {},
   "outputs": [
    {
     "output_type": "stream",
     "name": "stdout",
     "text": [
      "0\n1\n2\n3\n4\n"
     ]
    }
   ],
   "source": [
    "lista = [\"juan\", \"pepito\", \"silvia\", \"6\", 7] #Para recorrer un rango en vez de una lista\n",
    "\n",
    "for i in range(len(lista)):\n",
    "    print(lista[i])"
   ]
  },
  {
   "cell_type": "code",
   "execution_count": 3,
   "metadata": {},
   "outputs": [
    {
     "output_type": "stream",
     "name": "stdout",
     "text": [
      "juan\npepito\nsilvia\n6\n7\n"
     ]
    }
   ],
   "source": [
    "lista = [\"juan\", \"pepito\", \"silvia\", \"6\", 7] #Para recorrer un rango en vez de una lista\n",
    "\n",
    "tamano = len(lista)\n",
    "for i in range(len(lista)):\n",
    "    print(lista[i])"
   ]
  },
  {
   "cell_type": "code",
   "execution_count": null,
   "metadata": {},
   "outputs": [],
   "source": [
    "#Con range creamos una colección que empieza en 0 hasta un número N. En ese caso, trabajamos con posiciones\n"
   ]
  },
  {
   "cell_type": "code",
   "execution_count": 47,
   "metadata": {},
   "outputs": [
    {
     "output_type": "stream",
     "name": "stdout",
     "text": [
      "position: 0\nvalor: juan\n-------\nposition: 1\nvalor: pepito\n-------\nposition: 2\nvalor: silvia\n-------\nposition: 3\nvalor: 6\n-------\nposition: 4\nvalor: 7\n-------\n"
     ]
    }
   ],
   "source": [
    "#enumerate devuelve siempre dos valores, si pones dos variables te devuelve cada valor en una variable. En cambio si pones solo una te devuelve 2 valores en una variable.\n",
    "tupla= (\"juan\", \"pepito\", \"silvia\", \"6\", 7)\n",
    "for posicion, valor in enumerate(tupla):\n",
    "    print(\"position:\", posicion)\n",
    "    print(\"valor:\", valor)\n",
    "    print(\"-------\")"
   ]
  },
  {
   "cell_type": "code",
   "execution_count": 50,
   "metadata": {},
   "outputs": [
    {
     "output_type": "stream",
     "name": "stdout",
     "text": [
      "position: 0\nvalor: juan\n-------\nposition: 1\nvalor: pepito\n-------\nposition: 3\nvalor: 6\n-------\nposition: 4\nvalor: 7\n-------\n"
     ]
    }
   ],
   "source": [
    "#Para no mostrar silvia\n",
    "tupla = (\"juan\", \"pepito\", \"silvia\", \"6\", 7)\n",
    "for posicion, valor in enumerate(tupla):\n",
    "    if valor != \"silvia\":\n",
    "        print(\"position:\", posicion)\n",
    "        print(\"valor:\", valor)\n",
    "        print(\"-------\")\n"
   ]
  },
  {
   "cell_type": "code",
   "execution_count": 51,
   "metadata": {},
   "outputs": [
    {
     "output_type": "stream",
     "name": "stdout",
     "text": [
      "(0, 'juan')\n(1, 'pepito')\n(2, 'silvia')\n(3, '6')\n(4, 7)\n"
     ]
    }
   ],
   "source": [
    "#Dos valores en una variable\n",
    "tupla = (\"juan\", \"pepito\", \"silvia\", \"6\", 7)\n",
    "for k in enumerate(tupla):\n",
    "    print(k)"
   ]
  },
  {
   "cell_type": "code",
   "execution_count": 57,
   "metadata": {},
   "outputs": [
    {
     "output_type": "stream",
     "name": "stdout",
     "text": [
      "juan\npepito\n6\n7\n"
     ]
    }
   ],
   "source": [
    "#continue\n",
    "tupla = (\"juan\", \"pepito\", \"silvia\", \"6\", 7)\n",
    "\n",
    "for x in tupla:\n",
    "    if x == \"silvia\":\n",
    "        continue #cuando sea igual a silvia que salte a la siguiente iteración\n",
    "    print(x)"
   ]
  },
  {
   "cell_type": "code",
   "execution_count": 59,
   "metadata": {},
   "outputs": [
    {
     "output_type": "stream",
     "name": "stdout",
     "text": [
      "H\n",
      "o\n",
      "l\n",
      "a\n"
     ]
    }
   ],
   "source": [
    "#for recorre una colección\n",
    "#range es un numero, recorre el numero de iteraciones que va a tener nuestro for\n",
    "for i in range(4): #bucle con 4 iteraciones\n",
    "    s = input(\"Introduce una letra\")\n",
    "    print (s)"
   ]
  },
  {
   "cell_type": "code",
   "execution_count": 69,
   "metadata": {},
   "outputs": [
    {
     "output_type": "stream",
     "name": "stdout",
     "text": [
      "juan\npepito\nsilvia\n6\n7\njuan\npepito\nsilvia\n6\n7\njuan\npepito\nsilvia\n6\n7\njuan\npepito\n6\n7\n"
     ]
    }
   ],
   "source": [
    "tupla1 = (\"juan\", \"pepito\", \"silvia\", \"6\", 7) #Que en la ultima vuelta no muestre silvia\n",
    "\n",
    "for i in range (4): #lo que haya debajo se ejecuta 4 veces OJO el rango es 4 (4 repiticiones) pero la iteracion es 3 porque empieza a contar desde 0\n",
    "    for x in tupla1: #Recorre cada valor de tupla y x tiene cada valor del elemento que se está recorriendo\n",
    "        if x == \"silvia\" and i == (3): #Cuando x sea silvia y cuando sea la ultima iteracion  \n",
    "            continue\n",
    "        print(x)\n"
   ]
  },
  {
   "cell_type": "code",
   "execution_count": 70,
   "metadata": {},
   "outputs": [
    {
     "output_type": "stream",
     "name": "stdout",
     "text": [
      "juan\npepito\n6\n7\njuan\npepito\n6\n7\njuan\npepito\n6\n7\n"
     ]
    }
   ],
   "source": [
    "tupla = (\"juan\", \"pepito\", \"silvia\", \"6\", 7) #Que en la ultima vuelta no muestre silvia\n",
    "for i in range (4): #lo que haya debajo se ejecuta 4 veces OJO el rango es 4 (4 repiticiones) pero la iteracion es 3 porque empieza a contar desde 0\n",
    "    for x in tupla: #Recorre cada valor de tupla y x tiene cada valor del elemento que se está recorriendo\n",
    "        if x == \"silvia\" or i == 3: #Cuando x sea silvia y cuando sea la ultima iteracion  \n",
    "            continue\n",
    "        print(x)"
   ]
  },
  {
   "cell_type": "code",
   "execution_count": 71,
   "metadata": {},
   "outputs": [
    {
     "output_type": "stream",
     "name": "stdout",
     "text": [
      "0\n1\n2\n3\n"
     ]
    }
   ],
   "source": [
    "lista = [\"a\", \"b\", \"c\", \"d\"]\n",
    "\n",
    "for i in range(len(lista)):\n",
    "    print(i) #Esta imprimiendo la longitud de la lista hasta ese range"
   ]
  },
  {
   "cell_type": "code",
   "execution_count": 72,
   "metadata": {},
   "outputs": [
    {
     "output_type": "stream",
     "name": "stdout",
     "text": [
      "0 a\n1 b\n2 c\n3 d\n"
     ]
    }
   ],
   "source": [
    "lista = [\"a\", \"b\", \"c\", \"d\"] #Para acceder a cada elemento\n",
    "\n",
    "for i in range(len(lista)):\n",
    "    print(i, lista[i])"
   ]
  },
  {
   "cell_type": "code",
   "execution_count": 76,
   "metadata": {},
   "outputs": [
    {
     "output_type": "stream",
     "name": "stdout",
     "text": [
      "0 a\n1 b\n2 c\n3 d\n"
     ]
    }
   ],
   "source": [
    "lista = [\"a\", \"b\", \"c\", \"d\"]\n",
    "for i, x in enumerate(lista):\n",
    "    print(i, x)"
   ]
  },
  {
   "cell_type": "code",
   "execution_count": 77,
   "metadata": {},
   "outputs": [
    {
     "output_type": "stream",
     "name": "stdout",
     "text": [
      "0 a\n1 b\n2 c\n3 d\n"
     ]
    }
   ],
   "source": [
    "lista = [\"a\", \"b\", \"c\", \"d\"]\n",
    "for i, x in enumerate(lista):\n",
    "    print(i, lista[i])"
   ]
  },
  {
   "cell_type": "code",
   "execution_count": 80,
   "metadata": {},
   "outputs": [
    {
     "output_type": "stream",
     "name": "stdout",
     "text": [
      "0 a\n1 b\n2 c\n3 d\n"
     ]
    }
   ],
   "source": [
    "acum = 0\n",
    "for x in lista: #el valor del elemento\n",
    "    print(acum, x)\n",
    "    acum += 1 #Muestra la posición del elemento\n"
   ]
  },
  {
   "cell_type": "code",
   "execution_count": 81,
   "metadata": {},
   "outputs": [
    {
     "output_type": "stream",
     "name": "stdout",
     "text": [
      "1 a\n2 b\n3 c\n4 d\n"
     ]
    }
   ],
   "source": [
    "acum = 0\n",
    "for x in lista: #el valor del elemento\n",
    "    acum += 1 #Si queremos que represente la posición esto no es válido, ya que las posiciones empiezan en 0\n",
    "    print(acum, x)"
   ]
  },
  {
   "cell_type": "code",
   "execution_count": 82,
   "metadata": {},
   "outputs": [
    {
     "output_type": "stream",
     "name": "stdout",
     "text": [
      "0 a\n1 b\n2 c\n3 d\n"
     ]
    }
   ],
   "source": [
    "acum = -1\n",
    "for x in lista: #el valor del elemento\n",
    "    acum += 1 #Si lo ponemos en -1 si que valdría para mostrar la posición ya que empezamos por uno menos\n",
    "    print(acum, x)"
   ]
  },
  {
   "cell_type": "code",
   "execution_count": 1,
   "metadata": {},
   "outputs": [
    {
     "output_type": "stream",
     "name": "stdout",
     "text": [
      "4\n"
     ]
    }
   ],
   "source": [
    "print( (3**2)//2 )"
   ]
  },
  {
   "cell_type": "code",
   "execution_count": null,
   "metadata": {},
   "outputs": [],
   "source": []
  }
 ]
}