{
 "metadata": {
  "language_info": {
   "codemirror_mode": {
    "name": "ipython",
    "version": 3
   },
   "file_extension": ".py",
   "mimetype": "text/x-python",
   "name": "python",
   "nbconvert_exporter": "python",
   "pygments_lexer": "ipython3",
   "version": "3.9.0-final"
  },
  "orig_nbformat": 2,
  "kernelspec": {
   "name": "python3",
   "display_name": "Python 3.9.0 64-bit",
   "metadata": {
    "interpreter": {
     "hash": "af698c02722c81864863429d928a3bd8a8dcc030c4156359d3ef8b980fb01319"
    }
   }
  }
 },
 "nbformat": 4,
 "nbformat_minor": 2,
 "cells": [
  {
   "cell_type": "code",
   "execution_count": 10,
   "metadata": {},
   "outputs": [
    {
     "output_type": "execute_result",
     "data": {
      "text/plain": [
       "[2, 4, 'a', 6]"
      ]
     },
     "metadata": {},
     "execution_count": 10
    }
   ],
   "source": [
    "#Pop\n",
    "\n",
    "lista = [2 , 4 , 6 , \"a\", 6]  #Para borrar el segundo 6\n",
    "#Remove borra el primer elemento con el valor dado\n",
    "lista.remove(6)\n",
    "lista"
   ]
  },
  {
   "cell_type": "code",
   "execution_count": 13,
   "metadata": {},
   "outputs": [
    {
     "output_type": "stream",
     "name": "stdout",
     "text": [
      "[2, 4, 6, 'a']\n"
     ]
    }
   ],
   "source": [
    "lista = [2 , 4 , 6 , \"a\", 6]\n",
    "lista.pop() #Por defecto borra el último valor, pero si le incluyes información borrará el valor que le digas\n",
    "print (lista)"
   ]
  },
  {
   "cell_type": "code",
   "execution_count": 14,
   "metadata": {},
   "outputs": [
    {
     "output_type": "stream",
     "name": "stdout",
     "text": [
      "[2, 4, 6, 'a']\n"
     ]
    }
   ],
   "source": [
    "lista = [2 , 4 , 6 , \"a\", 6]\n",
    "lista.pop(4) #Elimina la posición 4\n",
    "print (lista)"
   ]
  },
  {
   "cell_type": "code",
   "execution_count": 4,
   "metadata": {},
   "outputs": [
    {
     "output_type": "stream",
     "name": "stdout",
     "text": [
      "None\n"
     ]
    }
   ],
   "source": [
    "def remove2(a):\n",
    "    x = a + 2\n",
    "y = remove2(6)\n",
    "print(y) #Devuelve none porque dentro de la funcion no tiene remove \n"
   ]
  },
  {
   "cell_type": "code",
   "execution_count": 4,
   "metadata": {},
   "outputs": [
    {
     "output_type": "stream",
     "name": "stdout",
     "text": [
      "8\n"
     ]
    }
   ],
   "source": [
    "def remove2(a):\n",
    "    x = a + 2\n",
    "    return x\n",
    "    \n",
    "y = remove2(6)\n",
    "print(y)"
   ]
  },
  {
   "cell_type": "code",
   "execution_count": 17,
   "metadata": {},
   "outputs": [
    {
     "output_type": "stream",
     "name": "stdout",
     "text": [
      "2\nNone\n"
     ]
    }
   ],
   "source": [
    "def f(s):\n",
    "    print(s)\n",
    "\n",
    "x = f(2)\n",
    "print(x)\n",
    "\n",
    "    #Difenrencia entre imprimir y retornar. Lo que retornas no se necesita imprimir en pantalla. Ves el dos por pantalla pero no retorna 2, es decir, la x vale none."
   ]
  },
  {
   "cell_type": "code",
   "execution_count": 18,
   "metadata": {},
   "outputs": [
    {
     "output_type": "stream",
     "name": "stdout",
     "text": [
      "2\n2\n"
     ]
    }
   ],
   "source": [
    "def f(s):\n",
    "    print(s)\n",
    "    return s #En este caso ya x vale 2 e imprime el 2\n",
    "    \n",
    "x = f(2)\n",
    "print(x)"
   ]
  },
  {
   "cell_type": "code",
   "execution_count": 20,
   "metadata": {},
   "outputs": [
    {
     "output_type": "execute_result",
     "data": {
      "text/plain": [
       "{'key': 'valor'}"
      ]
     },
     "metadata": {},
     "execution_count": 20
    }
   ],
   "source": [
    "#Diccionarios\n",
    "\n",
    "hola = \"saludo internacional\"\n",
    "#clave/key = valor (Todas las claves tienen un valor)\n",
    "\n",
    "diccionario = {\"key\" : \"valor\"}\n",
    "#Una key puede ser string o int pero no una lista\n",
    "#Valor sí puede ser una lista\n",
    "diccionario\n",
    "\n"
   ]
  },
  {
   "cell_type": "code",
   "execution_count": 21,
   "metadata": {},
   "outputs": [
    {
     "output_type": "stream",
     "name": "stdout",
     "text": [
      "valor\n"
     ]
    }
   ],
   "source": [
    "print(diccionario[\"key\"]) #NO SE PUEDEN REPETIR CLAVES, LAS CLAVES SON UNICAS. ej: en un diccionario no se pueden repetir palabras, aquí igual. Ojo pero un diccionario puede tener una clave con varios valores, varios str, pero no puedes repetir la clave, es decir, guardas los distintos valores en la misma clave"
   ]
  },
  {
   "cell_type": "code",
   "execution_count": 22,
   "metadata": {},
   "outputs": [
    {
     "output_type": "execute_result",
     "data": {
      "text/plain": [
       "{2: 'este es el valor'}"
      ]
     },
     "metadata": {},
     "execution_count": 22
    }
   ],
   "source": [
    "diccionario2 = {2: \"este es el valor\", 2: \"este es el valor\"}\n",
    "diccionario2"
   ]
  },
  {
   "cell_type": "code",
   "execution_count": 25,
   "metadata": {},
   "outputs": [
    {
     "output_type": "execute_result",
     "data": {
      "text/plain": [
       "['Password', 'Gabvaztor', 648194794, 'C/Pepito', 'Profesor']"
      ]
     },
     "metadata": {},
     "execution_count": 25
    }
   ],
   "source": [
    "diccionario3 = {\"gabvaztor@gmail.com\": [\"Password\", \"Gabvaztor\", 648194794, \"C/Pepito\", \"Profesor\"]} #esto puede contener varios correos con sus respectivos datos\n",
    "diccionario3[\"gabvaztor@gmail.com\"]"
   ]
  },
  {
   "cell_type": "code",
   "execution_count": null,
   "metadata": {},
   "outputs": [],
   "source": [
    "diccionario4 = {\"juan\": 8, \"silvia\":10, \"juan\":9}"
   ]
  },
  {
   "cell_type": "code",
   "execution_count": null,
   "metadata": {},
   "outputs": [],
   "source": [
    "diccionario4 = {9.8: \"s\"} #Puede ser float"
   ]
  },
  {
   "cell_type": "code",
   "execution_count": 30,
   "metadata": {},
   "outputs": [
    {
     "output_type": "error",
     "ename": "KeyError",
     "evalue": "6",
     "traceback": [
      "\u001b[1;31m---------------------------------------------------------------------------\u001b[0m",
      "\u001b[1;31mKeyError\u001b[0m                                  Traceback (most recent call last)",
      "\u001b[1;32m<ipython-input-30-7dd8bce4b3ef>\u001b[0m in \u001b[0;36m<module>\u001b[1;34m\u001b[0m\n\u001b[0;32m      4\u001b[0m \u001b[1;31m# El 1.1 \"\"\"esto es otra clave, para acceder a los valores del diccionario \"\"\"\u001b[0m\u001b[1;33m\u001b[0m\u001b[1;33m\u001b[0m\u001b[1;33m\u001b[0m\u001b[0m\n\u001b[0;32m      5\u001b[0m \u001b[1;31m# El 5 \"\"\"esto es un valor\"\"\"\u001b[0m\u001b[1;33m\u001b[0m\u001b[1;33m\u001b[0m\u001b[1;33m\u001b[0m\u001b[0m\n\u001b[1;32m----> 6\u001b[1;33m \u001b[0mtype\u001b[0m\u001b[1;33m(\u001b[0m\u001b[0mdiccionario\u001b[0m\u001b[1;33m[\u001b[0m\u001b[1;36m6\u001b[0m\u001b[1;33m]\u001b[0m\u001b[1;33m[\u001b[0m\u001b[1;36m1.1\u001b[0m\u001b[1;33m]\u001b[0m\u001b[1;33m[\u001b[0m\u001b[1;36m0\u001b[0m\u001b[1;33m]\u001b[0m\u001b[1;33m)\u001b[0m\u001b[1;33m\u001b[0m\u001b[1;33m\u001b[0m\u001b[0m\n\u001b[0m",
      "\u001b[1;31mKeyError\u001b[0m: 6"
     ]
    }
   ],
   "source": [
    "diccionario5 = {\"k\": \"v\", 8:[7, \"y\"], 6:{1.1 :[5]}} #Diccionario dentro de un diccionario con una lista de valor 5. ¿Cómo accedemos a ese 5?\n",
    "\n",
    "# El 6 \"\"\"esto es una clave, para acceder al diccionario\"\"\"\n",
    "# El 1.1 \"\"\"esto es otra clave, para acceder a los valores del diccionario \"\"\"\n",
    "# El 5 \"\"\"esto es un valor\"\"\"\n",
    "type(diccionario[6][1.1][0])\n"
   ]
  },
  {
   "cell_type": "code",
   "execution_count": 32,
   "metadata": {},
   "outputs": [
    {
     "output_type": "execute_result",
     "data": {
      "text/plain": [
       "dict_keys(['k', 8, 6])"
      ]
     },
     "metadata": {},
     "execution_count": 32
    }
   ],
   "source": [
    "diccionario5.keys()"
   ]
  },
  {
   "cell_type": "code",
   "execution_count": 34,
   "metadata": {},
   "outputs": [
    {
     "output_type": "execute_result",
     "data": {
      "text/plain": [
       "['v', [7, 'y'], {1.1: [5]}]"
      ]
     },
     "metadata": {},
     "execution_count": 34
    }
   ],
   "source": [
    "list(diccionario5.values())"
   ]
  },
  {
   "cell_type": "code",
   "execution_count": 35,
   "metadata": {},
   "outputs": [
    {
     "output_type": "stream",
     "name": "stdout",
     "text": [
      "k\n8\n6\n"
     ]
    }
   ],
   "source": [
    "for key in diccionario5.keys(): #Para acceder a las claves de un diccionario y recorrerlas\n",
    "    print(key)"
   ]
  },
  {
   "cell_type": "code",
   "execution_count": 37,
   "metadata": {},
   "outputs": [
    {
     "output_type": "stream",
     "name": "stdout",
     "text": [
      "v\n[7, 'y']\n{1.1: [5]}\n"
     ]
    }
   ],
   "source": [
    "for value in diccionario5.values(): #Para acceder a los valores de un diccionario y recorrerlos\n",
    "    print(value)"
   ]
  },
  {
   "cell_type": "code",
   "execution_count": 38,
   "metadata": {},
   "outputs": [
    {
     "output_type": "stream",
     "name": "stdout",
     "text": [
      "k : v\n8 : [7, 'y']\n6 : {1.1: [5]}\n"
     ]
    }
   ],
   "source": [
    "for key, value in diccionario5.items():\n",
    "    print(key, \":\", value)"
   ]
  },
  {
   "cell_type": "code",
   "execution_count": 40,
   "metadata": {},
   "outputs": [
    {
     "output_type": "stream",
     "name": "stdout",
     "text": [
      "8 : [7, 'y']\n6 : {1.1: [5]}\n"
     ]
    }
   ],
   "source": [
    "for key, value in diccionario5.items():\n",
    "    if type(key) == int and key > 5:\n",
    "        print(key, \":\", value)"
   ]
  },
  {
   "cell_type": "code",
   "execution_count": 47,
   "metadata": {},
   "outputs": [
    {
     "output_type": "stream",
     "name": "stdout",
     "text": [
      "0\nk : v\n-------\n1\n8 : [7, 'y']\n-------\n2\n6 : {1.1: [5]}\n-------\n"
     ]
    }
   ],
   "source": [
    "for pos, (key, value) in enumerate(diccionario5.items()): #Para mostrar la posición, las claves y los valores\n",
    "    print(pos)\n",
    "    print(key, \":\", value)\n",
    "    print(\"-------\")"
   ]
  },
  {
   "cell_type": "code",
   "execution_count": 46,
   "metadata": {},
   "outputs": [
    {
     "output_type": "stream",
     "name": "stdout",
     "text": [
      "Iteración número: 1\nk : v\n-------\nIteración número: 2\n8 : [7, 'y']\n-------\nIteración número: 3\n6 : {1.1: [5]}\n-------\n"
     ]
    }
   ],
   "source": [
    "for pos, (key, value) in enumerate(diccionario5.items()): #Para mostrar la posición, las claves y los valores\n",
    "    print(\"Iteración número:\", pos+1)\n",
    "    print(key, \":\", value)\n",
    "    print(\"-------\")"
   ]
  },
  {
   "cell_type": "code",
   "execution_count": 50,
   "metadata": {},
   "outputs": [
    {
     "output_type": "execute_result",
     "data": {
      "text/plain": [
       "[8, 'p']"
      ]
     },
     "metadata": {},
     "execution_count": 50
    }
   ],
   "source": [
    "d = {\"k\": 2, \"k2\":[8, \"p\"]}\n",
    "\n",
    "#Acceder a un valor a traves de una key\n",
    "key_buscar = \"k2\"\n",
    "d[key_buscar]"
   ]
  },
  {
   "cell_type": "code",
   "execution_count": 51,
   "metadata": {},
   "outputs": [
    {
     "output_type": "execute_result",
     "data": {
      "text/plain": [
       "['k', 'k2']"
      ]
     },
     "metadata": {},
     "execution_count": 51
    }
   ],
   "source": [
    "#Buscar/Mostrar todas las keys\n",
    "key_buscar = \"k2\"\n",
    "list(d.keys())"
   ]
  },
  {
   "cell_type": "code",
   "execution_count": 52,
   "metadata": {},
   "outputs": [
    {
     "output_type": "execute_result",
     "data": {
      "text/plain": [
       "[2, [8, 'p']]"
      ]
     },
     "metadata": {},
     "execution_count": 52
    }
   ],
   "source": [
    "#Buscar/Mostrar todas los values\n",
    "key_buscar = \"k2\"\n",
    "list(d.values())"
   ]
  },
  {
   "cell_type": "code",
   "execution_count": 53,
   "metadata": {},
   "outputs": [
    {
     "output_type": "execute_result",
     "data": {
      "text/plain": [
       "[('k', 2), ('k2', [8, 'p'])]"
      ]
     },
     "metadata": {},
     "execution_count": 53
    }
   ],
   "source": [
    "#Buscar/Mostrar todas las keys/values - te lo devuelve como tuplas\n",
    "key_buscar = \"k2\"\n",
    "list(d.items())"
   ]
  },
  {
   "cell_type": "code",
   "execution_count": 55,
   "metadata": {},
   "outputs": [
    {
     "output_type": "stream",
     "name": "stdout",
     "text": [
      "8\np\n"
     ]
    }
   ],
   "source": [
    "#Recorrer la lista value de la clave \"k2\"\n",
    "for key, values in d.items():\n",
    "    if key == \"k2\":\n",
    "        for x in values:\n",
    "            print (x)"
   ]
  },
  {
   "cell_type": "code",
   "execution_count": 56,
   "metadata": {},
   "outputs": [
    {
     "output_type": "execute_result",
     "data": {
      "text/plain": [
       "{'k2': [8, 'p']}"
      ]
     },
     "metadata": {},
     "execution_count": 56
    }
   ],
   "source": [
    "#Eliminar una clave de un diccionario borrar k, no se puede modificar solo borrar o modificar su valor\n",
    "del d [\"k\"]\n",
    "d"
   ]
  },
  {
   "cell_type": "code",
   "execution_count": 59,
   "metadata": {},
   "outputs": [
    {
     "output_type": "execute_result",
     "data": {
      "text/plain": [
       "{'k2': [8, 'a']}"
      ]
     },
     "metadata": {},
     "execution_count": 59
    }
   ],
   "source": [
    "#Modificar el valor de una clave\n",
    "d[\"k2\"] = [8, \"a\"]\n",
    "d"
   ]
  },
  {
   "cell_type": "code",
   "execution_count": 60,
   "metadata": {},
   "outputs": [
    {
     "output_type": "execute_result",
     "data": {
      "text/plain": [
       "{'k2': [8, 'a', 3]}"
      ]
     },
     "metadata": {},
     "execution_count": 60
    }
   ],
   "source": [
    "d[\"k2\"].append(3)\n",
    "d"
   ]
  },
  {
   "cell_type": "code",
   "execution_count": 61,
   "metadata": {},
   "outputs": [
    {
     "output_type": "stream",
     "name": "stdout",
     "text": [
      "{'a': 'hola'}\n{8: [8, 9], 'a': 'hola'}\n"
     ]
    }
   ],
   "source": [
    "#Añadir un diccionario a otro\n",
    "\n",
    "d1 = {8: [8, 9]}\n",
    "d2 = {\"a\": \"hola\"}\n",
    "d1.update(d2)\n",
    "\n",
    "print(d2)\n",
    "print(d1)"
   ]
  },
  {
   "cell_type": "code",
   "execution_count": 64,
   "metadata": {},
   "outputs": [
    {
     "output_type": "stream",
     "name": "stdout",
     "text": [
      "None\n"
     ]
    }
   ],
   "source": [
    "def add_to_list(lista, to_add):\n",
    "    lista.append (to_add)\n",
    "\n",
    "l = [2, 7]\n",
    "l = add_to_list(lista=l, to_add=6) #Muestra none porque no tiene return\n",
    "print(l)"
   ]
  },
  {
   "cell_type": "code",
   "execution_count": 65,
   "metadata": {},
   "outputs": [
    {
     "output_type": "execute_result",
     "data": {
      "text/plain": [
       "{2: 'h'}"
      ]
     },
     "metadata": {},
     "execution_count": 65
    }
   ],
   "source": [
    "d = {2: \"h\"}\n",
    "l = [5, \"m\", d]\n",
    "l[-1]"
   ]
  },
  {
   "cell_type": "code",
   "execution_count": null,
   "metadata": {},
   "outputs": [],
   "source": [
    "#Retornar más de un elemento\n",
    "k = 2, 7\n",
    "k"
   ]
  },
  {
   "cell_type": "code",
   "execution_count": 66,
   "metadata": {},
   "outputs": [
    {
     "output_type": "stream",
     "name": "stdout",
     "text": [
      "2\n7\n"
     ]
    }
   ],
   "source": [
    "k, j = 2, 7\n",
    "print(k)\n",
    "print(j)"
   ]
  },
  {
   "cell_type": "code",
   "execution_count": 67,
   "metadata": {},
   "outputs": [
    {
     "output_type": "stream",
     "name": "stdout",
     "text": [
      "(3, 6, 8)\n(5, 2, 8)\n"
     ]
    }
   ],
   "source": [
    "def f():\n",
    "    return 3, 6, 8\n",
    "\n",
    "def cualquiercosa():\n",
    "    return 5, 2, 8\n",
    "\n",
    "g, h = f(), cualquiercosa()\n",
    "print(g)\n",
    "print(h)"
   ]
  },
  {
   "cell_type": "code",
   "execution_count": 70,
   "metadata": {},
   "outputs": [
    {
     "output_type": "stream",
     "name": "stdout",
     "text": [
      "argumento\n"
     ]
    },
    {
     "output_type": "execute_result",
     "data": {
      "text/plain": [
       "str"
      ]
     },
     "metadata": {},
     "execution_count": 70
    }
   ],
   "source": [
    "#Función con parámetro\n",
    "def nombre_funcion(param):\n",
    "    return param\n",
    "\n",
    "x = nombre_funcion(\"argumento\")\n",
    "print(x)\n",
    "g = type(x)\n",
    "g"
   ]
  },
  {
   "cell_type": "code",
   "execution_count": 72,
   "metadata": {},
   "outputs": [
    {
     "output_type": "execute_result",
     "data": {
      "text/plain": [
       "2"
      ]
     },
     "metadata": {},
     "execution_count": 72
    }
   ],
   "source": [
    "#Función con parámetro/valor por defecto\n",
    "\n",
    "def nombre_funcion_por_defecto(param=2):\n",
    "    return param\n",
    "x = nombre_funcion_por_defecto()\n",
    "x"
   ]
  },
  {
   "cell_type": "code",
   "execution_count": 73,
   "metadata": {},
   "outputs": [
    {
     "output_type": "execute_result",
     "data": {
      "text/plain": [
       "7"
      ]
     },
     "metadata": {},
     "execution_count": 73
    }
   ],
   "source": [
    "#Prioridad de argumento vs defecto\n",
    "def nombre_funcion_por_defecto(param=2):\n",
    "    return param\n",
    "x = nombre_funcion_por_defecto(param=7)\n",
    "x"
   ]
  },
  {
   "cell_type": "code",
   "execution_count": 74,
   "metadata": {},
   "outputs": [
    {
     "output_type": "execute_result",
     "data": {
      "text/plain": [
       "2"
      ]
     },
     "metadata": {},
     "execution_count": 74
    }
   ],
   "source": [
    "#Prioridad de argumento vs defecto\n",
    "def nombre_funcion_por_defecto(param=2, y=5):\n",
    "    return param\n",
    "x = nombre_funcion_por_defecto()\n",
    "x"
   ]
  },
  {
   "cell_type": "code",
   "execution_count": 75,
   "metadata": {},
   "outputs": [
    {
     "output_type": "execute_result",
     "data": {
      "text/plain": [
       "11"
      ]
     },
     "metadata": {},
     "execution_count": 75
    }
   ],
   "source": [
    "#Si un argumento de la función no tiene un valor por defecto, es obligatorio darle un vallor al llamar a la función.\n",
    "\n",
    "#Si le damos un valor a un argumento de la función al ser llamada, ese valor tiene prioridad al valor por defecto\n",
    "\n",
    "def nombre_funcion_por_defecto(param=2, y=5):\n",
    "    return param + y\n",
    "x = nombre_funcion_por_defecto(4, 7)\n",
    "x"
   ]
  },
  {
   "cell_type": "code",
   "execution_count": 79,
   "metadata": {},
   "outputs": [
    {
     "output_type": "stream",
     "name": "stdout",
     "text": [
      "2\n"
     ]
    }
   ],
   "source": [
    "def get_the_last_value_from_list(lista, position=-1):\n",
    "    if len(lista) > 0: #Si hay algun elemento\n",
    "        return lista[position]\n",
    "    else:\n",
    "        return \"No hay elementos\"\n",
    "\n",
    "lista = [\"m\", 2]\n",
    "x = get_the_last_value_from_list(lista=lista)\n",
    "print(x)"
   ]
  },
  {
   "cell_type": "code",
   "execution_count": 82,
   "metadata": {},
   "outputs": [
    {
     "output_type": "stream",
     "name": "stdout",
     "text": [
      "2\n8\n6\ncoche\npepino\n8\n"
     ]
    }
   ],
   "source": [
    "lista = [2, \"8\", [6, \"joven\"], \"casa\", \"coche\", \"pepino\", [9, 8]]\n",
    "\n",
    "def muestra_todos_excepto_joven_casa_9(lista):\n",
    "    for x in lista:\n",
    "        if x == lista[2]:\n",
    "            print(x[0])\n",
    "        elif x == lista[3]:\n",
    "            continue\n",
    "        elif x == lista[-1]:\n",
    "            print(x[1])\n",
    "        else:\n",
    "            print(x)\n",
    "\n",
    "muestra_todos_excepto_joven_casa_9(lista=lista)"
   ]
  },
  {
   "cell_type": "code",
   "execution_count": 83,
   "metadata": {},
   "outputs": [
    {
     "output_type": "error",
     "ename": "SyntaxError",
     "evalue": "invalid syntax (<ipython-input-83-e19c01c5917f>, line 1)",
     "traceback": [
      "\u001b[1;36m  File \u001b[1;32m\"<ipython-input-83-e19c01c5917f>\"\u001b[1;36m, line \u001b[1;32m1\u001b[0m\n\u001b[1;33m    jupyter nbconvert --to pdf Day2.ipynb.ipynb\u001b[0m\n\u001b[1;37m            ^\u001b[0m\n\u001b[1;31mSyntaxError\u001b[0m\u001b[1;31m:\u001b[0m invalid syntax\n"
     ]
    }
   ],
   "source": [
    "jupyter nbconvert --to pdf Day2.ipynb.ipynb\n"
   ]
  },
  {
   "cell_type": "code",
   "execution_count": null,
   "metadata": {},
   "outputs": [],
   "source": []
  }
 ]
}