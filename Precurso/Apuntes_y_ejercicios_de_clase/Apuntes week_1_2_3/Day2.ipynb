{
 "metadata": {
  "language_info": {
   "codemirror_mode": {
    "name": "ipython",
    "version": 3
   },
   "file_extension": ".py",
   "mimetype": "text/x-python",
   "name": "python",
   "nbconvert_exporter": "python",
   "pygments_lexer": "ipython3",
   "version": "3.9.0-final"
  },
  "orig_nbformat": 2,
  "kernelspec": {
   "name": "python3",
   "display_name": "Python 3.9.0 64-bit",
   "metadata": {
    "interpreter": {
     "hash": "af698c02722c81864863429d928a3bd8a8dcc030c4156359d3ef8b980fb01319"
    }
   }
  }
 },
 "nbformat": 4,
 "nbformat_minor": 2,
 "cells": [
  {
   "cell_type": "code",
   "execution_count": 1,
   "metadata": {},
   "outputs": [],
   "source": [
    "import os"
   ]
  },
  {
   "cell_type": "code",
   "execution_count": 1,
   "metadata": {},
   "outputs": [
    {
     "output_type": "stream",
     "name": "stdout",
     "text": [
      "4\nlorena\n"
     ]
    }
   ],
   "source": [
    "#Entero - Integer - int (Número entero)\n",
    "x = 2\n",
    "\n",
    "#Cadena - String (Lista de caracteres) (el espacio es un caracter)\n",
    "x = \"lorena\"\n",
    "\n",
    "#Print muestra lo que contenga dentro del paréntesis\n",
    "print (4) #Muestra 4\n",
    "print (x) #Muestra lorena porque muestra la última variable de x"
   ]
  },
  {
   "cell_type": "code",
   "execution_count": 2,
   "metadata": {},
   "outputs": [
    {
     "output_type": "stream",
     "name": "stdout",
     "text": [
      "lorena\n7\n"
     ]
    }
   ],
   "source": [
    "#Entero - Integer - int (Número entero)\n",
    "x = 7\n",
    "\n",
    "#Cadena - String (Lista de caracteres)\n",
    "x = \"lorena\"\n",
    "print (x) #Muestra lorena\n",
    "\n",
    "x = 7\n",
    "print (x) #Muestra 7"
   ]
  },
  {
   "cell_type": "code",
   "execution_count": 3,
   "metadata": {},
   "outputs": [
    {
     "output_type": "stream",
     "name": "stdout",
     "text": [
      "12\n"
     ]
    }
   ],
   "source": [
    "x = 5\n",
    "y = 7\n",
    "\n",
    "z= x + y\n",
    "print (z) #Muestra 12 porque suma las variables\n"
   ]
  },
  {
   "cell_type": "code",
   "execution_count": null,
   "metadata": {},
   "outputs": [],
   "source": [
    "h = 3"
   ]
  },
  {
   "cell_type": "code",
   "execution_count": 4,
   "metadata": {},
   "outputs": [
    {
     "output_type": "error",
     "ename": "NameError",
     "evalue": "name 'h' is not defined",
     "traceback": [
      "\u001b[1;31m---------------------------------------------------------------------------\u001b[0m",
      "\u001b[1;31mNameError\u001b[0m                                 Traceback (most recent call last)",
      "\u001b[1;32m<ipython-input-4-176fc882a115>\u001b[0m in \u001b[0;36m<module>\u001b[1;34m\u001b[0m\n\u001b[1;32m----> 1\u001b[1;33m \u001b[0mprint\u001b[0m \u001b[1;33m(\u001b[0m\u001b[0mh\u001b[0m\u001b[1;33m)\u001b[0m \u001b[1;31m#Da error porque h no está ejecutado (botón play)\u001b[0m\u001b[1;33m\u001b[0m\u001b[1;33m\u001b[0m\u001b[0m\n\u001b[0m",
      "\u001b[1;31mNameError\u001b[0m: name 'h' is not defined"
     ]
    }
   ],
   "source": [
    "print (h) #Da error porque h no está ejecutado (botón play)"
   ]
  },
  {
   "cell_type": "code",
   "execution_count": 15,
   "metadata": {},
   "outputs": [
    {
     "output_type": "stream",
     "name": "stdout",
     "text": [
      "lorena\"silvia\"\n"
     ]
    }
   ],
   "source": [
    "x = \"lorena\"\n",
    "y = '\"silvia\"' #Tambien se puede poner con una sola comilla. Además, da la posibilidad de meter doble comilla y que salga en el print.\n",
    "\n",
    "g = x + y\n",
    "print (g) #Las cadenas se concatenan"
   ]
  },
  {
   "cell_type": "code",
   "execution_count": 11,
   "metadata": {},
   "outputs": [
    {
     "output_type": "error",
     "ename": "TypeError",
     "evalue": "can only concatenate str (not \"int\") to str",
     "traceback": [
      "\u001b[1;31m---------------------------------------------------------------------------\u001b[0m",
      "\u001b[1;31mTypeError\u001b[0m                                 Traceback (most recent call last)",
      "\u001b[1;32m<ipython-input-11-dae7f1e83bd1>\u001b[0m in \u001b[0;36m<module>\u001b[1;34m\u001b[0m\n\u001b[1;32m----> 1\u001b[1;33m \u001b[0mprint\u001b[0m \u001b[1;33m(\u001b[0m\u001b[0mg\u001b[0m \u001b[1;33m+\u001b[0m \u001b[1;36m2\u001b[0m\u001b[1;33m)\u001b[0m \u001b[1;31m#Da error porque no se pueden sumar string + enteros\u001b[0m\u001b[1;33m\u001b[0m\u001b[1;33m\u001b[0m\u001b[0m\n\u001b[0m",
      "\u001b[1;31mTypeError\u001b[0m: can only concatenate str (not \"int\") to str"
     ]
    }
   ],
   "source": [
    "print (g + 2) #Da error porque no se pueden sumar string + enteros"
   ]
  },
  {
   "cell_type": "code",
   "execution_count": 13,
   "metadata": {},
   "outputs": [
    {
     "output_type": "execute_result",
     "data": {
      "text/plain": [
       "str"
      ]
     },
     "metadata": {},
     "execution_count": 13
    }
   ],
   "source": [
    "type(g) #Te dice de que tipo es la variable que tiene en el interior"
   ]
  },
  {
   "cell_type": "code",
   "execution_count": 18,
   "metadata": {},
   "outputs": [
    {
     "output_type": "stream",
     "name": "stdout",
     "text": [
      "lorena\"silvia\" 12\n"
     ]
    }
   ],
   "source": [
    "print(g, z) #Muestra varios elementos mediante la coma y añade un espacio entre ellos."
   ]
  },
  {
   "cell_type": "code",
   "execution_count": 19,
   "metadata": {},
   "outputs": [
    {
     "output_type": "stream",
     "name": "stdout",
     "text": [
      "silvia tiene g años\n"
     ]
    }
   ],
   "source": [
    "u = \"g\"\n",
    "silvia = \"silvia tiene \"\n",
    "anos = \" años\"\n",
    "\n",
    "suma = silvia + u + anos\n",
    "print(suma)"
   ]
  },
  {
   "cell_type": "code",
   "execution_count": 20,
   "metadata": {},
   "outputs": [
    {
     "output_type": "error",
     "ename": "TypeError",
     "evalue": "unsupported operand type(s) for +: 'int' and 'str'",
     "traceback": [
      "\u001b[1;31m---------------------------------------------------------------------------\u001b[0m",
      "\u001b[1;31mTypeError\u001b[0m                                 Traceback (most recent call last)",
      "\u001b[1;32m<ipython-input-20-1ef510070a8d>\u001b[0m in \u001b[0;36m<module>\u001b[1;34m\u001b[0m\n\u001b[0;32m      2\u001b[0m \u001b[0mm\u001b[0m \u001b[1;33m=\u001b[0m \u001b[1;34m\"3\"\u001b[0m\u001b[1;33m\u001b[0m\u001b[1;33m\u001b[0m\u001b[0m\n\u001b[0;32m      3\u001b[0m \u001b[1;33m\u001b[0m\u001b[0m\n\u001b[1;32m----> 4\u001b[1;33m \u001b[0mprint\u001b[0m\u001b[1;33m(\u001b[0m\u001b[0mn\u001b[0m\u001b[1;33m+\u001b[0m\u001b[0mm\u001b[0m\u001b[1;33m)\u001b[0m \u001b[1;31m#Da error porque no se puede sumar int + str\u001b[0m\u001b[1;33m\u001b[0m\u001b[1;33m\u001b[0m\u001b[0m\n\u001b[0m",
      "\u001b[1;31mTypeError\u001b[0m: unsupported operand type(s) for +: 'int' and 'str'"
     ]
    }
   ],
   "source": [
    "n = 2\n",
    "m = \"3\"\n",
    "\n",
    "print(n+m) #Da error porque no se puede sumar int + str"
   ]
  },
  {
   "cell_type": "code",
   "execution_count": 26,
   "metadata": {},
   "outputs": [
    {
     "output_type": "stream",
     "name": "stdout",
     "text": [
      "2\n<class 'int'>\n2\n<class 'str'>\n2 silvia tiene \n<class 'str'>\n"
     ]
    }
   ],
   "source": [
    "#Cambiar de int a str\n",
    "j = 2\n",
    "print(j)\n",
    "print(type(j))\n",
    "\n",
    "j = str(j)\n",
    "print(j)\n",
    "print(type(j))\n",
    "\n",
    "j = str(j) + \" \" + silvia #Hemos incluido un espacio entre j y la variable silvia(que es silvia tiene)\n",
    "print(j)\n",
    "print(type(j))"
   ]
  },
  {
   "cell_type": "code",
   "execution_count": null,
   "metadata": {},
   "outputs": [],
   "source": [
    "type\n",
    "str\n",
    "int\n",
    "print\n",
    "#Son palabras reservadas que no se debe poner igual, es decir, no se puede hacer type = 2 porque type sirve para saber el tipo de variable y por tanto no se le puede dar un valor"
   ]
  },
  {
   "cell_type": "code",
   "execution_count": 31,
   "metadata": {},
   "outputs": [
    {
     "output_type": "error",
     "ename": "ValueError",
     "evalue": "invalid literal for int() with base 10: 'lorena'",
     "traceback": [
      "\u001b[1;31m---------------------------------------------------------------------------\u001b[0m",
      "\u001b[1;31mValueError\u001b[0m                                Traceback (most recent call last)",
      "\u001b[1;32m<ipython-input-31-408092de65dd>\u001b[0m in \u001b[0;36m<module>\u001b[1;34m\u001b[0m\n\u001b[0;32m      1\u001b[0m \u001b[1;31m#Cambiar de str a int\u001b[0m\u001b[1;33m\u001b[0m\u001b[1;33m\u001b[0m\u001b[1;33m\u001b[0m\u001b[0m\n\u001b[0;32m      2\u001b[0m \u001b[0mlor\u001b[0m \u001b[1;33m=\u001b[0m \u001b[1;34m\"lorena\"\u001b[0m\u001b[1;33m\u001b[0m\u001b[1;33m\u001b[0m\u001b[0m\n\u001b[1;32m----> 3\u001b[1;33m \u001b[0mlor\u001b[0m \u001b[1;33m=\u001b[0m \u001b[0mint\u001b[0m\u001b[1;33m(\u001b[0m\u001b[0mlor\u001b[0m\u001b[1;33m)\u001b[0m \u001b[1;31m#En este caso da error porque no se puede pasar de una cadena escrita a entero\u001b[0m\u001b[1;33m\u001b[0m\u001b[1;33m\u001b[0m\u001b[0m\n\u001b[0m\u001b[0;32m      4\u001b[0m \u001b[0mprint\u001b[0m\u001b[1;33m(\u001b[0m\u001b[0mlor\u001b[0m\u001b[1;33m)\u001b[0m\u001b[1;33m\u001b[0m\u001b[1;33m\u001b[0m\u001b[0m\n",
      "\u001b[1;31mValueError\u001b[0m: invalid literal for int() with base 10: 'lorena'"
     ]
    }
   ],
   "source": [
    "#Cambiar de str a int\n",
    "lor = \"lorena\"\n",
    "lor = int(lor) #En este caso da error porque no se puede pasar de una cadena escrita a entero\n",
    "print(lor)"
   ]
  },
  {
   "cell_type": "code",
   "execution_count": 32,
   "metadata": {},
   "outputs": [
    {
     "output_type": "stream",
     "name": "stdout",
     "text": [
      "98\n"
     ]
    }
   ],
   "source": [
    "#Cambiar de str a int\n",
    "lor = \"98\"\n",
    "lor = int(lor) #En este caso sí se puede ya que es un número.\n",
    "print(lor)"
   ]
  },
  {
   "cell_type": "code",
   "execution_count": 33,
   "metadata": {},
   "outputs": [
    {
     "output_type": "error",
     "ename": "TypeError",
     "evalue": "object of type 'int' has no len()",
     "traceback": [
      "\u001b[1;31m---------------------------------------------------------------------------\u001b[0m",
      "\u001b[1;31mTypeError\u001b[0m                                 Traceback (most recent call last)",
      "\u001b[1;32m<ipython-input-33-35ae1eac01db>\u001b[0m in \u001b[0;36m<module>\u001b[1;34m\u001b[0m\n\u001b[0;32m      2\u001b[0m \u001b[1;31m#Lenght\u001b[0m\u001b[1;33m\u001b[0m\u001b[1;33m\u001b[0m\u001b[1;33m\u001b[0m\u001b[0m\n\u001b[0;32m      3\u001b[0m \u001b[1;33m\u001b[0m\u001b[0m\n\u001b[1;32m----> 4\u001b[1;33m \u001b[0mprint\u001b[0m\u001b[1;33m(\u001b[0m\u001b[0mlen\u001b[0m\u001b[1;33m(\u001b[0m\u001b[0mlor\u001b[0m\u001b[1;33m)\u001b[0m\u001b[1;33m)\u001b[0m\u001b[1;33m\u001b[0m\u001b[1;33m\u001b[0m\u001b[0m\n\u001b[0m",
      "\u001b[1;31mTypeError\u001b[0m: object of type 'int' has no len()"
     ]
    }
   ],
   "source": [
    "#Para ver la longitud de una lista de caracteres (lista)\n",
    "#Lenght\n",
    "\n",
    "print(len(lor)) #Da error porque no puede traducir un entero (lo habíamos transformado de str a int)"
   ]
  },
  {
   "cell_type": "code",
   "execution_count": 34,
   "metadata": {},
   "outputs": [
    {
     "output_type": "stream",
     "name": "stdout",
     "text": [
      "19\n"
     ]
    }
   ],
   "source": [
    "#Para ver la longitud de una lista de caracteres (lista)\n",
    "#Lenght\n",
    "\n",
    "mn = \"lista de caracteres\"\n",
    "print(len(mn)) #Cuenta el espacio incluso"
   ]
  },
  {
   "cell_type": "code",
   "execution_count": null,
   "metadata": {},
   "outputs": [],
   "source": [
    "x = 4 #int porque es entero\n",
    "y = 4.2 #Float: con decimales"
   ]
  },
  {
   "cell_type": "code",
   "execution_count": null,
   "metadata": {},
   "outputs": [],
   "source": [
    "num1 = 12\n",
    "num2 = 3\n",
    "\n",
    "suma = num1 + num2\n",
    "resta = num1 - num2\n",
    "multiplicacion = num1 * num2\n",
    "division = num1 / num 2 #Te hace la división en float\n",
    "division_absoluta = num1 // num2 #No tiene en cuenta los decimales\n",
    "\n",
    "print(\"suma:\", suma)\n",
    "print(\"resta\", resta)\n",
    "print(\"division\", division)\n",
    "print(\"multiplicacion\", multiplicacion)\n",
    "print(\"division absoluta\", division_absoluta)"
   ]
  },
  {
   "cell_type": "code",
   "execution_count": 38,
   "metadata": {},
   "outputs": [
    {
     "output_type": "stream",
     "name": "stdout",
     "text": [
      "3.125\n3.0\n<class 'float'>\n<class 'float'>\n3.25\n3\n<class 'float'>\n<class 'int'>\n"
     ]
    }
   ],
   "source": [
    "j = 12.5\n",
    "k = 4\n",
    "print(j / k)\n",
    "print(j // k)\n",
    "print(type(j / k))\n",
    "print(type(j // k)) #Es float porque hay uno que es float (12.5) pero no tiene en cuenta los decimales\n",
    "\n",
    "j = 13\n",
    "k = 4\n",
    "print(j / k)\n",
    "print(j // k)\n",
    "print(type(j / k))\n",
    "print(type(j // k)) #No es float a pesar de que tenga decimales la división ya que los dos numeros son int "
   ]
  },
  {
   "cell_type": "code",
   "execution_count": 46,
   "metadata": {},
   "outputs": [
    {
     "output_type": "execute_result",
     "data": {
      "text/plain": [
       "5"
      ]
     },
     "metadata": {},
     "execution_count": 46
    }
   ],
   "source": [
    "j = \"2\"\n",
    "k = 3\n",
    "y = 5\n",
    "\n",
    "#No hace falta poner print en Jupyter Notebook pero solo imprime la ultima línea  (y)\n",
    "j #Si fuese la ultima, al ser cadena lo pone con comilla individual '2'\n",
    "k\n",
    "y "
   ]
  },
  {
   "cell_type": "code",
   "execution_count": 47,
   "metadata": {},
   "outputs": [
    {
     "output_type": "stream",
     "name": "stdout",
     "text": [
      "2\n3\n"
     ]
    },
    {
     "output_type": "execute_result",
     "data": {
      "text/plain": [
       "5"
      ]
     },
     "metadata": {},
     "execution_count": 47
    }
   ],
   "source": [
    "#Para imprimir todas hay que poner print\n",
    "print(j)\n",
    "print(k)\n",
    "y"
   ]
  },
  {
   "cell_type": "code",
   "execution_count": 48,
   "metadata": {},
   "outputs": [
    {
     "output_type": "execute_result",
     "data": {
      "text/plain": [
       "2"
      ]
     },
     "metadata": {},
     "execution_count": 48
    }
   ],
   "source": [
    "#Otro ejemplo en \n",
    "g = int(5.6/2)\n",
    "g #Al ser int te quita los decimales"
   ]
  },
  {
   "cell_type": "code",
   "execution_count": 51,
   "metadata": {},
   "outputs": [
    {
     "output_type": "execute_result",
     "data": {
      "text/plain": [
       "48"
      ]
     },
     "metadata": {},
     "execution_count": 51
    }
   ],
   "source": [
    "#Declarar 3 variables:\n",
    "    #Una con el nombre edad con el valor de nuestra edad\n",
    "    #Otra \"edad_companero_der\" que contenga la edad de tipo entero de vuestro compañero de la derecha\n",
    "    #Otra \"suma anterior\" que contenga la suma de las dos variables anteriormente declaradas\n",
    "\n",
    "edad= 26\n",
    "edad_companero_der= 22\n",
    "suma_anterior = edad + edad_companero_der\n",
    "suma_anterior"
   ]
  },
  {
   "cell_type": "code",
   "execution_count": 52,
   "metadata": {},
   "outputs": [
    {
     "output_type": "execute_result",
     "data": {
      "text/plain": [
       "'HOLA'"
      ]
     },
     "metadata": {},
     "execution_count": 52
    }
   ],
   "source": [
    "i = \"hola\"\n",
    "i.upper() #Para llamar a la función hay que poner los paréntesis\n"
   ]
  },
  {
   "cell_type": "code",
   "execution_count": 53,
   "metadata": {},
   "outputs": [
    {
     "output_type": "execute_result",
     "data": {
      "text/plain": [
       "'hola'"
      ]
     },
     "metadata": {},
     "execution_count": 53
    }
   ],
   "source": [
    "o = i.upper()\n",
    "o.lower()"
   ]
  },
  {
   "cell_type": "code",
   "execution_count": 54,
   "metadata": {},
   "outputs": [
    {
     "output_type": "execute_result",
     "data": {
      "text/plain": [
       "3"
      ]
     },
     "metadata": {},
     "execution_count": 54
    }
   ],
   "source": [
    "x = 2\n",
    "x = x + 1 \n",
    "x #Actualiza el valor de x"
   ]
  },
  {
   "cell_type": "code",
   "execution_count": 58,
   "metadata": {},
   "outputs": [
    {
     "output_type": "execute_result",
     "data": {
      "text/plain": [
       "3"
      ]
     },
     "metadata": {},
     "execution_count": 58
    }
   ],
   "source": [
    "x = 2\n",
    "x += 1 #Es lo mismo que (x + 1)\n",
    "x"
   ]
  },
  {
   "cell_type": "code",
   "execution_count": null,
   "metadata": {},
   "outputs": [],
   "source": []
  }
 ]
}