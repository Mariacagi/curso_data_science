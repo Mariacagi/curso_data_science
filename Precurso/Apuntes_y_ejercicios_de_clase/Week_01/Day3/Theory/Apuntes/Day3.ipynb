{
 "metadata": {
  "language_info": {
   "codemirror_mode": {
    "name": "ipython",
    "version": 3
   },
   "file_extension": ".py",
   "mimetype": "text/x-python",
   "name": "python",
   "nbconvert_exporter": "python",
   "pygments_lexer": "ipython3",
   "version": "3.9.0-final"
  },
  "orig_nbformat": 2,
  "kernelspec": {
   "name": "python3",
   "display_name": "Python 3.9.0 64-bit",
   "metadata": {
    "interpreter": {
     "hash": "af698c02722c81864863429d928a3bd8a8dcc030c4156359d3ef8b980fb01319"
    }
   }
  }
 },
 "nbformat": 4,
 "nbformat_minor": 2,
 "cells": [
  {
   "cell_type": "code",
   "execution_count": 2,
   "metadata": {},
   "outputs": [
    {
     "output_type": "stream",
     "name": "stdout",
     "text": [
      "39829\n3 98 29\n"
     ]
    }
   ],
   "source": [
    "#Para quitar el espacio entre las variables utilizar sep=\"\"\n",
    "\n",
    "print(s, 98, 29, sep=\"\")\n",
    "print(s, 98, 29)"
   ]
  },
  {
   "cell_type": "code",
   "execution_count": 5,
   "metadata": {},
   "outputs": [
    {
     "output_type": "stream",
     "name": "stdout",
     "text": [
      "0\n1\n"
     ]
    },
    {
     "output_type": "execute_result",
     "data": {
      "text/plain": [
       "4"
      ]
     },
     "metadata": {},
     "execution_count": 5
    }
   ],
   "source": [
    "#El módulo muestra el resto de la división entre dos números\n",
    "\n",
    "print(2%2) #Si es divisor (multipo) será 0, es decir, si el resto es cero\n",
    "print(3%2) #No es divisor, contiene el número 2 una vez y le sobra 1\n",
    "4%5 #No se puede dividir, pues el cociente es cero, por lo tanto sobran 4"
   ]
  },
  {
   "source": [
    "#Input recoge una entrada de texto de tipo String\n",
    "edad = input(\"Introduce tu edad\")\n",
    "print(edad)\n",
    "print(type(edad))\n"
   ],
   "cell_type": "code",
   "metadata": {},
   "execution_count": 12,
   "outputs": [
    {
     "output_type": "stream",
     "name": "stdout",
     "text": [
      "26\n<class 'str'>\n"
     ]
    }
   ]
  },
  {
   "cell_type": "code",
   "execution_count": 13,
   "metadata": {},
   "outputs": [
    {
     "output_type": "stream",
     "name": "stdout",
     "text": [
      "26\n<class 'int'>\n"
     ]
    }
   ],
   "source": [
    "#Para recoger un número es necesario poner int\n",
    "num_1 = int(input(\"Introduce tu edad\"))\n",
    "print(num_1)\n",
    "print(type(num_1))"
   ]
  },
  {
   "cell_type": "code",
   "execution_count": 15,
   "metadata": {},
   "outputs": [
    {
     "output_type": "error",
     "ename": "NameError",
     "evalue": "name 'none' is not defined",
     "traceback": [
      "\u001b[1;31m---------------------------------------------------------------------------\u001b[0m",
      "\u001b[1;31mNameError\u001b[0m                                 Traceback (most recent call last)",
      "\u001b[1;32m<ipython-input-15-a62cd5d56d81>\u001b[0m in \u001b[0;36m<module>\u001b[1;34m\u001b[0m\n\u001b[1;32m----> 1\u001b[1;33m \u001b[0mx\u001b[0m \u001b[1;33m=\u001b[0m \u001b[0mnone\u001b[0m\u001b[1;33m\u001b[0m\u001b[1;33m\u001b[0m\u001b[0m\n\u001b[0m\u001b[0;32m      2\u001b[0m \u001b[1;33m\u001b[0m\u001b[0m\n\u001b[0;32m      3\u001b[0m \u001b[0mn\u001b[0m \u001b[1;33m=\u001b[0m \u001b[1;36m5\u001b[0m\u001b[1;33m\u001b[0m\u001b[1;33m\u001b[0m\u001b[0m\n\u001b[0;32m      4\u001b[0m \u001b[0ms\u001b[0m \u001b[1;33m=\u001b[0m \u001b[1;34m\"Cadena\"\u001b[0m\u001b[1;33m\u001b[0m\u001b[1;33m\u001b[0m\u001b[0m\n\u001b[0;32m      5\u001b[0m \u001b[0mprint\u001b[0m \u001b[1;33m(\u001b[0m\u001b[0mx\u001b[0m \u001b[1;33m+\u001b[0m \u001b[0ms\u001b[0m\u001b[1;33m)\u001b[0m\u001b[1;33m\u001b[0m\u001b[1;33m\u001b[0m\u001b[0m\n",
      "\u001b[1;31mNameError\u001b[0m: name 'none' is not defined"
     ]
    }
   ],
   "source": [
    "x = none\n",
    "\n",
    "n = 5\n",
    "s = \"Cadena\"\n",
    "print (x + s)\n"
   ]
  },
  {
   "cell_type": "code",
   "execution_count": 18,
   "metadata": {},
   "outputs": [
    {
     "output_type": "stream",
     "name": "stdout",
     "text": [
      "C\n"
     ]
    }
   ],
   "source": [
    "#Listas y colecciones\n",
    "\n",
    "#Lista de caracteres\n",
    "s = \"Cadena\" #Python cuenta desde cero, por lo tanto la C es cero y la A es 1.\n",
    "primer_elemento = s[0]#Esto te muestra cual es la primera posición \n",
    "print(primer_elemento)"
   ]
  },
  {
   "cell_type": "code",
   "execution_count": 20,
   "metadata": {},
   "outputs": [
    {
     "output_type": "stream",
     "name": "stdout",
     "text": [
      "My first bicycle was a specialized\n"
     ]
    }
   ],
   "source": [
    "#Lista de elementos\n",
    "bicycles = ['trek', 'cannondale', 'redline', 'specialized']\n",
    "message = \"My first bicycle was a \" + bicycles[-1] #Se utiliza menos para poner el último elemento, en caso de ser el penúltimo se utiliza menos 2\n",
    "\n",
    "print(message)"
   ]
  },
  {
   "cell_type": "code",
   "execution_count": 23,
   "metadata": {},
   "outputs": [
    {
     "output_type": "stream",
     "name": "stdout",
     "text": [
      "4\n3\n"
     ]
    }
   ],
   "source": [
    "#Para saber la longitud de la lista\n",
    "tamano_lista = len(bicycles)\n",
    "print(tamano_lista)\n",
    "ultimo_elemento_por_posicion =  tamano_lista - 1\n",
    "print(ultimo_elemento_por_posicion) "
   ]
  },
  {
   "cell_type": "code",
   "execution_count": 24,
   "metadata": {},
   "outputs": [
    {
     "output_type": "stream",
     "name": "stdout",
     "text": [
      "string\nString\n['bmw', 'audi', 'toyota', 'subaru']\n['subaru', 'toyota', 'audi', 'bmw']\n"
     ]
    }
   ],
   "source": [
    "\n",
    "\n",
    "\n",
    "#Existen dos tipos de funciones:\n",
    "#1. Las que modifican los valores sin que tengamos que especificar una reasignacion a la variable\n",
    "#2. Los que solo devuelven la operación y no modifican el valor de la variable. \n",
    "\n",
    "s = \"String\"\n",
    "s.lower()\n",
    "print(s.lower())\n",
    "print(s) #En este caso no modifica para siempre, solo si lo llamas especificamente\n",
    "\n",
    "\n",
    "cars = ['bmw', 'audi', 'toyota', 'subaru']\n",
    "print(cars)\n",
    "cars.reverse()\n",
    "print(cars) #En este caso lo modifica para siempre, es decir, se guarda el cambio al poner la función\n"
   ]
  },
  {
   "cell_type": "code",
   "execution_count": 25,
   "metadata": {},
   "outputs": [
    {
     "output_type": "stream",
     "name": "stdout",
     "text": [
      "aralC yos aloH\n"
     ]
    }
   ],
   "source": [
    "#Para cambiar el orden de los caracteres\n",
    "s = \"Hola soy Clara\"\n",
    "print(s[::-1])"
   ]
  },
  {
   "cell_type": "code",
   "execution_count": 27,
   "metadata": {},
   "outputs": [
    {
     "output_type": "execute_result",
     "data": {
      "text/plain": [
       "'Hola soy Clara'"
      ]
     },
     "metadata": {},
     "execution_count": 27
    }
   ],
   "source": [
    "s"
   ]
  },
  {
   "cell_type": "code",
   "execution_count": 28,
   "metadata": {},
   "outputs": [
    {
     "output_type": "execute_result",
     "data": {
      "text/plain": [
       "'a soy Clara'"
      ]
     },
     "metadata": {},
     "execution_count": 28
    }
   ],
   "source": [
    "s[3:]#Se incluya a partir de la 3\n",
    "s[3:len(s)] #Esto es lo mismo"
   ]
  },
  {
   "cell_type": "code",
   "execution_count": 29,
   "metadata": {},
   "outputs": [
    {
     "output_type": "execute_result",
     "data": {
      "text/plain": [
       "'a soy C'"
      ]
     },
     "metadata": {},
     "execution_count": 29
    }
   ],
   "source": [
    "s[3:10] #El tres se incluye y la 10 no se incluye"
   ]
  },
  {
   "cell_type": "code",
   "execution_count": 35,
   "metadata": {},
   "outputs": [
    {
     "output_type": "stream",
     "name": "stdout",
     "text": [
      "['honda', 'yamaha', 'suzuki', 'ducati']\n['honda', 'yamaha', 'ducati']\nsuzuki is too expensive for me\n"
     ]
    }
   ],
   "source": [
    "motorcycle = ['honda', 'yamaha', 'suzuki', 'ducati']\n",
    "print(motorcycle)\n",
    "\n",
    "too_expensive = 'suzuki'\n",
    "motorcycle.remove(too_expensive) #Para quitar un elemento\n",
    "print(motorcycle)\n",
    "print(too_expensive + \" is too expensive for me\")\n"
   ]
  },
  {
   "cell_type": "code",
   "execution_count": 36,
   "metadata": {},
   "outputs": [
    {
     "output_type": "execute_result",
     "data": {
      "text/plain": [
       "['honda', 'yamaha', 'ducati', 'suzuki']"
      ]
     },
     "metadata": {},
     "execution_count": 36
    }
   ],
   "source": [
    "#Agrega un valor a la última posición de la lista\n",
    "motorcycle.append('suzuki')\n",
    "motorcycle"
   ]
  },
  {
   "cell_type": "code",
   "execution_count": 38,
   "metadata": {},
   "outputs": [
    {
     "output_type": "stream",
     "name": "stdout",
     "text": [
      "[2, 8.9, [2, 3], 'yamaha', 'suzuki', 'honda', 'honda']\n"
     ]
    }
   ],
   "source": [
    "lista = ['honda', 2, 8.9, [2, 3], 'yamaha', 'suzuki', 'honda', 'honda'] \n",
    "lista.remove('honda') #Elimina la primera variable que se encuentra\n",
    "print(lista)"
   ]
  },
  {
   "cell_type": "code",
   "execution_count": 41,
   "metadata": {},
   "outputs": [
    {
     "output_type": "stream",
     "name": "stdout",
     "text": [
      "3\nm\n"
     ]
    }
   ],
   "source": [
    "#Accedemos a la posicion 1 del elemento que está en la posición 2 de la lista\n",
    "print(lista[2][1])\n",
    "#Accedemos a la posición 2 del elemento que está en la tercera posición\n",
    "print(lista[3][2])"
   ]
  },
  {
   "source": [
    "x = (1 == 1)\n",
    "x"
   ],
   "cell_type": "code",
   "metadata": {},
   "execution_count": 58,
   "outputs": [
    {
     "output_type": "execute_result",
     "data": {
      "text/plain": [
       "True"
      ]
     },
     "metadata": {},
     "execution_count": 58
    }
   ]
  },
  {
   "cell_type": "code",
   "execution_count": 45,
   "metadata": {},
   "outputs": [
    {
     "output_type": "execute_result",
     "data": {
      "text/plain": [
       "False"
      ]
     },
     "metadata": {},
     "execution_count": 45
    }
   ],
   "source": [
    "1 == 2"
   ]
  },
  {
   "cell_type": "code",
   "execution_count": 50,
   "metadata": {},
   "outputs": [
    {
     "output_type": "execute_result",
     "data": {
      "text/plain": [
       "True"
      ]
     },
     "metadata": {},
     "execution_count": 50
    }
   ],
   "source": [
    "\"a\" == \"a\""
   ]
  },
  {
   "cell_type": "code",
   "execution_count": 51,
   "metadata": {},
   "outputs": [
    {
     "output_type": "execute_result",
     "data": {
      "text/plain": [
       "False"
      ]
     },
     "metadata": {},
     "execution_count": 51
    }
   ],
   "source": [
    "\"a\" != \"a\""
   ]
  },
  {
   "cell_type": "code",
   "execution_count": 52,
   "metadata": {},
   "outputs": [
    {
     "output_type": "execute_result",
     "data": {
      "text/plain": [
       "False"
      ]
     },
     "metadata": {},
     "execution_count": 52
    }
   ],
   "source": [
    "4<2"
   ]
  },
  {
   "cell_type": "code",
   "execution_count": 53,
   "metadata": {},
   "outputs": [
    {
     "output_type": "execute_result",
     "data": {
      "text/plain": [
       "True"
      ]
     },
     "metadata": {},
     "execution_count": 53
    }
   ],
   "source": [
    "4>2"
   ]
  },
  {
   "cell_type": "code",
   "execution_count": 54,
   "metadata": {},
   "outputs": [
    {
     "output_type": "execute_result",
     "data": {
      "text/plain": [
       "True"
      ]
     },
     "metadata": {},
     "execution_count": 54
    }
   ],
   "source": [
    "4>=2"
   ]
  },
  {
   "cell_type": "code",
   "execution_count": 55,
   "metadata": {},
   "outputs": [
    {
     "output_type": "execute_result",
     "data": {
      "text/plain": [
       "True"
      ]
     },
     "metadata": {},
     "execution_count": 55
    }
   ],
   "source": [
    "4>=2"
   ]
  },
  {
   "cell_type": "code",
   "execution_count": null,
   "metadata": {},
   "outputs": [],
   "source": [
    "input ()"
   ]
  },
  {
   "cell_type": "code",
   "execution_count": null,
   "metadata": {},
   "outputs": [],
   "source": [
    "== #Igualdad\n",
    "!= #Diferente\n",
    "< #Menor\n",
    "> #Mayor\n",
    "<= #Menor o igual\n",
    ">= #Mayor o giaul"
   ]
  },
  {
   "cell_type": "code",
   "execution_count": 76,
   "metadata": {},
   "outputs": [
    {
     "output_type": "stream",
     "name": "stdout",
     "text": [
      "False\nTrue\nTrue\n"
     ]
    },
    {
     "output_type": "execute_result",
     "data": {
      "text/plain": [
       "True"
      ]
     },
     "metadata": {},
     "execution_count": 76
    }
   ],
   "source": [
    "print((1 == 1) and (2 == 3)) #En este caso es False porque hay un False\n",
    "print((1 == 1) or (2 == 3)) #or devolverá True si uno es True\n",
    "print((1 == 1) or (1 == 2) and (1 == 1))\n",
    "(1 == 1) or ((1 == 2) and (1 == 1))"
   ]
  },
  {
   "cell_type": "code",
   "execution_count": 78,
   "metadata": {},
   "outputs": [
    {
     "output_type": "stream",
     "name": "stdout",
     "text": [
      "No entra en if\n"
     ]
    }
   ],
   "source": [
    "if 1 != 1: #Si es cierto imprime son iguales\n",
    "    print(\"Son iguales\") #Con else o if la siguiente linea empieza con tab o con cuatro espacios\n",
    "else: #Si no es cierto imprime no entra en if\n",
    "    print(\"No entra en if\")"
   ]
  },
  {
   "cell_type": "code",
   "execution_count": 79,
   "metadata": {},
   "outputs": [
    {
     "output_type": "stream",
     "name": "stdout",
     "text": [
      "Es igual\n"
     ]
    }
   ],
   "source": [
    "if 1>3:\n",
    "    print(\"Es mayor\")\n",
    "elif 2 == 2: #Si entra por aquí, lo siguiente no lo mira\n",
    "    print(\"Es igual\")\n",
    "elif 3 == 3:\n",
    "    print(\"Es igual2\")\n",
    "else:\n",
    "    print(\"Ninguna de las anteriores\")\n",
    "    "
   ]
  },
  {
   "cell_type": "code",
   "execution_count": 81,
   "metadata": {},
   "outputs": [
    {
     "output_type": "stream",
     "name": "stdout",
     "text": [
      "Primer else\n 3 es 3 \n2\n"
     ]
    }
   ],
   "source": [
    "if 2>3:\n",
    "    print(1)\n",
    "else:\n",
    "    print(\"Primer else\") #Bloque 1 de if\n",
    "# ___________________\n",
    "if 3 == 3:\n",
    "    print(\" 3 es 3 \") #Bloque 2 de if\n",
    " # ___________________\n",
    "if 2 == 2:\n",
    "    print(2)\n",
    "else:\n",
    "    print(\"Segundo else\") #Bloque 3 de if"
   ]
  },
  {
   "cell_type": "code",
   "execution_count": 4,
   "metadata": {},
   "outputs": [],
   "source": [
    "#Sinónimos de false: none, false, 0, 0.0, cualquier colección vacía\n",
    "if None: #Sinónimo de False \n",
    "    print(\"Hola\")\n",
    "\n",
    "if (not (1==1)): #Le da la vuelta, es decir, es lo contrario de lo que hay\n",
    "    print(\"Hola\")"
   ]
  },
  {
   "cell_type": "code",
   "execution_count": 5,
   "metadata": {},
   "outputs": [
    {
     "output_type": "stream",
     "name": "stdout",
     "text": [
      "1\n"
     ]
    }
   ],
   "source": [
    "if not None: #La nada actua como falsa, todo lo que no sea nada va actuar como algo, es decir, True\n",
    "    print(\"1\")"
   ]
  },
  {
   "cell_type": "code",
   "execution_count": 8,
   "metadata": {},
   "outputs": [
    {
     "output_type": "stream",
     "name": "stdout",
     "text": [
      "2\n3\n"
     ]
    }
   ],
   "source": [
    "if 1: #El 1 es algo, por tanto True\n",
    "    print(2)\n",
    "if \"a\":\n",
    "    print(3)"
   ]
  },
  {
   "cell_type": "code",
   "execution_count": 10,
   "metadata": {},
   "outputs": [],
   "source": [
    "if 0:\n",
    "    print(0)"
   ]
  },
  {
   "cell_type": "code",
   "execution_count": 13,
   "metadata": {},
   "outputs": [],
   "source": [
    "lista = [] #Todas las listas vacías son False\n",
    "if lista:\n",
    "    print(4)"
   ]
  },
  {
   "cell_type": "code",
   "execution_count": 12,
   "metadata": {},
   "outputs": [
    {
     "output_type": "stream",
     "name": "stdout",
     "text": [
      "5\n"
     ]
    }
   ],
   "source": [
    "lista = []\n",
    "if not lista: #Al estar el not, le da la vuelta y lo convierte en True\n",
    "    print(5)"
   ]
  },
  {
   "cell_type": "code",
   "execution_count": 14,
   "metadata": {},
   "outputs": [
    {
     "output_type": "execute_result",
     "data": {
      "text/plain": [
       "1"
      ]
     },
     "metadata": {},
     "execution_count": 14
    }
   ],
   "source": [
    "x = True #Actua como 1\n",
    "y = False\n",
    "\n",
    "x + y"
   ]
  },
  {
   "cell_type": "code",
   "execution_count": 15,
   "metadata": {},
   "outputs": [
    {
     "output_type": "execute_result",
     "data": {
      "text/plain": [
       "'TrueFalse'"
      ]
     },
     "metadata": {},
     "execution_count": 15
    }
   ],
   "source": [
    "x = True #Actua como 1\n",
    "y = False\n",
    "\n",
    "str(x) + str(y)"
   ]
  },
  {
   "cell_type": "code",
   "execution_count": null,
   "metadata": {},
   "outputs": [],
   "source": [
    "#Colecciones\n",
    "#1. Listas\n",
    "#2. String (colección de caracteres)\n",
    "#1. Tuplas\n",
    "#1. Conjuntos (Set)"
   ]
  },
  {
   "cell_type": "code",
   "execution_count": 17,
   "metadata": {},
   "outputs": [
    {
     "output_type": "stream",
     "name": "stdout",
     "text": [
      "j\nj\n"
     ]
    }
   ],
   "source": [
    "#Lista --->Mutable\n",
    "lista = [2, 5, \"caract\", [9, \"g\",[\"j\"]]]\n",
    "print(lista[-1][-1][-1])\n",
    "print(lista[3][2][0])"
   ]
  },
  {
   "cell_type": "code",
   "execution_count": 44,
   "metadata": {},
   "outputs": [
    {
     "output_type": "stream",
     "name": "stdout",
     "text": [
      "<class 'list'>\n<class 'tuple'>\n"
     ]
    }
   ],
   "source": [
    "#Tupla --->NO mutable\n",
    "tupla = (2, 5, \"caract\", [9, \"g\",[\"j\"]]) #Diferencia en los parentesis\n",
    "print(type(lista))\n",
    "print(type(tupla))"
   ]
  },
  {
   "cell_type": "code",
   "execution_count": 45,
   "metadata": {},
   "outputs": [
    {
     "output_type": "execute_result",
     "data": {
      "text/plain": [
       "[9, 'g', ['j']]"
      ]
     },
     "metadata": {},
     "execution_count": 45
    }
   ],
   "source": [
    "tupla[3]"
   ]
  },
  {
   "cell_type": "code",
   "execution_count": 46,
   "metadata": {},
   "outputs": [
    {
     "output_type": "execute_result",
     "data": {
      "text/plain": [
       "(2, 5, 'caract', ['g', ['j']])"
      ]
     },
     "metadata": {},
     "execution_count": 46
    }
   ],
   "source": [
    "tupla[3].remove(9)\n",
    "tupla"
   ]
  },
  {
   "cell_type": "code",
   "execution_count": 49,
   "metadata": {},
   "outputs": [
    {
     "output_type": "execute_result",
     "data": {
      "text/plain": [
       "[2, '6', 0]"
      ]
     },
     "metadata": {},
     "execution_count": 49
    }
   ],
   "source": [
    "#Update listas --- cambiar un valor por otro (solo en listas, no en tupla)\n",
    "lista = [2, \"6\", [\"k\",\"m\"]]\n",
    "lista[2] = 0\n",
    "lista"
   ]
  },
  {
   "cell_type": "code",
   "execution_count": 51,
   "metadata": {},
   "outputs": [
    {
     "output_type": "execute_result",
     "data": {
      "text/plain": [
       "{2, 4, 6, 'a', 'h', 'z'}"
      ]
     },
     "metadata": {},
     "execution_count": 51
    }
   ],
   "source": [
    "#Conjuntos - No permiten entrar a sus elementos, ni modificarlos. Además los conjuntos eliminan los duplicados, es decir, que si tenemos dos números iguales elimina el primero.\n",
    "conjunto2 = [2, 4, 6, \"a\", \"z\", \"h\"]\n",
    "conjunto = set(conjunto2)\n",
    "conjunto"
   ]
  },
  {
   "cell_type": "code",
   "execution_count": 54,
   "metadata": {},
   "outputs": [
    {
     "output_type": "execute_result",
     "data": {
      "text/plain": [
       "{2, 4, 6, 'a', 'h', 'z'}"
      ]
     },
     "metadata": {},
     "execution_count": 54
    }
   ],
   "source": [
    "conjunto3 = [\"a\", \"z\", \"h\", 2, 4, 6] #Pone los numeros primero\n",
    "conjunto4 = set(conjunto3)\n",
    "conjunto4"
   ]
  },
  {
   "cell_type": "code",
   "execution_count": 55,
   "metadata": {},
   "outputs": [
    {
     "output_type": "execute_result",
     "data": {
      "text/plain": [
       "{2, 4, 6, False, True, 'a', 'h', 'z'}"
      ]
     },
     "metadata": {},
     "execution_count": 55
    }
   ],
   "source": [
    "conjunto_tupla = (\"a\", \"z\", \"h\", 2, 4, 6, True, False) #False true despues de numeros aunque sea tupla\n",
    "conjunto = set(conjunto_tupla)\n",
    "conjunto"
   ]
  },
  {
   "cell_type": "code",
   "execution_count": null,
   "metadata": {},
   "outputs": [],
   "source": [
    "co"
   ]
  }
 ]
}