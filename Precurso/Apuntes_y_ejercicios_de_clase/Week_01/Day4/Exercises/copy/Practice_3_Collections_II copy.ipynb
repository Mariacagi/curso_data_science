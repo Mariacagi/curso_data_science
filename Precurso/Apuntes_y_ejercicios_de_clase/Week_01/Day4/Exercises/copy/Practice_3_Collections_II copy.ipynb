{
 "cells": [
  {
   "cell_type": "markdown",
   "metadata": {},
   "source": [
    "# Python | day 3 | collections & if/else"
   ]
  },
  {
   "cell_type": "markdown",
   "metadata": {},
   "source": [
    "### Exercise 1. "
   ]
  },
  {
   "cell_type": "markdown",
   "metadata": {},
   "source": [
    "1. Create a variable called **num_bridge** with a value of 15."
   ]
  },
  {
   "cell_type": "code",
   "execution_count": 24,
   "metadata": {},
   "outputs": [],
   "source": [
    "#Intento 1\n",
    "num_bridge = 15"
   ]
  },
  {
   "cell_type": "markdown",
   "metadata": {},
   "source": [
    "2. Create a variable called **name_street** with the value \"Recoletos\".\n",
    "\n"
   ]
  },
  {
   "cell_type": "code",
   "execution_count": 25,
   "metadata": {},
   "outputs": [],
   "source": [
    "#Intento 1\n",
    "name_street = \"Recoletos\""
   ]
  },
  {
   "cell_type": "markdown",
   "metadata": {},
   "source": [
    "3. Create a variable called **personal_taste** which should be `True` if you like the beach better or `False` if you rather choose mountain. "
   ]
  },
  {
   "cell_type": "code",
   "execution_count": 26,
   "metadata": {},
   "outputs": [
    {
     "output_type": "stream",
     "name": "stdout",
     "text": [
      "False\n"
     ]
    }
   ],
   "source": [
    "#Intento 1\n",
    "personal_taste = \"like the mountain\"\n",
    "\n",
    "if personal_taste == \"like the beach\":\n",
    "    print(True)\n",
    "if personal_taste == \"like the mountain\":\n",
    "    print(False)\n",
    "\n",
    "#Intento 2\n",
    "personal_taste = False"
   ]
  },
  {
   "cell_type": "markdown",
   "metadata": {},
   "source": [
    "4. Create a variable called **nothing** like follows: `nothing = None`. `None`doesn't represent any value, something you should keep in mind if you do `if nothing:` then `nothing` acts as a boolean `False`. "
   ]
  },
  {
   "cell_type": "code",
   "execution_count": 27,
   "metadata": {},
   "outputs": [],
   "source": [
    "#Intento 1\n",
    "nothing = None\n",
    "if nothing:\n",
    "    print(False)"
   ]
  },
  {
   "cell_type": "markdown",
   "metadata": {},
   "source": [
    "5. Create a variable called **address_list**. This should be a list which contains the following: first element **name_street** and second element **num_bridge**. "
   ]
  },
  {
   "cell_type": "code",
   "execution_count": 28,
   "metadata": {},
   "outputs": [
    {
     "output_type": "stream",
     "name": "stdout",
     "text": [
      "['Recoletos', 15]\n"
     ]
    }
   ],
   "source": [
    "#Intento 1\n",
    "address_list = [ name_street, num_bridge]\n",
    "print(address_list)"
   ]
  },
  {
   "cell_type": "markdown",
   "metadata": {},
   "source": [
    "6. Create a variable called **sleep_hours** that should contains, as a string, the hours you've slept today."
   ]
  },
  {
   "cell_type": "code",
   "execution_count": 29,
   "metadata": {},
   "outputs": [],
   "source": [
    "sleep_hours = \"Eight hours\""
   ]
  },
  {
   "cell_type": "markdown",
   "metadata": {},
   "source": [
    "7. Create a list called **info_list** containing every variable you've just created in the order you have done it.\n",
    "\n",
    "```python\n",
    "len(info_list) == 6\n",
    "True\n",
    "```\n",
    "\n",
    "**IMPORTANT: you will use `info_list` at some point next week**"
   ]
  },
  {
   "cell_type": "code",
   "execution_count": 30,
   "metadata": {},
   "outputs": [
    {
     "output_type": "stream",
     "name": "stdout",
     "text": [
      "[15, 'Recoletos', False, None, ['Recoletos', 15], 'Eight hours']\nTrue\n"
     ]
    }
   ],
   "source": [
    "info_list = [num_bridge, name_street, personal_taste, nothing, address_list, sleep_hours]\n",
    "print(info_list)\n",
    "\n",
    "if len(info_list) == 6:\n",
    "    print (True)\n"
   ]
  },
  {
   "cell_type": "markdown",
   "metadata": {},
   "source": [
    "8. Run the following cell in order to delete every variable you've just created and keep **info_list** only.\n",
    "Print **info_list** once you've done it to check the list still exists."
   ]
  },
  {
   "cell_type": "code",
   "execution_count": 31,
   "metadata": {},
   "outputs": [],
   "source": [
    "#run this\n",
    "del num_bridge\n",
    "del name_street\n",
    "del personal_taste\n",
    "del nothing\n",
    "del address_list\n",
    "del sleep_hours"
   ]
  },
  {
   "cell_type": "code",
   "execution_count": 32,
   "metadata": {},
   "outputs": [
    {
     "output_type": "stream",
     "name": "stdout",
     "text": [
      "[15, 'Recoletos', False, None, ['Recoletos', 15], 'Eight hours']\n[15, 'Recoletos', False, None, ['Recoletos', 15], 'Eight hours']\n"
     ]
    }
   ],
   "source": [
    "#Intento 1\n",
    "print(info_list)\n",
    "\n",
    "#Intento 2\n",
    "#list.clear(info_list)\n",
    "#print (info_list)\n",
    "\n",
    "#Intento 3\n",
    "print(info_list)"
   ]
  },
  {
   "cell_type": "markdown",
   "metadata": {},
   "source": [
    "### Exercise 2."
   ]
  },
  {
   "cell_type": "markdown",
   "metadata": {},
   "source": [
    "You'll need `info_list` in order to continue with this exercise. Remember don't use any variable except `info_list`. \n",
    "\n",
    "Print the following. Don't use functions and/or loops. "
   ]
  },
  {
   "cell_type": "markdown",
   "metadata": {},
   "source": [
    " 1. Add the number of The Bridge and the hours you slept last night. "
   ]
  },
  {
   "cell_type": "code",
   "execution_count": 57,
   "metadata": {},
   "outputs": [
    {
     "output_type": "stream",
     "name": "stdout",
     "text": [
      "15\nRecoletos\nFalse\nNone\n['Recoletos', 15]\n15Eight hours\n"
     ]
    }
   ],
   "source": [
    "#Intento 1\n",
    "new_list = [str(number_the_bridge) + \" \" + slep_hours]\n",
    "print(new_list)\n",
    "\n",
    "#Intento 2\n",
    "for element in info_list:\n",
    "   str.[0]\n",
    "   sum([0][7])\n",
    "\n",
    "#Intento 3\n",
    "for x in info_list:\n",
    "    if x == 15:\n",
    "        break\n",
    "    print(x)\n",
    "\n",
    "for y in info_list:\n",
    "    if y == \"Eight hours\":\n",
    "        break\n",
    "    print(y)\n",
    "\n",
    "print(str(x) + y)"
   ]
  },
  {
   "cell_type": "markdown",
   "metadata": {},
   "source": [
    "2. Concatenate the number of The Bridge, the name of the street, your personal taste and the hours you slept. All of them should be separated by `\" --> \"`."
   ]
  },
  {
   "cell_type": "code",
   "execution_count": 62,
   "metadata": {},
   "outputs": [
    {
     "output_type": "stream",
     "name": "stdout",
     "text": [
      "15\n15\nRecoletos\n15 --> Eight hours --> Recoletos --> False\n"
     ]
    }
   ],
   "source": [
    "#Intento 1\n",
    "#signo = \" --> \"\n",
    "#lista_signo = [str(number_the_bridge) + signo + hours_slept + signo + personal_taste + signo + name_street]\n",
    "#print(lista_signo)\n",
    "\n",
    "#Intento 2\n",
    "#personal_taste = \"False\" #No entiendo por qué estas dos variables no me las coge, pero en el anterior ejercicio al sumar sí las coge\n",
    "#name_street = \"Recoletos\"\n",
    "\n",
    "#lista_signo = [str(number_the_bridge) + signo + hours_slept + signo + personal_taste + signo + name_street]\n",
    "#print(lista_signo)\n",
    "\n",
    "#Intento 3\n",
    "#lista_signo = [str(number_the_bridge) + hours_slept + personal_taste + name_street]\n",
    "#print(\" --> \".join(lista_signo))\n",
    "\n",
    "#Intento 4\n",
    "#lista_signo = [str(number_the_bridge) + signo + hours_slept + signo + personal_taste + signo + name_street]\n",
    "#print(lista_signo)\n",
    "\n",
    "#Intento 5\n",
    "#lista_signo = [str(number_the_bridge) + signo + hours_slept + signo + personal_taste + signo + name_street]\n",
    "#print (lista_signo, sep = \" --> \")\n",
    "\n",
    "#Intento 6\n",
    "for z in info_list:\n",
    "    if z == \"Recoletos\":\n",
    "        break\n",
    "    print(z)\n",
    "\n",
    "for w in info_list:\n",
    "    if w == False:\n",
    "        break\n",
    "    print(w)\n",
    "\n",
    "print(str(x), y, z, str(w), sep = \" --> \")\n"
   ]
  },
  {
   "cell_type": "markdown",
   "metadata": {},
   "source": [
    "3. Access to the list which is at the fourth position of **info_list** and print the result of: \n",
    "     - The concatenation of both elements contained in the list found in fourth position of **info_list**. \n",
    "     - The multiplication of the lenght of the list and the lenght of the street's name.\n",
    "    \n",
    "   If at the fourth position of **info_list** you don't find a list, go back to Exercise 1, please. "
   ]
  },
  {
   "cell_type": "code",
   "execution_count": 81,
   "metadata": {},
   "outputs": [
    {
     "output_type": "error",
     "ename": "SyntaxError",
     "evalue": "invalid syntax (<ipython-input-81-c5d3accec5e1>, line 3)",
     "traceback": [
      "\u001b[1;36m  File \u001b[1;32m\"<ipython-input-81-c5d3accec5e1>\"\u001b[1;36m, line \u001b[1;32m3\u001b[0m\n\u001b[1;33m    if m == ['Recoletos', 15]\u001b[0m\n\u001b[1;37m                             ^\u001b[0m\n\u001b[1;31mSyntaxError\u001b[0m\u001b[1;31m:\u001b[0m invalid syntax\n"
     ]
    }
   ],
   "source": [
    "#Intento 1\n",
    "for m in info_list:\n",
    "    if m == ['Recoletos', 15]\n",
    "    break\n",
    "print(m)\n",
    "\n",
    "for a in m:\n",
    "    if a = \"Recoletos\"\n",
    "    break\n",
    "print(a)\n",
    "\n",
    "for b in m:\n",
    "    if b = 15\n",
    "    break\n",
    "print(b)\n",
    "\n",
    "a + str(b)\n",
    "\n",
    "#Intento 1 multiplication\n",
    "len(info_list) * len(str(x))"
   ]
  },
  {
   "cell_type": "markdown",
   "metadata": {},
   "source": [
    "### Exercise 3."
   ]
  },
  {
   "cell_type": "markdown",
   "metadata": {},
   "source": [
    "1. Get user input using input(“Enter your age: ”). If user is 18 or older, give feedback: You are old enough to drive. If below 18 give feedback to wait for the missing amount of years."
   ]
  },
  {
   "cell_type": "code",
   "execution_count": 189,
   "metadata": {},
   "outputs": [
    {
     "output_type": "stream",
     "name": "stdout",
     "text": [
      "You are old enough to drive\n"
     ]
    }
   ],
   "source": [
    "#Intento 1\n",
    "age = input(\"Enter your age: \")\n",
    "if int(age) >= 18:\n",
    "    print(\"You are old enough to drive\")\n",
    "if int(age) < 18:\n",
    "    print(\"You have to wait for the missing amount of years\")"
   ]
  },
  {
   "cell_type": "markdown",
   "metadata": {},
   "source": [
    "2. Compare the values of **my_age** and **your_age** using if/else. Who is older (me or you)? Use input(“Enter your age: ”) to get **your_age** as input. **my_age** is always your age, cause you are the one coding the program. "
   ]
  },
  {
   "cell_type": "code",
   "execution_count": 190,
   "metadata": {},
   "outputs": [
    {
     "output_type": "stream",
     "name": "stdout",
     "text": [
      "Bye, bye, friend\n"
     ]
    }
   ],
   "source": [
    "#Intento 1\n",
    "your_age = input(\"Enter your age: \")\n",
    "my_age = input(\"Enter your age: \")\n",
    "\n",
    "if int(your_age) < int(my_age):\n",
    "    print(\"Hello friend\")\n",
    "if int(your_age) >= int(my_age):\n",
    "    print(\"Bye, bye, friend\")"
   ]
  },
  {
   "cell_type": "markdown",
   "metadata": {},
   "source": [
    "3. Get two numbers from the user using input prompt. If a is greater than b return \"a is greater than b\", if a is less b return \"a is smaller than b\", else \"a is equal to b\"."
   ]
  },
  {
   "cell_type": "code",
   "execution_count": 191,
   "metadata": {},
   "outputs": [
    {
     "output_type": "stream",
     "name": "stdout",
     "text": [
      "a is equal to b\n"
     ]
    }
   ],
   "source": [
    "#Intento 1\n",
    "a = input(\"Enter a number\")\n",
    "b= input(\"Enter a number\")\n",
    "\n",
    "\n",
    "if a > b:\n",
    "    print(\"a is greater than b\")\n",
    "if a < b:\n",
    "    print(\"a is smaller than b\")\n",
    "else:\n",
    "    print(\"a is equal to b\")"
   ]
  },
  {
   "cell_type": "markdown",
   "metadata": {},
   "source": [
    "### Bonus track. \n",
    "\n",
    "Learn about **for loop**\n",
    "\n",
    "Watch this video: https://www.youtube.com/watch?v=wxds6MAtUQ0\n",
    "\n",
    "Read this: https://www.w3schools.com/python/python_for_loops.asp\n",
    "\n",
    "You may need this to understand what the f*** you're doing: http://www.pythontutor.com/visualize.html#mode=edit"
   ]
  },
  {
   "cell_type": "markdown",
   "metadata": {},
   "source": [
    "Declare four variables: \n",
    "- A string variable containing your surname. \n",
    "- Two integers variables: one, with the number of the street in which you live, and two, the age of the classmate sitting on your right. \n",
    "    If you are on the right edge of the table, look for your classmate on your left.\n",
    "    If you are on remote, choose one of your mates who are on remote too. \n",
    "- A list containing the variables you have just declared."
   ]
  },
  {
   "cell_type": "code",
   "execution_count": 192,
   "metadata": {},
   "outputs": [
    {
     "output_type": "stream",
     "name": "stdout",
     "text": [
      "['Cagigas', 'Santamaría', 24, 44]\n"
     ]
    }
   ],
   "source": [
    "surname1 = \"Cagigas\"\n",
    "surname2 = \"Santamaría\"\n",
    "number_street = 24\n",
    "age_classmate = 44\n",
    "\n",
    "\n",
    "lista = [surname1, surname2, number_street, age_classmate]\n",
    "print(lista)"
   ]
  },
  {
   "cell_type": "markdown",
   "metadata": {},
   "source": [
    "Using a **for loop** print every element of the list you've just created. \n",
    "    \n"
   ]
  },
  {
   "cell_type": "code",
   "execution_count": 193,
   "metadata": {},
   "outputs": [
    {
     "output_type": "stream",
     "name": "stdout",
     "text": [
      "Cagigas\nSantamaría\n24\n44\n"
     ]
    }
   ],
   "source": [
    "for x in lista:\n",
    "    print(x)"
   ]
  },
  {
   "cell_type": "markdown",
   "metadata": {},
   "source": [
    "Using a **for loop** and a **if** make sure you only print the element in the list which is a string\n",
    "(Your surname). "
   ]
  },
  {
   "cell_type": "code",
   "execution_count": 194,
   "metadata": {},
   "outputs": [
    {
     "output_type": "stream",
     "name": "stdout",
     "text": [
      "Cagigas\n"
     ]
    }
   ],
   "source": [
    "for x in lista:\n",
    "    if x == \"Santamaría\":\n",
    "        break\n",
    "    print(x)"
   ]
  },
  {
   "cell_type": "markdown",
   "metadata": {},
   "source": [
    "**Well done!**"
   ]
  },
  {
   "cell_type": "markdown",
   "metadata": {},
   "source": [
    "### Bonus track of the bonus track.\n",
    "\n",
    "The following list contains some fruits:\n",
    "    \n",
    "`fruits = ['banana', 'orange', 'mango', 'lemon']`\n",
    "\n",
    "If a fruit doesn't exist in the list add the fruit to the list and print the modified list. If the fruit exists print('That fruit already exist in the list')"
   ]
  },
  {
   "cell_type": "code",
   "execution_count": 195,
   "metadata": {},
   "outputs": [
    {
     "output_type": "stream",
     "name": "stdout",
     "text": [
      "['banana', 'orange', 'mango', 'lemon', 'apple']\n"
     ]
    }
   ],
   "source": [
    "#Intento 1\n",
    "fruits = ['banana', 'orange', 'mango', 'lemon']\n",
    "\n",
    "if \"apple\" in fruits:\n",
    "    print(\"That fruit already exist in the list\")\n",
    "else:\n",
    "    fruits.append(\"apple\")\n",
    "    print(fruits)"
   ]
  },
  {
   "cell_type": "markdown",
   "metadata": {},
   "source": [
    "![\"hola\"](https://preview.redd.it/wk843smkri441.jpg?width=960&crop=smart&auto=webp&s=1a4d7a5ddeef38c03334d275afe3a9dd33866ce8)"
   ]
  },
  {
   "cell_type": "code",
   "execution_count": null,
   "metadata": {},
   "outputs": [],
   "source": []
  }
 ],
 "metadata": {
  "kernelspec": {
   "name": "python3",
   "display_name": "Python 3.9.0 64-bit",
   "metadata": {
    "interpreter": {
     "hash": "af698c02722c81864863429d928a3bd8a8dcc030c4156359d3ef8b980fb01319"
    }
   }
  },
  "language_info": {
   "codemirror_mode": {
    "name": "ipython",
    "version": 3
   },
   "file_extension": ".py",
   "mimetype": "text/x-python",
   "name": "python",
   "nbconvert_exporter": "python",
   "pygments_lexer": "ipython3",
   "version": "3.9.0-final"
  }
 },
 "nbformat": 4,
 "nbformat_minor": 4
}