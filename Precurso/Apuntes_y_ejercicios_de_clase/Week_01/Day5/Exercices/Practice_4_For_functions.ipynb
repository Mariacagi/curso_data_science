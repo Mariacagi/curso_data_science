{
 "cells": [
  {
   "cell_type": "markdown",
   "metadata": {},
   "source": [
    "# Python | day 4 | for loop, functions (feat. basics & if/else) "
   ]
  },
  {
   "cell_type": "markdown",
   "metadata": {},
   "source": [
    "### Exercise 0.1 - Python Basics\n",
    "\n",
    "1. What do we use to make a line break in a print? And for a tab stop?\n",
    "\n",
    "have a look ---> http://elclubdelautodidacta.es/wp/2012/04/python-capitulo-31-exprimiendo-la-funcion-print/"
   ]
  },
  {
   "cell_type": "code",
   "execution_count": 1,
   "metadata": {},
   "outputs": [
    {
     "output_type": "stream",
     "name": "stdout",
     "text": [
      "marisco\ncarne\nmarisco\tcarne\n"
     ]
    }
   ],
   "source": [
    "#Intento 1\n",
    "print(\"marisco\"); print(\"carne\")\n",
    "print(\"marisco\", \"carne\", sep=\"\\t\")\n"
   ]
  },
  {
   "cell_type": "markdown",
   "metadata": {},
   "source": [
    "2. Make a converter from dollars to euros. You'll have to use input."
   ]
  },
  {
   "cell_type": "code",
   "execution_count": 2,
   "metadata": {},
   "outputs": [
    {
     "output_type": "stream",
     "name": "stdout",
     "text": [
      "4.2\n"
     ]
    }
   ],
   "source": [
    "#Intento 1\n",
    "x= int(input(\"Dollar amount: \")) * 0.84\n",
    "print(x) "
   ]
  },
  {
   "cell_type": "markdown",
   "metadata": {},
   "source": [
    "3. Declare two strings, one will be your first name and the other your last name. Declare your age in another variable. Print a sentence which include those variables, using ```f{}```. Wtf is that? check this out **-->** https://realpython.com/python-string-formatting/"
   ]
  },
  {
   "cell_type": "code",
   "execution_count": 3,
   "metadata": {},
   "outputs": [
    {
     "output_type": "stream",
     "name": "stdout",
     "text": [
      "My name is María Cagigas and my age is 26.\n"
     ]
    }
   ],
   "source": [
    "#Intento 1\n",
    "name = input(\"Please, enter your name: \")\n",
    "last_name = input(\"Please, enter your last name: \")\n",
    "age = input(\"Please, enter your age: \")\n",
    "\n",
    "print(f\"My name is {name} {last_name} and my age is {age}.\")\n"
   ]
  },
  {
   "cell_type": "markdown",
   "metadata": {},
   "source": [
    "4. Given the list `[4,7, -3]`, calculate its maximum, minimum and sum."
   ]
  },
  {
   "cell_type": "code",
   "execution_count": 4,
   "metadata": {},
   "outputs": [
    {
     "output_type": "stream",
     "name": "stdout",
     "text": [
      "7\n-3\n8\n"
     ]
    }
   ],
   "source": [
    "#Intento 1\n",
    "lista14 = [4,7, -3]\n",
    "print(max(lista14))\n",
    "print(min(lista14))\n",
    "print(sum(lista14))"
   ]
  },
  {
   "cell_type": "markdown",
   "metadata": {},
   "source": [
    "5. Round `38.38276252728` to 5 decimal places.\n"
   ]
  },
  {
   "cell_type": "code",
   "execution_count": 5,
   "metadata": {},
   "outputs": [
    {
     "output_type": "execute_result",
     "data": {
      "text/plain": [
       "38.38276"
      ]
     },
     "metadata": {},
     "execution_count": 5
    }
   ],
   "source": [
    "#Intento 1\n",
    "round(38.38276252728, 5)"
   ]
  },
  {
   "cell_type": "markdown",
   "metadata": {},
   "source": [
    "6. Make the phrase `\"Born to be wild\"` uppercase, then lowercase, divide it by spaces, and finally, replace `\"wild\"` with `\"Geek.\"`"
   ]
  },
  {
   "cell_type": "code",
   "execution_count": 6,
   "metadata": {},
   "outputs": [
    {
     "output_type": "stream",
     "name": "stdout",
     "text": [
      "BORN TO BE WILD\nborn to be wild\nB o r n   t o   b e   w i l d\n['Born', 'to', 'be', 'wild']\n['Born', 'to', 'be', 'Geek']\nBorn to be Geek\n"
     ]
    }
   ],
   "source": [
    "#Intento 1\n",
    "phrase = \"Born to be wild\"\n",
    "print(phrase.upper())\n",
    "print(phrase.lower())\n",
    "\n",
    "z = \" \".join(phrase)\n",
    "print (z)\n",
    "\n",
    "\n",
    "y = phrase.split()\n",
    "print(y)\n",
    "y[-1] = \"Geek\"\n",
    "print(y)\n",
    "print(\" \".join(y))\n"
   ]
  },
  {
   "cell_type": "markdown",
   "metadata": {},
   "source": [
    "7. Create a program where two inputs are collected, and the output of the program is a boolean which tell the user whether those inputs are the same or not.\n"
   ]
  },
  {
   "source": [
    "a = input(\"Tell us a fruit\")\n",
    "b = input(\"Tell us a fruit\")\n",
    "\n",
    "print(a == b)"
   ],
   "cell_type": "code",
   "metadata": {},
   "execution_count": 7,
   "outputs": [
    {
     "output_type": "stream",
     "name": "stdout",
     "text": [
      "False\n"
     ]
    }
   ]
  },
  {
   "cell_type": "markdown",
   "metadata": {},
   "source": [
    "### Exercise 0.2 - If/else\n",
    "\n",
    "1. Create a decission tree using if/else sentences, to determine the price of the movies ticket. If the client's age is between 5 and 15 years, both included, the price will be 5, if she/he is retired and the movie is one of the `peliculas_discount`, the price is 4. In any other case, it will be 7 euros.\n",
    "\n",
    "You should create the list of `peliculas_discount` with your favourites movies. "
   ]
  },
  {
   "cell_type": "code",
   "execution_count": 8,
   "metadata": {},
   "outputs": [
    {
     "output_type": "stream",
     "name": "stdout",
     "text": [
      "The price of the ticket is 4 euros\n"
     ]
    }
   ],
   "source": [
    "age = input(\"Enter your age: \")\n",
    "movie = input(\"Enter the movie you want to watch: \")\n",
    "peliculas_discount = [\"Marte\", \"Tú a Londres y yo a California\", \"Grease\"]\n",
    "\n",
    "#Intento 1\n",
    "\"\"\"\n",
    " if int(age) >= 5 and int(age) <= 15:\n",
    "        print(\"The price of the ticket is 5 euros\")\n",
    "\n",
    "for c in peliculas_discount:\n",
    "    if c == movie:\n",
    "        print(\"The price of the ticket is 4 euros\")\n",
    "        break\n",
    "\n",
    "else:\n",
    "    print(\"The price of the ticket is 7 euros\")\n",
    "\n",
    "\"\"\"\n",
    "#Intento 2\n",
    "for c in peliculas_discount:\n",
    "    if c == movie:\n",
    "        print(\"The price of the ticket is 4 euros\")\n",
    "        break\n",
    "    if int(age) >= 5 and int(age) <= 15:\n",
    "        print(\"The price of the ticket is 5 euros\")\n",
    "\n",
    "else:\n",
    "    print(\"The price of the ticket is 7 euros\")"
   ]
  },
  {
   "cell_type": "markdown",
   "metadata": {},
   "source": [
    "### Exercise 1 - For\n",
    "\n",
    "If you find a way of solving any of these questions below without using for loop, don't hesitate to do it. "
   ]
  },
  {
   "cell_type": "markdown",
   "metadata": {},
   "source": [
    "1. Prints the numbers between 0 and 70 that are multiples of 3 and 5."
   ]
  },
  {
   "cell_type": "code",
   "execution_count": 9,
   "metadata": {},
   "outputs": [
    {
     "output_type": "stream",
     "name": "stdout",
     "text": [
      "The multiples of 3 are:  [3, 6, 9, 12, 15, 18, 21, 24, 27, 30, 33, 36, 39, 42, 45, 48, 51, 54, 57, 60, 63, 66, 69]\nThe multiples of 5 are:  [5, 10, 15, 20, 25, 30, 35, 40, 45, 50, 55, 60, 65, 70]\n"
     ]
    }
   ],
   "source": [
    "multiples_3 = []\n",
    "multiples_5 = []\n",
    "\n",
    "for i in range(1, 71):\n",
    "    if i % 3 == 0:\n",
    "        multiples_3.append(i)\n",
    "    \n",
    "    if i % 5 == 0:\n",
    "        multiples_5.append(i)\n",
    "        \n",
    "print(\"The multiples of 3 are: \", multiples_3)\n",
    "print(\"The multiples of 5 are: \", multiples_5)\n"
   ]
  },
  {
   "cell_type": "markdown",
   "metadata": {},
   "source": [
    "2. Print the following pattern:\n",
    "\n",
    "```python\n",
    "1\n",
    "22\n",
    "333\n",
    "4444\n",
    "55555\n",
    "666666\n",
    "7777777\n",
    "88888888\n",
    "999999999\n",
    "```\n"
   ]
  },
  {
   "cell_type": "code",
   "execution_count": 10,
   "metadata": {},
   "outputs": [
    {
     "output_type": "stream",
     "name": "stdout",
     "text": [
      "1\n22\n333\n4444\n55555\n666666\n7777777\n88888888\n999999999\n1\n22\n333\n4444\n55555\n666666\n7777777\n88888888\n999999999\n"
     ]
    }
   ],
   "source": [
    "#Intento 1\n",
    "\"\"\"\n",
    "for i in range(9):\n",
    "    i += 1\n",
    "    print(i) \n",
    "\"\"\"\n",
    "\n",
    "#Intento 2 #También es válido pero más complicado\n",
    "for i in range(1, 10):\n",
    "    for x in range(i):\n",
    "        print(i, end = '')\n",
    "    print()\n",
    "\n",
    "#Intento 3\n",
    "for i in range(1, 10):\n",
    "    print(str(i) * i)"
   ]
  },
  {
   "cell_type": "markdown",
   "metadata": {
    "collapsed": true
   },
   "source": [
    "3. Given to list of same lenght, create a third list which contains the sum of both of the list, element by element. "
   ]
  },
  {
   "cell_type": "markdown",
   "metadata": {},
   "source": [
    "```python\n",
    "Example: \n",
    "a = [1,2]\n",
    "b = [4,5]\n",
    "new_list = [5,7]\n",
    "```\n"
   ]
  },
  {
   "cell_type": "code",
   "execution_count": 11,
   "metadata": {},
   "outputs": [
    {
     "output_type": "stream",
     "name": "stdout",
     "text": [
      "[15, 27]\n"
     ]
    }
   ],
   "source": [
    "a = [5, 7]\n",
    "b = [10, 20]\n",
    "c = [int(a[0]) + int(b[0]), int(a[1]) + int(b[1])]\n",
    "print(c)"
   ]
  },
  {
   "cell_type": "markdown",
   "metadata": {},
   "source": [
    "4. Get first, second best scores from the list.\n",
    "List contains duplicates."
   ]
  },
  {
   "cell_type": "code",
   "execution_count": 12,
   "metadata": {},
   "outputs": [],
   "source": [
    "scores = [86,86,85,85,85,83,23,45,84,1,2,0]"
   ]
  },
  {
   "cell_type": "code",
   "execution_count": 13,
   "metadata": {},
   "outputs": [
    {
     "output_type": "stream",
     "name": "stdout",
     "text": [
      "{0, 1, 2, 45, 83, 84, 85, 86, 23}\n[0, 1, 2, 23, 45, 83, 84, 85, 86]\n86 85\n"
     ]
    }
   ],
   "source": [
    "#Intento 1\n",
    "scores_sin_duplicados = set(scores)\n",
    "print(scores_sin_duplicados)\n",
    "\n",
    "scores_ordenados = sorted(scores_sin_duplicados)\n",
    "print(scores_ordenados)\n",
    "\n",
    "print(scores_ordenados[-1], scores_ordenados[-2])"
   ]
  },
  {
   "cell_type": "markdown",
   "metadata": {},
   "source": [
    "5. From the given list:\n",
    "    \n",
    "    a) Create separate lists of strings and numbers.\n",
    "\n",
    "    b) Sort the strings' list in ascending order\n",
    "\n",
    "    c) Sort the strings' list in descending order\n",
    "\n",
    "    d) Sort the number's list from lowest to highest\n",
    "\n",
    "    e) Sort the number's list from highest to lowest"
   ]
  },
  {
   "cell_type": "code",
   "execution_count": 14,
   "metadata": {},
   "outputs": [],
   "source": [
    "gadgets = [\"Mobile\", \"Laptop\", 100, \"Camera\", 310.28, \"Speakers\", 27.00, \n",
    "           \"Television\", 1000, \"Laptop Case\", \"Camera Lens\"]"
   ]
  },
  {
   "cell_type": "code",
   "execution_count": 15,
   "metadata": {},
   "outputs": [
    {
     "output_type": "stream",
     "name": "stdout",
     "text": [
      "[100, 310.28, 27.0, 1000]\n['Mobile', 'Laptop', 'Camera', 'Speakers', 'Television', 'Laptop Case', 'Camera Lens']\n[27.0, 100, 310.28, 1000]\n[1000, 310.28, 100, 27.0]\n['Camera', 'Camera Lens', 'Laptop', 'Laptop Case', 'Mobile', 'Speakers', 'Television']\n['Television', 'Speakers', 'Mobile', 'Laptop Case', 'Laptop', 'Camera Lens', 'Camera']\n"
     ]
    }
   ],
   "source": [
    "#Intento 1.a\n",
    "\"\"\"\n",
    "lista_strings = []\n",
    "lista_int = []\n",
    "\n",
    "for strings in gadgets:\n",
    "    if strings == type(int):\n",
    "        lista_strings.append(strings)\n",
    "print(lista_strings)\n",
    "\"\"\"\n",
    "\n",
    "#Intento 2.a\n",
    "int_list = [x for x in gadgets\n",
    "            if isinstance(x, int) or isinstance(x, float)]\n",
    "print(int_list)\n",
    "\n",
    "\n",
    "str_list = [x for x in gadgets \n",
    "                if isinstance(x, str)]\n",
    "print(str_list)\n",
    "\n",
    "#Intento 1.b\n",
    "sort_int_list =  sorted(int_list)\n",
    "print(sort_int_list)\n",
    "\n",
    "#Intento 1.c\n",
    "sort_int_list.sort(reverse=True)\n",
    "print(sort_int_list)\n",
    "\n",
    "#Intento 1.def\n",
    "sort_str_list =  sorted(str_list)\n",
    "print(sort_str_list)\n",
    "\n",
    "#Intento 1.c\n",
    "sort_str_list.sort(reverse=True)\n",
    "print(sort_str_list)"
   ]
  },
  {
   "cell_type": "markdown",
   "metadata": {},
   "source": [
    "6. Make a list of ten aliens, each of which is one color: 'red', 'green', or 'blue'.\n",
    "    - You can shorten this to 'r', 'g', and 'b' if you want, but if you choose this option you have to include a comment explaining what r, g, and b stand for.\n",
    "    - Red aliens are worth 5 points, green aliens are worth 10 points, and blue aliens are worth 20 points.\n",
    "    - Use a for loop to determine the number of points a player would earn for destroying all of the aliens in your list."
   ]
  },
  {
   "cell_type": "code",
   "execution_count": 16,
   "metadata": {},
   "outputs": [
    {
     "output_type": "stream",
     "name": "stdout",
     "text": [
      "115\n"
     ]
    }
   ],
   "source": [
    "#Intento 1\n",
    "\n",
    "alien1 = \"Red\"\n",
    "alien2 = \"Red\"\n",
    "alien3 = \"Red\"\n",
    "alien4 = \"Blue\"\n",
    "alien5 = \"Blue\"\n",
    "alien6 = \"Blue\"\n",
    "alien7 = \"Green\"\n",
    "alien8 = \"Green\"\n",
    "alien9 = \"Green\"\n",
    "alien10 = \"Green\"\n",
    "\n",
    "aliens = [alien1 , alien2, alien3, alien4, alien5, alien6, alien7, alien8, alien9, alien10]\n",
    "points = []\n",
    "\n",
    "for a in aliens:\n",
    "    if a == \"Green\":\n",
    "        points.append(10)\n",
    "    if a == \"Blue\":\n",
    "        points.append(20)\n",
    "    if a == \"Red\":\n",
    "        points.append(5)\n",
    "\n",
    "print(sum(points))"
   ]
  },
  {
   "cell_type": "markdown",
   "metadata": {},
   "source": [
    "### Exercise 2 - Functions"
   ]
  },
  {
   "cell_type": "markdown",
   "metadata": {},
   "source": [
    "1. Write a function program to sum up two given different numbers. "
   ]
  },
  {
   "cell_type": "code",
   "execution_count": 17,
   "metadata": {},
   "outputs": [
    {
     "output_type": "stream",
     "name": "stdout",
     "text": [
      "15\n"
     ]
    }
   ],
   "source": [
    "a = input(\"Enter a number: \")\n",
    "b = input(\"Enter a second number: \")\n",
    "\n",
    "results = int(a) + int(b)\n",
    "print(results)"
   ]
  },
  {
   "cell_type": "markdown",
   "metadata": {},
   "source": [
    "2. Write a Python program to convert a tuple of characters into a string.\n",
    "\n",
    "    - Sample tuple: `(\"T\", \"H\", \"E\", \" \", \"B\", \"R\", \"I\", \"D\", \"G\", \"E\")`\n",
    "    - Expected output : `\"THE BRIDGE\"`\n",
    "    \n",
    "Hint: Turn it into a list. "
   ]
  },
  {
   "cell_type": "code",
   "execution_count": 18,
   "metadata": {},
   "outputs": [
    {
     "output_type": "stream",
     "name": "stdout",
     "text": [
      "('H', 'O', 'L', 'A')\n'HOLA'"
     ]
    }
   ],
   "source": [
    "tupla = (input(\"Enter a letter\"), input(\"Enter a letter\"), input(\"Enter a letter\"), input(\"Enter a letter\"))\n",
    "print(tupla)\n",
    "\n",
    "cambio = list(tupla)\n",
    "z = \"\".join(cambio)\n",
    "print(\"'\" + z, end=\"'\")"
   ]
  },
  {
   "cell_type": "markdown",
   "metadata": {},
   "source": [
    "3. Write a Python program to generate a list where the values are square of numbers between 1 and 30 (both included), and return a list of first and last 5 elements of the list."
   ]
  },
  {
   "cell_type": "code",
   "execution_count": 19,
   "metadata": {},
   "outputs": [
    {
     "output_type": "stream",
     "name": "stdout",
     "text": [
      "[1, 4, 9, 16, 25, 36, 49, 64, 81, 100, 121, 144, 169, 196, 225, 256, 289, 324, 361, 400, 441, 484, 529, 576, 625, 676, 729, 784, 841, 900]\n"
     ]
    },
    {
     "output_type": "execute_result",
     "data": {
      "text/plain": [
       "[1, 900]"
      ]
     },
     "metadata": {},
     "execution_count": 19
    }
   ],
   "source": [
    "lista = []\n",
    "def cuadrado(l):\n",
    "    for x in range(1, 31):\n",
    "        lista.append(x*x)\n",
    "\n",
    "cuadrado(l=lista)\n",
    "print(lista)\n",
    "\n",
    "lista2 = [lista[0], lista[-1]]\n",
    "lista2"
   ]
  },
  {
   "cell_type": "markdown",
   "metadata": {},
   "source": [
    "4. Create a Python program that calculates the factorial of a number.\n",
    "\n",
    "The program will ask the user to enter a number (input) and will return the factorial of that number."
   ]
  },
  {
   "cell_type": "code",
   "execution_count": 20,
   "metadata": {},
   "outputs": [
    {
     "output_type": "stream",
     "name": "stdout",
     "text": [
      "The factorial of 3 is 6\n"
     ]
    }
   ],
   "source": [
    "num = int(input(\"Enter a number: \"))\n",
    "factorial = 1\n",
    "if num < 0:\n",
    "   print(\"Sorry, factorial does not exist for negative numbers\")\n",
    "elif num == 0:\n",
    "   print(\"The factorial of 0 is 1\")\n",
    "else:\n",
    "   for i in range(1,num + 1):\n",
    "       factorial = factorial*i\n",
    "   print(\"The factorial of\",num,\"is\",factorial)"
   ]
  },
  {
   "cell_type": "markdown",
   "metadata": {},
   "source": [
    "5. Create a program that calculates the average.\n",
    "\n",
    "The program will ask the user to specify how many numbers you want to enter, and will show a prompt to include number by number to a list, and then calculate the average of each number in that list."
   ]
  },
  {
   "cell_type": "code",
   "execution_count": 21,
   "metadata": {},
   "outputs": [
    {
     "output_type": "stream",
     "name": "stdout",
     "text": [
      "Average of  3  numbers is : 2.0\n"
     ]
    }
   ],
   "source": [
    "num = int(input('How many numbers: '))\n",
    "total_sum = 0\n",
    "for n in range(num):\n",
    "    numbers = float(input('Enter number : '))\n",
    "    total_sum += numbers\n",
    "avg = total_sum/num\n",
    "print('Average of ', num, ' numbers is :', avg)"
   ]
  },
  {
   "cell_type": "markdown",
   "metadata": {},
   "source": [
    "# If you made it till here you did a fantastic work!"
   ]
  },
  {
   "cell_type": "markdown",
   "metadata": {},
   "source": [
    "![\"holo\"](https://img-9gag-fun.9cache.com/photo/aNg9wMK_460s.jpg)"
   ]
  },
  {
   "cell_type": "code",
   "execution_count": null,
   "metadata": {},
   "outputs": [],
   "source": []
  }
 ],
 "metadata": {
  "kernelspec": {
   "name": "python3",
   "display_name": "Python 3.9.0 64-bit",
   "metadata": {
    "interpreter": {
     "hash": "af698c02722c81864863429d928a3bd8a8dcc030c4156359d3ef8b980fb01319"
    }
   }
  },
  "language_info": {
   "codemirror_mode": {
    "name": "ipython",
    "version": 3
   },
   "file_extension": ".py",
   "mimetype": "text/x-python",
   "name": "python",
   "nbconvert_exporter": "python",
   "pygments_lexer": "ipython3",
   "version": "3.9.0-final"
  }
 },
 "nbformat": 4,
 "nbformat_minor": 4
}