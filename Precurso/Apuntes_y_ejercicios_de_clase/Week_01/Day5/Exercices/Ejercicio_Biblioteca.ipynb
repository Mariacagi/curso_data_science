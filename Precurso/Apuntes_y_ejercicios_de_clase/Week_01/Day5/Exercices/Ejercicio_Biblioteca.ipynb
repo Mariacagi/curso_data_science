{
 "cells": [
  {
   "cell_type": "markdown",
   "metadata": {},
   "source": [
    "# Ejercicio La Biblioteca | Repaso Week 1\n",
    "## Precurso DSNov20 - The Bridge\n",
    "\n",
    "La versión original de esta Práctica es en español por lo que respetaremos sus orígenes y a su autora, Clara Piniella, y lo dejaremos en este idioma. Disculpen las molestias que esto pudiera ocasionarle como estudiante. "
   ]
  },
  {
   "cell_type": "markdown",
   "metadata": {},
   "source": [
    "![biblioteca](https://static2.abc.es/media/familia/2018/11/02/AdobeStock_210538561-kJTF--620x349@abc.jpg)"
   ]
  },
  {
   "cell_type": "markdown",
   "metadata": {},
   "source": [
    "Es tu primer día de trabajo en la Biblioteca de tu barrio y ya tienes tu primera tarea. Te acaban de pasar una lista con libros y la lista de unidades disponibles."
   ]
  },
  {
   "cell_type": "code",
   "execution_count": 1,
   "metadata": {},
   "outputs": [],
   "source": [
    "libros = [\"El mal de Corcira\", \"Un mundo feliz\", \"Lolita\", \"Crimen y castigo\", \"Python from for to pro\",\\\n",
    "          \"El señor de los anillos\", \"Cien años de soledad\", \"Harry Potter\", \"Lectura Fácil\", \"Seda\",\\\n",
    "          \"La chica de nieve\", \"El día que se perdió la cordura\", \"Data Science\"]"
   ]
  },
  {
   "cell_type": "code",
   "execution_count": 2,
   "metadata": {},
   "outputs": [],
   "source": [
    "biblioteca = [(\"El mal de Corcira\",4),(\"Un mundo feliz\", 2),(\"Lolita\", 5),\\\n",
    "              (\"Crimen y castigo\",2),(\"Python from for to pro\", 0),(\"El señor de los anillos\", 6),\\\n",
    "              (\"Cien años de soledad\", 5),(\"Harry Potter\", 9),(\"Lectura Fácil\", 4),(\"Seda\", 2),\\\n",
    "              (\"La chica de nieve\", 6),(\"El día que se perdió la cordura\", 3), (\"Data Science\", 0)]"
   ]
  },
  {
   "cell_type": "markdown",
   "metadata": {},
   "source": [
    "1. ¿Cuántos títulos diferentes tienen en esta biblioteca?"
   ]
  },
  {
   "cell_type": "code",
   "execution_count": 3,
   "metadata": {},
   "outputs": [
    {
     "output_type": "stream",
     "name": "stdout",
     "text": [
      "13\n"
     ]
    }
   ],
   "source": [
    "#your code here\n",
    "print(len(libros))"
   ]
  },
  {
   "cell_type": "markdown",
   "metadata": {},
   "source": [
    "2. ¿Cuántas letras componen la palabra *Seda*? "
   ]
  },
  {
   "cell_type": "code",
   "execution_count": 4,
   "metadata": {},
   "outputs": [
    {
     "output_type": "stream",
     "name": "stdout",
     "text": [
      "4\n"
     ]
    }
   ],
   "source": [
    "#your code here\n",
    "#Intento 1\n",
    "x = \"seda\"\n",
    "print(len(x))"
   ]
  },
  {
   "cell_type": "markdown",
   "metadata": {},
   "source": [
    "3. ¿Cuántas unidades hay del libro *Seda*?"
   ]
  },
  {
   "cell_type": "code",
   "execution_count": 5,
   "metadata": {},
   "outputs": [
    {
     "output_type": "stream",
     "name": "stdout",
     "text": [
      "2\n"
     ]
    }
   ],
   "source": [
    "#your code here\n",
    "#Intento 1\n",
    "\"\"\"\n",
    "for x in biblioteca:\n",
    "    for y in x:\n",
    "        if y == \"Seda\":\n",
    "            print(x)\n",
    "\"\"\"\n",
    "#Intento 2\n",
    "for x in biblioteca:\n",
    "    for y in x:          \n",
    "        if y == \"Seda\":\n",
    "            print(x[1])"
   ]
  },
  {
   "cell_type": "markdown",
   "metadata": {},
   "source": [
    "4. Quien registraba los libros antes de ti dejo pendiente de añadir a la lista **libros** la variable **pendiente**, además debió confundir el famoso libro de George Orwell *1984*, con un número, asignándolo como un integer.\n",
    "¿Puedes cambiarlo y pasar a string este elemento y añadirlo a **libros**?"
   ]
  },
  {
   "cell_type": "code",
   "execution_count": 6,
   "metadata": {},
   "outputs": [],
   "source": [
    "pendiente = 1984"
   ]
  },
  {
   "cell_type": "code",
   "execution_count": 7,
   "metadata": {},
   "outputs": [
    {
     "output_type": "stream",
     "name": "stdout",
     "text": [
      "['El mal de Corcira', 'Un mundo feliz', 'Lolita', 'Crimen y castigo', 'Python from for to pro', 'El señor de los anillos', 'Cien años de soledad', 'Harry Potter', 'Lectura Fácil', 'Seda', 'La chica de nieve', 'El día que se perdió la cordura', 'Data Science', '1984']\n"
     ]
    }
   ],
   "source": [
    "#your code here\n",
    "#Intento 1\n",
    "libros.append(str(pendiente))\n",
    "print(libros)"
   ]
  },
  {
   "cell_type": "markdown",
   "metadata": {},
   "source": [
    "5. Te piden que añadas a esta lista el nuevo libro de Los Juegos del hambre que se titula *Balada de pájaros cantores y serpientes*. Has contado las unidades y han llegado 10. \n",
    "\n",
    "    a. Crea una variable con el título del libro, que se llame **libro_1**. Añade este elemento a la lista **libros**.\n",
    "\n",
    "    b. Crea una variable con el número de unidades, que se llame **uds_1**.\n",
    "\n",
    "    c. Crea una variable que sea una lista llamada **nuevo_libro** en el que su primer elemento sea **libro_1** y el segundo **uds_1**. \n",
    "\n",
    "    d. Convierte a **nuevo_libro** a tupla.\n",
    "    (muestra qué tipo es ahora esta variable)\n",
    "\n",
    "    e. Añade **nuevo_libro** a la lista **biblioteca** "
   ]
  },
  {
   "cell_type": "code",
   "execution_count": 8,
   "metadata": {},
   "outputs": [
    {
     "output_type": "stream",
     "name": "stdout",
     "text": [
      "['El mal de Corcira', 'Un mundo feliz', 'Lolita', 'Crimen y castigo', 'Python from for to pro', 'El señor de los anillos', 'Cien años de soledad', 'Harry Potter', 'Lectura Fácil', 'Seda', 'La chica de nieve', 'El día que se perdió la cordura', 'Data Science', '1984', 'Balada de pájaros cantores y serpientes']\n['Balada de pájaros cantores y serpientes', 10]\n<class 'tuple'>\n[('El mal de Corcira', 4), ('Un mundo feliz', 2), ('Lolita', 5), ('Crimen y castigo', 2), ('Python from for to pro', 0), ('El señor de los anillos', 6), ('Cien años de soledad', 5), ('Harry Potter', 9), ('Lectura Fácil', 4), ('Seda', 2), ('La chica de nieve', 6), ('El día que se perdió la cordura', 3), ('Data Science', 0), ('Balada de pájaros cantores y serpientes', 10)]\n"
     ]
    }
   ],
   "source": [
    "#your code here\n",
    "#Intento 1.a\n",
    "libro_1 = \"Balada de pájaros cantores y serpientes\"\n",
    "libros.append(libro_1)\n",
    "print(libros)\n",
    "\n",
    "#Intento 1.b\n",
    "uds_1 = 10\n",
    "\n",
    "#Intento 1.c\n",
    "nuevo_libro = [libro_1, uds_1]\n",
    "print(nuevo_libro)\n",
    "\n",
    "#Intento 1.d\n",
    "\"\"\"\n",
    "tuple(nuevo_libro)\n",
    "print(type(nuevo_libro))\n",
    "\"\"\"\n",
    "#Intento 2.d\n",
    "nuevo_libro2 = tuple(nuevo_libro)\n",
    "print(type(nuevo_libro2))\n",
    "\n",
    "#Intento 1.e\n",
    "biblioteca.append(nuevo_libro2)\n",
    "print(biblioteca)\n"
   ]
  },
  {
   "cell_type": "markdown",
   "metadata": {},
   "source": [
    "6. Acaban de traer una unidad más de *El mal de Corcira*, añade una unidad más al segundo elemento del primer elemento de la lista **biblioteca**."
   ]
  },
  {
   "cell_type": "code",
   "execution_count": 9,
   "metadata": {},
   "outputs": [
    {
     "output_type": "execute_result",
     "data": {
      "text/plain": [
       "('El mal de Corcira', 4)"
      ]
     },
     "metadata": {},
     "execution_count": 9
    }
   ],
   "source": [
    "biblioteca[0]"
   ]
  },
  {
   "cell_type": "code",
   "execution_count": 10,
   "metadata": {},
   "outputs": [
    {
     "output_type": "execute_result",
     "data": {
      "text/plain": [
       "4"
      ]
     },
     "metadata": {},
     "execution_count": 10
    }
   ],
   "source": [
    "biblioteca[0][1]"
   ]
  },
  {
   "cell_type": "code",
   "execution_count": 11,
   "metadata": {},
   "outputs": [
    {
     "output_type": "error",
     "ename": "TypeError",
     "evalue": "'tuple' object does not support item assignment",
     "traceback": [
      "\u001b[1;31m---------------------------------------------------------------------------\u001b[0m",
      "\u001b[1;31mTypeError\u001b[0m                                 Traceback (most recent call last)",
      "\u001b[1;32m<ipython-input-11-8a7bcc0d7ddc>\u001b[0m in \u001b[0;36m<module>\u001b[1;34m\u001b[0m\n\u001b[1;32m----> 1\u001b[1;33m \u001b[0mbiblioteca\u001b[0m\u001b[1;33m[\u001b[0m\u001b[1;36m0\u001b[0m\u001b[1;33m]\u001b[0m\u001b[1;33m[\u001b[0m\u001b[1;36m1\u001b[0m\u001b[1;33m]\u001b[0m \u001b[1;33m=\u001b[0m \u001b[0mbiblioteca\u001b[0m\u001b[1;33m[\u001b[0m\u001b[1;36m0\u001b[0m\u001b[1;33m]\u001b[0m\u001b[1;33m[\u001b[0m\u001b[1;36m1\u001b[0m\u001b[1;33m]\u001b[0m \u001b[1;33m-\u001b[0m \u001b[1;36m1\u001b[0m\u001b[1;33m\u001b[0m\u001b[1;33m\u001b[0m\u001b[0m\n\u001b[0m",
      "\u001b[1;31mTypeError\u001b[0m: 'tuple' object does not support item assignment"
     ]
    }
   ],
   "source": [
    "biblioteca[0][1] = biblioteca[0][1] - 1"
   ]
  },
  {
   "cell_type": "markdown",
   "metadata": {},
   "source": [
    "¿Cómo se te ocurre que podrías alterar este dato?"
   ]
  },
  {
   "cell_type": "code",
   "execution_count": 12,
   "metadata": {},
   "outputs": [
    {
     "output_type": "stream",
     "name": "stdout",
     "text": [
      "['El mal de Corcira', 5]\n"
     ]
    }
   ],
   "source": [
    "#your comment here\n",
    "\n",
    "libro_corcira = list(biblioteca[0])\n",
    "libro_corcira[1] += 1\n",
    "print(libro_corcira)"
   ]
  },
  {
   "cell_type": "markdown",
   "metadata": {},
   "source": [
    "Convierte la tupla en una lista para poder modificar el segundo elemento y añadir esta unidad. Asigna la tupla convertida a lista a la variable **tup_to_list** haz los cambios, agrega la unidad y vuelve a añadir la lista ya convertida en tupla a la lista **biblioteca**."
   ]
  },
  {
   "cell_type": "code",
   "execution_count": 13,
   "metadata": {},
   "outputs": [
    {
     "output_type": "stream",
     "name": "stdout",
     "text": [
      "[('El mal de Corcira', 5), ('Un mundo feliz', 2), ('Lolita', 5), ('Crimen y castigo', 2), ('Python from for to pro', 0), ('El señor de los anillos', 6), ('Cien años de soledad', 5), ('Harry Potter', 9), ('Lectura Fácil', 4), ('Seda', 2), ('La chica de nieve', 6), ('El día que se perdió la cordura', 3), ('Data Science', 0), ('Balada de pájaros cantores y serpientes', 10)]\n"
     ]
    }
   ],
   "source": [
    "#your code here\n",
    "libro_corcira2 = tuple(libro_corcira)\n",
    "biblioteca[0] = libro_corcira2\n",
    "print(biblioteca)"
   ]
  },
  {
   "cell_type": "markdown",
   "metadata": {},
   "source": [
    "Ahora, tenemos dos tuplas con el libro *El mal de Corcira*, pero esto no es lo que queremos. Elimina el primer elemento de la lista **biblioteca**.\n",
    "\n",
    "Hint: https://www.programiz.com/python-programming/methods/list/remove"
   ]
  },
  {
   "cell_type": "code",
   "execution_count": 13,
   "metadata": {},
   "outputs": [],
   "source": [
    "#your code here\n",
    "#Respuesta en el anterior apartado"
   ]
  },
  {
   "cell_type": "markdown",
   "metadata": {},
   "source": [
    "7. Te han pedido que localices los títulos de los libros de los que no disponen de unidades. Es decir, su segundo elemento, es igual a 0. "
   ]
  },
  {
   "cell_type": "code",
   "execution_count": 14,
   "metadata": {},
   "outputs": [
    {
     "output_type": "stream",
     "name": "stdout",
     "text": [
      "Python from for to pro\nData Science\n"
     ]
    }
   ],
   "source": [
    "#your code here\n",
    "for x in biblioteca:\n",
    "    for y in x:          \n",
    "        if x[1] == 0 :\n",
    "            print(y)\n",
    "            break\n"
   ]
  },
  {
   "cell_type": "markdown",
   "metadata": {},
   "source": [
    "8. ¿Cómo meterías estos dos elementos en una lista llamada **missing**?"
   ]
  },
  {
   "cell_type": "code",
   "execution_count": 15,
   "metadata": {},
   "outputs": [
    {
     "output_type": "stream",
     "name": "stdout",
     "text": [
      "['Python from for to pro', 'Data Science']\n"
     ]
    }
   ],
   "source": [
    "#your code here\n",
    "lista = []\n",
    "missing = lista #si pongo la variable directamente como missing me devuelve la lista vacía, no se por qué, asi que lo he solucionado haciendo otra variable por el medio\n",
    "for x in biblioteca:\n",
    "    for y in x:          \n",
    "        if x[1] == 0 :\n",
    "            lista.append(y)\n",
    "            break\n",
    "print(missing)"
   ]
  },
  {
   "cell_type": "code",
   "execution_count": null,
   "metadata": {},
   "outputs": [],
   "source": []
  }
 ],
 "metadata": {
  "kernelspec": {
   "name": "python3",
   "display_name": "Python 3.9.0 64-bit",
   "metadata": {
    "interpreter": {
     "hash": "af698c02722c81864863429d928a3bd8a8dcc030c4156359d3ef8b980fb01319"
    }
   }
  },
  "language_info": {
   "codemirror_mode": {
    "name": "ipython",
    "version": 3
   },
   "file_extension": ".py",
   "mimetype": "text/x-python",
   "name": "python",
   "nbconvert_exporter": "python",
   "pygments_lexer": "ipython3",
   "version": "3.9.0-final"
  }
 },
 "nbformat": 4,
 "nbformat_minor": 4
}