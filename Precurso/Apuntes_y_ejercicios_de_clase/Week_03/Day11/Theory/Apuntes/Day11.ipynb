{
 "metadata": {
  "language_info": {
   "codemirror_mode": {
    "name": "ipython",
    "version": 3
   },
   "file_extension": ".py",
   "mimetype": "text/x-python",
   "name": "python",
   "nbconvert_exporter": "python",
   "pygments_lexer": "ipython3",
   "version": "3.9.0-final"
  },
  "orig_nbformat": 2,
  "kernelspec": {
   "name": "python3",
   "display_name": "Python 3.9.0 64-bit",
   "metadata": {
    "interpreter": {
     "hash": "af698c02722c81864863429d928a3bd8a8dcc030c4156359d3ef8b980fb01319"
    }
   }
  }
 },
 "nbformat": 4,
 "nbformat_minor": 2,
 "cells": [
  {
   "cell_type": "code",
   "execution_count": 1,
   "metadata": {},
   "outputs": [
    {
     "output_type": "stream",
     "name": "stdout",
     "text": [
      "[0]\n[0, 1]\n[0, 1, 2]\n[0, 1, 2, 3]\n[0, 1, 2, 3, 4]\n[0, 1, 2, 3, 4, 5]\n"
     ]
    }
   ],
   "source": [
    "#Para mostrar hasta 5\n",
    "l = []\n",
    "for i in range(6):\n",
    "    l.append(i)\n",
    "    print(l)"
   ]
  },
  {
   "cell_type": "code",
   "execution_count": 3,
   "metadata": {},
   "outputs": [
    {
     "output_type": "execute_result",
     "data": {
      "text/plain": [
       "[0, 1, 2, 3, 4, 5]"
      ]
     },
     "metadata": {},
     "execution_count": 3
    }
   ],
   "source": [
    "#Para mostrar hasta 5 en list comprehension\n",
    "lc = [i for i in range(6)]\n",
    "lc"
   ]
  },
  {
   "cell_type": "code",
   "execution_count": null,
   "metadata": {},
   "outputs": [],
   "source": [
    "#List comprehension siempre crea una lista vacía que se va a rellenar con la list comprehension"
   ]
  },
  {
   "cell_type": "code",
   "execution_count": 4,
   "metadata": {},
   "outputs": [
    {
     "output_type": "stream",
     "name": "stdout",
     "text": [
      "[0, 1, 2, 3, 4, 5]\n"
     ]
    }
   ],
   "source": [
    "def fn(k=None):\n",
    "    if k: #Aqui estamos comparando que el valor de k sea True, 1 == 1 o cualquier valor que no sea cero. No es True porque el valor de k es None. \n",
    "        return []\n",
    "    else: #None, False, 0 \n",
    "        return [i for i in range(6)]\n",
    "\n",
    "p = fn() #No nencesita porque ya tiene un valor (None)\n",
    "print(p)"
   ]
  },
  {
   "cell_type": "code",
   "execution_count": 8,
   "metadata": {},
   "outputs": [
    {
     "output_type": "execute_result",
     "data": {
      "text/plain": [
       "[6, 7, 8, 9]"
      ]
     },
     "metadata": {},
     "execution_count": 8
    }
   ],
   "source": [
    "def ct (val):\n",
    "    if val > 5:\n",
    "        return True\n",
    "    else:\n",
    "        return False\n",
    "lc = [x for x in range(10) if ct(val=x)] #Es lo mismo que poner [x for x in range(10) if x > 5]\n",
    "lc"
   ]
  },
  {
   "cell_type": "code",
   "execution_count": 7,
   "metadata": {},
   "outputs": [
    {
     "output_type": "stream",
     "name": "stdout",
     "text": [
      "Menor que 5\nMenor que 5\nMenor que 5\nMenor que 5\nMenor que 5\nMenor que 5\n"
     ]
    }
   ],
   "source": [
    "for i in range (6):\n",
    "    if ct(val=i): #Esto es false\n",
    "        print(\"Mayor que 5\")\n",
    "    else:\n",
    "        print(\"Menor que 5\")"
   ]
  },
  {
   "cell_type": "code",
   "execution_count": 20,
   "metadata": {},
   "outputs": [],
   "source": [
    "def ct(val, limite):\n",
    "    a_retornar = False #Es otra forma de poner else: return False\n",
    "    if val > limite:\n",
    "        return True\n",
    "    return a_retornar"
   ]
  },
  {
   "cell_type": "code",
   "execution_count": 21,
   "metadata": {},
   "outputs": [
    {
     "output_type": "stream",
     "name": "stdout",
     "text": [
      "[0, 1, 2, 3, 4, 5, 6, 7, 8]\n"
     ]
    }
   ],
   "source": [
    "def main(lista, limite):\n",
    "    for x in lista:\n",
    "        if ct(val=x, limite=limite):\n",
    "            return [i for i in range(x)] #Esto es lo mismo que poner list(range(9))\n",
    "\n",
    "l = list(range(10))\n",
    "limite = 8\n",
    "print(main(lista=l, limite=limite))"
   ]
  },
  {
   "cell_type": "code",
   "execution_count": 22,
   "metadata": {},
   "outputs": [
    {
     "output_type": "stream",
     "name": "stdout",
     "text": [
      "[0, 1, 2, 3, 4]\n"
     ]
    }
   ],
   "source": [
    "def main(lista, limite):\n",
    "    for x in lista:\n",
    "        if ct(val=x, limite=limite):\n",
    "            return [i for i in range(x) if i<5]\n",
    "\n",
    "l = list(range(10))\n",
    "limite = 8\n",
    "print(main(lista=l, limite=limite))"
   ]
  },
  {
   "cell_type": "code",
   "execution_count": null,
   "metadata": {},
   "outputs": [],
   "source": [
    "#Para comprobar los tipos de todos los elementos y agregar los números a una lista\n",
    "\n",
    "l = [\"st\", 2, [0.1, 1], (8, 2), {2:\"valor\"}, {9, \"s\"}]\n",
    "lista_numerica = []\n",
    "\n",
    "for x in l:\n",
    "   if isinstance(x, (int, float)): #Si es int o float\n",
    "       lista_numerica.append(x)\n",
    "    else:\n",
    "        if isinstance(x, dict):\n",
    "            for e in list (x.items()[0]): #Esto es una tupla de una lista"
   ]
  },
  {
   "cell_type": "code",
   "execution_count": 25,
   "metadata": {},
   "outputs": [
    {
     "output_type": "execute_result",
     "data": {
      "text/plain": [
       "[2, 0.1, 1, 8, 2, 2, 9]"
      ]
     },
     "metadata": {},
     "execution_count": 25
    }
   ],
   "source": [
    "#Para comprobar los tipos de todos los elementos y agregar los números a una lista\n",
    "\n",
    "l = [\"st\", 2, [0.1, 1], (8, 2), {2:\"valor\"}, {9, \"s\"}]\n",
    "lista_numerica = []\n",
    "\n",
    "for x in l:\n",
    "    if isinstance(x, (int, float)): #Si es int o float\n",
    "        lista_numerica.append(x)\n",
    "    else:\n",
    "        if isinstance(x, dict):\n",
    "            for k, v in x.items(): #Esto es una tupla de una lista\n",
    "                if isinstance(k, (int, float)):\n",
    "                    lista_numerica.append(k)\n",
    "                if isinstance(v, (int,float)):\n",
    "                    lista_numerica.append(v, (int, float))\n",
    "        else: #Es una colección (diccionario no es una colección, es un diccionario)\n",
    "            if isinstance(x, str):\n",
    "                continue\n",
    "            else: #Colección no str\n",
    "                for elem in x:\n",
    "                    if isinstance (elem, (int, float)):\n",
    "                        lista_numerica.append(elem)\n",
    "\n",
    "lista_numerica\n"
   ]
  },
  {
   "cell_type": "code",
   "execution_count": null,
   "metadata": {},
   "outputs": [],
   "source": [
    "#Para hacerlo más fácil utilizar una función - COGER DE LOS APUNTES DE GABRIEL\n",
    "\n",
    "l = [\"st\", 2, [0.1, 1], (8, 2), {2:\"valor\"}, {9, \"s\"}]\n",
    "lista_numerica = []\n",
    "\n",
    "def check_and_types(elem, types, lista):\n",
    "    if isinstance(elem,types):\n",
    "        lista.append(elem)\n",
    "\n",
    "for x in l:\n",
    "    check_and_types(elem=x, types=(int, float), lista=lista_numerica):\n",
    "        lista_numerica.append(x)"
   ]
  },
  {
   "source": [
    "#LAMBDA#\n",
    "\n",
    "def nombre_f(d, a):\n",
    "    return d + 2\n",
    "\n",
    "nombre_f(d=2, a=0)\n"
   ],
   "cell_type": "code",
   "metadata": {},
   "execution_count": 30,
   "outputs": [
    {
     "output_type": "execute_result",
     "data": {
      "text/plain": [
       "4"
      ]
     },
     "metadata": {},
     "execution_count": 30
    }
   ]
  },
  {
   "cell_type": "code",
   "execution_count": 31,
   "metadata": {},
   "outputs": [
    {
     "output_type": "execute_result",
     "data": {
      "text/plain": [
       "4"
      ]
     },
     "metadata": {},
     "execution_count": 31
    }
   ],
   "source": [
    "nombre_g = lambda d, a: d+2 #Despues de los los dos puntos equivale a retornar. Es el list comprehension de las funciones\n",
    "nombre_g(d=2, a=0)"
   ]
  },
  {
   "cell_type": "code",
   "execution_count": 32,
   "metadata": {},
   "outputs": [
    {
     "output_type": "execute_result",
     "data": {
      "text/plain": [
       "2"
      ]
     },
     "metadata": {},
     "execution_count": 32
    }
   ],
   "source": [
    "def nombre_f(k):\n",
    "    return k\n",
    "\n",
    "nombre_f = lambda k:k\n",
    "\n",
    "nombre_f(k=2)"
   ]
  },
  {
   "cell_type": "code",
   "execution_count": 37,
   "metadata": {},
   "outputs": [
    {
     "output_type": "stream",
     "name": "stdout",
     "text": [
      "4\nNone\n"
     ]
    }
   ],
   "source": [
    "def nombre_f(k):\n",
    "    if k > 0:\n",
    "        return k\n",
    "    else:\n",
    "        return 2\n",
    "\n",
    "nombre_f = lambda k: print(k) if k > 0 else 2 #Si escribimos una condición en una función lambda es obligatorio el if y else\n",
    "r = nombre_f(k=4)\n",
    "print(r)"
   ]
  },
  {
   "cell_type": "code",
   "execution_count": 39,
   "metadata": {},
   "outputs": [
    {
     "output_type": "stream",
     "name": "stdout",
     "text": [
      "6\n4\n"
     ]
    }
   ],
   "source": [
    "def nombre_f(k):\n",
    "    if k > 0:\n",
    "        return k\n",
    "    else:\n",
    "        return 2\n",
    "\n",
    "def f1(d):\n",
    "    print(d+2)\n",
    "    return d\n",
    "\n",
    "nombre_f = lambda k: f1(d=k) if k > 0 else 2\n",
    "r = nombre_f(k=4)\n",
    "print(r)"
   ]
  },
  {
   "cell_type": "code",
   "execution_count": null,
   "metadata": {},
   "outputs": [],
   "source": [
    "def is_higher_5 (elem):\n",
    "    if elem > 5:\n",
    "        return elem\n",
    "\n",
    "l = [i for i in range(10)] "
   ]
  }
 ]
}