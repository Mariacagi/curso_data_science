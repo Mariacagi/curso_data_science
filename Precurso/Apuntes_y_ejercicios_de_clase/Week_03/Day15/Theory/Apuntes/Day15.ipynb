{
 "metadata": {
  "language_info": {
   "codemirror_mode": {
    "name": "ipython",
    "version": 3
   },
   "file_extension": ".py",
   "mimetype": "text/x-python",
   "name": "python",
   "nbconvert_exporter": "python",
   "pygments_lexer": "ipython3",
   "version": "3.9.0-final"
  },
  "orig_nbformat": 2,
  "kernelspec": {
   "name": "python3",
   "display_name": "Python 3.9.0 64-bit",
   "metadata": {
    "interpreter": {
     "hash": "af698c02722c81864863429d928a3bd8a8dcc030c4156359d3ef8b980fb01319"
    }
   }
  }
 },
 "nbformat": 4,
 "nbformat_minor": 2,
 "cells": [
  {
   "cell_type": "code",
   "execution_count": 6,
   "metadata": {},
   "outputs": [],
   "source": [
    "#El ahorcado\n",
    "\n",
    "#palabra_a_adivinar = input(\"Escribe la palabra a adivinar\").upper()\n",
    "palabra_a_adivinar = \"Gatillo\" #ESTO LO HACEMOS COMO EJEMPLO PARA NO TENER QUE METER EL INPUT UNA Y OTRA VEZ\n",
    "\n",
    "\n",
    "num_errores = 0\n",
    "lista_aciertos = []"
   ]
  },
  {
   "cell_type": "code",
   "execution_count": 5,
   "metadata": {},
   "outputs": [
    {
     "output_type": "stream",
     "name": "stdout",
     "text": [
      " _  _  _  _  _  _  _ \n"
     ]
    }
   ],
   "source": [
    "tamano_palabra = len(palabra_a_adivinar)\n",
    "tablero = \" _ \" * tamano_palabra\n",
    "print(tablero)"
   ]
  },
  {
   "cell_type": "code",
   "execution_count": 13,
   "metadata": {},
   "outputs": [
    {
     "output_type": "stream",
     "name": "stdout",
     "text": [
      "['_', '_', '_', '_', '_', '_', '_']\n"
     ]
    }
   ],
   "source": [
    "tablero = list(\"_\"*tamano_palabra) #Necesitas hacer esto para la función\n",
    "print(tablero)"
   ]
  },
  {
   "cell_type": "code",
   "execution_count": 12,
   "metadata": {},
   "outputs": [
    {
     "output_type": "stream",
     "name": "stdout",
     "text": [
      "_ _ _ _ _ _ _ \n"
     ]
    }
   ],
   "source": [
    "def tablero_a_mostrar(tablero):\n",
    "    tablero_show = \"\"\n",
    "    for l in tablero:\n",
    "        tablero_show += l + \" \"\n",
    "    return tablero_show    \n",
    "\n",
    "print(tablero_a_mostrar(tablero = tablero))"
   ]
  },
  {
   "cell_type": "code",
   "execution_count": null,
   "metadata": {},
   "outputs": [],
   "source": [
    "\n",
    "while \"_\" in tablero and num_errores < 6:\n",
    "    #Otra opción es While True:\n",
    "    letra_insertada = input(\"Introduzca una letra\").upper()\n",
    "\n",
    "    if letra_insertada in palabra_a_adivinar: #La letra está dentro de la palabra\n",
    "        \n",
    "        if letra_insertada in lista_aciertos: # Ha insertado una letra previamente\n",
    "            print(\"Ya habías acertado esta letra\")\n",
    "        \n",
    "        else: #Acertada pero no previamente\n",
    "            \n",
    "            lista_aciertos.append(letra_insertada)   \n",
    "\n",
    "            for pos, letra in enumerate(palabra_a_adivinar): #Sustituir en el tablero\n",
    "                if letra == letra_insertada:\n",
    "                    tablero[pos] = letra_insertada    \n",
    "            \n",
    "\n",
    "    else: #La letra no está dentro de la palabra\n",
    "        num_errores += 1\n",
    "        print(\"Llevas:\", num_errores, \"errores\")\n",
    "        print(\"Letra no esá en la palabra\")\n",
    "        if num_errores > 6:\n",
    "            print(\"Lo siento, has perdido\")    \n",
    "            #Incluir break aquí en caso de opción 2 de while\n",
    "\n",
    "print(tablero_a_mostrar(tablero = tablero))\n",
    "\n",
    "if \"_\" not in tablero:\n",
    "    print(\"¡Has ganado!\")\n",
    "     #Incluir break aquí en caso de opción 2 de while"
   ]
  }
 ]
}