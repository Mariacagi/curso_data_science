{
 "metadata": {
  "language_info": {
   "codemirror_mode": {
    "name": "ipython",
    "version": 3
   },
   "file_extension": ".py",
   "mimetype": "text/x-python",
   "name": "python",
   "nbconvert_exporter": "python",
   "pygments_lexer": "ipython3",
   "version": "3.9.0-final"
  },
  "orig_nbformat": 2,
  "kernelspec": {
   "name": "python3",
   "display_name": "Python 3.9.0 64-bit",
   "metadata": {
    "interpreter": {
     "hash": "af698c02722c81864863429d928a3bd8a8dcc030c4156359d3ef8b980fb01319"
    }
   }
  }
 },
 "nbformat": 4,
 "nbformat_minor": 2,
 "cells": [
  {
   "cell_type": "code",
   "execution_count": 1,
   "metadata": {},
   "outputs": [
    {
     "output_type": "execute_result",
     "data": {
      "text/plain": [
       "[2, 2, 2, 2, 4]"
      ]
     },
     "metadata": {},
     "execution_count": 1
    }
   ],
   "source": [
    "#Else comprehension\n",
    "l = [x if x > 3 else 2 for x in range(5)]\n",
    "l"
   ]
  },
  {
   "cell_type": "code",
   "execution_count": null,
   "metadata": {},
   "outputs": [],
   "source": [
    "#Todo en Python son objetos\n",
    "\n",
    "x = [2, 4]\n",
    "x.append(2) #Append es una función de clase lista en Python"
   ]
  },
  {
   "cell_type": "code",
   "execution_count": 3,
   "metadata": {},
   "outputs": [
    {
     "output_type": "stream",
     "name": "stdout",
     "text": [
      "2\nJuan\n"
     ]
    }
   ],
   "source": [
    "#Creación de la clase ser humano\n",
    "class humano: \n",
    "    ojos = 2 #Aunque dependen del ser humano que sea estos valores son por defecto\n",
    "    piernas = 2\n",
    "    nombre = None #En este caso depende completamente del ser humano como no lo sabemos ponemos None\n",
    "    edad = None\n",
    "\n",
    "#Si queremos crear a Juan como humano\n",
    "\n",
    "juan = humano()\n",
    "print(juan.ojos)\n",
    "juan.nombre = \"Juan\"\n",
    "print(juan.nombre)"
   ]
  },
  {
   "cell_type": "code",
   "execution_count": 7,
   "metadata": {},
   "outputs": [
    {
     "output_type": "stream",
     "name": "stdout",
     "text": [
      "2\n3\n"
     ]
    }
   ],
   "source": [
    "#funcion constructor de la clase: _init_ y debe llevar el atributo self\n",
    "\n",
    "class humano:\n",
    "    def __init__(self, o, n, b, p, e): #Aquí hay que meter todos los argumentos que yo quiero mostrar a la hora de crear un nuevo ser humano\n",
    "        self.ojos = o\n",
    "        self.nombre = n\n",
    "        self.brazos = b\n",
    "        self.piernas = p\n",
    "        self.edad = e\n",
    "\n",
    "juan = humano(o=2, n=\"Juan\", b=2, p=2, e=30) #Juan es una instancia de humano\n",
    "print(juan.ojos)\n",
    "pepe = humano(o=1, n=\"Pepe\", b=2, p=3, e=2)\n",
    "print(pepe.piernas)"
   ]
  },
  {
   "cell_type": "code",
   "execution_count": 8,
   "metadata": {},
   "outputs": [
    {
     "output_type": "execute_result",
     "data": {
      "text/plain": [
       "False"
      ]
     },
     "metadata": {},
     "execution_count": 8
    }
   ],
   "source": [
    "juan is pepe"
   ]
  },
  {
   "cell_type": "code",
   "execution_count": 9,
   "metadata": {},
   "outputs": [
    {
     "output_type": "execute_result",
     "data": {
      "text/plain": [
       "False"
      ]
     },
     "metadata": {},
     "execution_count": 9
    }
   ],
   "source": [
    "juan == pepe"
   ]
  },
  {
   "cell_type": "code",
   "execution_count": 11,
   "metadata": {},
   "outputs": [
    {
     "output_type": "execute_result",
     "data": {
      "text/plain": [
       "False"
      ]
     },
     "metadata": {},
     "execution_count": 11
    }
   ],
   "source": [
    "juan2 = humano(o=2, n=\"Juan\", b=2, p=2, e=30)\n",
    "juan == juan2 #Porque cada uno tiene su instancia, es como si fuesen dos gemelos pero cada uno es unico, tiene su instancia"
   ]
  },
  {
   "cell_type": "code",
   "execution_count": 12,
   "metadata": {},
   "outputs": [
    {
     "output_type": "execute_result",
     "data": {
      "text/plain": [
       "False"
      ]
     },
     "metadata": {},
     "execution_count": 12
    }
   ],
   "source": [
    "juan is juan2 #Porque cada uno tiene su instancia, es como si fuesen dos gemelos pero cada uno es unico, tiene su instancia"
   ]
  },
  {
   "cell_type": "code",
   "execution_count": 47,
   "metadata": {},
   "outputs": [
    {
     "output_type": "stream",
     "name": "stdout",
     "text": [
      "10\n11\n"
     ]
    },
    {
     "output_type": "execute_result",
     "data": {
      "text/plain": [
       "<__main__.Perro at 0x17a1836df40>"
      ]
     },
     "metadata": {},
     "execution_count": 47
    }
   ],
   "source": [
    "class Perro:\n",
    "    def __init__(self, patas, cola, raza, peso, edad, nombre): #Este es el constructor\n",
    "        self.patas = patas\n",
    "        self.cola = cola\n",
    "        self.raza = raza\n",
    "        self.peso = peso\n",
    "        self.edad = edad\n",
    "        self.nombre = nombre\n",
    "        \n",
    "    def cumple_edad(self):\n",
    "        self.edad = self.edad + 1 #Self es como llamar a Perro el que hayamos creado, es decir, rudolf o baxter\n",
    "        print(\"Feliz cumple\")\n",
    "\n",
    "rudolf = Perro(patas=4, cola=True, raza=\"Pastor Alemán\", peso=25, edad=10, nombre=\"Rudolf\")\n",
    "print(rudolf.edad)\n",
    "rudolf.edad = rudolf.edad + 1\n",
    "print(rudolf.edad)\n",
    "\n",
    "baxter = Perro(patas=4, cola=True, raza=\"Labrador\", peso=12, edad=3, nombre=\"Baxter\")\n",
    "baxter"
   ]
  },
  {
   "cell_type": "code",
   "execution_count": 48,
   "metadata": {},
   "outputs": [
    {
     "output_type": "stream",
     "name": "stdout",
     "text": [
      "3\nFeliz cumple\n4\n"
     ]
    }
   ],
   "source": [
    "print(baxter.edad)\n",
    "baxter.cumple_edad()\n",
    "print(baxter.edad)"
   ]
  },
  {
   "cell_type": "code",
   "execution_count": 24,
   "metadata": {},
   "outputs": [
    {
     "output_type": "stream",
     "name": "stdout",
     "text": [
      "<__main__.humano object at 0x0000013D15C9AF40>\n"
     ]
    }
   ],
   "source": [
    "mc = humano(o=2, n=\"MC\", b=2, p=2, e=51)\n",
    "print(mc)"
   ]
  },
  {
   "cell_type": "code",
   "execution_count": 25,
   "metadata": {},
   "outputs": [
    {
     "output_type": "stream",
     "name": "stdout",
     "text": [
      "<function f1 at 0x0000013D15B87AF0>\n"
     ]
    }
   ],
   "source": [
    "def f1():\n",
    "    return 2\n",
    "\n",
    "print(f1) #El resultado significa donde está ubicado en la memoria"
   ]
  },
  {
   "cell_type": "code",
   "execution_count": 26,
   "metadata": {},
   "outputs": [
    {
     "output_type": "stream",
     "name": "stdout",
     "text": [
      "2\n"
     ]
    }
   ],
   "source": [
    "print(f1())#Hasta que no llamemos a la función no pone el resultado"
   ]
  },
  {
   "cell_type": "code",
   "execution_count": 28,
   "metadata": {},
   "outputs": [],
   "source": [
    "class Pelota:\n",
    "    \n",
    "    def __init__(self, velocidad=0, posicion=0, diametro=0):\n",
    "        self.velocidad = velocidad\n",
    "        self.posicion = posicion\n",
    "        self.diametro = diametro\n",
    "    \n",
    "    def golpear(self, fuerza): #cuanta mas fuerza mas velocidad, ¿como hacerlo para que cambie velocidad?\n",
    "        velocidadantigua = self.velocidad\n",
    "        posicionantigua = self.posicion\n",
    "        self.velocidad = self.velocidad + fuerza\n",
    "        \n",
    "        if self.posicion == 0 or self.velocidad ==0:\n",
    "            self.posicion = self.posicion + self.velocidad*1.5\n",
    "        \n",
    "        else:\n",
    "            self.posicion = self.posicion * self.velocidad\n",
    "\n",
    "        print(\"Velocidad:\", self.velocidad - fuerza, \"-->\", self.velocidad)#dos formas de imprimir velocidad antigua\n",
    "        print(\"Velocidad:\", velocidadantigua, \"-->\", self.velocidad) #dos formas de imprimir velocidad antigua\n",
    "        print(\"Posición:\", posicionantigua, \"-->\", self.posicion)\n",
    "\n",
    "    def parar(self): \n",
    "        print(\"Parar:\", self.velocidad, \"-->\", 0)\n",
    "        self.v = 0\n",
    "        \n",
    "\n",
    "    def rajar(self):\n",
    "        self.diametro = self.diametro - 5\n",
    "        print(\"Rajar:\", self.diametro)"
   ]
  },
  {
   "cell_type": "code",
   "execution_count": 29,
   "metadata": {},
   "outputs": [
    {
     "output_type": "stream",
     "name": "stdout",
     "text": [
      "Velocidad: 20 --> 28\nVelocidad: 20 --> 28\nPosición: 0 --> 42.0\nVelocidad: 28 --> 108\nVelocidad: 28 --> 108\nPosición: 42.0 --> 4536.0\nParar: 108 --> 0\nRajar: 5\n"
     ]
    }
   ],
   "source": [
    "pelota_tenis = Pelota(velocidad=20, diametro=10)\n",
    "pelota_tenis.golpear(fuerza=8)\n",
    "pelota_tenis.golpear(fuerza=80)\n",
    "pelota_tenis.parar()\n",
    "pelota_tenis.rajar()"
   ]
  },
  {
   "cell_type": "code",
   "execution_count": null,
   "metadata": {},
   "outputs": [],
   "source": [
    "#Coger apuntes de Gabriel - class lista\n",
    "class Lista:\n",
    "\n",
    "    def __init__(self, elementos):\n",
    "        \n",
    "\n",
    "\n",
    "l = [2, 3, 5, 7]\n",
    "d = l.append(29)\n",
    "print(l)"
   ]
  },
  {
   "cell_type": "code",
   "execution_count": null,
   "metadata": {},
   "outputs": [],
   "source": [
    "l = Lista(elementos=[2, 3, 5, 7])\n",
    "l = l.append(29)\n",
    "print(l)"
   ]
  },
  {
   "cell_type": "code",
   "execution_count": 36,
   "metadata": {},
   "outputs": [],
   "source": [
    "class Humano:\n",
    "\n",
    "    def __init__(self, vida, fuerza, armadura, n_dientes, esta_vivo=True):  #True tiene que estar al final\n",
    "        self.vida =  vida\n",
    "        self.armadura = armadura\n",
    "        self.fuerza = fuerza\n",
    "        self.esta_vivo = esta_vivo\n",
    "        self.n_dientes = n_dientes\n",
    "\n",
    "    def atacar(self, troll):\n",
    "        vida_antigua = troll.vida\n",
    "        troll.vida = troll.vida - (self.fuerza - troll.armadura)\n",
    "        print(\"Vida Troll:\", vida_antigua, \"-->\", troll.vida)\n",
    "        if troll.vida <= 0:\n",
    "            troll.esta_vivo = False\n",
    "\n",
    "\n",
    "class Troll:\n",
    "    #True tiene que estar al final\n",
    "    def __init__(self, vida, fuerza, armadura, n_dientes, esta_vivo=True):  #True tiene que estar al final\n",
    "        self.vida =  vida\n",
    "        self.armadura = armadura\n",
    "        self.fuerza = fuerza\n",
    "        self.esta_vivo = esta_vivo\n",
    "        self.n_dientes = n_dientes\n",
    "\n",
    "    def atacar(self, humano):\n",
    "        vida_antigua = humano.vida\n",
    "        humano.vida = humano.vida - (self.fuerza - troll.armadura)\n",
    "        print(\"Vida Humano:\", vida_antigua, \"-->\", humano.vida)\n",
    "        if humano.vida <= 0:\n",
    "            humano.esta_vivo = False"
   ]
  },
  {
   "cell_type": "code",
   "execution_count": 37,
   "metadata": {},
   "outputs": [],
   "source": [
    "Leo = Humano(vida=100, fuerza=5, armadura=3, n_dientes=27)\n",
    "\n",
    "troll = Troll(vida=100, fuerza=8, armadura=1, n_dientes=42)"
   ]
  },
  {
   "cell_type": "code",
   "execution_count": 41,
   "metadata": {},
   "outputs": [
    {
     "output_type": "stream",
     "name": "stdout",
     "text": [
      "Vida Troll: 96 --> 92\n",
      "Vida Humano: 100 --> 93\n",
      "------------\n",
      "Vida Troll: 92 --> 88\n",
      "Vida Humano: 93 --> 86\n",
      "------------\n",
      "Vida Troll: 88 --> 84\n",
      "Vida Humano: 86 --> 79\n",
      "------------\n",
      "Vida Troll: 84 --> 80\n",
      "Vida Humano: 79 --> 72\n",
      "------------\n",
      "Vida Troll: 80 --> 76\n",
      "Vida Humano: 72 --> 65\n",
      "------------\n",
      "Vida Troll: 76 --> 72\n",
      "Vida Humano: 65 --> 58\n",
      "------------\n",
      "Vida Troll: 72 --> 68\n",
      "Vida Humano: 58 --> 51\n",
      "------------\n",
      "Vida Troll: 68 --> 64\n",
      "Vida Humano: 51 --> 44\n",
      "------------\n",
      "Vida Troll: 64 --> 60\n",
      "Vida Humano: 44 --> 37\n",
      "------------\n",
      "Vida Troll: 60 --> 56\n",
      "Vida Humano: 37 --> 30\n",
      "------------\n",
      "Vida Troll: 56 --> 52\n",
      "Vida Humano: 30 --> 23\n",
      "------------\n",
      "Vida Troll: 52 --> 48\n",
      "Vida Humano: 23 --> 16\n",
      "------------\n",
      "Vida Troll: 48 --> 44\n",
      "Vida Humano: 16 --> 9\n",
      "------------\n",
      "Vida Troll: 44 --> 40\n",
      "Vida Humano: 9 --> 2\n",
      "------------\n",
      "Vida Troll: 40 --> 36\n",
      "Vida Humano: 2 --> -5\n",
      "Troll ganó\n"
     ]
    }
   ],
   "source": [
    "import time\n",
    "\n",
    "def empezar_pelea(contrincante1, contrincante2):\n",
    "    while True:\n",
    "        contrincante1.atacar(troll=contrincante2)\n",
    "        time.sleep(2)\n",
    "        contrincante2.atacar(humano=contrincante1)\n",
    "        if contrincante1.esta_vivo == False:\n",
    "            print(\"Troll ganó\")\n",
    "            break\n",
    "        elif contrincante2.esta_vivo == False:\n",
    "            print(\"Humano ganó\")\n",
    "            break\n",
    "        print(\"------------\")\n",
    "\n",
    "empezar_pelea(contrincante1=Leo, contrincante2=troll)\n"
   ]
  },
  {
   "cell_type": "code",
   "execution_count": null,
   "metadata": {},
   "outputs": [],
   "source": []
  }
 ]
}