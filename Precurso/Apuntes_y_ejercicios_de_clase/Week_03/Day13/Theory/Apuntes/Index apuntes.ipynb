{
 "metadata": {
  "language_info": {
   "codemirror_mode": {
    "name": "ipython",
    "version": 3
   },
   "file_extension": ".py",
   "mimetype": "text/x-python",
   "name": "python",
   "nbconvert_exporter": "python",
   "pygments_lexer": "ipython3",
   "version": "3.9.0-final"
  },
  "orig_nbformat": 2,
  "kernelspec": {
   "name": "python3",
   "display_name": "Python 3.9.0 64-bit",
   "metadata": {
    "interpreter": {
     "hash": "af698c02722c81864863429d928a3bd8a8dcc030c4156359d3ef8b980fb01319"
    }
   }
  }
 },
 "nbformat": 4,
 "nbformat_minor": 2,
 "cells": [
  {
   "source": [
    "# DAY 2\n",
    "\n",
    "- Numeros enteros\n",
    "- Print \n",
    "- Type\n",
    "- Cambiar de str a int y viceversa\n",
    "- Longitud de una lista\n",
    "- Operadores\n",
    "- Upper\n",
    "\n"
   ],
   "cell_type": "markdown",
   "metadata": {}
  },
  {
   "source": [
    "# DAY 3\n",
    "\n",
    "- Sep\n",
    "- Módulo %\n",
    "- Input\n",
    "- Lower\n",
    "- Reverse\n",
    "- Cambiar el orden de los caracteres o que se incluya a partir del numero 3 y hasta el 10\n",
    "- Remove\n",
    "- Signos de ==, !=, <, >, <= o >=\n",
    "- And y or\n",
    "- If, else, elif\n",
    "- None, False, 0.0, cualquier coleccion vacia\n",
    "- If not\n",
    "- Colecciones: listas, tuplas, string(lista de caracteres), conjuntos (Set)"
   ],
   "cell_type": "markdown",
   "metadata": {}
  },
  {
   "source": [
    "# DAY 5\n",
    "\n",
    "- Identificador (id)\n",
    "- For + break + if\n",
    "- Range\n",
    "- Enumerate\n",
    "- Continue \n",
    "- Acum"
   ],
   "cell_type": "markdown",
   "metadata": {}
  },
  {
   "source": [
    "# DAY 6\n",
    "\n",
    "- Index\n",
    "- Pop: elimina por posición\n",
    "- Funciones\n",
    "- For y enumerate\n",
    "- Isinstance(x, int)"
   ],
   "cell_type": "markdown",
   "metadata": {}
  },
  {
   "source": [
    "# DAY 7\n",
    "\n",
    "- Remove y pop\n",
    "- Return\n",
    "- Diccionarios\n",
    "- Funciones param, mmuestra todos excepto joven casa"
   ],
   "cell_type": "markdown",
   "metadata": {}
  },
  {
   "source": [
    "# DAY 8\n",
    "\n",
    "- While y contador, input\n",
    "- input().upper()\n",
    "- lista(Range(star, stop, incrementa))"
   ],
   "cell_type": "markdown",
   "metadata": {}
  },
  {
   "source": [
    "# DAY 9\n",
    "\n",
    "- Try, except\n",
    "- Assert\n"
   ],
   "cell_type": "markdown",
   "metadata": {}
  },
  {
   "source": [
    "# DAY 10\n",
    "\n",
    "- Zip\n",
    "- list.extend\n",
    "- Recursividad\n",
    "- List comprehension"
   ],
   "cell_type": "markdown",
   "metadata": {}
  },
  {
   "source": [
    "# DAY 11\n",
    "\n",
    "- List comprehension\n",
    "- Funciones\n",
    "- Lambda"
   ],
   "cell_type": "markdown",
   "metadata": {}
  },
  {
   "source": [
    "# DAY 12\n",
    "\n",
    "- Else comprehension\n",
    "- Class"
   ],
   "cell_type": "markdown",
   "metadata": {}
  }
 ]
}