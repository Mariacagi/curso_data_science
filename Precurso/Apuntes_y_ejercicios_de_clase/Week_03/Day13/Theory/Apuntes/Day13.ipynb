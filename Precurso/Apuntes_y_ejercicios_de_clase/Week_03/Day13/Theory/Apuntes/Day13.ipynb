{
 "metadata": {
  "language_info": {
   "codemirror_mode": {
    "name": "ipython",
    "version": 3
   },
   "file_extension": ".py",
   "mimetype": "text/x-python",
   "name": "python",
   "nbconvert_exporter": "python",
   "pygments_lexer": "ipython3",
   "version": "3.9.0-final"
  },
  "orig_nbformat": 2,
  "kernelspec": {
   "name": "python3",
   "display_name": "Python 3.9.0 64-bit",
   "metadata": {
    "interpreter": {
     "hash": "af698c02722c81864863429d928a3bd8a8dcc030c4156359d3ef8b980fb01319"
    }
   }
  }
 },
 "nbformat": 4,
 "nbformat_minor": 2,
 "cells": [
  {
   "cell_type": "code",
   "execution_count": 4,
   "metadata": {},
   "outputs": [
    {
     "output_type": "execute_result",
     "data": {
      "text/plain": [
       "2"
      ]
     },
     "metadata": {},
     "execution_count": 4
    }
   ],
   "source": [
    "class Humano:\n",
    "\n",
    "    def __init__(self, o, piernas, edad):\n",
    "        self.ojos = o\n",
    "        self.piernas = piernas\n",
    "        self.nombre = \"Pepe\" #Todas las instancias van a tener un atributo que se llame Pepe y no se puede modificar ya que no está en el constructor\n",
    "\n",
    "    def cummple_Años(self, años):\n",
    "        self.ojos = 3\n",
    "        ojos = 4 #Esto solo está dentro de la función no fuera\n",
    "\n",
    "pepe = Humano(o=2, piernas=2, edad=1)\n",
    "pepe.ojos"
   ]
  },
  {
   "cell_type": "code",
   "execution_count": 17,
   "metadata": {},
   "outputs": [
    {
     "output_type": "execute_result",
     "data": {
      "text/plain": [
       "2"
      ]
     },
     "metadata": {},
     "execution_count": 17
    }
   ],
   "source": [
    "class Humano:\n",
    "\n",
    "    def __init__(self, edad, nombre, o=2, piernas=2):\n",
    "        self.ojos = o\n",
    "        self.piernas = piernas\n",
    "        self.nombre = nombre #Ahora puede variar\n",
    "\n",
    "    def cummple_Años(self, años):\n",
    "        self.ojos = self.ojos + años #Es necesario poner el self, cada vez que le sumen años a ojos\n",
    "\n",
    "pepe = Humano(o=2, piernas=2, edad=1, nombre=\"Pepe\")\n",
    "pepe.ojos"
   ]
  },
  {
   "cell_type": "code",
   "execution_count": 19,
   "metadata": {},
   "outputs": [
    {
     "output_type": "stream",
     "name": "stdout",
     "text": [
      "3\n4\n4\n5\n"
     ]
    }
   ],
   "source": [
    "def aumenta_piernas_de_humano(humano):\n",
    "    print(humano.piernas)\n",
    "    humano.piernas +=1\n",
    "    print(humano.piernas)\n",
    "\n",
    "\n",
    "aumenta_piernas_de_humano(humano=pepe)\n",
    "esther = Humano(piernas=4, edad=27, nombre=\"Esther\")\n",
    "aumenta_piernas_de_humano(humano=esther)"
   ]
  },
  {
   "cell_type": "code",
   "execution_count": 29,
   "metadata": {},
   "outputs": [
    {
     "output_type": "stream",
     "name": "stdout",
     "text": [
      "['a', 'b', 'c', 'd']\nposicion: 0\nvalor_elem: a\n-------\nposicion: 1\nvalor_elem: b\n-------\nposicion: 2\nvalor_elem: c\n-------\nc\nposicion: 3\nvalor_elem: d\n-------\n"
     ]
    }
   ],
   "source": [
    "d = {\"key\":\"value\", 4:6, \"lista\": [\"a\",\"b\",\"c\",\"d\"]} #Como acceder a la lista\n",
    "\n",
    "lista = d[\"lista\"]\n",
    "print(lista)\n",
    "\n",
    "#Para recorrerla\n",
    "for pos, valor_elem in enumerate(d[\"lista\"]):\n",
    "    print(\"posicion:\", pos)\n",
    "    print(\"valor_elem:\", valor_elem)\n",
    "    print(\"-------\")\n",
    "    if pos == 2:\n",
    "        x = valor_elem\n",
    "        print(x)\n"
   ]
  },
  {
   "cell_type": "code",
   "execution_count": 32,
   "metadata": {},
   "outputs": [],
   "source": [
    "#Ficheros\n",
    "with open(\"nombre.txt\", \"a\") as open_file: #El \"a\" si no está creado \"nombre.txt\", significa que lo crea y le da permiso de escritura y lectura\n",
    "    open_file.write(\"A string to write\\n\") #Para escribir tiene que ser siempre dentro del with, es decir, si pones open_file.write fuera del with no hará nada porque en el momento en el que salimos del with el archivo se cierrra"
   ]
  },
  {
   "cell_type": "code",
   "execution_count": 36,
   "metadata": {},
   "outputs": [],
   "source": [
    "with open(\"nombre.txt\", \"a\") as open_file: \n",
    "    for i in range(3):\n",
    "        open_file.write(\"A string to write\" + str(i) + '\\n')"
   ]
  },
  {
   "cell_type": "code",
   "execution_count": 39,
   "metadata": {},
   "outputs": [
    {
     "output_type": "stream",
     "name": "stdout",
     "text": [
      "A strin to write\nA string to write\nA string to write\n0\nA string to write\n1\nA string to write\n2\nA string to write0\nA string to write1\nA string to write2\n\n2\n<_io.TextIOWrapper name='nombre.txt' mode='r' encoding='cp1252'>\n"
     ]
    }
   ],
   "source": [
    "#Para leerlo\n",
    "with open(\"nombre.txt\", \"r\") as open_file: \n",
    "    all_text = open_file.read()\n",
    "    x = 2\n",
    "\n",
    "print(all_text)\n",
    "print(x)\n",
    "print(open_file)"
   ]
  },
  {
   "cell_type": "code",
   "execution_count": null,
   "metadata": {},
   "outputs": [],
   "source": [
    "with open(\"nombre.txt\", \"r\") as open_file: \n",
    "    all_text = open_file.readline() #Esto lee la primera linea\n",
    "    print(type(line)) \n",
    "\n",
    "    #coger de los apuntes de gabriel\n",
    "\n",
    "print(all_text)\n",
    "print(x)\n",
    "print(open_file)"
   ]
  },
  {
   "cell_type": "code",
   "execution_count": 44,
   "metadata": {},
   "outputs": [
    {
     "output_type": "stream",
     "name": "stdout",
     "text": [
      "A strin to write\n\nA string to write\n\nA string to write\n\n0\n\nA string to write\n\n1\n\nA string to write\n\n2\n\nA string to write0\n\nA string to write1\n\nA string to write2\n\n- linea \n"
     ]
    }
   ],
   "source": [
    "l = \"\\n\"\n",
    "with open(\"nombre.txt\", \"r\") as open_file: \n",
    "    line = open_file.readline()\n",
    "    count = 1\n",
    "\n",
    "    while line:\n",
    "        if count == 2:\n",
    "            pass #Si fuese continue se quedaría en 2 infinitamente porque no lo actualiza por eso hay que poner pass\n",
    "        print(line)\n",
    "        line = open_file.readline()\n",
    "        count += 1\n",
    "\n",
    "    line = open_file.readline()\n",
    "    print(\"- linea\", line)"
   ]
  },
  {
   "cell_type": "code",
   "execution_count": 45,
   "metadata": {},
   "outputs": [
    {
     "output_type": "stream",
     "name": "stdout",
     "text": [
      "Se ha escrito\n"
     ]
    }
   ],
   "source": [
    "with open(\"newfile.ghkhaf\", \"a\") as new_file: #Aunque la extensión no sea txt o legible por nuestro ordenador, en notepad se puede ver porque contiene información \n",
    "    new_file.write(\"Primera \\n\")\n",
    "    new_file.write(\"Segunda \\n\")\n",
    "    new_file.write(\"Tercera \\n\")\n",
    "    print(\"Se ha escrito\")"
   ]
  },
  {
   "cell_type": "code",
   "execution_count": 47,
   "metadata": {},
   "outputs": [
    {
     "output_type": "stream",
     "name": "stdout",
     "text": [
      "Primera \n\nSegunda \n\nTercera \n\n"
     ]
    }
   ],
   "source": [
    "with open(\"newfile.ghkhaf\", \"r\") as new_file:\n",
    "    linea = new_file.readline()\n",
    "    print(linea)\n",
    "    print(new_file.readline())\n",
    "    print(new_file.readline())"
   ]
  },
  {
   "cell_type": "code",
   "execution_count": 48,
   "metadata": {},
   "outputs": [
    {
     "output_type": "stream",
     "name": "stdout",
     "text": [
      "A strin to write\n\nA string to write\n\nA string to write\n\n0\n\nA string to write\n\n1\n\n"
     ]
    }
   ],
   "source": [
    "with open(\"nombre.txt\", \"r\") as open_file: \n",
    "    line = open_file.readline()\n",
    "    while line:\n",
    "        if \"1\" in line:\n",
    "            print (line)\n",
    "            break\n",
    "        print(line)\n",
    "        line = open_file.readline()"
   ]
  },
  {
   "cell_type": "code",
   "execution_count": 52,
   "metadata": {},
   "outputs": [
    {
     "output_type": "error",
     "ename": "FileNotFoundError",
     "evalue": "[Errno 2] No such file or directory: 'file_to_save.txt'",
     "traceback": [
      "\u001b[1;31m---------------------------------------------------------------------------\u001b[0m",
      "\u001b[1;31mFileNotFoundError\u001b[0m                         Traceback (most recent call last)",
      "\u001b[1;32m<ipython-input-52-d1702838784b>\u001b[0m in \u001b[0;36m<module>\u001b[1;34m\u001b[0m\n\u001b[1;32m----> 1\u001b[1;33m \u001b[1;32mwith\u001b[0m \u001b[0mopen\u001b[0m\u001b[1;33m(\u001b[0m\u001b[1;34m'file_to_save.txt'\u001b[0m\u001b[1;33m,\u001b[0m \u001b[1;34m'r'\u001b[0m\u001b[1;33m)\u001b[0m \u001b[1;32mas\u001b[0m \u001b[0mopen_file\u001b[0m\u001b[1;33m:\u001b[0m\u001b[1;33m\u001b[0m\u001b[1;33m\u001b[0m\u001b[0m\n\u001b[0m\u001b[0;32m      2\u001b[0m     \u001b[0mline\u001b[0m \u001b[1;33m=\u001b[0m \u001b[0mopen_file\u001b[0m\u001b[1;33m.\u001b[0m\u001b[0mreadline\u001b[0m\u001b[1;33m(\u001b[0m\u001b[1;33m)\u001b[0m\u001b[1;33m\u001b[0m\u001b[1;33m\u001b[0m\u001b[0m\n\u001b[0;32m      3\u001b[0m     \u001b[1;32mwhile\u001b[0m \u001b[0mline\u001b[0m\u001b[1;33m:\u001b[0m\u001b[1;33m\u001b[0m\u001b[1;33m\u001b[0m\u001b[0m\n\u001b[0;32m      4\u001b[0m         \u001b[1;32mif\u001b[0m \u001b[1;34m\"|\"\u001b[0m \u001b[1;32min\u001b[0m \u001b[0mline\u001b[0m\u001b[1;33m:\u001b[0m\u001b[1;33m\u001b[0m\u001b[1;33m\u001b[0m\u001b[0m\n\u001b[0;32m      5\u001b[0m             \u001b[0mlista_strings\u001b[0m \u001b[1;33m=\u001b[0m \u001b[0mline\u001b[0m\u001b[1;33m.\u001b[0m\u001b[0msplit\u001b[0m\u001b[1;33m(\u001b[0m\u001b[1;34m\"|\"\u001b[0m\u001b[1;33m)\u001b[0m \u001b[1;31m#split crea en una coleccion una lista todo lo que tenga a la dcha y a la izq\u001b[0m\u001b[1;33m\u001b[0m\u001b[1;33m\u001b[0m\u001b[0m\n",
      "\u001b[1;31mFileNotFoundError\u001b[0m: [Errno 2] No such file or directory: 'file_to_save.txt'"
     ]
    }
   ],
   "source": [
    "with open('file_to_save.txt', 'r') as open_file:\n",
    "    line = open_file.readline()\n",
    "    while line:\n",
    "        if \"|\" in line:\n",
    "            lista_strings = line.split(\"|\") #split crea en una coleccion una lista todo lo que tenga a la dcha y a la izq\n",
    "            nombre = lista_strings[0]\n",
    "            dinero = lista_strings[1]\n",
    "            print(\"Nombre: \", nombre)\n",
    "            print(\"Dinero: \", dinero)\n",
    "            print(\"----------\")\n",
    "        line = open_file.readline()"
   ]
  },
  {
   "cell_type": "code",
   "execution_count": 53,
   "metadata": {},
   "outputs": [
    {
     "output_type": "stream",
     "name": "stdout",
     "text": [
      "YES\n"
     ]
    }
   ],
   "source": [
    "l = [\"a\", \"b\", \"c\"]\n",
    "\n",
    "if \"a\" in l:\n",
    "    print(\"YES\")"
   ]
  },
  {
   "cell_type": "code",
   "execution_count": 57,
   "metadata": {},
   "outputs": [
    {
     "output_type": "stream",
     "name": "stdout",
     "text": [
      "A\n \ns\nt\nr\ni\nn\ng\n \nt\no\n \nw\nr\ni\nt\ne\n \n"
     ]
    }
   ],
   "source": [
    "s = \"A string to write 1\"\n",
    "\n",
    "for elem in s:\n",
    "    if elem == \"1\":\n",
    "        break\n",
    "    print(elem)"
   ]
  },
  {
   "cell_type": "code",
   "execution_count": null,
   "metadata": {},
   "outputs": [],
   "source": [
    "#ESTADISTICA\n",
    "\n"
   ]
  }
 ]
}