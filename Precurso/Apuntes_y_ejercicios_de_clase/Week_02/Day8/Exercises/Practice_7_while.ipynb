{
 "cells": [
  {
   "cell_type": "markdown",
   "metadata": {},
   "source": [
    "# Python | day 7 | while"
   ]
  },
  {
   "cell_type": "markdown",
   "metadata": {},
   "source": [
    "With the **while** loop we can execute a set of statements as long as a condition is true."
   ]
  },
  {
   "cell_type": "markdown",
   "metadata": {},
   "source": [
    "```python\n",
    "i = 1\n",
    "while i < 6:\n",
    "  print(i)\n",
    "  i += 1\n",
    "```"
   ]
  },
  {
   "cell_type": "markdown",
   "metadata": {},
   "source": [
    "https://www.w3schools.com/python/python_while_loops.asp"
   ]
  },
  {
   "cell_type": "markdown",
   "metadata": {},
   "source": [
    "### Exercise 1. "
   ]
  },
  {
   "cell_type": "markdown",
   "metadata": {},
   "source": [
    "Do as described below:\n",
    "\n",
    "- Make a variable called strength, and set its initial value to 5.\n",
    "\n",
    "- Print a message reporting the player's strength.\n",
    "\n",
    "- Set up a while loop that runs until the player's strength increases to a value such as 10.\n",
    "\n",
    "- Inside the while loop, print a message that reports the player's current strength.\n",
    "\n",
    "- Inside the while loop, write a statement that increases the player's strength.\n",
    "\n",
    "- Outside the while loop, print a message reporting that the player has grown too strong, and that they have moved up to a new level of the game.\n",
    "\n",
    "Play around with different cutoff levels for the value of strength, and play around with different ways to increase the strength value within the while loop.\n"
   ]
  },
  {
   "cell_type": "code",
   "execution_count": 37,
   "metadata": {},
   "outputs": [
    {
     "output_type": "stream",
     "name": "stdout",
     "text": [
      "Player's strength is: 5\nCurrent level is: 5\nYou did it really well and you have moved up to the next level.\nCurrent level is: 6\nYou did it really well and you have moved up to the next level.\nCurrent level is: 7\nYou did it really well and you have moved up to the next level.\nCurrent level is: 8\nYou did it really well and you have moved up to the next level.\nCurrent level is: 9\nYou did it really well and you have moved up to the next level.\n"
     ]
    }
   ],
   "source": [
    "#Intento 1\n",
    "strength = 5\n",
    "print(\"Player's strength is:\", strength)\n",
    "\n",
    "while strength < 10:\n",
    "    print(\"Current level is:\", strength)\n",
    "    strength += 1\n",
    "    print(\"You did it really well and you have moved up to the next level.\")\n"
   ]
  },
  {
   "cell_type": "markdown",
   "metadata": {},
   "source": [
    "### Exercise 2. "
   ]
  },
  {
   "cell_type": "markdown",
   "metadata": {},
   "source": [
    "To solve the following exercises it will be necessary to define a function for each section. You choose the name of those functions unless specified, but make sure you define a single parameter `whichever_list`, when calling the function it will correspond to the variable `info_list`."
   ]
  },
  {
   "cell_type": "code",
   "execution_count": 38,
   "metadata": {},
   "outputs": [],
   "source": [
    "# you can use this list or take yours from Practice 3\n",
    "info_list = [15, 'Recoletos', True, ['Recoletos', 15],  None, '8'] "
   ]
  },
  {
   "cell_type": "markdown",
   "metadata": {},
   "source": [
    "You have already read these questions below, but this time you are asked to solve it using `while` loop instead of `for`. \n",
    "\n",
    "   - Loop through `whichever_list` to print all the elements it contains. This function should return the list turned into a tuple. \n",
    "   - Loop through `whichever_list` to print all the elements it contains concatenated with the string` \"--> OK\" `. This function should return a message saying, `\"everything will be ok\"`. \n",
    "   - Loop through `whichever_list` to display all items it contains except the first one. This function should return the first element of the list. \n",
    "   - Loop through `whichever_list` to display all the items it contains except the last one. This function should return the last element of the list. "
   ]
  },
  {
   "cell_type": "code",
   "execution_count": 39,
   "metadata": {},
   "outputs": [
    {
     "output_type": "stream",
     "name": "stdout",
     "text": [
      "15\nRecoletos\nTrue\n['Recoletos', 15]\nNone\n8\n"
     ]
    },
    {
     "output_type": "execute_result",
     "data": {
      "text/plain": [
       "(15, 'Recoletos', True, ['Recoletos', 15], None, '8')"
      ]
     },
     "metadata": {},
     "execution_count": 39
    }
   ],
   "source": [
    "#Intento 1\n",
    "\"\"\"\n",
    "def pino(pino_list):\n",
    "    acum = 0\n",
    "    lista_vacia = []\n",
    "    while acum < len(pino_list):\n",
    "        print(pino_list[acum])\n",
    "        lista_vacia.append(pino_list[acum])\n",
    "        tupla_vacia = tuple(lista_vacia)\n",
    "        acum += 1\n",
    "\n",
    "    return tupla_vacia\n",
    "\n",
    "pino(pino_list = info_list)\n",
    "\"\"\"\n",
    "#Intento 2\n",
    "def pino(pino_list):\n",
    "    acum = 0\n",
    "    while acum < len(pino_list):\n",
    "        print(pino_list[acum])\n",
    "        tupla_vacia = tuple(pino_list)\n",
    "        acum += 1\n",
    "\n",
    "    return tupla_vacia\n",
    "\n",
    "pino(pino_list = info_list)"
   ]
  },
  {
   "cell_type": "code",
   "execution_count": 40,
   "metadata": {
    "tags": []
   },
   "outputs": [
    {
     "output_type": "stream",
     "name": "stdout",
     "text": [
      "15--> OK\nRecoletos--> OK\nTrue--> OK\n['Recoletos', 15]--> OK\nNone--> OK\n8--> OK\n"
     ]
    },
    {
     "output_type": "execute_result",
     "data": {
      "text/plain": [
       "'Everything will be ok'"
      ]
     },
     "metadata": {},
     "execution_count": 40
    }
   ],
   "source": [
    "def alcornoque(alcornoque_list):\n",
    "    acum = 0\n",
    "    while acum < len(alcornoque_list):\n",
    "        print(str(alcornoque_list[acum]) + \"--> OK\")\n",
    "        acum += 1\n",
    "    return \"Everything will be ok\"\n",
    "\n",
    "alcornoque(alcornoque_list = info_list)"
   ]
  },
  {
   "cell_type": "code",
   "execution_count": 41,
   "metadata": {},
   "outputs": [
    {
     "output_type": "stream",
     "name": "stdout",
     "text": [
      "Recoletos\nTrue\n['Recoletos', 15]\nNone\n8\n"
     ]
    },
    {
     "output_type": "execute_result",
     "data": {
      "text/plain": [
       "15"
      ]
     },
     "metadata": {},
     "execution_count": 41
    }
   ],
   "source": [
    "def haya(haya_list):\n",
    "    acum = 1\n",
    "    while acum >= 1 and acum <=5:\n",
    "        print(haya_list[acum])\n",
    "        acum += 1\n",
    "    return haya_list[0]\n",
    "\n",
    "haya(haya_list = info_list)  "
   ]
  },
  {
   "cell_type": "code",
   "execution_count": 42,
   "metadata": {},
   "outputs": [
    {
     "output_type": "stream",
     "name": "stdout",
     "text": [
      "Recoletos\nTrue\n['Recoletos', 15]\nNone\n"
     ]
    },
    {
     "output_type": "execute_result",
     "data": {
      "text/plain": [
       "'8'"
      ]
     },
     "metadata": {},
     "execution_count": 42
    }
   ],
   "source": [
    "def cocotero(cocotero_list):\n",
    "    acum = 1\n",
    "    while acum >= 0 and acum <=4:\n",
    "        print(cocotero_list[acum])\n",
    "        acum += 1\n",
    "    return cocotero_list[-1]\n",
    "\n",
    "cocotero(cocotero_list= info_list)  "
   ]
  },
  {
   "cell_type": "markdown",
   "metadata": {},
   "source": [
    "### Exercise 3. "
   ]
  },
  {
   "cell_type": "markdown",
   "metadata": {},
   "source": [
    "1. Define a function that performs the [Fibonacci series](https://quantdare.com/numeros-de-fibonacci/#:~:text=En%20matem%C3%A1ticas%2C%20la%20sucesi%C3%B3n%20o,nombre%20de%20n%C3%BAmero%20de%20Fibonacci.) with a `while`."
   ]
  },
  {
   "cell_type": "code",
   "execution_count": 3,
   "metadata": {},
   "outputs": [
    {
     "output_type": "stream",
     "name": "stdout",
     "text": [
      "['0', '1', '1', '2']\n['0', '1', '1', '2', '3', '5']\n['0', '1', '1', '2', '3', '5', '8', '13']\n['0', '1', '1', '2', '3', '5', '8', '13', '21', '34']\n['0', '1', '1', '2', '3', '5', '8', '13', '21', '34', '55', '89']\n['0', '1', '1', '2', '3', '5', '8', '13', '21', '34', '55', '89', '144', '233']\n['0', '1', '1', '2', '3', '5', '8', '13', '21', '34', '55', '89', '144', '233', '377', '610']\n['0', '1', '1', '2', '3', '5', '8', '13', '21', '34', '55', '89', '144', '233', '377', '610', '987', '1597']\n"
     ]
    }
   ],
   "source": [
    "#Intento 1\n",
    "\"\"\"\n",
    "lista_numeros = []\n",
    "def fibonacci(fibonacci_list):\n",
    "    acum = 0\n",
    "    z = 1\n",
    "    while True:\n",
    "        a = acum +z\n",
    "        acum += 1\n",
    "        z += \n",
    "        lista_numeros.append(str(a))\n",
    "    return lista_numeros\n",
    "\n",
    "\n",
    "fibonacci(fibonacci_list = lista_numeros)\n",
    "\"\"\"\n",
    "#Intento 2\n",
    "\"\"\"\n",
    "lista_numeros = []\n",
    "def fibonacci(fibonacci_list):\n",
    "    a = 0\n",
    "    b = 1\n",
    "    lista_numeros.append(str(a))\n",
    "    lista_numeros.append(str(b))\n",
    "    while True:\n",
    "        c = a + b\n",
    "        lista_numeros.append(str(c))\n",
    "        a = a + 1\n",
    "        d = b + c\n",
    "        lista_numeros.append(str(d))\n",
    "        a = d\n",
    "        b = c\n",
    "    return lista_numeros\n",
    "\n",
    "\n",
    "fibonacci(fibonacci_list = lista_numeros)\n",
    "\"\"\"\n",
    "#Intento 3\n",
    "\"\"\"\n",
    "lista_numeros = []\n",
    "def fibonacci(fibonacci_list):\n",
    "    a = 0\n",
    "    b = 1\n",
    "    lista_numeros.append(str(a))\n",
    "    lista_numeros.append(str(b))\n",
    "    while True:\n",
    "        c = a + b\n",
    "        lista_numeros.append(str(c))\n",
    "        a = c\n",
    "        d = b + c\n",
    "        lista_numeros.append(str(d))\n",
    "        b = d\n",
    "    return lista_numeros\n",
    "\n",
    "\n",
    "fibonacci(fibonacci_list = lista_numeros)\n",
    "\"\"\"\n",
    "\n",
    "#Intento 4 -Son los números de Fibonacci porque en pythontutor lo he visto, pero aquí no le puedo dar a print porque peta -.-\n",
    "lista_numeros = []\n",
    "def fibonacci(fibonacci_list, num_elems):\n",
    "    a = 0\n",
    "    b = 1\n",
    "    fibonacci_list.append(str(a))\n",
    "    fibonacci_list.append(str(b))\n",
    "    while len(fibonacci_list) < num_elems:\n",
    "        c = a + b\n",
    "        fibonacci_list.append(str(c))\n",
    "        a = c\n",
    "        d = b + c\n",
    "        fibonacci_list.append(str(d))\n",
    "        b = d\n",
    "        print(fibonacci_list)\n",
    "\n",
    "\n",
    "fibonacci(fibonacci_list = lista_numeros, num_elems=18)"
   ]
  },
  {
   "cell_type": "markdown",
   "metadata": {},
   "source": [
    "### Exercise 4."
   ]
  },
  {
   "cell_type": "markdown",
   "metadata": {},
   "source": [
    "To solve the following exercises it will be necessary to define a function for each section. You choose the name of those functions unless specified, but make sure you define a single parameter `whichever_list`, when calling the function it will correspond to the variable `info_list`."
   ]
  },
  {
   "cell_type": "code",
   "execution_count": 29,
   "metadata": {},
   "outputs": [],
   "source": [
    "# you can use this list or take yours from Practice 3\n",
    "info_list = [15, 'Recoletos', True, ['Recoletos', 15],  None, '8'] "
   ]
  },
  {
   "cell_type": "markdown",
   "metadata": {},
   "source": [
    "1. Define a function that saves the value of `\"nothing\"` in a variable and print it. Also, concatenate its value with the number of The Bridge and display it on the screen. \n",
    "\n",
    "   Also, display a boolean **True** if the length of the concatenated word is 6. If not, it will be **False**. The function must return the value **True** or **False** and the name of this function will be `f_s`."
   ]
  },
  {
   "cell_type": "code",
   "execution_count": 35,
   "metadata": {},
   "outputs": [
    {
     "output_type": "error",
     "ename": "NameError",
     "evalue": "name 'info_list' is not defined",
     "traceback": [
      "\u001b[1;31m---------------------------------------------------------------------------\u001b[0m",
      "\u001b[1;31mNameError\u001b[0m                                 Traceback (most recent call last)",
      "\u001b[1;32m<ipython-input-35-3bc594b80793>\u001b[0m in \u001b[0;36m<module>\u001b[1;34m\u001b[0m\n\u001b[0;32m     14\u001b[0m \u001b[1;33m\u001b[0m\u001b[0m\n\u001b[0;32m     15\u001b[0m \u001b[1;33m\u001b[0m\u001b[0m\n\u001b[1;32m---> 16\u001b[1;33m \u001b[0mpalmera\u001b[0m\u001b[1;33m(\u001b[0m\u001b[0mpalmera_list\u001b[0m \u001b[1;33m=\u001b[0m \u001b[0minfo_list\u001b[0m\u001b[1;33m)\u001b[0m\u001b[1;33m\u001b[0m\u001b[1;33m\u001b[0m\u001b[0m\n\u001b[0m",
      "\u001b[1;31mNameError\u001b[0m: name 'info_list' is not defined"
     ]
    }
   ],
   "source": [
    "def palmera(palmera_list):\n",
    "    c = \"nothing\"\n",
    "    print(c)\n",
    "    d = c + str(palmera_list[0])\n",
    "    print(d)\n",
    "    \n",
    "    def f_s(f_s_list):\n",
    "        if len(d) == 6:\n",
    "            return True\n",
    "        else:\n",
    "            return False\n",
    "    \n",
    "    print(f_s(f_s_list = palmera_list))\n",
    "    \n",
    "\n",
    "palmera(palmera_list = info_list)"
   ]
  },
  {
   "cell_type": "markdown",
   "metadata": {},
   "source": [
    "### Bonus Track."
   ]
  },
  {
   "cell_type": "markdown",
   "metadata": {},
   "source": [
    "2. Create a list `list_aux` with 7 elements, whichever you want. Next, create a function `function_use_f_s` which receives as parameters a function `some_function` and whichever list `whichever_list`. If the value of `some_function` is **True**, then delete an item from `whichever_list`. Repeat the process until `whichever_list` has no elements. The argument for `whichever_list` must be `list_aux` and for `some_function` it will be the function `f_s` from the previous point."
   ]
  },
  {
   "cell_type": "code",
   "execution_count": 19,
   "metadata": {},
   "outputs": [
    {
     "output_type": "stream",
     "name": "stdout",
     "text": [
      "['a', 'u', 'x', 'i', 'l', 'i']\n['a', 'u', 'x', 'l', 'i']\n['a', 'u', 'x', 'l']\n['a', 'u', 'x']\n['a', 'u']\n['a']\n[]\n"
     ]
    },
    {
     "output_type": "error",
     "ename": "IndexError",
     "evalue": "list index out of range",
     "traceback": [
      "\u001b[1;31m---------------------------------------------------------------------------\u001b[0m",
      "\u001b[1;31mIndexError\u001b[0m                                Traceback (most recent call last)",
      "\u001b[1;32m<ipython-input-19-1f948cea47a1>\u001b[0m in \u001b[0;36m<module>\u001b[1;34m\u001b[0m\n\u001b[0;32m      6\u001b[0m         \u001b[0mprint\u001b[0m\u001b[1;33m(\u001b[0m\u001b[0mthe_list\u001b[0m\u001b[1;33m)\u001b[0m\u001b[1;33m\u001b[0m\u001b[1;33m\u001b[0m\u001b[0m\n\u001b[0;32m      7\u001b[0m \u001b[1;33m\u001b[0m\u001b[0m\n\u001b[1;32m----> 8\u001b[1;33m \u001b[0mfunction_use_f_s\u001b[0m\u001b[1;33m(\u001b[0m\u001b[1;32mTrue\u001b[0m\u001b[1;33m,\u001b[0m \u001b[0mthe_list\u001b[0m\u001b[1;33m=\u001b[0m\u001b[0mlist_aux\u001b[0m\u001b[1;33m)\u001b[0m\u001b[1;33m\u001b[0m\u001b[1;33m\u001b[0m\u001b[0m\n\u001b[0m",
      "\u001b[1;32m<ipython-input-19-1f948cea47a1>\u001b[0m in \u001b[0;36mfunction_use_f_s\u001b[1;34m(some_function, the_list)\u001b[0m\n\u001b[0;32m      3\u001b[0m \u001b[1;32mdef\u001b[0m \u001b[0mfunction_use_f_s\u001b[0m\u001b[1;33m(\u001b[0m\u001b[0msome_function\u001b[0m\u001b[1;33m,\u001b[0m \u001b[0mthe_list\u001b[0m\u001b[1;33m)\u001b[0m\u001b[1;33m:\u001b[0m\u001b[1;33m\u001b[0m\u001b[1;33m\u001b[0m\u001b[0m\n\u001b[0;32m      4\u001b[0m     \u001b[1;32mwhile\u001b[0m \u001b[0msome_function\u001b[0m \u001b[1;33m==\u001b[0m \u001b[1;32mTrue\u001b[0m\u001b[1;33m:\u001b[0m\u001b[1;33m\u001b[0m\u001b[1;33m\u001b[0m\u001b[0m\n\u001b[1;32m----> 5\u001b[1;33m         \u001b[0mthe_list\u001b[0m\u001b[1;33m.\u001b[0m\u001b[0mremove\u001b[0m\u001b[1;33m(\u001b[0m\u001b[0mthe_list\u001b[0m\u001b[1;33m[\u001b[0m\u001b[1;33m-\u001b[0m\u001b[1;36m1\u001b[0m\u001b[1;33m]\u001b[0m\u001b[1;33m)\u001b[0m\u001b[1;33m\u001b[0m\u001b[1;33m\u001b[0m\u001b[0m\n\u001b[0m\u001b[0;32m      6\u001b[0m         \u001b[0mprint\u001b[0m\u001b[1;33m(\u001b[0m\u001b[0mthe_list\u001b[0m\u001b[1;33m)\u001b[0m\u001b[1;33m\u001b[0m\u001b[1;33m\u001b[0m\u001b[0m\n\u001b[0;32m      7\u001b[0m \u001b[1;33m\u001b[0m\u001b[0m\n",
      "\u001b[1;31mIndexError\u001b[0m: list index out of range"
     ]
    }
   ],
   "source": [
    "#Intento 1\n",
    "list_aux = [\"a\", \"u\", \"x\", \"i\", \"l\", \"i\", \"o\"]\n",
    "\n",
    "def function_use_f_s(some_function, the_list):\n",
    "    while some_function == True:\n",
    "        the_list.remove(the_list[-1])\n",
    "        print(the_list)\n",
    "\n",
    "function_use_f_s(True, the_list=list_aux)"
   ]
  },
  {
   "cell_type": "markdown",
   "metadata": {},
   "source": [
    "3. Define a function `even_numbers` that has an input parameter `arg1`, type integer. The function must return a list of numbers of size `arg1`, all of them being even numbers. \n",
    "\n",
    "   Don't use the function `print()` inside the function, but print what `even_numbers` returns when calling it with the argument `10`, just to check your function works.\n",
    "   \n",
    "```python\n",
    "print(even_numbers(10))\n",
    "```"
   ]
  },
  {
   "cell_type": "code",
   "execution_count": 17,
   "metadata": {},
   "outputs": [
    {
     "output_type": "execute_result",
     "data": {
      "text/plain": [
       "[8, 10, 12, 14]"
      ]
     },
     "metadata": {},
     "execution_count": 17
    }
   ],
   "source": [
    "#Intento 1\n",
    "def even_numbers(arg1):\n",
    "    even_numbers_list = []\n",
    "    even_numbers_list.append(arg1)\n",
    "    even_numbers_list.append(arg1 + 2)\n",
    "    even_numbers_list.append(arg1 + 4)\n",
    "    even_numbers_list.append(arg1 + 6)\n",
    "    return even_numbers_list\n",
    "\n",
    "# even_numbers(arg1 =  int(input(\"Enter a even number\"))) #El numero es 2\n",
    "even_numbers(arg1 =  8)"
   ]
  },
  {
   "cell_type": "markdown",
   "metadata": {},
   "source": [
    "4. Create a function that has an input variable `arg1`, which will be the list of even numbers from the previous section, and that removes elements from the list, one by one, if `arg1` has a size divisible by 2 and, if not, it adds just once, the value of the function `f_s` that should be a boolean (`True` or `False`).\n"
   ]
  },
  {
   "cell_type": "code",
   "execution_count": 8,
   "metadata": {},
   "outputs": [
    {
     "output_type": "error",
     "ename": "TypeError",
     "evalue": "'builtin_function_or_method' object is not subscriptable",
     "traceback": [
      "\u001b[1;31m---------------------------------------------------------------------------\u001b[0m",
      "\u001b[1;31mTypeError\u001b[0m                                 Traceback (most recent call last)",
      "\u001b[1;32m<ipython-input-8-ea0f1040874a>\u001b[0m in \u001b[0;36m<module>\u001b[1;34m\u001b[0m\n\u001b[0;32m      7\u001b[0m \u001b[1;33m\u001b[0m\u001b[0m\n\u001b[0;32m      8\u001b[0m \u001b[1;33m\u001b[0m\u001b[0m\n\u001b[1;32m----> 9\u001b[1;33m \u001b[0mcagigal\u001b[0m\u001b[1;33m(\u001b[0m\u001b[0marg2\u001b[0m \u001b[1;33m=\u001b[0m \u001b[0meven_numbers\u001b[0m\u001b[1;33m(\u001b[0m\u001b[0marg1\u001b[0m \u001b[1;33m=\u001b[0m  \u001b[0mint\u001b[0m\u001b[1;33m(\u001b[0m\u001b[0minput\u001b[0m\u001b[1;33m(\u001b[0m\u001b[1;34m\"Enter a even number\"\u001b[0m\u001b[1;33m)\u001b[0m\u001b[1;33m)\u001b[0m\u001b[1;33m)\u001b[0m\u001b[1;33m)\u001b[0m\u001b[1;33m\u001b[0m\u001b[1;33m\u001b[0m\u001b[0m\n\u001b[0m",
      "\u001b[1;32m<ipython-input-8-ea0f1040874a>\u001b[0m in \u001b[0;36mcagigal\u001b[1;34m(arg2)\u001b[0m\n\u001b[0;32m      2\u001b[0m \u001b[1;32mdef\u001b[0m \u001b[0mcagigal\u001b[0m\u001b[1;33m(\u001b[0m\u001b[0marg2\u001b[0m\u001b[1;33m)\u001b[0m\u001b[1;33m:\u001b[0m\u001b[1;33m\u001b[0m\u001b[1;33m\u001b[0m\u001b[0m\n\u001b[0;32m      3\u001b[0m     \u001b[1;32mif\u001b[0m \u001b[0mlen\u001b[0m\u001b[1;33m(\u001b[0m\u001b[0marg2\u001b[0m\u001b[1;33m)\u001b[0m \u001b[1;33m%\u001b[0m \u001b[1;36m2\u001b[0m \u001b[1;33m==\u001b[0m \u001b[1;36m0\u001b[0m\u001b[1;33m:\u001b[0m\u001b[1;33m\u001b[0m\u001b[1;33m\u001b[0m\u001b[0m\n\u001b[1;32m----> 4\u001b[1;33m         \u001b[0marg2\u001b[0m\u001b[1;33m.\u001b[0m\u001b[0mremove\u001b[0m\u001b[1;33m[\u001b[0m\u001b[1;33m-\u001b[0m\u001b[1;36m1\u001b[0m\u001b[1;33m]\u001b[0m\u001b[1;33m\u001b[0m\u001b[1;33m\u001b[0m\u001b[0m\n\u001b[0m\u001b[0;32m      5\u001b[0m     \u001b[1;32melse\u001b[0m\u001b[1;33m:\u001b[0m\u001b[1;33m\u001b[0m\u001b[1;33m\u001b[0m\u001b[0m\n\u001b[0;32m      6\u001b[0m         \u001b[0marg2\u001b[0m\u001b[1;33m.\u001b[0m\u001b[0mappend\u001b[0m\u001b[1;33m(\u001b[0m\u001b[0mf_s\u001b[0m\u001b[1;33m(\u001b[0m\u001b[1;33m)\u001b[0m\u001b[1;33m)\u001b[0m\u001b[1;33m\u001b[0m\u001b[1;33m\u001b[0m\u001b[0m\n",
      "\u001b[1;31mTypeError\u001b[0m: 'builtin_function_or_method' object is not subscriptable"
     ]
    }
   ],
   "source": [
    "#Intento 1\n",
    "def cagigal(arg1):\n",
    "    if len(arg1) % 2 == 0:\n",
    "        even_numbers_list.remove[-1]\n",
    "    else:\n",
    "        even_numbers_list.append(f_s())\n",
    "\n",
    "\n",
    "cagigal(arg1 = even_numbers)"
   ]
  },
  {
   "cell_type": "code",
   "execution_count": 34,
   "metadata": {},
   "outputs": [
    {
     "output_type": "error",
     "ename": "NameError",
     "evalue": "name 'f_s' is not defined",
     "traceback": [
      "\u001b[1;31m---------------------------------------------------------------------------\u001b[0m",
      "\u001b[1;31mNameError\u001b[0m                                 Traceback (most recent call last)",
      "\u001b[1;32m<ipython-input-34-502889258450>\u001b[0m in \u001b[0;36m<module>\u001b[1;34m\u001b[0m\n\u001b[0;32m     11\u001b[0m \u001b[0mreturned\u001b[0m \u001b[1;33m=\u001b[0m \u001b[0meven_numbers\u001b[0m\u001b[1;33m(\u001b[0m\u001b[0marg1\u001b[0m\u001b[1;33m=\u001b[0m \u001b[1;36m3\u001b[0m\u001b[1;33m)\u001b[0m\u001b[1;33m\u001b[0m\u001b[1;33m\u001b[0m\u001b[0m\n\u001b[0;32m     12\u001b[0m \u001b[0mreturned\u001b[0m\u001b[1;33m\u001b[0m\u001b[1;33m\u001b[0m\u001b[0m\n\u001b[1;32m---> 13\u001b[1;33m \u001b[0mcagigal\u001b[0m\u001b[1;33m(\u001b[0m\u001b[0marg1\u001b[0m \u001b[1;33m=\u001b[0m \u001b[1;33m[\u001b[0m\u001b[1;36m3\u001b[0m\u001b[1;33m]\u001b[0m\u001b[1;33m)\u001b[0m\u001b[1;33m\u001b[0m\u001b[1;33m\u001b[0m\u001b[0m\n\u001b[0m",
      "\u001b[1;32m<ipython-input-34-502889258450>\u001b[0m in \u001b[0;36mcagigal\u001b[1;34m(arg1)\u001b[0m\n\u001b[0;32m      6\u001b[0m         \u001b[0mprint\u001b[0m\u001b[1;33m(\u001b[0m\u001b[0marg1\u001b[0m\u001b[1;33m)\u001b[0m\u001b[1;33m\u001b[0m\u001b[1;33m\u001b[0m\u001b[0m\n\u001b[0;32m      7\u001b[0m     \u001b[1;32melse\u001b[0m\u001b[1;33m:\u001b[0m\u001b[1;33m\u001b[0m\u001b[1;33m\u001b[0m\u001b[0m\n\u001b[1;32m----> 8\u001b[1;33m         \u001b[0mbool_\u001b[0m \u001b[1;33m=\u001b[0m \u001b[0mf_s\u001b[0m\u001b[1;33m(\u001b[0m\u001b[1;33m)\u001b[0m\u001b[1;33m\u001b[0m\u001b[1;33m\u001b[0m\u001b[0m\n\u001b[0m\u001b[0;32m      9\u001b[0m         \u001b[0marg1\u001b[0m\u001b[1;33m.\u001b[0m\u001b[0mappend\u001b[0m\u001b[1;33m(\u001b[0m\u001b[0mbool_\u001b[0m\u001b[1;33m)\u001b[0m\u001b[1;33m\u001b[0m\u001b[1;33m\u001b[0m\u001b[0m\n\u001b[0;32m     10\u001b[0m \u001b[1;33m\u001b[0m\u001b[0m\n",
      "\u001b[1;31mNameError\u001b[0m: name 'f_s' is not defined"
     ]
    }
   ],
   "source": [
    "#Intento 2\n",
    "def cagigal(arg1):\n",
    "    if len(arg1) % 2 == 0:\n",
    "        arg1.remove(arg1[-1])\n",
    "        print(arg1)\n",
    "    else:\n",
    "        bool_ = f_s()\n",
    "        arg1.append(bool_)\n",
    "\n",
    "returned = even_numbers(arg1= 3)\n",
    "returned\n",
    "cagigal(arg1 = [3])"
   ]
  },
  {
   "cell_type": "markdown",
   "metadata": {},
   "source": [
    "!['nicetry'](https://i.pinimg.com/originals/36/ab/81/36ab81cd8d63cf7c4a08f39403698c77.jpg)"
   ]
  },
  {
   "cell_type": "code",
   "execution_count": null,
   "metadata": {},
   "outputs": [],
   "source": []
  }
 ],
 "metadata": {
  "kernelspec": {
   "name": "python3",
   "display_name": "Python 3.9.0 64-bit",
   "metadata": {
    "interpreter": {
     "hash": "af698c02722c81864863429d928a3bd8a8dcc030c4156359d3ef8b980fb01319"
    }
   }
  },
  "language_info": {
   "codemirror_mode": {
    "name": "ipython",
    "version": 3
   },
   "file_extension": ".py",
   "mimetype": "text/x-python",
   "name": "python",
   "nbconvert_exporter": "python",
   "pygments_lexer": "ipython3",
   "version": "3.9.0-final"
  }
 },
 "nbformat": 4,
 "nbformat_minor": 4
}