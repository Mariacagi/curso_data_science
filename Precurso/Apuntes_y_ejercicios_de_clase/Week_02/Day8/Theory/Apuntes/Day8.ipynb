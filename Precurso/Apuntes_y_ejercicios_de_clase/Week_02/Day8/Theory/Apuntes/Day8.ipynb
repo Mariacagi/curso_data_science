{
 "metadata": {
  "language_info": {
   "codemirror_mode": {
    "name": "ipython",
    "version": 3
   },
   "file_extension": ".py",
   "mimetype": "text/x-python",
   "name": "python",
   "nbconvert_exporter": "python",
   "pygments_lexer": "ipython3",
   "version": "3.9.0-final"
  },
  "orig_nbformat": 2,
  "kernelspec": {
   "name": "python3",
   "display_name": "Python 3.9.0 64-bit",
   "metadata": {
    "interpreter": {
     "hash": "af698c02722c81864863429d928a3bd8a8dcc030c4156359d3ef8b980fb01319"
    }
   }
  }
 },
 "nbformat": 4,
 "nbformat_minor": 2,
 "cells": [
  {
   "cell_type": "code",
   "execution_count": 1,
   "metadata": {},
   "outputs": [
    {
     "output_type": "stream",
     "name": "stdout",
     "text": [
      "7\n5\nm\nZ\n"
     ]
    }
   ],
   "source": [
    "#While\n",
    "lista =  [7, 5, \"m\", \"Z\"]\n",
    "\n",
    "for elem in lista:\n",
    "    print(elem)"
   ]
  },
  {
   "cell_type": "code",
   "execution_count": 2,
   "metadata": {},
   "outputs": [
    {
     "output_type": "stream",
     "name": "stdout",
     "text": [
      "3\n"
     ]
    }
   ],
   "source": [
    "lista = [2, 4, 6, 8, 10]\n",
    "\n",
    "contador = 0\n",
    "for elem in lista:\n",
    "    if elem > 5:\n",
    "        contador =  contador + 1\n",
    "\n",
    "print(contador)"
   ]
  },
  {
   "cell_type": "code",
   "execution_count": 4,
   "metadata": {},
   "outputs": [
    {
     "output_type": "stream",
     "name": "stdout",
     "text": [
      "1\n2\n3\n"
     ]
    }
   ],
   "source": [
    "lista = [2, 4, 6, 8, 10]\n",
    "\n",
    "contador = 0\n",
    "for elem in lista:\n",
    "    if elem > 5:\n",
    "        contador =  contador + 1\n",
    "        print(contador)\n"
   ]
  },
  {
   "cell_type": "code",
   "execution_count": null,
   "metadata": {},
   "outputs": [],
   "source": [
    "#while trabaja con condiciones. Lo que ocurra debajo debajo del igual se va a repetir hasta que deje de serlo.\n",
    "\n",
    "c = 0\n",
    "while c == 0:\n",
    "    print(2) #Mejor no ejecutarlo porque va a ser infinito ya que c siempre va a ser 0"
   ]
  },
  {
   "cell_type": "code",
   "execution_count": 5,
   "metadata": {},
   "outputs": [
    {
     "output_type": "stream",
     "name": "stdout",
     "text": [
      "Fuera del while\n"
     ]
    }
   ],
   "source": [
    "while 2 == 3 and 0 == 0:\n",
    "    print(5)\n",
    "print(\"Fuera del while\")"
   ]
  },
  {
   "cell_type": "code",
   "execution_count": 7,
   "metadata": {},
   "outputs": [
    {
     "output_type": "stream",
     "name": "stdout",
     "text": [
      "5\nFuera del while\n"
     ]
    }
   ],
   "source": [
    "while 2 == 2 and 0 == 0:\n",
    "    print(5)\n",
    "    break\n",
    "print(\"Fuera del while\")"
   ]
  },
  {
   "cell_type": "code",
   "execution_count": 8,
   "metadata": {},
   "outputs": [
    {
     "output_type": "stream",
     "name": "stdout",
     "text": [
      "Contraseña incorrecta\n",
      "Contraseña incorrecta\n",
      "Contraseña incorrecta\n",
      "Contraseña correcta\n"
     ]
    }
   ],
   "source": [
    "password = \"TB\"\n",
    "\n",
    "while True:\n",
    "    s = input(\"Introduce la contraseña: \") #While va a seguir ejecutando hasta que la contraseña sea correcta\n",
    "    if s == password:\n",
    "        print(\"Contraseña correcta\")\n",
    "        break\n",
    "    else: \n",
    "        print(\"Contraseña incorrecta\")"
   ]
  },
  {
   "cell_type": "code",
   "execution_count": 9,
   "metadata": {},
   "outputs": [
    {
     "output_type": "stream",
     "name": "stdout",
     "text": [
      "Contraseña correcta\n"
     ]
    }
   ],
   "source": [
    "password = \"TB\"\n",
    "s = \"\"\n",
    "while s != password:\n",
    "    s = input(\"Introduce la contraseña: \")\n",
    "    if s == password:\n",
    "        print(\"Contraseña correcta\")\n",
    "        break\n",
    "    else: \n",
    "        print(\"Contraseña incorrecta\")"
   ]
  },
  {
   "cell_type": "code",
   "execution_count": 13,
   "metadata": {},
   "outputs": [
    {
     "output_type": "stream",
     "name": "stdout",
     "text": [
      "0\n1\n2\n3\nFuera del while\n"
     ]
    }
   ],
   "source": [
    "contador = 0\n",
    "\n",
    "while contador != 4: #Para que sea 5 \n",
    "    print(contador)\n",
    "    contador +=1\n",
    "print(\"Fuera del while\")"
   ]
  },
  {
   "cell_type": "code",
   "execution_count": 14,
   "metadata": {},
   "outputs": [
    {
     "output_type": "stream",
     "name": "stdout",
     "text": [
      "a\nb\nc\nd\n"
     ]
    }
   ],
   "source": [
    "lista = [\"a\", \"b\", \"c\", \"d\"]\n",
    "print(lista[0])\n",
    "print(lista[1])\n",
    "print(lista[2])\n",
    "print(lista[3])"
   ]
  },
  {
   "cell_type": "code",
   "execution_count": 18,
   "metadata": {},
   "outputs": [
    {
     "output_type": "stream",
     "name": "stdout",
     "text": [
      "a\nb\nc\nd\n"
     ]
    },
    {
     "output_type": "error",
     "ename": "IndexError",
     "evalue": "list index out of range",
     "traceback": [
      "\u001b[1;31m---------------------------------------------------------------------------\u001b[0m",
      "\u001b[1;31mIndexError\u001b[0m                                Traceback (most recent call last)",
      "\u001b[1;32m<ipython-input-18-6a56ec239b25>\u001b[0m in \u001b[0;36m<module>\u001b[1;34m\u001b[0m\n\u001b[0;32m      3\u001b[0m \u001b[0macum\u001b[0m \u001b[1;33m=\u001b[0m \u001b[1;36m0\u001b[0m\u001b[1;33m\u001b[0m\u001b[1;33m\u001b[0m\u001b[0m\n\u001b[0;32m      4\u001b[0m \u001b[1;32mwhile\u001b[0m \u001b[1;32mTrue\u001b[0m\u001b[1;33m:\u001b[0m \u001b[1;31m#Esto es lo mismo que poner 1 == 1 porque es True. While True significa mientras siempre sea True, y true puede ser cualquier cosa que sea True\u001b[0m\u001b[1;33m\u001b[0m\u001b[1;33m\u001b[0m\u001b[0m\n\u001b[1;32m----> 5\u001b[1;33m     \u001b[0mprint\u001b[0m\u001b[1;33m(\u001b[0m\u001b[0mlista\u001b[0m\u001b[1;33m[\u001b[0m\u001b[0macum\u001b[0m\u001b[1;33m]\u001b[0m\u001b[1;33m)\u001b[0m\u001b[1;33m\u001b[0m\u001b[1;33m\u001b[0m\u001b[0m\n\u001b[0m\u001b[0;32m      6\u001b[0m     \u001b[0macum\u001b[0m \u001b[1;33m+=\u001b[0m \u001b[1;36m1\u001b[0m\u001b[1;33m\u001b[0m\u001b[1;33m\u001b[0m\u001b[0m\n\u001b[0;32m      7\u001b[0m \u001b[1;33m\u001b[0m\u001b[0m\n",
      "\u001b[1;31mIndexError\u001b[0m: list index out of range"
     ]
    }
   ],
   "source": [
    "lista = [\"a\", \"b\", \"c\", \"d\"]\n",
    "\n",
    "acum = 0\n",
    "while True: #Esto es lo mismo que poner 1 == 1 porque es True. While True significa mientras siempre sea True, y true puede ser cualquier cosa que sea True\n",
    "    print(lista[acum])\n",
    "    acum += 1\n",
    "\n",
    "#Da error porque ya no hay otro elemento para imprimir, por tanto está fuera de rango"
   ]
  },
  {
   "cell_type": "code",
   "execution_count": 19,
   "metadata": {},
   "outputs": [
    {
     "output_type": "stream",
     "name": "stdout",
     "text": [
      "a\nb\nc\nd\n"
     ]
    }
   ],
   "source": [
    "lista = [\"a\", \"b\", \"c\", \"d\"]\n",
    "\n",
    "acum = 0\n",
    "while acum < len(lista): #Esto es lo mismo que poner 1 == 1 porque es True. While True significa mientras siempre sea True, y true puede ser cualquier cosa que sea True\n",
    "    print(lista[acum])\n",
    "    acum += 1"
   ]
  },
  {
   "cell_type": "code",
   "execution_count": 3,
   "metadata": {},
   "outputs": [
    {
     "output_type": "stream",
     "name": "stdout",
     "text": [
      "a\nb\n"
     ]
    }
   ],
   "source": [
    "lista = [\"a\", \"b\", \"c\", \"d\"]\n",
    "\n",
    "acum = 0\n",
    "while acum < len(lista): \n",
    "    if acum == 2:\n",
    "        break\n",
    "    print(lista[acum])\n",
    "    acum += 1"
   ]
  },
  {
   "cell_type": "code",
   "execution_count": 2,
   "metadata": {},
   "outputs": [
    {
     "output_type": "stream",
     "name": "stdout",
     "text": [
      "Hola\n",
      "Adiós\n"
     ]
    }
   ],
   "source": [
    "import time\n",
    "\n",
    "while True:\n",
    "    print(\"Hola\")\n",
    "    time.sleep(1) #Tarda un segundo en mostrar adiós\n",
    "    print(\"Adiós\")\n",
    "    break"
   ]
  },
  {
   "cell_type": "code",
   "execution_count": 1,
   "metadata": {},
   "outputs": [
    {
     "output_type": "stream",
     "name": "stdout",
     "text": [
      "b\nc\nd\n"
     ]
    }
   ],
   "source": [
    "lista = [\"a\", \"b\", \"c\", \"d\", \"e\"]\n",
    "\n",
    "acum = 1\n",
    "while 1 <= acum and acum <=3: \n",
    "    print(lista[acum])\n",
    "    acum += 1"
   ]
  },
  {
   "cell_type": "code",
   "execution_count": 4,
   "metadata": {},
   "outputs": [
    {
     "output_type": "stream",
     "name": "stdout",
     "text": [
      "b\nd\n"
     ]
    }
   ],
   "source": [
    "#Para mostrar b y d\n",
    "\n",
    "lista = [\"a\", \"b\", \"c\", \"d\", \"e\"]\n",
    "\n",
    "acum = 1\n",
    "while 1 <= acum and acum <=3: \n",
    "    if acum == 2:\n",
    "        acum += 1\n",
    "        continue\n",
    "    print(lista[acum])\n",
    "    acum += 1\n"
   ]
  },
  {
   "cell_type": "code",
   "execution_count": 5,
   "metadata": {},
   "outputs": [
    {
     "output_type": "stream",
     "name": "stdout",
     "text": [
      "b\nd\n"
     ]
    }
   ],
   "source": [
    "#Para mostrar b y d\n",
    "\n",
    "lista = [\"a\", \"b\", \"c\", \"d\", \"e\"]\n",
    "\n",
    "acum = 1\n",
    "while 1 <= acum and acum <=3: \n",
    "    print(lista[acum])\n",
    "    acum += 2"
   ]
  },
  {
   "cell_type": "code",
   "execution_count": 6,
   "metadata": {},
   "outputs": [
    {
     "output_type": "stream",
     "name": "stdout",
     "text": [
      "a\nc\ne\n"
     ]
    }
   ],
   "source": [
    "#Para mostrar a c y e\n",
    "\n",
    "lista = [\"a\", \"b\", \"c\", \"d\", \"e\"]\n",
    "\n",
    "acum = 0\n",
    "while acum < len(lista): \n",
    "    print(lista[acum])\n",
    "    acum += 2"
   ]
  },
  {
   "cell_type": "code",
   "execution_count": 7,
   "metadata": {},
   "outputs": [
    {
     "output_type": "stream",
     "name": "stdout",
     "text": [
      "María Cagigas\n"
     ]
    }
   ],
   "source": [
    "lista = ['María Cagigas','Kapil Dadlani','Daniel del Valle','María del Mar Delgado Domínguez','Estela Falgas','Alfonso Garcia Mateo-Sagasta','Javier Gil Antuñano Foncillas','Juan Guerrero Enriquez','Antonio Leal','Miguel Merry del Val','Miguel','Marta Miñana','Roberto Molleda','Javier Olcoz','Ariadna Puigventos','Maria Angeles Rodriguez','Leonardo Sánchez Soler','anais villegas']\n",
    "\n",
    "import random\n",
    "\n",
    "alumno_aleatorio = random.choice(lista)\n",
    "print(alumno_aleatorio)"
   ]
  },
  {
   "cell_type": "code",
   "execution_count": null,
   "metadata": {},
   "outputs": [],
   "source": [
    "#Para todas las condiciones de escribir un input\n",
    "x = input(\"Responde si o no\").upper() # El Si lo pasa a SI, al igual que si ponemos (si en minusculas) lo pasa a SI\n",
    "#Para verlo todo en mayusculas y trabajarlo todo en un mismo formato\n"
   ]
  },
  {
   "cell_type": "code",
   "execution_count": 9,
   "metadata": {},
   "outputs": [
    {
     "output_type": "stream",
     "name": "stdout",
     "text": [
      "[0, 1, 2, 3, 4, 5, 6, 7, 8, 9, 10, 11, 12, 13, 14, 15, 16, 17, 18, 19, 20, 21, 22, 23, 24, 25, 26, 27, 28, 29, 30, 31, 32, 33, 34, 35, 36, 37, 38, 39, 40, 41, 42, 43, 44, 45, 46, 47, 48, 49, 50, 51, 52, 53, 54, 55, 56, 57, 58, 59, 60, 61, 62, 63, 64, 65, 66, 67, 68, 69, 70]\n"
     ]
    }
   ],
   "source": [
    "#lista(range(start, stop (este numero siempre sin incluirlo), incrementa))\n",
    "print(list(range(0, 71, 1))) #El último número es el 70\n"
   ]
  },
  {
   "cell_type": "code",
   "execution_count": 14,
   "metadata": {},
   "outputs": [
    {
     "output_type": "stream",
     "name": "stdout",
     "text": [
      "Valor de i: 0\nMallorca\nEspaña\n-------------\nValor de i: 1\nMerida\nFrancia\n-------------\nValor de i: 2\nMadrid\nItalia\n-------------\n"
     ]
    }
   ],
   "source": [
    "lista_a = [\"Mallorca\", \"Merida\", \"Madrid\"]\n",
    "lista_b = [\"España\", \"Francia\", \"Italia\"]\n",
    "\n",
    "for i in [0, 1, 2]: #Esta cogiendo el valor, no la posición, es decir si lo cambiamos a 2, 4, 6 cogerá 2, 4, 6 y dará error porque luego lo tenemos puesto en lista_a[i] e i equivale a posición con el valor que le damos arriba\n",
    "    print(\"Valor de i:\", i)\n",
    "    print(lista_a[i])\n",
    "    print(lista_b[i])\n",
    "    print(\"-------------\")"
   ]
  },
  {
   "cell_type": "code",
   "execution_count": 27,
   "metadata": {},
   "outputs": [
    {
     "output_type": "stream",
     "name": "stdout",
     "text": [
      "Mallorca : Francia\nMerida : España\nMadrid : Italia\n['Mallorca', 'Francia', 'Merida', 'España', 'Madrid', 'Italia']\n"
     ]
    }
   ],
   "source": [
    "lista_a = [\"Mallorca\", \"Merida\", \"Madrid\"]\n",
    "lista_b = [\"España\", \"Francia\", \"Italia\"]\n",
    "lista_c = []\n",
    "\n",
    "#Para juntar mallorca francia merida españa madrid italia\n",
    "\n",
    "for i in range(len(lista_a)):\n",
    "    if i == 0: #La primera iteración\n",
    "        print(lista_a[i], \":\", lista_b[i+1])\n",
    "        lista_c.append(lista_a[i])\n",
    "        lista_c.append(lista_b[i+1])\n",
    "    elif i == 1: #La segunda iteración\n",
    "        print(lista_a[i], \":\", lista_b[i-1])\n",
    "        lista_c.append(lista_a[i])\n",
    "        lista_c.append(lista_b[i-1])\n",
    "    else: #es la tercera iteracion\n",
    "        print(lista_a[i], \":\", lista_b[i])\n",
    "        lista_c.append(lista_a[i])\n",
    "        lista_c.append(lista_b[i])\n",
    "print(lista_c)"
   ]
  },
  {
   "cell_type": "code",
   "execution_count": null,
   "metadata": {},
   "outputs": [],
   "source": []
  }
 ]
}