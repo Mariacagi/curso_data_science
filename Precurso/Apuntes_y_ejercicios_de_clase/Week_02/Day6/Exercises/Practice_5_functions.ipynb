{
 "cells": [
  {
   "cell_type": "markdown",
   "metadata": {},
   "source": [
    "# Python | day 5 | functions"
   ]
  },
  {
   "cell_type": "markdown",
   "metadata": {},
   "source": [
    "In Python, a function is a group of related statements that performs a specific task."
   ]
  },
  {
   "cell_type": "markdown",
   "metadata": {},
   "source": [
    "https://www.programiz.com/python-programming/function"
   ]
  },
  {
   "cell_type": "markdown",
   "metadata": {},
   "source": [
    "#### Difference between `return` and `print`.\n",
    "\n",
    "Take some minutes to understand the difference between `return` and `print`, it seems to be the same, but they are not and it's important you understand the difference. "
   ]
  },
  {
   "cell_type": "code",
   "execution_count": 3,
   "metadata": {},
   "outputs": [
    {
     "name": "stdout",
     "output_type": "stream",
     "text": [
      "2\n",
      "4\n",
      "8\n"
     ]
    }
   ],
   "source": [
    "def suma(a,b):\n",
    "    print(a)\n",
    "    return a+b\n",
    "\n",
    "print(suma(suma(2,2),4))"
   ]
  },
  {
   "cell_type": "markdown",
   "metadata": {},
   "source": [
    "#### Comments in a function."
   ]
  },
  {
   "cell_type": "code",
   "execution_count": 4,
   "metadata": {},
   "outputs": [],
   "source": [
    "def say_hello(name):\n",
    "    \"\"\"\n",
    "    Given a name as an argument, \n",
    "    the function return a string greeting\n",
    "    the name given. \n",
    "    \"\"\"\n",
    "    return f\"hello {name}\""
   ]
  },
  {
   "cell_type": "code",
   "execution_count": 6,
   "metadata": {},
   "outputs": [
    {
     "name": "stdout",
     "output_type": "stream",
     "text": [
      "hello Clara\n"
     ]
    }
   ],
   "source": [
    "print(say_hello(\"Clara\"))"
   ]
  },
  {
   "cell_type": "code",
   "execution_count": 7,
   "metadata": {},
   "outputs": [
    {
     "name": "stdout",
     "output_type": "stream",
     "text": [
      "Help on function say_hello in module __main__:\n",
      "\n",
      "say_hello(name)\n",
      "    Given a name as an argument, \n",
      "    the function return a string greeting\n",
      "    the name given.\n",
      "\n"
     ]
    }
   ],
   "source": [
    "help(say_hello)"
   ]
  },
  {
   "cell_type": "markdown",
   "metadata": {},
   "source": [
    "### Exercise 1. "
   ]
  },
  {
   "cell_type": "markdown",
   "metadata": {},
   "source": [
    "To solve the following exercises it will be necessary to define a function for each section. You choose the name of those functions unless specified, but make sure you define a single parameter `whichever_list`, when calling the function it will correspond to the variable `info_list`.\n"
   ]
  },
  {
   "cell_type": "code",
   "execution_count": 15,
   "metadata": {},
   "outputs": [],
   "source": [
    "# you can use this list or take yours from Practice 3\n",
    "info_list = [15, 'Recoletos', True, ['Recoletos', 15],  None, '8'] "
   ]
  },
  {
   "cell_type": "code",
   "execution_count": null,
   "metadata": {},
   "outputs": [],
   "source": []
  },
  {
   "cell_type": "markdown",
   "metadata": {},
   "source": [
    "1. Display on the screen `\"I like the tranquility\"` if you like the mountains more and `\"I'd love to live in Malaga\"` if you like the beach more.\n",
    "\n",
    "**Remember you should define a function which do exactly that but for a list called `whichever_list`, the parameter. \n",
    "After you've done that call the funtion giving `info_list` as the argument.**"
   ]
  },
  {
   "cell_type": "code",
   "execution_count": 50,
   "metadata": {},
   "outputs": [
    {
     "output_type": "stream",
     "name": "stdout",
     "text": [
      "I like the tranquility\n"
     ]
    }
   ],
   "source": [
    "def platano(my_list):\n",
    "    if my_list[2] == True:\n",
    "        print (\"I like the tranquility\") #Si es true me gusta la montaña\n",
    "    else:\n",
    "        print (\"I'd love to live in Malaga\") #Si no es true me gusta la playa\n",
    "\n",
    "platano(my_list=info_list)\n"
   ]
  },
  {
   "cell_type": "markdown",
   "metadata": {},
   "source": [
    "2. Print `\"Today I am tired\"` if you have slept less than 7 hours or `\"Today I conquer the world\"` if you have slept more than 7 hours."
   ]
  },
  {
   "cell_type": "code",
   "execution_count": 51,
   "metadata": {},
   "outputs": [
    {
     "output_type": "stream",
     "name": "stdout",
     "text": [
      "Today I conquer the world\n"
     ]
    }
   ],
   "source": [
    "def naranja(my_list):\n",
    "    if int(my_list[-1]) <= 7:\n",
    "        print (\"Today I am tired\") \n",
    "    else:\n",
    "        print (\"Today I conquer the world\")\n",
    "\n",
    "naranja(my_list=info_list)"
   ]
  },
  {
   "cell_type": "markdown",
   "metadata": {},
   "source": [
    "3. Loop through `whichever_list` to print all the elements it contains. This function should return the list turned into a tuple. "
   ]
  },
  {
   "cell_type": "code",
   "execution_count": 52,
   "metadata": {},
   "outputs": [
    {
     "output_type": "stream",
     "name": "stdout",
     "text": [
      "15\nRecoletos\nTrue\n['Recoletos', 15]\nNone\n8\n(15, 'Recoletos', True, ['Recoletos', 15], None, '8')\n"
     ]
    }
   ],
   "source": [
    "lista_vacia = []\n",
    "\n",
    "def pera(my_list):\n",
    "    for x in my_list:\n",
    "        print(x)\n",
    "        lista_vacia.append(x)\n",
    "\n",
    "    z = tuple(lista_vacia)\n",
    "    print(z)\n",
    "\n",
    "pera(my_list=info_list)"
   ]
  },
  {
   "cell_type": "markdown",
   "metadata": {},
   "source": [
    "4. Loop through `whichever_list` to print all the elements it contains concatenated with the string` \"--> OK\" `. This function should return a message saying, `\"everything will be ok\"`. \n"
   ]
  },
  {
   "cell_type": "code",
   "execution_count": 53,
   "metadata": {},
   "outputs": [
    {
     "output_type": "stream",
     "name": "stdout",
     "text": [
      "15--> OK Recoletos--> OK True--> OK ['Recoletos', 15]--> OK None--> OK 8--> OK "
     ]
    },
    {
     "output_type": "execute_result",
     "data": {
      "text/plain": [
       "'everyting will be ok'"
      ]
     },
     "metadata": {},
     "execution_count": 53
    }
   ],
   "source": [
    "#Intento 1.1\n",
    "def manzana(my_list):\n",
    "    for x in my_list:\n",
    "        print(x, end= \"--> OK \")\n",
    "    return \"everyting will be ok\"\n",
    "\n",
    "manzana(my_list=info_list)"
   ]
  },
  {
   "cell_type": "code",
   "execution_count": 54,
   "metadata": {},
   "outputs": [
    {
     "output_type": "stream",
     "name": "stdout",
     "text": [
      "15--> OK Recoletos--> OK True--> OK ['Recoletos', 15]--> OK None--> OK 8--> OK everyting will be ok\n"
     ]
    }
   ],
   "source": [
    "#No entiendo por qué si pongo print al final me imprime de distinta forma, es decir, sin salto de línea\n",
    "#Intento 1.2\n",
    "def manzana(my_list):\n",
    "    for x in my_list:\n",
    "        print(x, end= \"--> OK \")\n",
    "    return \"everyting will be ok\"\n",
    "\n",
    "print(manzana(my_list=info_list))"
   ]
  },
  {
   "cell_type": "code",
   "execution_count": 55,
   "metadata": {},
   "outputs": [
    {
     "output_type": "stream",
     "name": "stdout",
     "text": [
      "15--> OK\nRecoletos--> OK\nTrue--> OK\n['Recoletos', 15]--> OK\nNone--> OK\n8--> OK\n"
     ]
    },
    {
     "output_type": "execute_result",
     "data": {
      "text/plain": [
       "'everyting will be ok'"
      ]
     },
     "metadata": {},
     "execution_count": 55
    }
   ],
   "source": [
    "#Intento 2 #No se a cual de las dos opciones se refería, asi que he hecho las dos.\n",
    "def aguacate(my_list):\n",
    "    for x in my_list:\n",
    "        print(str(x) + \"--> OK\")\n",
    "    return \"everyting will be ok\"\n",
    "\n",
    "aguacate(my_list=info_list)"
   ]
  },
  {
   "cell_type": "markdown",
   "metadata": {},
   "source": [
    "5. Loop through `whichever_list` to display all items it contains except the first one. This function should return the first element of the list. "
   ]
  },
  {
   "cell_type": "code",
   "execution_count": 57,
   "metadata": {},
   "outputs": [
    {
     "output_type": "stream",
     "name": "stdout",
     "text": [
      "Recoletos\nTrue\n['Recoletos', 15]\nNone\n8\n"
     ]
    },
    {
     "output_type": "execute_result",
     "data": {
      "text/plain": [
       "15"
      ]
     },
     "metadata": {},
     "execution_count": 57
    }
   ],
   "source": [
    "def uvas(my_list):\n",
    "    for x in my_list[1:6]:\n",
    "        print(x)\n",
    "    return my_list[0]\n",
    "\n",
    "uvas(my_list=info_list)"
   ]
  },
  {
   "cell_type": "markdown",
   "metadata": {},
   "source": [
    "6. Loop through `whichever_list` to display all the items it contains except the last one. This function should return the last element of the list. "
   ]
  },
  {
   "cell_type": "code",
   "execution_count": 58,
   "metadata": {},
   "outputs": [
    {
     "output_type": "stream",
     "name": "stdout",
     "text": [
      "15\nRecoletos\nTrue\n['Recoletos', 15]\nNone\n"
     ]
    },
    {
     "output_type": "execute_result",
     "data": {
      "text/plain": [
       "'8'"
      ]
     },
     "metadata": {},
     "execution_count": 58
    }
   ],
   "source": [
    "def kiwi(my_list):\n",
    "    for x in my_list[0:5]:\n",
    "        print(x)\n",
    "    return my_list[5]\n",
    "\n",
    "kiwi(my_list=info_list)"
   ]
  },
  {
   "cell_type": "markdown",
   "metadata": {},
   "source": [
    "7. Loop through `whichever_list` to show all the elements it contains except the street number and the hours you've slept."
   ]
  },
  {
   "cell_type": "code",
   "execution_count": 2,
   "metadata": {},
   "outputs": [
    {
     "output_type": "stream",
     "name": "stdout",
     "text": [
      "Recoletos\nTrue\n['Recoletos', 15]\nNone\n"
     ]
    }
   ],
   "source": [
    "#Intento 1\n",
    "\"\"\"\n",
    "info_list = [15, 'Recoletos', True, ['Recoletos', 15],  None, '8'] \n",
    "\n",
    "def cereza(my_list):\n",
    "    for x in my_list:\n",
    "        if my_list != 'Recoletos' and my_list != '8':\n",
    "            print(x)\n",
    "\n",
    "cereza(my_list=info_list)\n",
    "\"\"\"\n",
    "#Intento 2\n",
    "\"\"\"\n",
    "info_list = [15, 'Recoletos', True, ['Recoletos', 15],  None, '8'] \n",
    "\n",
    "def cereza(my_list):\n",
    "    for x in my_list:\n",
    "        if x != 'Recoletos' and x != '8':\n",
    "            print(x)\n",
    "\n",
    "cereza(my_list=info_list)\n",
    "\"\"\"\n",
    "#Intento 3\n",
    "\n",
    "info_list = [15, 'Recoletos', True, ['Recoletos', 15],  None, '8'] \n",
    "\n",
    "def cereza(my_list):\n",
    " for x in my_list:\n",
    "     if x == my_list[0]:\n",
    "         continue\n",
    "     elif x == my_list[-1]:\n",
    "          continue\n",
    "     else:\n",
    "        print (x)\n",
    "\n",
    "\n",
    "\n",
    "cereza(my_list=info_list)"
   ]
  },
  {
   "cell_type": "markdown",
   "metadata": {},
   "source": [
    "8. Loop through `whichever_list` to print all the elements it contains except the first element of the list which is in fourth position (`'Recoletos'`). This function should return the lenght of that element. "
   ]
  },
  {
   "cell_type": "code",
   "execution_count": 3,
   "metadata": {},
   "outputs": [
    {
     "data": {
      "text/plain": [
       "'Recoletos'"
      ]
     },
     "execution_count": 3,
     "metadata": {},
     "output_type": "execute_result"
    }
   ],
   "source": [
    "info_list[3][0]"
   ]
  },
  {
   "cell_type": "code",
   "execution_count": 160,
   "metadata": {},
   "outputs": [
    {
     "output_type": "error",
     "ename": "SyntaxError",
     "evalue": "cannot assign to function call (<ipython-input-160-384cba583afe>, line 18)",
     "traceback": [
      "\u001b[1;36m  File \u001b[1;32m\"<ipython-input-160-384cba583afe>\"\u001b[1;36m, line \u001b[1;32m18\u001b[0m\n\u001b[1;33m    for str(y) in str(x):\u001b[0m\n\u001b[1;37m        ^\u001b[0m\n\u001b[1;31mSyntaxError\u001b[0m\u001b[1;31m:\u001b[0m cannot assign to function call\n"
     ]
    }
   ],
   "source": [
    "#Intento 1\n",
    "\"\"\"\n",
    "def albaricoque(my_list):\n",
    "    for x in my_list:\n",
    "        for y in x:\n",
    "            if y == x[3][0]\n",
    "            break\n",
    "        print(x)\n",
    "    return my_list[5]\n",
    "\n",
    "albaricoque(my_list=info_list)\n",
    "\"\"\"\n",
    "\n",
    "#Intento 2\n",
    "\"\"\"\n",
    "def albaricoque(my_list):\n",
    "    for x in my_list:\n",
    "        for str(y) in str(x):\n",
    "            if str(y) == \"Recoletos\":\n",
    "                break\n",
    "        print(x)\n",
    "    return my_list[5]\n",
    "\n",
    "albaricoque(my_list=info_list)\n",
    "\"\"\"\n",
    "#Intento 3\n",
    "\"\"\"\n",
    "info_list = [15, 'Recoletos', True, ['Recoletos', 15],  None, '8']\n",
    "\n",
    "def albaricoque(my_list):\n",
    "    for x in my_list:\n",
    "        print(x)\n",
    "        for y in my_list:\n",
    "            if y == my_list[3][0]:\n",
    "                break\n",
    "        return len(my_list[3][0])\n",
    "\n",
    "albaricoque(my_list=info_list)\n",
    "\"\"\"\n",
    "\n",
    "#Intento 4\n",
    "\"\"\"\n",
    "info_list = [15, 'Recoletos', True, ['Recoletos', 15],  None, '8']\n",
    "\n",
    "def albaricoque(my_list):\n",
    "    for x in my_list:\n",
    "        print(x)\n",
    "        for x in my_list[3]:\n",
    "            if x == my_list[3][0]:\n",
    "                 break\n",
    "    return len(my_list[3][0])\n",
    "\n",
    "albaricoque(my_list=info_list)\n",
    "\"\"\"\n",
    "#Intento 5\n",
    "\"\"\"\n",
    "info_list = [15, 'Recoletos', True, ['Recoletos', 15],  None, '8']\n",
    "\n",
    "def albaricoque(my_list):\n",
    "    for x in my_list:\n",
    "        if x == my_list[3]:\n",
    "            for y in my_list[3]:\n",
    "                if y == \"Recoletos\":\n",
    "                    break\n",
    "        print(x)\n",
    "    return len(my_list[3][0])\n",
    "\n",
    "albaricoque(my_list=info_list)\n",
    "\"\"\""
   ]
  },
  {
   "cell_type": "code",
   "execution_count": 9,
   "metadata": {},
   "outputs": [
    {
     "output_type": "stream",
     "name": "stdout",
     "text": [
      "15\nRecoletos\nTrue\n15\nNone\n8\n"
     ]
    },
    {
     "output_type": "execute_result",
     "data": {
      "text/plain": [
       "9"
      ]
     },
     "metadata": {},
     "execution_count": 9
    }
   ],
   "source": [
    "#Intento 6\n",
    "info_list = [15, 'Recoletos', True, ['Recoletos', 15],  None, '8']\n",
    "\n",
    "def albaricoque(my_list):\n",
    "    for x in my_list:\n",
    "        if x == my_list[3]:\n",
    "            print(x[1])\n",
    "        else:\n",
    "            print(x)\n",
    "    return len(my_list[3][0])\n",
    "\n",
    "albaricoque(my_list=info_list)"
   ]
  },
  {
   "cell_type": "markdown",
   "metadata": {},
   "source": [
    "9. Loop through `whichever_list` to show all the elements it contains except the one that contains the information about whether you like the mountains or the beach. The function should return a message saying `\"I love the beach\"` if you prefer the beach and a message saying `\"I love the mountain\"` otherwise. "
   ]
  },
  {
   "cell_type": "code",
   "execution_count": 12,
   "metadata": {},
   "outputs": [
    {
     "output_type": "stream",
     "name": "stdout",
     "text": [
      "15\nRecoletos\n['Recoletos', 15]\nNone\n8\n"
     ]
    }
   ],
   "source": [
    "info_list = [15, 'Recoletos', True, ['Recoletos', 15],  None, '8']\n",
    "\n",
    "#Intento 1\n",
    "\"\"\"\n",
    "def mango(my_list):\n",
    "    for x in my_list:\n",
    "        if x == my_list[2] and x == True:\n",
    "            return (\"I love the beach\")\n",
    "        elif x == my_list[2] and x == False:\n",
    "            return (\"I love the mountain\")\n",
    "    print(x)\n",
    "\n",
    "mango(my_list=info_list)\n",
    "\"\"\"\n",
    "#Intento 2\n",
    "\"\"\"\n",
    "def mango(my_list):\n",
    "    for x in my_list:\n",
    "        if my_list[2] == True:\n",
    "            return (\"I love the beach\")\n",
    "        elif my_list[2] == False:\n",
    "            return (\"I love the mountain\")\n",
    "    print(x)\n",
    "\n",
    "mango(my_list=info_list)\n",
    "\"\"\"\n",
    "#Intento 3\n",
    "\"\"\"\n",
    "def mango(my_list):\n",
    "    for x in my_list:\n",
    "        if x == my_list[2]:\n",
    "            if my_list[2] == True:\n",
    "                return (\"I love the beach\")\n",
    "            elif my_list[2] == False:\n",
    "                return (\"I love the mountain\")\n",
    "    print(x)\n",
    "\n",
    "mango(my_list=info_list)\n",
    "\"\"\"\n",
    "#Intento 4\n",
    "\"\"\"\n",
    "info_list = [15, 'Recoletos', True, ['Recoletos', 15],  None, '8']\n",
    "\n",
    "def mango(my_list):\n",
    "    for x in my_list:\n",
    "        if x == True or x == False:\n",
    "            continue\n",
    "        elif x == True:\n",
    "            return (\"I love the beach\")\n",
    "        elif x == False:\n",
    "            return (\"I love the mountain\")\n",
    "        else:\n",
    "            print(x)\n",
    "\n",
    "mango(my_list=info_list)\n",
    "\"\"\""
   ]
  },
  {
   "cell_type": "code",
   "execution_count": 25,
   "metadata": {},
   "outputs": [
    {
     "output_type": "stream",
     "name": "stdout",
     "text": [
      "15\nRecoletos\n['Recoletos', 15]\nNone\n8\n"
     ]
    },
    {
     "output_type": "execute_result",
     "data": {
      "text/plain": [
       "'I love the beach'"
      ]
     },
     "metadata": {},
     "execution_count": 25
    }
   ],
   "source": [
    "#Intento 5\n",
    "info_list = [15, 'Recoletos', True, ['Recoletos', 15],  None, '8']\n",
    "\n",
    "def mango(my_list):\n",
    "    for x in my_list:\n",
    "        if x != True and x != False:\n",
    "            print(x)\n",
    "    for x in my_list:\n",
    "        if x == True:\n",
    "            return (\"I love the beach\")\n",
    "        if x == False:\n",
    "            return (\"I love the mountain\")\n",
    "        \n",
    "        \n",
    "\n",
    "mango(my_list=info_list)"
   ]
  },
  {
   "cell_type": "markdown",
   "metadata": {},
   "source": [
    "### Exercise 2. \n",
    "\n",
    "In the case of not being able to solve a question containing the code in a function, try to do it without defining one. "
   ]
  },
  {
   "cell_type": "markdown",
   "metadata": {},
   "source": [
    "1. Create a variable called `zone` and give it the value of **None**. Loop through `whichever_list` and update `zone` to **True** if and only if, you have slept more than 7 hours, you like the beach and the sum of the hours you have slept plus the number of The Bridge is less than 24. For any other case, `zone` will be **False**. This function should return the value of `zone` and will be called `zone_function`.\n"
   ]
  },
  {
   "cell_type": "code",
   "execution_count": 124,
   "metadata": {},
   "outputs": [
    {
     "output_type": "stream",
     "name": "stdout",
     "text": [
      "True\nTrue\nTrue\n"
     ]
    }
   ],
   "source": [
    "info_list = [15, 'Recoletos', True, ['Recoletos', 15],  None, '8']\n",
    "\n",
    "zone = None\n",
    "a = int(info_list[0]) + int(info_list[-1])\n",
    "\n",
    "def ciruela(my_list):\n",
    "    for x in my_list:\n",
    "        if int(my_list[-1]) >= 7 and my_list[2] == True and a <= 24:\n",
    "            zone = True\n",
    "    print(zone)\n",
    "    return zone\n",
    "\n",
    "ciruela(my_list=info_list)\n",
    "\n",
    "zone_function = ciruela(my_list=info_list)\n",
    "print(zone_function)"
   ]
  },
  {
   "cell_type": "markdown",
   "metadata": {},
   "source": [
    "2. Define a function called `test_function` that receives only one parameter called `zone_value` and that returns the value of `zone_value` if it is **True**. Once you've defined `test_function` you should call it with the value returned by the `zone_function` as an argument."
   ]
  },
  {
   "cell_type": "code",
   "execution_count": 125,
   "metadata": {},
   "outputs": [
    {
     "output_type": "stream",
     "name": "stdout",
     "text": [
      "True\n"
     ]
    }
   ],
   "source": [
    "#Intento 1\n",
    "\n",
    "def test_function(zone_value):\n",
    "    if zone_value == True:\n",
    "        return zone_value\n",
    "\n",
    "test_function(zone_value=zone_function)\n",
    "print(test_function(zone_value=zone_function))"
   ]
  },
  {
   "cell_type": "markdown",
   "metadata": {},
   "source": [
    "3. Define a function that asks the user if they like the mountain and, if not, call the `zone_function` function."
   ]
  },
  {
   "cell_type": "code",
   "execution_count": 149,
   "metadata": {},
   "outputs": [
    {
     "output_type": "stream",
     "name": "stdout",
     "text": [
      "True\n"
     ]
    }
   ],
   "source": [
    "#Intento 1\n",
    "user_melo = [input(\"Do you like the mountain? Answer yes or no\")]\n",
    "\n",
    "def melocoton(var_melocoton):\n",
    "    if var_melocoton != \"yes\":\n",
    "        return zone_function\n",
    "\n",
    "melocoton(var_melocoton=user_melo)\n",
    "print(melocoton(var_melocoton=user_melo))"
   ]
  },
  {
   "cell_type": "markdown",
   "metadata": {},
   "source": [
    "### Bonus Track.\n",
    "\n",
    "**This Bonus Track could take you some days, it is very ok, sometimes coding is all about time.**\n",
    "\n",
    "This week, you'll also learn about `.py` files and you will be able to implement this program into that kind of file. Not yet, tho. "
   ]
  },
  {
   "cell_type": "markdown",
   "metadata": {},
   "source": [
    "1. Program **a calculator** that asks for two numbers and two operators on the screen. One operation must be performed first and then another. Try to define as many functions as possible."
   ]
  },
  {
   "cell_type": "code",
   "execution_count": 30,
   "metadata": {},
   "outputs": [
    {
     "output_type": "stream",
     "name": "stdout",
     "text": [
      "3.0 * 2.0 = 6.0\n3.0 - 2.0 = 1.0\n"
     ]
    }
   ],
   "source": [
    "#Intento 1\n",
    "\"\"\"\n",
    "a = input(\"Enter a number: \")\n",
    "b = input(\"Enter a number\")\n",
    "numbers = (a, b)\n",
    "\n",
    "def calculator1(p):\n",
    "    z = int(a) + int(b)\n",
    "    y = int(a) - int(b)\n",
    "    print(z)\n",
    "    print(y)\n",
    "    return (z, y)\n",
    "\n",
    "results = calculator1(p=numbers)\n",
    "print(results)\n",
    "\n",
    "\n",
    "def calculator2(p):\n",
    "    z = int(a) * int(b)\n",
    "    y = int(a) / int(b)\n",
    "    print(z)\n",
    "    print(y)\n",
    "    return (z, y)\n",
    "\n",
    "results2 = calculator2(p=numbers)\n",
    "print(results2)\n",
    "\n",
    "\n",
    "def calculator3(p):\n",
    "    z = int(a) // int(b)\n",
    "    y = int(a) ** int(b)\n",
    "    print(z)\n",
    "    print(y)\n",
    "    return (z, y)\n",
    "\n",
    "results3 = calculator3(p=numbers)\n",
    "print(results3)\n",
    "\n",
    "\"\"\"\n",
    "\n",
    "#Intento 2\n",
    "#Se que esto no resuelve el enunciado .py pero era lo que se me ocurría lo más parecido posible.\n",
    "choice = input(\"\"\"\n",
    "Enter your choice:\n",
    "1. Sumar\n",
    "2. Restar\n",
    "3. Multiplicar\n",
    "4. Dividir): \"\"\")\n",
    "\n",
    "choice2 = input(\"\"\"\n",
    "Enter a second choice:\n",
    "1. Sumar\n",
    "2. Restar\n",
    "3. Multiplicar\n",
    "4. Dividir): \"\"\")\n",
    "\n",
    "num1 = float(input(\"Enter first number: \"))\n",
    "num2 = float(input(\"Enter second number: \"))\n",
    "\n",
    "   \n",
    "if choice == '1':\n",
    "    print(num1, \"+\", num2, \"=\", (num1 + num2))\n",
    "\n",
    "if choice == '2':\n",
    "    print(num1, \"-\", num2, \"=\", (num1 - num2))\n",
    "\n",
    "if choice == '3':\n",
    "    print(num1, \"*\", num2, \"=\", (num1 * num2))\n",
    "\n",
    "if choice == '4' or choice2 == '4':\n",
    "    print(num1, \"/\", num2, \"=\", (num1 / num2))\n",
    "\n",
    "if choice2 == '1':\n",
    "    print(num1, \"+\", num2, \"=\", (num1 + num2))\n",
    "\n",
    "if choice2 == '2':\n",
    "    print(num1, \"-\", num2, \"=\", (num1 - num2))\n",
    "\n",
    "if choice2 == '3':\n",
    "    print(num1, \"*\", num2, \"=\", (num1 * num2))\n",
    "\n",
    "if choice2 == '4':\n",
    "    print(num1, \"/\", num2, \"=\", (num1 / num2))\n",
    "    \n",
    "\n"
   ]
  },
  {
   "cell_type": "markdown",
   "metadata": {},
   "source": [
    "!['ha'](https://i.pinimg.com/originals/c6/4e/fc/c64efc9adaedbf446f328698e8b67388.jpg)"
   ]
  },
  {
   "cell_type": "code",
   "execution_count": null,
   "metadata": {},
   "outputs": [],
   "source": []
  }
 ],
 "metadata": {
  "kernelspec": {
   "name": "python3",
   "display_name": "Python 3.9.0 64-bit",
   "metadata": {
    "interpreter": {
     "hash": "af698c02722c81864863429d928a3bd8a8dcc030c4156359d3ef8b980fb01319"
    }
   }
  },
  "language_info": {
   "codemirror_mode": {
    "name": "ipython",
    "version": 3
   },
   "file_extension": ".py",
   "mimetype": "text/x-python",
   "name": "python",
   "nbconvert_exporter": "python",
   "pygments_lexer": "ipython3",
   "version": "3.9.0-final"
  }
 },
 "nbformat": 4,
 "nbformat_minor": 4
}