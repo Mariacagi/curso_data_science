{
 "metadata": {
  "language_info": {
   "codemirror_mode": {
    "name": "ipython",
    "version": 3
   },
   "file_extension": ".py",
   "mimetype": "text/x-python",
   "name": "python",
   "nbconvert_exporter": "python",
   "pygments_lexer": "ipython3",
   "version": "3.9.0-final"
  },
  "orig_nbformat": 2,
  "kernelspec": {
   "name": "python3",
   "display_name": "Python 3.9.0 64-bit",
   "metadata": {
    "interpreter": {
     "hash": "af698c02722c81864863429d928a3bd8a8dcc030c4156359d3ef8b980fb01319"
    }
   }
  }
 },
 "nbformat": 4,
 "nbformat_minor": 2,
 "cells": [
  {
   "cell_type": "code",
   "execution_count": 5,
   "metadata": {},
   "outputs": [
    {
     "output_type": "stream",
     "name": "stdout",
     "text": [
      "0\n"
     ]
    }
   ],
   "source": [
    "lista = [2, \"4, \"c\", [7, \"a\", 7]] #Index devuelve el primer elemento\n",
    "#pos_7 = lista.index(7) #No está en el la lista y da error\n",
    "pos_7 = lista[3].index(7)\n",
    "print(pos_7)"
   ]
  },
  {
   "cell_type": "code",
   "execution_count": 9,
   "metadata": {},
   "outputs": [
    {
     "output_type": "stream",
     "name": "stdout",
     "text": [
      "[2, 'tercer']\n"
     ]
    }
   ],
   "source": [
    "l = [\"primer\", 2, \"tercer\", 4]\n",
    "\n",
    "if \"tercer\" in l:\n",
    "    l.pop(0) #Elimina por posición\n",
    "    l.remove(4) #Elimina por valor\n",
    "\n",
    "print(l)"
   ]
  },
  {
   "cell_type": "code",
   "execution_count": 12,
   "metadata": {},
   "outputs": [
    {
     "output_type": "stream",
     "name": "stdout",
     "text": [
      "[2, 4]\n"
     ]
    }
   ],
   "source": [
    "l2 = [2, 3, 3, 3, 3, 3, 4]\n",
    "for i in range(len(l2)): #Hará tantas iteraciones como elementos tenga l2\n",
    "    if 3 in l2:\n",
    "        l2.remove(3)\n",
    "print(l2)"
   ]
  },
  {
   "cell_type": "code",
   "execution_count": 13,
   "metadata": {},
   "outputs": [
    {
     "output_type": "stream",
     "name": "stdout",
     "text": [
      "[2, 3, 3, 3, 3, 4]\n[2, 3, 3, 3, 4]\n[2, 3, 3, 4]\n[2, 3, 4]\n[2, 4]\n[2, 4]\n[2, 4]\n"
     ]
    }
   ],
   "source": [
    "l2 = [2, 3, 3, 3, 3, 3, 4]\n",
    "for i in range(len(l2)): #Hará tantas iteraciones como elementos tenga l2\n",
    "    if 3 in l2:\n",
    "        l2.remove(3)\n",
    "    print(l2)"
   ]
  },
  {
   "cell_type": "code",
   "execution_count": 14,
   "metadata": {},
   "outputs": [
    {
     "output_type": "stream",
     "name": "stdout",
     "text": [
      "Hola\n2\n"
     ]
    }
   ],
   "source": [
    "#FUNCIONES\n",
    "\n",
    "def nombre_funcion():#Cuando defines una funcion python no entra, por eso no lo imprime dos veces.\n",
    "    print(\"Hola\")\n",
    "    x=2\n",
    "    print(x)\n",
    "\n",
    "nombre_funcion()"
   ]
  },
  {
   "cell_type": "code",
   "execution_count": 16,
   "metadata": {},
   "outputs": [
    {
     "output_type": "stream",
     "name": "stdout",
     "text": [
      "Hola\n2\n"
     ]
    }
   ],
   "source": [
    "nombre_funcion()"
   ]
  },
  {
   "cell_type": "code",
   "execution_count": 20,
   "metadata": {},
   "outputs": [
    {
     "output_type": "stream",
     "name": "stdout",
     "text": [
      "Hola\n2\nNone\n"
     ]
    }
   ],
   "source": [
    "def nombre_funcion():#Cuando defines una funcion python no entra, por eso no lo imprime dos veces.\n",
    "    print(\"Hola\")\n",
    "    x=2\n",
    "    print(x)\n",
    "\n",
    "r = nombre_funcion()\n",
    "print(r) #No retorna nada porque no hay return\n"
   ]
  },
  {
   "cell_type": "code",
   "execution_count": 22,
   "metadata": {},
   "outputs": [
    {
     "output_type": "stream",
     "name": "stdout",
     "text": [
      "Hola\n2\n7\n"
     ]
    }
   ],
   "source": [
    "def nombre_funcion():#Cuando defines una funcion python no entra, por eso no lo imprime dos veces.\n",
    "    print(\"Hola\")\n",
    "    x=2\n",
    "    print(x)\n",
    "    return 7 #Para que retorne tienes que poner return, pero retorna el valor que tiene return a la deracha\n",
    "\n",
    "r = nombre_funcion() #Lo que guarda la función es el return unicamente es decir 7, pero te imprime hola 2 también porque has llamado a la función también\n",
    "print(r)"
   ]
  },
  {
   "cell_type": "code",
   "execution_count": 24,
   "metadata": {},
   "outputs": [
    {
     "output_type": "execute_result",
     "data": {
      "text/plain": [
       "6"
      ]
     },
     "metadata": {},
     "execution_count": 24
    }
   ],
   "source": [
    "def suma_2_argumentos(a, b): #No puede albergar valores, solo variables. Es decir, no puede albegar 2, 4.\n",
    "    return a + b\n",
    "\n",
    "lo_que_retorna = suma_2_argumentos(a=2, b=4) #Es igual que poner = suma_2_argumentos(2, 4)\n",
    "lo_que_retorna"
   ]
  },
  {
   "cell_type": "code",
   "execution_count": 31,
   "metadata": {},
   "outputs": [
    {
     "output_type": "error",
     "ename": "NameError",
     "evalue": "name 'lista1' is not defined",
     "traceback": [
      "\u001b[1;31m---------------------------------------------------------------------------\u001b[0m",
      "\u001b[1;31mNameError\u001b[0m                                 Traceback (most recent call last)",
      "\u001b[1;32m<ipython-input-31-5560b9fcfc26>\u001b[0m in \u001b[0;36m<module>\u001b[1;34m\u001b[0m\n\u001b[0;32m      5\u001b[0m \u001b[0mto_add\u001b[0m \u001b[1;33m=\u001b[0m \u001b[1;36m9\u001b[0m\u001b[1;33m\u001b[0m\u001b[1;33m\u001b[0m\u001b[0m\n\u001b[0;32m      6\u001b[0m \u001b[0madd_element\u001b[0m\u001b[1;33m(\u001b[0m\u001b[0mlista1\u001b[0m\u001b[1;33m=\u001b[0m\u001b[0ml\u001b[0m\u001b[1;33m,\u001b[0m \u001b[0mto_add\u001b[0m\u001b[1;33m=\u001b[0m\u001b[1;36m9\u001b[0m\u001b[1;33m)\u001b[0m\u001b[1;33m\u001b[0m\u001b[1;33m\u001b[0m\u001b[0m\n\u001b[1;32m----> 7\u001b[1;33m \u001b[0mprint\u001b[0m\u001b[1;33m(\u001b[0m\u001b[0mlista1\u001b[0m\u001b[1;33m)\u001b[0m \u001b[1;31m#No está definida\u001b[0m\u001b[1;33m\u001b[0m\u001b[1;33m\u001b[0m\u001b[0m\n\u001b[0m",
      "\u001b[1;31mNameError\u001b[0m: name 'lista1' is not defined"
     ]
    }
   ],
   "source": [
    "def add_element(lista1, to_add):\n",
    "    lista1.append(to_add)\n",
    "\n",
    "l = [2, 4, 6]\n",
    "to_add = 9\n",
    "add_element(lista1=l, to_add=9)\n",
    "print(lista1) #No está definida"
   ]
  },
  {
   "cell_type": "code",
   "execution_count": 30,
   "metadata": {},
   "outputs": [
    {
     "output_type": "stream",
     "name": "stdout",
     "text": [
      "[2, 4, 6, 9]\n"
     ]
    }
   ],
   "source": [
    "def add_element(lista1, to_add):\n",
    "    lista1.append(to_add)\n",
    "\n",
    "l = [2, 4, 6]\n",
    "to_add = 9\n",
    "add_element(lista1=l, to_add=9)\n",
    "print(l)"
   ]
  },
  {
   "cell_type": "code",
   "execution_count": 32,
   "metadata": {},
   "outputs": [
    {
     "output_type": "error",
     "ename": "NameError",
     "evalue": "name 'm' is not defined",
     "traceback": [
      "\u001b[1;31m---------------------------------------------------------------------------\u001b[0m",
      "\u001b[1;31mNameError\u001b[0m                                 Traceback (most recent call last)",
      "\u001b[1;32m<ipython-input-32-c0ea41bfe09e>\u001b[0m in \u001b[0;36m<module>\u001b[1;34m\u001b[0m\n\u001b[0;32m      5\u001b[0m \u001b[1;33m\u001b[0m\u001b[0m\n\u001b[0;32m      6\u001b[0m \u001b[0mk\u001b[0m\u001b[1;33m(\u001b[0m\u001b[1;33m)\u001b[0m\u001b[1;33m\u001b[0m\u001b[1;33m\u001b[0m\u001b[0m\n\u001b[1;32m----> 7\u001b[1;33m \u001b[0mprint\u001b[0m\u001b[1;33m(\u001b[0m\u001b[0mm\u001b[0m\u001b[1;33m)\u001b[0m \u001b[1;31m#Al estar dentro de la funcion no se puede mostrar\u001b[0m\u001b[1;33m\u001b[0m\u001b[1;33m\u001b[0m\u001b[0m\n\u001b[0m",
      "\u001b[1;31mNameError\u001b[0m: name 'm' is not defined"
     ]
    }
   ],
   "source": [
    "def k():\n",
    "    x = 2\n",
    "    y = 3\n",
    "    m = 8\n",
    "\n",
    "k()\n",
    "print(m) #Al estar dentro de la funcion no se puede mostrar"
   ]
  },
  {
   "cell_type": "code",
   "execution_count": 33,
   "metadata": {},
   "outputs": [
    {
     "output_type": "error",
     "ename": "NameError",
     "evalue": "name 'm' is not defined",
     "traceback": [
      "\u001b[1;31m---------------------------------------------------------------------------\u001b[0m",
      "\u001b[1;31mNameError\u001b[0m                                 Traceback (most recent call last)",
      "\u001b[1;32m<ipython-input-33-c7ef2fc7b065>\u001b[0m in \u001b[0;36m<module>\u001b[1;34m\u001b[0m\n\u001b[0;32m      5\u001b[0m \u001b[1;33m\u001b[0m\u001b[0m\n\u001b[0;32m      6\u001b[0m \u001b[0mk\u001b[0m\u001b[1;33m(\u001b[0m\u001b[1;33m)\u001b[0m\u001b[1;33m\u001b[0m\u001b[1;33m\u001b[0m\u001b[0m\n\u001b[1;32m----> 7\u001b[1;33m \u001b[0mprint\u001b[0m\u001b[1;33m(\u001b[0m\u001b[0mk\u001b[0m\u001b[1;33m(\u001b[0m\u001b[0mm\u001b[0m\u001b[1;33m)\u001b[0m\u001b[1;33m)\u001b[0m\u001b[1;33m\u001b[0m\u001b[1;33m\u001b[0m\u001b[0m\n\u001b[0m",
      "\u001b[1;31mNameError\u001b[0m: name 'm' is not defined"
     ]
    }
   ],
   "source": [
    "def k():\n",
    "    x = 2\n",
    "    y = 3\n",
    "    m = 8\n",
    "\n",
    "k()\n",
    "print(k(m))"
   ]
  },
  {
   "cell_type": "code",
   "execution_count": 35,
   "metadata": {},
   "outputs": [
    {
     "output_type": "stream",
     "name": "stdout",
     "text": [
      "8\n"
     ]
    },
    {
     "output_type": "error",
     "ename": "NameError",
     "evalue": "name 'm' is not defined",
     "traceback": [
      "\u001b[1;31m---------------------------------------------------------------------------\u001b[0m",
      "\u001b[1;31mNameError\u001b[0m                                 Traceback (most recent call last)",
      "\u001b[1;32m<ipython-input-35-853d1afa16fa>\u001b[0m in \u001b[0;36m<module>\u001b[1;34m\u001b[0m\n\u001b[0;32m      7\u001b[0m \u001b[1;33m\u001b[0m\u001b[0m\n\u001b[0;32m      8\u001b[0m \u001b[0mk\u001b[0m\u001b[1;33m(\u001b[0m\u001b[1;33m)\u001b[0m \u001b[1;31m#llamamos a la función\u001b[0m\u001b[1;33m\u001b[0m\u001b[1;33m\u001b[0m\u001b[0m\n\u001b[1;32m----> 9\u001b[1;33m \u001b[0mprint\u001b[0m\u001b[1;33m(\u001b[0m\u001b[0mm\u001b[0m\u001b[1;33m)\u001b[0m\u001b[1;33m\u001b[0m\u001b[1;33m\u001b[0m\u001b[0m\n\u001b[0m",
      "\u001b[1;31mNameError\u001b[0m: name 'm' is not defined"
     ]
    }
   ],
   "source": [
    "def k():\n",
    "    x = 2\n",
    "    y = 3\n",
    "    m = 8\n",
    "    print(m) #Este se muestra porque está dentro de la función\n",
    "\n",
    "\n",
    "k() #llamamos a la función\n",
    "print(m)"
   ]
  },
  {
   "cell_type": "code",
   "execution_count": 37,
   "metadata": {},
   "outputs": [
    {
     "output_type": "stream",
     "name": "stdout",
     "text": [
      "7\n"
     ]
    }
   ],
   "source": [
    "def k():\n",
    "    x = 2\n",
    "    y = 3\n",
    "    m = 8\n",
    "    return 7 \n",
    "\n",
    "print(k())"
   ]
  },
  {
   "cell_type": "code",
   "execution_count": 48,
   "metadata": {},
   "outputs": [
    {
     "output_type": "stream",
     "name": "stdout",
     "text": [
      "True\n"
     ]
    }
   ],
   "source": [
    "def g(l):\n",
    "    #Devuelve True si la lista list2 contiene un número mayor a 5\n",
    "    for x in l:\n",
    "        if x > 5:\n",
    "            return True #Return también hace función de break, por tanto si hay dos numeros mayores que 5, parará en el primero\n",
    "\n",
    "list2=[2, 4, 5, 9]\n",
    "\n",
    "z = g(l = list2)\n",
    "print(z)"
   ]
  },
  {
   "cell_type": "code",
   "execution_count": 54,
   "metadata": {},
   "outputs": [
    {
     "output_type": "stream",
     "name": "stdout",
     "text": [
      "None\n"
     ]
    }
   ],
   "source": [
    "def g(l):\n",
    "    acum = 0 \n",
    "   \n",
    "    for pos, val in enumerate(l):\n",
    "        if pos == 2: #Para que pare en la tercera iteración. Recordemos que la posición es la 2, tercera iteración\n",
    "            break\n",
    "\n",
    "\n",
    "list2=[2, 4, 5, 9, 10]\n",
    "z = g(l = list2)\n",
    "print(z)"
   ]
  },
  {
   "cell_type": "code",
   "execution_count": 56,
   "metadata": {},
   "outputs": [
    {
     "output_type": "stream",
     "name": "stdout",
     "text": [
      "True\nTrue\nTrue\nTrue\n2\n"
     ]
    }
   ],
   "source": [
    "def p1(l):\n",
    "    acum = 0 \n",
    "   \n",
    "    for pos, val in enumerate(l):\n",
    "        if pos == len(l) -1: #Se cumple cuando sea la últimma iteracion. Nunca puede ser menos 1 directamente, ya que pos siempre va increchendo, es decir, pos puede ser 0, 1, 2 etc nunca va a llegar a ser -1, ya que no es lo mismo que acceder al último elemento. \n",
    "            return 2\n",
    "        else:\n",
    "            print(\"True\")\n",
    "\n",
    "\n",
    "list2=[2, 4, 5, 9, 10] #Si pones list2 después de la definición de z va a dar como error ya que la lista no está definida con anterioridad\n",
    "z = p1(l = list2)\n",
    "print(z)"
   ]
  },
  {
   "cell_type": "code",
   "execution_count": 58,
   "metadata": {},
   "outputs": [
    {
     "output_type": "stream",
     "name": "stdout",
     "text": [
      "0\n"
     ]
    }
   ],
   "source": [
    "def df(l):\n",
    "    acum = 0 \n",
    "    return acum\n",
    "    for i in l: \n",
    "        if i > 5:\n",
    "            acum = acum + 1\n",
    "\n",
    "\n",
    "list2=[2, 4, 5, 9, 10] \n",
    "z = df(l = list2) #Devuelve cero ya que en return para\n",
    "print(z)"
   ]
  },
  {
   "cell_type": "code",
   "execution_count": 60,
   "metadata": {},
   "outputs": [
    {
     "output_type": "stream",
     "name": "stdout",
     "text": [
      "0\nNone\n"
     ]
    }
   ],
   "source": [
    "def df(l):\n",
    "    acum = 0 \n",
    "    print(acum)\n",
    "    for i in l: \n",
    "        if i > 5:\n",
    "            acum = acum + 1\n",
    "\n",
    "\n",
    "list2=[2, 4, 5, 9, 10] \n",
    "z = df(l = list2) \n",
    "print(z)"
   ]
  },
  {
   "cell_type": "code",
   "execution_count": 83,
   "metadata": {},
   "outputs": [
    {
     "output_type": "stream",
     "name": "stdout",
     "text": [
      "7\n1\n"
     ]
    }
   ],
   "source": [
    "#Funcion que retorne cuantos números hay mayores a 5\n",
    "nombres = [\"Ana\", \"Dorado\", [\"m\", 2], 7]\n",
    "\n",
    "def dj(lip):\n",
    "    acumu = 0\n",
    "    for x in nombres: \n",
    "        if type(x) == int and x > 5:  #Hay que cambiar el orden, es decir, no se puede poner primero x > 5 ya que lo hace primero y da error. Hay que poner primero que busque int y luego mayor que 5.\n",
    "            print(x)\n",
    "            acumu = acumu + 1\n",
    "    return acumu\n",
    "\n",
    "z = dj(lip = nombres) \n",
    "print(z)"
   ]
  },
  {
   "cell_type": "code",
   "execution_count": 79,
   "metadata": {},
   "outputs": [
    {
     "output_type": "stream",
     "name": "stdout",
     "text": [
      "7\n"
     ]
    },
    {
     "output_type": "execute_result",
     "data": {
      "text/plain": [
       "1"
      ]
     },
     "metadata": {},
     "execution_count": 79
    }
   ],
   "source": [
    "liso = [\"Ana\", \"Dorado\", [\"m\", 2], 7]\n",
    "\n",
    "def dj(p):\n",
    "    acumu = 0\n",
    "    for x in p: \n",
    "        if isinstance(x, int) and x > 5:  #Lo mismo que antes\n",
    "            print(x) #Aqui muestra el 7\n",
    "            acumu = acumu + 1\n",
    "    return acumu\n",
    "\n",
    "dj(p = liso) #Aquí muestra el 1"
   ]
  },
  {
   "cell_type": "code",
   "execution_count": null,
   "metadata": {},
   "outputs": [],
   "source": []
  }
 ]
}