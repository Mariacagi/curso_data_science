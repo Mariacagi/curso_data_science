{
 "cells": [
  {
   "cell_type": "markdown",
   "metadata": {},
   "source": [
    "# Python | day 8 | try&except"
   ]
  },
  {
   "cell_type": "markdown",
   "metadata": {},
   "source": [
    "Python uses try and except to handle errors gracefully. A graceful exit (or graceful handling) of errors is a simple programming idiom - a program detects a serious error condition and \"exits gracefully\", in a controlled manner as a result. Often the program prints a descriptive error message to a terminal or log as part of the graceful exit, this makes our application more robust. The cause of an exception is often external to the program itself. An example of exceptions could be an incorrect input, wrong file name, unable to find a file, a malfunctioning IO device. Graceful handling of errors prevents our applications from crashing."
   ]
  },
  {
   "cell_type": "markdown",
   "metadata": {},
   "source": [
    "```python\n",
    "try:\n",
    "    code in this block if things go well\n",
    "except:\n",
    "    code in this block run if things go wrong\n",
    "```"
   ]
  },
  {
   "cell_type": "markdown",
   "metadata": {},
   "source": [
    "### Exercise 1. \n"
   ]
  },
  {
   "cell_type": "markdown",
   "metadata": {},
   "source": [
    "1. In the 4 cells below, modify the code to catch the error and print a meaningful message that will alert the user what went wrong. You may catch the error using a general except or a specific except for the error caused by the code."
   ]
  },
  {
   "cell_type": "code",
   "execution_count": 1,
   "metadata": {},
   "outputs": [
    {
     "output_type": "stream",
     "name": "stdout",
     "text": [
      "Te falta definir la variable.\n"
     ]
    }
   ],
   "source": [
    "# Modify the code below:\n",
    "#Intento 1\n",
    "try:\n",
    "    print(some_string)\n",
    "\n",
    "except:\n",
    "    print(\"Te falta definir la variable.\")"
   ]
  },
  {
   "cell_type": "code",
   "execution_count": 4,
   "metadata": {},
   "outputs": [
    {
     "output_type": "stream",
     "name": "stdout",
     "text": [
      "No puedes multiplicar i (string) por un numero int\n"
     ]
    }
   ],
   "source": [
    "# Modify the code below:\n",
    "#Intento 1\n",
    "try:\n",
    "    for i in ['a','b','c']:\n",
    "        print(i**2)\n",
    "except:\n",
    "    print(\"No puedes multiplicar i (string) por un numero int\")"
   ]
  },
  {
   "cell_type": "code",
   "execution_count": 7,
   "metadata": {},
   "outputs": [
    {
     "output_type": "stream",
     "name": "stdout",
     "text": [
      "division by zero\n"
     ]
    }
   ],
   "source": [
    "# Modify the code below:\n",
    "#Intento 1\n",
    "try:\n",
    "    x = 5\n",
    "    y = 0\n",
    "\n",
    "    z = x/y\n",
    "\n",
    "except Exception as error:\n",
    "    print(error)"
   ]
  },
  {
   "cell_type": "code",
   "execution_count": 6,
   "metadata": {},
   "outputs": [
    {
     "output_type": "stream",
     "name": "stdout",
     "text": [
      "list index out of range\n"
     ]
    }
   ],
   "source": [
    "# Modify the code below:\n",
    "#Intento 1\n",
    "try:\n",
    "    abc=[10,20,20]\n",
    "    print(abc[3])\n",
    "except Exception as error:\n",
    "    print(error)"
   ]
  },
  {
   "cell_type": "markdown",
   "metadata": {},
   "source": [
    "### Exercise 2. "
   ]
  },
  {
   "cell_type": "markdown",
   "metadata": {},
   "source": [
    "In the 3 cells below, add an if statment that will handle both types of input allowed in the functions."
   ]
  },
  {
   "cell_type": "code",
   "execution_count": 27,
   "metadata": {},
   "outputs": [
    {
     "output_type": "stream",
     "name": "stdout",
     "text": [
      "No se puede hacer raiz cuadrada de numero negativo, primero hay que pasarla a numero absoluto\n"
     ]
    },
    {
     "output_type": "execute_result",
     "data": {
      "text/plain": [
       "1.5650845800732873"
      ]
     },
     "metadata": {},
     "execution_count": 27
    }
   ],
   "source": [
    "import math # import a library called math with functions, like sqrt() \n",
    "# Modify the code below to handle positive and negative numbers by adding an if statement and performing a transformation:\n",
    "\n",
    "def sqrt_for_all(x):\n",
    "    if int(x) < 0:\n",
    "        print(\"No se puede hacer raiz cuadrada de numero negativo, primero hay que pasarla a numero absoluto\")\n",
    "        y = abs(int(x))\n",
    "        z = math.sqrt(y)\n",
    "        \n",
    "    elif int(x) > 0:\n",
    "        z = math.sqrt(int(x))\n",
    "        \n",
    "    else:\n",
    "        z = math.sqrt(int(x))\n",
    "    return math.sqrt(z)\n",
    "\n",
    "sqrt_for_all(input(\"Enter a number\")) #Es -6\n",
    "\n",
    "    # This function will take any real number and return the square root of its magnitude\n",
    "    # Input: real number\n",
    "    # Output: real number\n",
    "    \n",
    "    # Sample Input: -4\n",
    "    # Sample Output: 2.0"
   ]
  },
  {
   "cell_type": "code",
   "execution_count": 33,
   "metadata": {},
   "outputs": [
    {
     "output_type": "execute_result",
     "data": {
      "text/plain": [
       "0"
      ]
     },
     "metadata": {},
     "execution_count": 33
    }
   ],
   "source": [
    "# Modify the code below to handle zero as well. In the case of zero, return zero\n",
    "\n",
    "def divide(x, y):\n",
    "    if int(x) == 0 or int(y) == 0:\n",
    "        return 0\n",
    "    elif int(x) // int(y) >= 0:\n",
    "        return int(x) // int(y)\n",
    "\n",
    "    # This function will take any two real numbers and return their quotient. If the denominator is zero, we return zero\n",
    "    # Input: real number\n",
    "    # Output: real number\n",
    "    \n",
    "    # Sample Input: 5, 1\n",
    "    # Sample Output: 5.0\n",
    "    return x / y\n",
    "\n",
    "divide(input(\"Enter a number\"), input(\"Enter a second numer\")) #Los numeros son (6, 0)"
   ]
  },
  {
   "cell_type": "code",
   "execution_count": 60,
   "metadata": {},
   "outputs": [
    {
     "output_type": "execute_result",
     "data": {
      "text/plain": [
       "[10, 11, 12]"
      ]
     },
     "metadata": {},
     "execution_count": 60
    }
   ],
   "source": [
    "# Modify the function below that it will take either an number and a list or two numbers. \n",
    "# If we take two numbers, add them together and return a list of length 1. \n",
    "# Otherwise, add the number to every element of the list and return the resulting list\n",
    "  # This function takes either two numbers or a list and a number and adds the number to all elements of the list\n",
    "    # If the function only takes two numbers, it returns a list of length one that is the sum of the numbers\n",
    "    \n",
    "    # Input: number and list or two numbers\n",
    "    # Output: list\n",
    "    \n",
    "    # Sample Input: 5, 6\n",
    "    # Sample Output: [11]\n",
    "\n",
    "#Intento 1\n",
    "\"\"\"\n",
    "def add_elements(a, l):\n",
    "    if l == list:\n",
    "        result = sum(a + range(len(l)))\n",
    "    elif l == int:\n",
    "        result = sum(a+l)\n",
    "\n",
    "    return result\n",
    "        \n",
    "add_elements(input(\"Enter a number\"), input(\"Enter a number or a list\"))\n",
    "\"\"\"\n",
    "\n",
    "#Intento 2\n",
    "\"\"\"\n",
    "def add_elements(a, l):\n",
    "    return [a + element for element in l]\n",
    "\n",
    "add_elements(input(\"Enter a number\"), input(\"Enter a number or a list\"))\n",
    "\"\"\"\n",
    "#Intento 3\n",
    "\"\"\"\n",
    "def add_elements(a, l):\n",
    "    if l == \"list\":\n",
    "        i = input(\"Please, enter the number of numbers you want to have in the list(Example: 3 because you want enter [5, 6, 7]\")\n",
    "        lista = []\n",
    "        z = lista.append(input())\n",
    "        z * i\n",
    "\n",
    "    return [a + int(element) for element in l]\n",
    "\n",
    "add_elements(input(\"Enter a number\"), input(\"Enter a number or a list of numbers(to select list, please, enter list\"))\n",
    "\"\"\"\n",
    "#Intento 4\n",
    "\n",
    "def add_elements(a, l):\n",
    "    if l == \"list\":\n",
    "        lista = []\n",
    "        for x in range(int(input(\"Enter the len of lista\"))):\n",
    "            valor=int(input(\"Ingrese un valor entero:\"))\n",
    "            lista.append(valor)\n",
    "        l = lista\n",
    "        return [int(a) + int(element) for element in l] #Podemos ver esto mañana? Se que sale el resultado que quiero pero no entiendo muy bien el concepto\n",
    "    else:\n",
    "     z = int(a)+int(l)\n",
    "     return z\n",
    "\n",
    "add_elements(input(\"Enter a number\"), input(\"Enter a number or a list of numbers(to select list, please, enter list\"))\n"
   ]
  },
  {
   "cell_type": "markdown",
   "metadata": {},
   "source": [
    "### Exercise 3. \n",
    "\n",
    "Write a function that asks for an integer and prints the square of it. Keep checking while the function gets an integer.\n",
    "\n",
    "Use a `while` loop with a `try/except` block to account for incorrect inputs."
   ]
  },
  {
   "cell_type": "code",
   "execution_count": 62,
   "metadata": {},
   "outputs": [
    {
     "output_type": "stream",
     "name": "stdout",
     "text": [
      "25\n",
      "64\n"
     ]
    },
    {
     "output_type": "execute_result",
     "data": {
      "text/plain": [
       "'Esto no es un int'"
      ]
     },
     "metadata": {},
     "execution_count": 62
    }
   ],
   "source": [
    "def int_square(x):\n",
    "    while True:\n",
    "        x= input(\"Enter a number\")\n",
    "        try: \n",
    "            z = int(x)**2\n",
    "            print(z)\n",
    "\n",
    "        except:\n",
    "            return \"Esto no es un int\"\n",
    "\t\n",
    "int_square(x=1)"
   ]
  },
  {
   "cell_type": "code",
   "execution_count": null,
   "metadata": {},
   "outputs": [],
   "source": []
  },
  {
   "cell_type": "markdown",
   "metadata": {},
   "source": [
    "### Bonus Track of Practice_7_while. You have another oportunity to solve it! \n",
    "If you did it yesterday, don't worry about it, if you did'nt, you should worry about it now!"
   ]
  },
  {
   "cell_type": "code",
   "execution_count": null,
   "metadata": {},
   "outputs": [],
   "source": []
  },
  {
   "cell_type": "markdown",
   "metadata": {},
   "source": [
    "### Bonus track.\n",
    "\n",
    "1. Make a program using `while` that generates a **deck of cards** of 4 different suits. The deck must have 40 cards.\n",
    "\n",
    "   Develop the program in a `.py` file that will be run through the terminal. \n",
    " \n",
    "   From the folder that contains the corresponding `.py`, it will be executed with the following command:` python3 program_name.py`\n",
    "   Sometimes should work with `python program_name.py`"
   ]
  },
  {
   "cell_type": "markdown",
   "metadata": {},
   "source": [
    "![\"lol\"](https://i.pinimg.com/originals/34/b2/ad/34b2ad1c370539fba5ed9422711cad7b.png)"
   ]
  },
  {
   "cell_type": "code",
   "execution_count": null,
   "metadata": {},
   "outputs": [],
   "source": []
  }
 ],
 "metadata": {
  "kernelspec": {
   "name": "python3",
   "display_name": "Python 3.9.0 64-bit",
   "metadata": {
    "interpreter": {
     "hash": "af698c02722c81864863429d928a3bd8a8dcc030c4156359d3ef8b980fb01319"
    }
   }
  },
  "language_info": {
   "codemirror_mode": {
    "name": "ipython",
    "version": 3
   },
   "file_extension": ".py",
   "mimetype": "text/x-python",
   "name": "python",
   "nbconvert_exporter": "python",
   "pygments_lexer": "ipython3",
   "version": "3.9.0-final"
  }
 },
 "nbformat": 4,
 "nbformat_minor": 4
}