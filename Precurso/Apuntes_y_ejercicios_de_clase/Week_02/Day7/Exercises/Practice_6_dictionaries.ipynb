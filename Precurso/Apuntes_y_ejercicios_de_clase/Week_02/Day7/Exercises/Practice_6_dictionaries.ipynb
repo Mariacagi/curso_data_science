{
 "cells": [
  {
   "cell_type": "markdown",
   "metadata": {},
   "source": [
    "# Python | day 6 | dictionaries"
   ]
  },
  {
   "cell_type": "markdown",
   "metadata": {},
   "source": [
    "Dictionaries are used to store data values in key:value pairs.\n",
    "\n",
    "A dictionary is a collection which is unordered, changeable and does not allow duplicates.\n",
    "\n",
    "Dictionaries are written with curly brackets, and have keys and values:"
   ]
  },
  {
   "cell_type": "markdown",
   "metadata": {},
   "source": [
    "```python\n",
    "thisdict = {\n",
    "  \"brand\": \"Ford\",\n",
    "  \"model\": \"Mustang\",\n",
    "  \"year\": 1964\n",
    "}\n",
    "```"
   ]
  },
  {
   "cell_type": "markdown",
   "metadata": {},
   "source": [
    "https://www.w3schools.com/python/python_dictionaries.asp"
   ]
  },
  {
   "cell_type": "markdown",
   "metadata": {},
   "source": [
    "### Exercise 1. \n",
    "\n",
    "1. Create a dictionary with an integer 5 as the key and \"val\" as its value."
   ]
  },
  {
   "cell_type": "code",
   "execution_count": null,
   "metadata": {},
   "outputs": [],
   "source": [
    "dic = {5 : val}"
   ]
  },
  {
   "cell_type": "markdown",
   "metadata": {},
   "source": [
    "2. Create two lists: one that has 4 city names and another that has 4 landmarks in the city."
   ]
  },
  {
   "cell_type": "code",
   "execution_count": 19,
   "metadata": {},
   "outputs": [],
   "source": [
    "city_list = [\"Santander\", \"Madrid\", \"Segovia\", \"Cadiz\"]\n",
    "landmark = [\"Sardinero\", \"Sol\", \"Acueducto\", \"Ejercito\"]"
   ]
  },
  {
   "cell_type": "markdown",
   "metadata": {},
   "source": [
    "3. Create a dictionary where the cities contained in the first list are the **keys** and the landmarks are the **values**.\n",
    "```python\n",
    "#example\n",
    "places = {\"Malaga\": \"Gibralfaro\", \n",
    "         \"Madrid\": \"Templo de Debod\",\n",
    "         \"Granada\": \"La Alcazaba\",\n",
    "         \"Barcelona\": \"Sagrada Familia\"}\n",
    "```"
   ]
  },
  {
   "cell_type": "code",
   "execution_count": 44,
   "metadata": {},
   "outputs": [
    {
     "output_type": "stream",
     "name": "stdout",
     "text": [
      "{'Santander': 'Sardinero', 'Madrid': 'Sol', 'Segovia': 'Acueducto', 'Cadiz': 'Ejercito'}\n"
     ]
    }
   ],
   "source": [
    "places = dict(zip(city_list, landmark))\n",
    "print(places)"
   ]
  },
  {
   "cell_type": "markdown",
   "metadata": {},
   "source": [
    "4. Loop through the dictionary and print only the values of those keys starting with the letter **M**.\n",
    "\n",
    "https://realpython.com/iterate-through-dictionary-python/"
   ]
  },
  {
   "cell_type": "code",
   "execution_count": 51,
   "metadata": {},
   "outputs": [
    {
     "output_type": "stream",
     "name": "stdout",
     "text": [
      "Madrid\n"
     ]
    }
   ],
   "source": [
    "#Intento 1\n",
    "for x in places:\n",
    "    if x.startswith(\"M\"):\n",
    "        print(x)"
   ]
  },
  {
   "cell_type": "code",
   "execution_count": 56,
   "metadata": {},
   "outputs": [
    {
     "output_type": "stream",
     "name": "stdout",
     "text": [
      "Sol\n"
     ]
    }
   ],
   "source": [
    "#Intento 2\n",
    "for key, value in places.items():\n",
    "    if key.startswith(\"M\"):\n",
    "        print(value)"
   ]
  },
  {
   "cell_type": "markdown",
   "metadata": {},
   "source": [
    "5. Create a function that receives two lists `list1` and `list2` by parameter and returns a dictionary with each element of `list1` as keys and the elements of `list2` as values. Call the function with the lists you have created before to return the same dictionary you've created in question 3. "
   ]
  },
  {
   "cell_type": "code",
   "execution_count": 62,
   "metadata": {},
   "outputs": [
    {
     "output_type": "stream",
     "name": "stdout",
     "text": [
      "{'Santander': 'Sardinero', 'Madrid': 'Sol', 'Segovia': 'Acueducto', 'Cadiz': 'Ejercito'}\n"
     ]
    }
   ],
   "source": [
    "def function1 (list1, list2):\n",
    "    z = dict(zip(list1, list2))\n",
    "    return z\n",
    "\n",
    "function1(city_list, landmark)\n",
    "print(function1(city_list, landmark))"
   ]
  },
  {
   "cell_type": "markdown",
   "metadata": {},
   "source": [
    "### Exercise 2. "
   ]
  },
  {
   "cell_type": "markdown",
   "metadata": {},
   "source": [
    "1. Create an empty dictionary called dog."
   ]
  },
  {
   "cell_type": "code",
   "execution_count": 64,
   "metadata": {},
   "outputs": [],
   "source": [
    "dog = {}"
   ]
  },
  {
   "cell_type": "markdown",
   "metadata": {},
   "source": [
    "2. Add name, color, breed, legs, age to the dog dictionary."
   ]
  },
  {
   "cell_type": "code",
   "execution_count": 69,
   "metadata": {},
   "outputs": [
    {
     "output_type": "execute_result",
     "data": {
      "text/plain": [
       "{'name': 'Electra',\n",
       " 'color': 'brown',\n",
       " 'breed': 'german sherper',\n",
       " 'legs': 4,\n",
       " 'age': 4}"
      ]
     },
     "metadata": {},
     "execution_count": 69
    }
   ],
   "source": [
    "dog[\"name\"] = \"Electra\"\n",
    "dog[\"color\"] = \"brown\"\n",
    "dog[\"breed\"] = \"german sherper\"\n",
    "dog[\"legs\"] = 4\n",
    "dog[\"age\"] = 4\n",
    "dog"
   ]
  },
  {
   "cell_type": "markdown",
   "metadata": {},
   "source": [
    "3. Create a student dictionary and add first_name, last_name, age, skills, country, city and address as keys for the dictionary.\n"
   ]
  },
  {
   "cell_type": "code",
   "execution_count": 81,
   "metadata": {},
   "outputs": [
    {
     "output_type": "execute_result",
     "data": {
      "text/plain": [
       "{'first_name': 'Pepe',\n",
       " 'last_name': 'Ruiz',\n",
       " 'age': '45',\n",
       " 'skills': ['Talkative', 'friendly'],\n",
       " 'country': 'Great Britain',\n",
       " 'city': 'London',\n",
       " 'address': 'Recoletos Street'}"
      ]
     },
     "metadata": {},
     "execution_count": 81
    }
   ],
   "source": [
    "student_dictionary = {}\n",
    "student_dictionary[\"first_name\"] = \"Pepe\"\n",
    "student_dictionary[\"last_name\"] = \"Ruiz\"\n",
    "student_dictionary[\"age\"] = \"45\"\n",
    "student_dictionary[\"skills\"] = [\"Talkative\", \"friendly\"]\n",
    "student_dictionary[\"country\"] = \"Great Britain\"\n",
    "student_dictionary[\"city\"] = \"London\"\n",
    "student_dictionary[\"address\"] = \"Recoletos Street\"\n",
    "student_dictionary"
   ]
  },
  {
   "cell_type": "markdown",
   "metadata": {},
   "source": [
    "4. Get the length of the student dictionary.\n"
   ]
  },
  {
   "cell_type": "code",
   "execution_count": 82,
   "metadata": {},
   "outputs": [
    {
     "output_type": "execute_result",
     "data": {
      "text/plain": [
       "7"
      ]
     },
     "metadata": {},
     "execution_count": 82
    }
   ],
   "source": [
    "len(student_dictionary)"
   ]
  },
  {
   "cell_type": "markdown",
   "metadata": {},
   "source": [
    "5. Get the value of skills and check the data type, it should be a list."
   ]
  },
  {
   "cell_type": "code",
   "execution_count": 88,
   "metadata": {},
   "outputs": [
    {
     "output_type": "stream",
     "name": "stdout",
     "text": [
      "['Talkative', 'friendly']\n<class 'list'>\n"
     ]
    }
   ],
   "source": [
    "for key, value in student_dictionary.items():\n",
    "    if key == \"skills\":\n",
    "        print(value)\n",
    "        print(type(value))"
   ]
  },
  {
   "cell_type": "markdown",
   "metadata": {},
   "source": [
    "6. Modify the skills values by adding one or two skills."
   ]
  },
  {
   "cell_type": "code",
   "execution_count": 89,
   "metadata": {},
   "outputs": [
    {
     "output_type": "stream",
     "name": "stdout",
     "text": [
      "['Talkative', 'friendly', 'problem solving']\n"
     ]
    }
   ],
   "source": [
    "for key, value in student_dictionary.items():\n",
    "    if key == \"skills\":\n",
    "        value.append(\"problem solving\")\n",
    "        print(value)"
   ]
  },
  {
   "cell_type": "markdown",
   "metadata": {},
   "source": [
    "7. Get the dictionary keys as a list."
   ]
  },
  {
   "cell_type": "code",
   "execution_count": 91,
   "metadata": {},
   "outputs": [
    {
     "output_type": "stream",
     "name": "stdout",
     "text": [
      "['first_name', 'last_name', 'age', 'skills', 'country', 'city', 'address']\n"
     ]
    }
   ],
   "source": [
    "keysList = list(student_dictionary.keys())\n",
    "print(keysList)"
   ]
  },
  {
   "cell_type": "markdown",
   "metadata": {},
   "source": [
    "8. Get the dictionary values as a list.\n"
   ]
  },
  {
   "cell_type": "code",
   "execution_count": 93,
   "metadata": {},
   "outputs": [
    {
     "output_type": "stream",
     "name": "stdout",
     "text": [
      "['Pepe', 'Ruiz', '45', ['Talkative', 'friendly', 'problem solving'], 'Great Britain', 'London', 'Recoletos Street']\n"
     ]
    }
   ],
   "source": [
    "Values_List = list(student_dictionary.values())\n",
    "print(Values_List)"
   ]
  },
  {
   "cell_type": "markdown",
   "metadata": {},
   "source": [
    "9. Change the dictionary to a list of tuples using `items()` method"
   ]
  },
  {
   "cell_type": "code",
   "execution_count": 94,
   "metadata": {},
   "outputs": [
    {
     "output_type": "execute_result",
     "data": {
      "text/plain": [
       "[('first_name', 'Pepe'),\n",
       " ('last_name', 'Ruiz'),\n",
       " ('age', '45'),\n",
       " ('skills', ['Talkative', 'friendly', 'problem solving']),\n",
       " ('country', 'Great Britain'),\n",
       " ('city', 'London'),\n",
       " ('address', 'Recoletos Street')]"
      ]
     },
     "metadata": {},
     "execution_count": 94
    }
   ],
   "source": [
    "list(student_dictionary.items())"
   ]
  },
  {
   "cell_type": "markdown",
   "metadata": {},
   "source": [
    "10. Delete one of the items in the dictionary.\n"
   ]
  },
  {
   "cell_type": "code",
   "execution_count": 97,
   "metadata": {},
   "outputs": [
    {
     "output_type": "execute_result",
     "data": {
      "text/plain": [
       "{'last_name': 'Ruiz',\n",
       " 'age': '45',\n",
       " 'skills': ['Talkative', 'friendly', 'problem solving'],\n",
       " 'country': 'Great Britain',\n",
       " 'city': 'London',\n",
       " 'address': 'Recoletos Street'}"
      ]
     },
     "metadata": {},
     "execution_count": 97
    }
   ],
   "source": [
    "student_dictionary.pop(\"first_name\")\n",
    "student_dictionary"
   ]
  },
  {
   "cell_type": "markdown",
   "metadata": {},
   "source": [
    "### Bonus Track"
   ]
  },
  {
   "cell_type": "markdown",
   "metadata": {},
   "source": [
    "**Tómate una cervecita o un zumito a tu salud.**"
   ]
  },
  {
   "cell_type": "markdown",
   "metadata": {},
   "source": [
    "!['daughter'](https://i.pinimg.com/originals/8f/35/28/8f35281e742e71be09697e7e6789b819.png)"
   ]
  },
  {
   "cell_type": "code",
   "execution_count": null,
   "metadata": {},
   "outputs": [],
   "source": []
  }
 ],
 "metadata": {
  "kernelspec": {
   "name": "python3",
   "display_name": "Python 3.9.0 64-bit",
   "metadata": {
    "interpreter": {
     "hash": "af698c02722c81864863429d928a3bd8a8dcc030c4156359d3ef8b980fb01319"
    }
   }
  },
  "language_info": {
   "codemirror_mode": {
    "name": "ipython",
    "version": 3
   },
   "file_extension": ".py",
   "mimetype": "text/x-python",
   "name": "python",
   "nbconvert_exporter": "python",
   "pygments_lexer": "ipython3",
   "version": "3.9.0-final"
  }
 },
 "nbformat": 4,
 "nbformat_minor": 2
}